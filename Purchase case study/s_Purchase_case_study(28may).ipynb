{
  "nbformat": 4,
  "nbformat_minor": 0,
  "metadata": {
    "colab": {
      "provenance": []
    },
    "kernelspec": {
      "name": "python3",
      "display_name": "Python 3"
    },
    "language_info": {
      "name": "python"
    }
  },
  "cells": [
    {
      "cell_type": "markdown",
      "metadata": {
        "id": "dnHcXk44WonH"
      },
      "source": [
        "### Tasks To Be Performed: \n",
        "\n",
        "1. Perform a Detailed EDA for the Data with inferences from each of the actions. \n",
        "\n",
        "\n",
        "2. Using Statistical Analysis, find out statistical evidence for the following: \n",
        "\n",
        "    a. It was observed that the average purchase made by the Men of the age 18-25 was 10000. Is it still the same? \n",
        "    \n",
        "    b. It was observed that the percentage of women of the age that spend more than 10000 was 35%. Is it still the same? \n",
        "    \n",
        "    c. Are the variances of the purchase amounts significantly different between men and women in the age group 18-25?\"\n",
        "    \n",
        "    d. Is the percentage of men who have spent more than 10000 the same for the ages 18-25 and 26-35?"
      ]
    },
    {
      "cell_type": "code",
      "source": [],
      "metadata": {
        "id": "M4gtPunxNUr7"
      },
      "execution_count": null,
      "outputs": []
    },
    {
      "cell_type": "code",
      "source": [],
      "metadata": {
        "id": "R8XftLw1NU3a"
      },
      "execution_count": null,
      "outputs": []
    },
    {
      "cell_type": "code",
      "source": [],
      "metadata": {
        "id": "tDXw6_iINU6_"
      },
      "execution_count": null,
      "outputs": []
    },
    {
      "cell_type": "markdown",
      "metadata": {
        "id": "iswHkcsJWonO"
      },
      "source": [
        "#### User_ID: \n",
        "This column represents the unique identifier for each user or customer who made the purchase.\n",
        "\n",
        "#### Product_ID: \n",
        "This column contains the unique identifier for each product that was purchased.\n",
        "\n",
        "#### Gender: \n",
        "This column indicates the gender of the user who made the purchase. It could have values such as \"Male\" or \"Female.\"\n",
        "\n",
        "#### Age: \n",
        "This column represents the age group or category of the user who made the purchase. It can be categorized into different age ranges, such as \"18-25,\" \"26-35,\" \"36-45,\" and so on.\n",
        "\n",
        "#### Occupation: \n",
        "This column denotes the occupation of the user who made the purchase. It may include numerical or categorical values representing different professions or job types.\n",
        "\n",
        "#### City_Category: \n",
        "This column categorizes the city or region from which the purchase was made. It typically includes labels like \"A,\" \"B,\" or \"C\" to represent different city categories or types.\n",
        "\n",
        "#### Stay_In_Current_City_Years: \n",
        "This column indicates the number of years the user has been living in their current city. It may have values such as \"0\" for less than a year, \"1\" for one year, \"2\" for two years, and so on.\n",
        "\n",
        "#### Marital_Status: \n",
        "This column represents the marital status of the user. It could be encoded as \"0\" for unmarried/single and \"1\" for married.\n",
        "\n",
        "#### Product_Category_1:\n",
        "This column refers to the primary category of the purchased product. It may contain numerical or categorical values representing different product categories.\n",
        "\n",
        "#### Product_Category_2: \n",
        "This column corresponds to the secondary category of the purchased product. It could also contain numerical or categorical values, but it is not necessarily present in all datasets.\n",
        "\n",
        "#### Product_Category_3: \n",
        "This column represents the tertiary category of the purchased product. Similar to the previous column, it may include numerical or categorical values and might not be present in all datasets.\n",
        "\n",
        "#### Purchase: \n",
        "This column contains the amount or value of the purchase made by the user. It represents the monetary value or quantity associated with the transaction."
      ]
    },
    {
      "cell_type": "code",
      "source": [
        "import numpy as np\n",
        "import pandas as pd\n",
        "import matplotlib.pyplot as plt\n",
        "import seaborn as sns"
      ],
      "metadata": {
        "id": "uiM3z46DyI9E"
      },
      "execution_count": null,
      "outputs": []
    },
    {
      "cell_type": "code",
      "source": [
        "data = pd.read_csv(\"purchase_data.csv\")\n",
        "data.head()"
      ],
      "metadata": {
        "colab": {
          "base_uri": "https://localhost:8080/",
          "height": 339
        },
        "id": "q5Fh3FlM01Gn",
        "outputId": "54de02d6-0c1b-4b0e-f5b3-1295a9f4a91b"
      },
      "execution_count": null,
      "outputs": [
        {
          "output_type": "execute_result",
          "data": {
            "text/plain": [
              "   User_ID Product_ID Gender   Age  Occupation City_Category  \\\n",
              "0  1000001  P00069042      F  0-17        10.0             A   \n",
              "1  1000001  P00248942      F  0-17        10.0             A   \n",
              "2  1000001  P00087842      F  0-17        10.0             A   \n",
              "3  1000001  P00085442      F  0-17        10.0             A   \n",
              "4  1000002  P00285442      M   55+        16.0             C   \n",
              "\n",
              "  Stay_In_Current_City_Years  Marital_Status  Product_Category_1  \\\n",
              "0                          2             0.0                 3.0   \n",
              "1                          2             0.0                 1.0   \n",
              "2                          2             0.0                12.0   \n",
              "3                          2             0.0                12.0   \n",
              "4                         4+             0.0                 8.0   \n",
              "\n",
              "   Product_Category_2  Product_Category_3  Purchase  \n",
              "0                 NaN                 NaN    8370.0  \n",
              "1                 6.0                14.0   15200.0  \n",
              "2                 NaN                 NaN    1422.0  \n",
              "3                14.0                 NaN    1057.0  \n",
              "4                 NaN                 NaN    7969.0  "
            ],
            "text/html": [
              "\n",
              "  <div id=\"df-01b6b84a-2c32-4ff6-830c-f82c2dd59907\">\n",
              "    <div class=\"colab-df-container\">\n",
              "      <div>\n",
              "<style scoped>\n",
              "    .dataframe tbody tr th:only-of-type {\n",
              "        vertical-align: middle;\n",
              "    }\n",
              "\n",
              "    .dataframe tbody tr th {\n",
              "        vertical-align: top;\n",
              "    }\n",
              "\n",
              "    .dataframe thead th {\n",
              "        text-align: right;\n",
              "    }\n",
              "</style>\n",
              "<table border=\"1\" class=\"dataframe\">\n",
              "  <thead>\n",
              "    <tr style=\"text-align: right;\">\n",
              "      <th></th>\n",
              "      <th>User_ID</th>\n",
              "      <th>Product_ID</th>\n",
              "      <th>Gender</th>\n",
              "      <th>Age</th>\n",
              "      <th>Occupation</th>\n",
              "      <th>City_Category</th>\n",
              "      <th>Stay_In_Current_City_Years</th>\n",
              "      <th>Marital_Status</th>\n",
              "      <th>Product_Category_1</th>\n",
              "      <th>Product_Category_2</th>\n",
              "      <th>Product_Category_3</th>\n",
              "      <th>Purchase</th>\n",
              "    </tr>\n",
              "  </thead>\n",
              "  <tbody>\n",
              "    <tr>\n",
              "      <th>0</th>\n",
              "      <td>1000001</td>\n",
              "      <td>P00069042</td>\n",
              "      <td>F</td>\n",
              "      <td>0-17</td>\n",
              "      <td>10.0</td>\n",
              "      <td>A</td>\n",
              "      <td>2</td>\n",
              "      <td>0.0</td>\n",
              "      <td>3.0</td>\n",
              "      <td>NaN</td>\n",
              "      <td>NaN</td>\n",
              "      <td>8370.0</td>\n",
              "    </tr>\n",
              "    <tr>\n",
              "      <th>1</th>\n",
              "      <td>1000001</td>\n",
              "      <td>P00248942</td>\n",
              "      <td>F</td>\n",
              "      <td>0-17</td>\n",
              "      <td>10.0</td>\n",
              "      <td>A</td>\n",
              "      <td>2</td>\n",
              "      <td>0.0</td>\n",
              "      <td>1.0</td>\n",
              "      <td>6.0</td>\n",
              "      <td>14.0</td>\n",
              "      <td>15200.0</td>\n",
              "    </tr>\n",
              "    <tr>\n",
              "      <th>2</th>\n",
              "      <td>1000001</td>\n",
              "      <td>P00087842</td>\n",
              "      <td>F</td>\n",
              "      <td>0-17</td>\n",
              "      <td>10.0</td>\n",
              "      <td>A</td>\n",
              "      <td>2</td>\n",
              "      <td>0.0</td>\n",
              "      <td>12.0</td>\n",
              "      <td>NaN</td>\n",
              "      <td>NaN</td>\n",
              "      <td>1422.0</td>\n",
              "    </tr>\n",
              "    <tr>\n",
              "      <th>3</th>\n",
              "      <td>1000001</td>\n",
              "      <td>P00085442</td>\n",
              "      <td>F</td>\n",
              "      <td>0-17</td>\n",
              "      <td>10.0</td>\n",
              "      <td>A</td>\n",
              "      <td>2</td>\n",
              "      <td>0.0</td>\n",
              "      <td>12.0</td>\n",
              "      <td>14.0</td>\n",
              "      <td>NaN</td>\n",
              "      <td>1057.0</td>\n",
              "    </tr>\n",
              "    <tr>\n",
              "      <th>4</th>\n",
              "      <td>1000002</td>\n",
              "      <td>P00285442</td>\n",
              "      <td>M</td>\n",
              "      <td>55+</td>\n",
              "      <td>16.0</td>\n",
              "      <td>C</td>\n",
              "      <td>4+</td>\n",
              "      <td>0.0</td>\n",
              "      <td>8.0</td>\n",
              "      <td>NaN</td>\n",
              "      <td>NaN</td>\n",
              "      <td>7969.0</td>\n",
              "    </tr>\n",
              "  </tbody>\n",
              "</table>\n",
              "</div>\n",
              "      <button class=\"colab-df-convert\" onclick=\"convertToInteractive('df-01b6b84a-2c32-4ff6-830c-f82c2dd59907')\"\n",
              "              title=\"Convert this dataframe to an interactive table.\"\n",
              "              style=\"display:none;\">\n",
              "        \n",
              "  <svg xmlns=\"http://www.w3.org/2000/svg\" height=\"24px\"viewBox=\"0 0 24 24\"\n",
              "       width=\"24px\">\n",
              "    <path d=\"M0 0h24v24H0V0z\" fill=\"none\"/>\n",
              "    <path d=\"M18.56 5.44l.94 2.06.94-2.06 2.06-.94-2.06-.94-.94-2.06-.94 2.06-2.06.94zm-11 1L8.5 8.5l.94-2.06 2.06-.94-2.06-.94L8.5 2.5l-.94 2.06-2.06.94zm10 10l.94 2.06.94-2.06 2.06-.94-2.06-.94-.94-2.06-.94 2.06-2.06.94z\"/><path d=\"M17.41 7.96l-1.37-1.37c-.4-.4-.92-.59-1.43-.59-.52 0-1.04.2-1.43.59L10.3 9.45l-7.72 7.72c-.78.78-.78 2.05 0 2.83L4 21.41c.39.39.9.59 1.41.59.51 0 1.02-.2 1.41-.59l7.78-7.78 2.81-2.81c.8-.78.8-2.07 0-2.86zM5.41 20L4 18.59l7.72-7.72 1.47 1.35L5.41 20z\"/>\n",
              "  </svg>\n",
              "      </button>\n",
              "      \n",
              "  <style>\n",
              "    .colab-df-container {\n",
              "      display:flex;\n",
              "      flex-wrap:wrap;\n",
              "      gap: 12px;\n",
              "    }\n",
              "\n",
              "    .colab-df-convert {\n",
              "      background-color: #E8F0FE;\n",
              "      border: none;\n",
              "      border-radius: 50%;\n",
              "      cursor: pointer;\n",
              "      display: none;\n",
              "      fill: #1967D2;\n",
              "      height: 32px;\n",
              "      padding: 0 0 0 0;\n",
              "      width: 32px;\n",
              "    }\n",
              "\n",
              "    .colab-df-convert:hover {\n",
              "      background-color: #E2EBFA;\n",
              "      box-shadow: 0px 1px 2px rgba(60, 64, 67, 0.3), 0px 1px 3px 1px rgba(60, 64, 67, 0.15);\n",
              "      fill: #174EA6;\n",
              "    }\n",
              "\n",
              "    [theme=dark] .colab-df-convert {\n",
              "      background-color: #3B4455;\n",
              "      fill: #D2E3FC;\n",
              "    }\n",
              "\n",
              "    [theme=dark] .colab-df-convert:hover {\n",
              "      background-color: #434B5C;\n",
              "      box-shadow: 0px 1px 3px 1px rgba(0, 0, 0, 0.15);\n",
              "      filter: drop-shadow(0px 1px 2px rgba(0, 0, 0, 0.3));\n",
              "      fill: #FFFFFF;\n",
              "    }\n",
              "  </style>\n",
              "\n",
              "      <script>\n",
              "        const buttonEl =\n",
              "          document.querySelector('#df-01b6b84a-2c32-4ff6-830c-f82c2dd59907 button.colab-df-convert');\n",
              "        buttonEl.style.display =\n",
              "          google.colab.kernel.accessAllowed ? 'block' : 'none';\n",
              "\n",
              "        async function convertToInteractive(key) {\n",
              "          const element = document.querySelector('#df-01b6b84a-2c32-4ff6-830c-f82c2dd59907');\n",
              "          const dataTable =\n",
              "            await google.colab.kernel.invokeFunction('convertToInteractive',\n",
              "                                                     [key], {});\n",
              "          if (!dataTable) return;\n",
              "\n",
              "          const docLinkHtml = 'Like what you see? Visit the ' +\n",
              "            '<a target=\"_blank\" href=https://colab.research.google.com/notebooks/data_table.ipynb>data table notebook</a>'\n",
              "            + ' to learn more about interactive tables.';\n",
              "          element.innerHTML = '';\n",
              "          dataTable['output_type'] = 'display_data';\n",
              "          await google.colab.output.renderOutput(dataTable, element);\n",
              "          const docLink = document.createElement('div');\n",
              "          docLink.innerHTML = docLinkHtml;\n",
              "          element.appendChild(docLink);\n",
              "        }\n",
              "      </script>\n",
              "    </div>\n",
              "  </div>\n",
              "  "
            ]
          },
          "metadata": {},
          "execution_count": 31
        }
      ]
    },
    {
      "cell_type": "code",
      "source": [
        "data.shape"
      ],
      "metadata": {
        "colab": {
          "base_uri": "https://localhost:8080/"
        },
        "id": "k2z6QE5F01le",
        "outputId": "579517c3-c388-4815-fa0f-ef51115c0a07"
      },
      "execution_count": null,
      "outputs": [
        {
          "output_type": "execute_result",
          "data": {
            "text/plain": [
              "(263015, 12)"
            ]
          },
          "metadata": {},
          "execution_count": 32
        }
      ]
    },
    {
      "cell_type": "code",
      "source": [
        "data.info()"
      ],
      "metadata": {
        "colab": {
          "base_uri": "https://localhost:8080/"
        },
        "id": "vw0lkXy801oI",
        "outputId": "3387bea8-2776-40b7-d456-396b3ef2253d"
      },
      "execution_count": null,
      "outputs": [
        {
          "output_type": "stream",
          "name": "stdout",
          "text": [
            "<class 'pandas.core.frame.DataFrame'>\n",
            "RangeIndex: 263015 entries, 0 to 263014\n",
            "Data columns (total 12 columns):\n",
            " #   Column                      Non-Null Count   Dtype  \n",
            "---  ------                      --------------   -----  \n",
            " 0   User_ID                     263015 non-null  int64  \n",
            " 1   Product_ID                  263014 non-null  object \n",
            " 2   Gender                      263014 non-null  object \n",
            " 3   Age                         263014 non-null  object \n",
            " 4   Occupation                  263014 non-null  float64\n",
            " 5   City_Category               263014 non-null  object \n",
            " 6   Stay_In_Current_City_Years  263014 non-null  object \n",
            " 7   Marital_Status              263014 non-null  float64\n",
            " 8   Product_Category_1          263014 non-null  float64\n",
            " 9   Product_Category_2          181501 non-null  float64\n",
            " 10  Product_Category_3          80582 non-null   float64\n",
            " 11  Purchase                    263014 non-null  float64\n",
            "dtypes: float64(6), int64(1), object(5)\n",
            "memory usage: 24.1+ MB\n"
          ]
        }
      ]
    },
    {
      "cell_type": "code",
      "source": [
        "data[\"Stay_In_Current_City_Years\"].unique()"
      ],
      "metadata": {
        "colab": {
          "base_uri": "https://localhost:8080/"
        },
        "id": "HZ8on5I101q5",
        "outputId": "47d80c39-3679-411c-a9d2-8d39234afcb4"
      },
      "execution_count": null,
      "outputs": [
        {
          "output_type": "execute_result",
          "data": {
            "text/plain": [
              "array(['2', '4+', '3', '1', '0', nan], dtype=object)"
            ]
          },
          "metadata": {},
          "execution_count": 34
        }
      ]
    },
    {
      "cell_type": "code",
      "source": [
        "data[\"Stay_In_Current_City_Years\"] = data[\"Stay_In_Current_City_Years\"].replace(\"4+\", \"4\")"
      ],
      "metadata": {
        "id": "EwfCSKah01uh"
      },
      "execution_count": null,
      "outputs": []
    },
    {
      "cell_type": "code",
      "source": [
        "data[\"Stay_In_Current_City_Years\"].unique()"
      ],
      "metadata": {
        "colab": {
          "base_uri": "https://localhost:8080/"
        },
        "id": "CeZ_ZPk801xd",
        "outputId": "29f1225c-fa32-453f-f1cb-b58dc853cd5f"
      },
      "execution_count": null,
      "outputs": [
        {
          "output_type": "execute_result",
          "data": {
            "text/plain": [
              "array(['2', '4', '3', '1', '0', nan], dtype=object)"
            ]
          },
          "metadata": {},
          "execution_count": 36
        }
      ]
    },
    {
      "cell_type": "code",
      "source": [
        "data[\"Stay_In_Current_City_Years\"] = pd.to_numeric(data[\"Stay_In_Current_City_Years\"], errors = \"coerce\")"
      ],
      "metadata": {
        "id": "EHuYQklW010J"
      },
      "execution_count": null,
      "outputs": []
    },
    {
      "cell_type": "code",
      "source": [
        "data.info()"
      ],
      "metadata": {
        "colab": {
          "base_uri": "https://localhost:8080/"
        },
        "id": "GAnx9pdC013s",
        "outputId": "f59e8370-7238-40d0-9462-a164fbd35dda"
      },
      "execution_count": null,
      "outputs": [
        {
          "output_type": "stream",
          "name": "stdout",
          "text": [
            "<class 'pandas.core.frame.DataFrame'>\n",
            "RangeIndex: 263015 entries, 0 to 263014\n",
            "Data columns (total 12 columns):\n",
            " #   Column                      Non-Null Count   Dtype  \n",
            "---  ------                      --------------   -----  \n",
            " 0   User_ID                     263015 non-null  int64  \n",
            " 1   Product_ID                  263014 non-null  object \n",
            " 2   Gender                      263014 non-null  object \n",
            " 3   Age                         263014 non-null  object \n",
            " 4   Occupation                  263014 non-null  float64\n",
            " 5   City_Category               263014 non-null  object \n",
            " 6   Stay_In_Current_City_Years  263014 non-null  float64\n",
            " 7   Marital_Status              263014 non-null  float64\n",
            " 8   Product_Category_1          263014 non-null  float64\n",
            " 9   Product_Category_2          181501 non-null  float64\n",
            " 10  Product_Category_3          80582 non-null   float64\n",
            " 11  Purchase                    263014 non-null  float64\n",
            "dtypes: float64(7), int64(1), object(4)\n",
            "memory usage: 24.1+ MB\n"
          ]
        }
      ]
    },
    {
      "cell_type": "code",
      "source": [
        "#Cheching the null values in whole dataset\n",
        "\n",
        "data.isna().sum()"
      ],
      "metadata": {
        "colab": {
          "base_uri": "https://localhost:8080/"
        },
        "id": "TNqYRH-Z3gOv",
        "outputId": "8f9eb71e-67f6-4b20-cb16-f15e4f8fb052"
      },
      "execution_count": null,
      "outputs": [
        {
          "output_type": "execute_result",
          "data": {
            "text/plain": [
              "User_ID                            0\n",
              "Product_ID                         1\n",
              "Gender                             1\n",
              "Age                                1\n",
              "Occupation                         1\n",
              "City_Category                      1\n",
              "Stay_In_Current_City_Years         1\n",
              "Marital_Status                     1\n",
              "Product_Category_1                 1\n",
              "Product_Category_2             81514\n",
              "Product_Category_3            182433\n",
              "Purchase                           1\n",
              "dtype: int64"
            ]
          },
          "metadata": {},
          "execution_count": 39
        }
      ]
    },
    {
      "cell_type": "code",
      "source": [
        "data = data.dropna()"
      ],
      "metadata": {
        "id": "Uc01thPs3qJA"
      },
      "execution_count": null,
      "outputs": []
    },
    {
      "cell_type": "code",
      "source": [
        "data.isna().sum()"
      ],
      "metadata": {
        "colab": {
          "base_uri": "https://localhost:8080/"
        },
        "id": "TUSKMkeh3qM9",
        "outputId": "6425070f-e16f-4488-cdb7-3bc2029b2026"
      },
      "execution_count": null,
      "outputs": [
        {
          "output_type": "execute_result",
          "data": {
            "text/plain": [
              "User_ID                       0\n",
              "Product_ID                    0\n",
              "Gender                        0\n",
              "Age                           0\n",
              "Occupation                    0\n",
              "City_Category                 0\n",
              "Stay_In_Current_City_Years    0\n",
              "Marital_Status                0\n",
              "Product_Category_1            0\n",
              "Product_Category_2            0\n",
              "Product_Category_3            0\n",
              "Purchase                      0\n",
              "dtype: int64"
            ]
          },
          "metadata": {},
          "execution_count": 41
        }
      ]
    },
    {
      "cell_type": "code",
      "source": [
        "data.shape"
      ],
      "metadata": {
        "colab": {
          "base_uri": "https://localhost:8080/"
        },
        "id": "dsdiWqUx5J7F",
        "outputId": "d332aa2e-db4a-4073-a975-c4be9baf0aa0"
      },
      "execution_count": null,
      "outputs": [
        {
          "output_type": "execute_result",
          "data": {
            "text/plain": [
              "(80582, 12)"
            ]
          },
          "metadata": {},
          "execution_count": 42
        }
      ]
    },
    {
      "cell_type": "code",
      "source": [
        "#Label encoding on categorical columns\n",
        "\n",
        "from sklearn.preprocessing import LabelEncoder\n",
        "le = LabelEncoder()"
      ],
      "metadata": {
        "id": "4q4PCoXf3qQM"
      },
      "execution_count": null,
      "outputs": []
    },
    {
      "cell_type": "code",
      "source": [
        "data[\"Gender\"] = le.fit_transform(data[\"Gender\"])\n",
        "print(\"Gender\", le.classes_)"
      ],
      "metadata": {
        "colab": {
          "base_uri": "https://localhost:8080/"
        },
        "id": "rFTjKdeW3qYV",
        "outputId": "cfe46b29-9d31-45b5-b809-6fe988d469b3"
      },
      "execution_count": null,
      "outputs": [
        {
          "output_type": "stream",
          "name": "stdout",
          "text": [
            "Gender ['F' 'M']\n"
          ]
        }
      ]
    },
    {
      "cell_type": "code",
      "source": [
        "data[\"Gender\"].unique()"
      ],
      "metadata": {
        "colab": {
          "base_uri": "https://localhost:8080/"
        },
        "id": "VqSSrrsz6Kxh",
        "outputId": "a8af6af8-3d48-493e-9914-98ae8039e6ba"
      },
      "execution_count": null,
      "outputs": [
        {
          "output_type": "execute_result",
          "data": {
            "text/plain": [
              "array([0, 1])"
            ]
          },
          "metadata": {},
          "execution_count": 45
        }
      ]
    },
    {
      "cell_type": "code",
      "source": [
        "data.head()"
      ],
      "metadata": {
        "colab": {
          "base_uri": "https://localhost:8080/",
          "height": 357
        },
        "id": "KoHdNxMu6Nnx",
        "outputId": "88fcb7fd-dde0-4d8d-e09a-44e6cebb93b2"
      },
      "execution_count": null,
      "outputs": [
        {
          "output_type": "execute_result",
          "data": {
            "text/plain": [
              "    User_ID Product_ID  Gender    Age  Occupation City_Category  \\\n",
              "1   1000001  P00248942       0   0-17        10.0             A   \n",
              "6   1000004  P00184942       1  46-50         7.0             B   \n",
              "13  1000005  P00145042       1  26-35        20.0             A   \n",
              "14  1000006  P00231342       0  51-55         9.0             A   \n",
              "16  1000006   P0096642       0  51-55         9.0             A   \n",
              "\n",
              "    Stay_In_Current_City_Years  Marital_Status  Product_Category_1  \\\n",
              "1                          2.0             0.0                 1.0   \n",
              "6                          2.0             1.0                 1.0   \n",
              "13                         1.0             1.0                 1.0   \n",
              "14                         1.0             0.0                 5.0   \n",
              "16                         1.0             0.0                 2.0   \n",
              "\n",
              "    Product_Category_2  Product_Category_3  Purchase  \n",
              "1                  6.0                14.0   15200.0  \n",
              "6                  8.0                17.0   19215.0  \n",
              "13                 2.0                 5.0   15665.0  \n",
              "14                 8.0                14.0    5378.0  \n",
              "16                 3.0                 4.0   13055.0  "
            ],
            "text/html": [
              "\n",
              "  <div id=\"df-d7295523-9b04-4fdd-801e-6b7449230807\">\n",
              "    <div class=\"colab-df-container\">\n",
              "      <div>\n",
              "<style scoped>\n",
              "    .dataframe tbody tr th:only-of-type {\n",
              "        vertical-align: middle;\n",
              "    }\n",
              "\n",
              "    .dataframe tbody tr th {\n",
              "        vertical-align: top;\n",
              "    }\n",
              "\n",
              "    .dataframe thead th {\n",
              "        text-align: right;\n",
              "    }\n",
              "</style>\n",
              "<table border=\"1\" class=\"dataframe\">\n",
              "  <thead>\n",
              "    <tr style=\"text-align: right;\">\n",
              "      <th></th>\n",
              "      <th>User_ID</th>\n",
              "      <th>Product_ID</th>\n",
              "      <th>Gender</th>\n",
              "      <th>Age</th>\n",
              "      <th>Occupation</th>\n",
              "      <th>City_Category</th>\n",
              "      <th>Stay_In_Current_City_Years</th>\n",
              "      <th>Marital_Status</th>\n",
              "      <th>Product_Category_1</th>\n",
              "      <th>Product_Category_2</th>\n",
              "      <th>Product_Category_3</th>\n",
              "      <th>Purchase</th>\n",
              "    </tr>\n",
              "  </thead>\n",
              "  <tbody>\n",
              "    <tr>\n",
              "      <th>1</th>\n",
              "      <td>1000001</td>\n",
              "      <td>P00248942</td>\n",
              "      <td>0</td>\n",
              "      <td>0-17</td>\n",
              "      <td>10.0</td>\n",
              "      <td>A</td>\n",
              "      <td>2.0</td>\n",
              "      <td>0.0</td>\n",
              "      <td>1.0</td>\n",
              "      <td>6.0</td>\n",
              "      <td>14.0</td>\n",
              "      <td>15200.0</td>\n",
              "    </tr>\n",
              "    <tr>\n",
              "      <th>6</th>\n",
              "      <td>1000004</td>\n",
              "      <td>P00184942</td>\n",
              "      <td>1</td>\n",
              "      <td>46-50</td>\n",
              "      <td>7.0</td>\n",
              "      <td>B</td>\n",
              "      <td>2.0</td>\n",
              "      <td>1.0</td>\n",
              "      <td>1.0</td>\n",
              "      <td>8.0</td>\n",
              "      <td>17.0</td>\n",
              "      <td>19215.0</td>\n",
              "    </tr>\n",
              "    <tr>\n",
              "      <th>13</th>\n",
              "      <td>1000005</td>\n",
              "      <td>P00145042</td>\n",
              "      <td>1</td>\n",
              "      <td>26-35</td>\n",
              "      <td>20.0</td>\n",
              "      <td>A</td>\n",
              "      <td>1.0</td>\n",
              "      <td>1.0</td>\n",
              "      <td>1.0</td>\n",
              "      <td>2.0</td>\n",
              "      <td>5.0</td>\n",
              "      <td>15665.0</td>\n",
              "    </tr>\n",
              "    <tr>\n",
              "      <th>14</th>\n",
              "      <td>1000006</td>\n",
              "      <td>P00231342</td>\n",
              "      <td>0</td>\n",
              "      <td>51-55</td>\n",
              "      <td>9.0</td>\n",
              "      <td>A</td>\n",
              "      <td>1.0</td>\n",
              "      <td>0.0</td>\n",
              "      <td>5.0</td>\n",
              "      <td>8.0</td>\n",
              "      <td>14.0</td>\n",
              "      <td>5378.0</td>\n",
              "    </tr>\n",
              "    <tr>\n",
              "      <th>16</th>\n",
              "      <td>1000006</td>\n",
              "      <td>P0096642</td>\n",
              "      <td>0</td>\n",
              "      <td>51-55</td>\n",
              "      <td>9.0</td>\n",
              "      <td>A</td>\n",
              "      <td>1.0</td>\n",
              "      <td>0.0</td>\n",
              "      <td>2.0</td>\n",
              "      <td>3.0</td>\n",
              "      <td>4.0</td>\n",
              "      <td>13055.0</td>\n",
              "    </tr>\n",
              "  </tbody>\n",
              "</table>\n",
              "</div>\n",
              "      <button class=\"colab-df-convert\" onclick=\"convertToInteractive('df-d7295523-9b04-4fdd-801e-6b7449230807')\"\n",
              "              title=\"Convert this dataframe to an interactive table.\"\n",
              "              style=\"display:none;\">\n",
              "        \n",
              "  <svg xmlns=\"http://www.w3.org/2000/svg\" height=\"24px\"viewBox=\"0 0 24 24\"\n",
              "       width=\"24px\">\n",
              "    <path d=\"M0 0h24v24H0V0z\" fill=\"none\"/>\n",
              "    <path d=\"M18.56 5.44l.94 2.06.94-2.06 2.06-.94-2.06-.94-.94-2.06-.94 2.06-2.06.94zm-11 1L8.5 8.5l.94-2.06 2.06-.94-2.06-.94L8.5 2.5l-.94 2.06-2.06.94zm10 10l.94 2.06.94-2.06 2.06-.94-2.06-.94-.94-2.06-.94 2.06-2.06.94z\"/><path d=\"M17.41 7.96l-1.37-1.37c-.4-.4-.92-.59-1.43-.59-.52 0-1.04.2-1.43.59L10.3 9.45l-7.72 7.72c-.78.78-.78 2.05 0 2.83L4 21.41c.39.39.9.59 1.41.59.51 0 1.02-.2 1.41-.59l7.78-7.78 2.81-2.81c.8-.78.8-2.07 0-2.86zM5.41 20L4 18.59l7.72-7.72 1.47 1.35L5.41 20z\"/>\n",
              "  </svg>\n",
              "      </button>\n",
              "      \n",
              "  <style>\n",
              "    .colab-df-container {\n",
              "      display:flex;\n",
              "      flex-wrap:wrap;\n",
              "      gap: 12px;\n",
              "    }\n",
              "\n",
              "    .colab-df-convert {\n",
              "      background-color: #E8F0FE;\n",
              "      border: none;\n",
              "      border-radius: 50%;\n",
              "      cursor: pointer;\n",
              "      display: none;\n",
              "      fill: #1967D2;\n",
              "      height: 32px;\n",
              "      padding: 0 0 0 0;\n",
              "      width: 32px;\n",
              "    }\n",
              "\n",
              "    .colab-df-convert:hover {\n",
              "      background-color: #E2EBFA;\n",
              "      box-shadow: 0px 1px 2px rgba(60, 64, 67, 0.3), 0px 1px 3px 1px rgba(60, 64, 67, 0.15);\n",
              "      fill: #174EA6;\n",
              "    }\n",
              "\n",
              "    [theme=dark] .colab-df-convert {\n",
              "      background-color: #3B4455;\n",
              "      fill: #D2E3FC;\n",
              "    }\n",
              "\n",
              "    [theme=dark] .colab-df-convert:hover {\n",
              "      background-color: #434B5C;\n",
              "      box-shadow: 0px 1px 3px 1px rgba(0, 0, 0, 0.15);\n",
              "      filter: drop-shadow(0px 1px 2px rgba(0, 0, 0, 0.3));\n",
              "      fill: #FFFFFF;\n",
              "    }\n",
              "  </style>\n",
              "\n",
              "      <script>\n",
              "        const buttonEl =\n",
              "          document.querySelector('#df-d7295523-9b04-4fdd-801e-6b7449230807 button.colab-df-convert');\n",
              "        buttonEl.style.display =\n",
              "          google.colab.kernel.accessAllowed ? 'block' : 'none';\n",
              "\n",
              "        async function convertToInteractive(key) {\n",
              "          const element = document.querySelector('#df-d7295523-9b04-4fdd-801e-6b7449230807');\n",
              "          const dataTable =\n",
              "            await google.colab.kernel.invokeFunction('convertToInteractive',\n",
              "                                                     [key], {});\n",
              "          if (!dataTable) return;\n",
              "\n",
              "          const docLinkHtml = 'Like what you see? Visit the ' +\n",
              "            '<a target=\"_blank\" href=https://colab.research.google.com/notebooks/data_table.ipynb>data table notebook</a>'\n",
              "            + ' to learn more about interactive tables.';\n",
              "          element.innerHTML = '';\n",
              "          dataTable['output_type'] = 'display_data';\n",
              "          await google.colab.output.renderOutput(dataTable, element);\n",
              "          const docLink = document.createElement('div');\n",
              "          docLink.innerHTML = docLinkHtml;\n",
              "          element.appendChild(docLink);\n",
              "        }\n",
              "      </script>\n",
              "    </div>\n",
              "  </div>\n",
              "  "
            ]
          },
          "metadata": {},
          "execution_count": 46
        }
      ]
    },
    {
      "cell_type": "code",
      "source": [
        "data.info()"
      ],
      "metadata": {
        "colab": {
          "base_uri": "https://localhost:8080/"
        },
        "id": "W9yZD6eI6VwE",
        "outputId": "991148c6-1f50-40bc-bae5-42f4e7617089"
      },
      "execution_count": null,
      "outputs": [
        {
          "output_type": "stream",
          "name": "stdout",
          "text": [
            "<class 'pandas.core.frame.DataFrame'>\n",
            "Int64Index: 80582 entries, 1 to 263011\n",
            "Data columns (total 12 columns):\n",
            " #   Column                      Non-Null Count  Dtype  \n",
            "---  ------                      --------------  -----  \n",
            " 0   User_ID                     80582 non-null  int64  \n",
            " 1   Product_ID                  80582 non-null  object \n",
            " 2   Gender                      80582 non-null  int64  \n",
            " 3   Age                         80582 non-null  object \n",
            " 4   Occupation                  80582 non-null  float64\n",
            " 5   City_Category               80582 non-null  object \n",
            " 6   Stay_In_Current_City_Years  80582 non-null  float64\n",
            " 7   Marital_Status              80582 non-null  float64\n",
            " 8   Product_Category_1          80582 non-null  float64\n",
            " 9   Product_Category_2          80582 non-null  float64\n",
            " 10  Product_Category_3          80582 non-null  float64\n",
            " 11  Purchase                    80582 non-null  float64\n",
            "dtypes: float64(7), int64(2), object(3)\n",
            "memory usage: 8.0+ MB\n"
          ]
        }
      ]
    },
    {
      "cell_type": "code",
      "source": [
        "data[\"Product_ID\"] = le.fit_transform(data[\"Product_ID\"])\n",
        "print(\"Product_ID\", le.classes_)"
      ],
      "metadata": {
        "colab": {
          "base_uri": "https://localhost:8080/"
        },
        "id": "vPhlCScD6Vzj",
        "outputId": "e6342147-2deb-49d5-d217-0d264488034d"
      },
      "execution_count": null,
      "outputs": [
        {
          "output_type": "stream",
          "name": "stdout",
          "text": [
            "Product_ID ['P00000142' 'P00000242' 'P00000642' 'P00001042' 'P00001142' 'P00001542'\n",
            " 'P00002142' 'P00002242' 'P00003442' 'P00004242' 'P00004842' 'P00005542'\n",
            " 'P00005942' 'P00006942' 'P00008042' 'P00010542' 'P00010742' 'P00010942'\n",
            " 'P00011942' 'P00012242' 'P00014442' 'P00014642' 'P00014842' 'P00015542'\n",
            " 'P00015642' 'P00015842' 'P00015942' 'P00016342' 'P00016442' 'P00016542'\n",
            " 'P00016742' 'P00016842' 'P00019042' 'P00019342' 'P00021842' 'P00023342'\n",
            " 'P00024142' 'P00025242' 'P00025342' 'P00025442' 'P00026042' 'P00028442'\n",
            " 'P00028542' 'P00029542' 'P00030842' 'P00030942' 'P00031842' 'P00032042'\n",
            " 'P00034042' 'P00034142' 'P00034242' 'P00034442' 'P00034742' 'P00035042'\n",
            " 'P00035342' 'P00035542' 'P00035842' 'P00035942' 'P00036842' 'P00037142'\n",
            " 'P00038042' 'P00038142' 'P00041342' 'P00041442' 'P00042142' 'P00043842'\n",
            " 'P00044242' 'P00045042' 'P00045142' 'P00045242' 'P00045342' 'P00046742'\n",
            " 'P00048042' 'P00048342' 'P00050042' 'P00050342' 'P00050442' 'P00051942'\n",
            " 'P00053042' 'P00053342' 'P00053442' 'P00053842' 'P00053942' 'P00054242'\n",
            " 'P00054542' 'P00057442' 'P00057542' 'P00057642' 'P00057742' 'P00057942'\n",
            " 'P00058142' 'P00058242' 'P00059442' 'P00059642' 'P00059742' 'P00061342'\n",
            " 'P00062842' 'P00063342' 'P00064042' 'P00065242' 'P00066242' 'P00066542'\n",
            " 'P00067842' 'P00070042' 'P00070342' 'P00070942' 'P00071242' 'P00073842'\n",
            " 'P00074142' 'P00074642' 'P00075342' 'P00076542' 'P00076942' 'P00078542'\n",
            " 'P00078742' 'P00079742' 'P00080342' 'P00081142' 'P00082742' 'P00083342'\n",
            " 'P00084742' 'P00085142' 'P00085242' 'P00085942' 'P00086042' 'P00086442'\n",
            " 'P00087042' 'P00087142' 'P00087342' 'P00088242' 'P00088542' 'P00088642'\n",
            " 'P00090942' 'P00092842' 'P00093342' 'P00100442' 'P00102342' 'P00102642'\n",
            " 'P00105142' 'P00105342' 'P00107042' 'P00107142' 'P00108542' 'P00109242'\n",
            " 'P00109542' 'P00110742' 'P00110842' 'P00111142' 'P00111642' 'P00112142'\n",
            " 'P00112242' 'P00112542' 'P00112642' 'P00113142' 'P00113242' 'P00113342'\n",
            " 'P00113842' 'P00114342' 'P00114942' 'P00115142' 'P00115342' 'P00115742'\n",
            " 'P00116142' 'P00116842' 'P00116942' 'P00117042' 'P00117342' 'P00117842'\n",
            " 'P00118342' 'P00118642' 'P00119142' 'P00119642' 'P00119742' 'P00120742'\n",
            " 'P00121342' 'P00122442' 'P00125942' 'P00126242' 'P00127342' 'P00127442'\n",
            " 'P00127542' 'P00127642' 'P00127742' 'P00127842' 'P00127942' 'P00128042'\n",
            " 'P00128142' 'P00128242' 'P00128342' 'P00129342' 'P00129842' 'P00130742'\n",
            " 'P00131442' 'P00135242' 'P00136242' 'P00136742' 'P00136842' 'P00137542'\n",
            " 'P00137642' 'P00138042' 'P00138442' 'P00140442' 'P00140542' 'P00141942'\n",
            " 'P00142142' 'P00142842' 'P00142942' 'P00143342' 'P00143642' 'P00144042'\n",
            " 'P00144642' 'P00145042' 'P00145642' 'P00145942' 'P00146042' 'P00146142'\n",
            " 'P00146542' 'P00146742' 'P00146842' 'P00147142' 'P00148542' 'P00148642'\n",
            " 'P00148842' 'P00149442' 'P00149542' 'P00150842' 'P00150942' 'P00151242'\n",
            " 'P00151742' 'P00151842' 'P00153842' 'P00154042' 'P00154742' 'P00155242'\n",
            " 'P00155442' 'P00156242' 'P00156742' 'P00157442' 'P00157642' 'P00158542'\n",
            " 'P00159242' 'P00159542' 'P00159742' 'P00160042' 'P00160642' 'P00161242'\n",
            " 'P00161542' 'P00161842' 'P00163242' 'P00163442' 'P00163542' 'P00163742'\n",
            " 'P00164042' 'P00164442' 'P00165442' 'P00165642' 'P00166942' 'P00169742'\n",
            " 'P00170242' 'P00170942' 'P00171542' 'P00171642' 'P00173042' 'P00173142'\n",
            " 'P00173342' 'P00173742' 'P00173842' 'P00173942' 'P00174142' 'P00174642'\n",
            " 'P00176542' 'P00177442' 'P00178842' 'P00182142' 'P00182242' 'P00182342'\n",
            " 'P00182642' 'P00182742' 'P00182942' 'P00183342' 'P00183642' 'P00183742'\n",
            " 'P00183842' 'P00184442' 'P00184942' 'P00185742' 'P00185842' 'P00186142'\n",
            " 'P00186342' 'P00186542' 'P00186642' 'P00187042' 'P00187142' 'P00187342'\n",
            " 'P00187442' 'P00188542' 'P00188742' 'P00189842' 'P00190042' 'P00190142'\n",
            " 'P00190742' 'P00190842' 'P00191242' 'P00191342' 'P00191442' 'P00191642'\n",
            " 'P00191942' 'P00192042' 'P00192242' 'P00192542' 'P00193042' 'P00193642'\n",
            " 'P00194642' 'P00195042' 'P00195842' 'P00196042' 'P00196142' 'P00196242'\n",
            " 'P00196342' 'P00196542' 'P00198142' 'P00198242' 'P00198742' 'P00199142'\n",
            " 'P00199342' 'P00200242' 'P00201342' 'P00201442' 'P00202142' 'P00202742'\n",
            " 'P00205442' 'P00205942' 'P00206442' 'P00207342' 'P00208442' 'P00208742'\n",
            " 'P00209642' 'P00209742' 'P00213042' 'P00214642' 'P00215242' 'P00216242'\n",
            " 'P00216342' 'P00217442' 'P00217542' 'P00217642' 'P00217842' 'P00219742'\n",
            " 'P00220742' 'P00221342' 'P00221442' 'P00222242' 'P00222942' 'P00223042'\n",
            " 'P00223442' 'P00223542' 'P00223742' 'P00223842' 'P00225842' 'P00227642'\n",
            " 'P00228342' 'P00229142' 'P00229642' 'P00231342' 'P00233142' 'P00233342'\n",
            " 'P00233442' 'P00234642' 'P00234842' 'P00235842' 'P00235942' 'P00237542'\n",
            " 'P00239042' 'P00239242' 'P00239742' 'P00240242' 'P00241242' 'P00241342'\n",
            " 'P00241642' 'P00242542' 'P00242742' 'P00243042' 'P00243942' 'P00244042'\n",
            " 'P00244142' 'P00244242' 'P00245642' 'P00246142' 'P00247142' 'P00247442'\n",
            " 'P00247942' 'P00248942' 'P00249442' 'P00249542' 'P00249742' 'P00251642'\n",
            " 'P00251842' 'P00251942' 'P00253142' 'P00254242' 'P00256042' 'P00259842'\n",
            " 'P00262242' 'P00264542' 'P00266642' 'P00266742' 'P00266942' 'P00267342'\n",
            " 'P00267442' 'P00269342' 'P00270542' 'P00270942' 'P00273442' 'P00274342'\n",
            " 'P00274842' 'P00275842' 'P00277442' 'P00277542' 'P00277642' 'P00278942'\n",
            " 'P00281742' 'P00282242' 'P00282442' 'P00283142' 'P00284842' 'P00285642'\n",
            " 'P00288942' 'P00289342' 'P00289942' 'P00290242' 'P00290742' 'P00293842'\n",
            " 'P00294142' 'P00294442' 'P00295942' 'P00296042' 'P00296842' 'P00298042'\n",
            " 'P00303442' 'P00303842' 'P00304342' 'P00304642' 'P00305042' 'P00308242'\n",
            " 'P00310842' 'P00311742' 'P00313442' 'P00313842' 'P00317642' 'P00318642'\n",
            " 'P00320742' 'P00320842' 'P00320942' 'P00321242' 'P00321742' 'P00322942'\n",
            " 'P00324442' 'P00324742' 'P00328942' 'P00329542' 'P00329942' 'P00330342'\n",
            " 'P00334042' 'P00334642' 'P00337242' 'P00337342' 'P00338942' 'P00339842'\n",
            " 'P00340342' 'P00341342' 'P00341942' 'P00342042' 'P00342142' 'P00342242'\n",
            " 'P00342342' 'P00342442' 'P00342542' 'P00344442' 'P00345542' 'P00345642'\n",
            " 'P00345742' 'P00345842' 'P00346042' 'P00346442' 'P00346542' 'P00350442'\n",
            " 'P00350942' 'P00351142' 'P00351242' 'P00351342' 'P00351642' 'P00351742'\n",
            " 'P00352142' 'P00352242' 'P00352842' 'P00353342' 'P00353442' 'P00356342'\n",
            " 'P00358342' 'P00358642' 'P00359042' 'P00359242' 'P00361942' 'P00363242'\n",
            " 'P00364442' 'P00369942' 'P00370042' 'P0094342' 'P0094542' 'P0094742'\n",
            " 'P0095042' 'P0095442' 'P0095542' 'P0095842' 'P0096042' 'P0096442'\n",
            " 'P0096542' 'P0096642' 'P0096742' 'P0096842' 'P0097342' 'P0099042'\n",
            " 'P0099742' 'P0099842' 'P0099942']\n"
          ]
        }
      ]
    },
    {
      "cell_type": "code",
      "source": [
        "data[\"Product_ID\"].unique()"
      ],
      "metadata": {
        "colab": {
          "base_uri": "https://localhost:8080/"
        },
        "id": "o9Mro9Qt6V3i",
        "outputId": "a701ee2b-7643-4853-fc9a-899d8c6ced39"
      },
      "execution_count": null,
      "outputs": [
        {
          "output_type": "execute_result",
          "data": {
            "text/plain": [
              "array([391, 284, 211, 363, 517,  58, 393, 438, 114, 123, 276, 234, 349,\n",
              "       147, 508, 221, 154, 146, 275,  64, 385,  33, 107, 300, 229, 152,\n",
              "        51, 351, 168, 457, 298, 239, 151, 183, 176,  90, 395, 487, 402,\n",
              "       358, 419, 271,   2, 426, 411, 481,  47,  46, 332,  71, 427, 420,\n",
              "       404,  40, 342, 137, 179, 479, 160,  59, 307, 125,  41, 416, 122,\n",
              "       204,  45, 149, 412, 454,  77,  16, 158,  44, 113, 456, 486,   0,\n",
              "        48, 191,  36, 337, 243,  29,  30, 359, 215, 190, 382, 384, 299,\n",
              "       143, 213, 222, 371, 260, 145, 170, 228, 515, 273, 428, 153, 254,\n",
              "       309, 320, 256,   8, 198, 314,  98,  23, 138,  84,  52,  82, 264,\n",
              "       365, 368, 184, 246, 516, 108, 357,  22, 413, 335, 165, 203, 130,\n",
              "        55,  89,  92, 231, 106,  76, 520, 330, 126, 128,  56, 415, 489,\n",
              "       115, 208, 181, 210, 326, 397, 304,  94, 163,  26, 484, 296, 375,\n",
              "       410,  85, 386, 485,  39, 116, 387, 448, 439, 483, 434, 521,   4,\n",
              "       297, 322,   9, 267, 117, 459, 174, 241, 159, 378,  96, 295, 129,\n",
              "       180, 492, 226,  97, 236, 310,  42, 283, 197, 124,  88, 155, 232,\n",
              "        27, 187, 480, 418,  10, 185, 312, 224,  81, 162, 172, 376, 135,\n",
              "        87, 103, 469, 166, 132, 136,  86, 277,   6, 178, 207, 417,  34,\n",
              "       274,  75, 522, 383, 316, 294, 188, 352, 494, 380,  24, 446, 189,\n",
              "       245,  70, 171, 157, 266, 331, 315, 350, 327,  21, 425, 101, 455,\n",
              "       422,  43, 186, 268,  31, 355, 175, 366, 134, 504, 482, 421,   3,\n",
              "       167,  78, 451, 206,  54, 212, 442, 471, 501, 513, 400,  99, 230,\n",
              "       452, 512, 238, 104, 195,   5, 460, 286,  72, 217, 441, 502, 339,\n",
              "       435, 500, 161, 461, 506, 450, 257, 493, 321,  38, 308, 394,  15,\n",
              "       233, 498, 182, 399, 142, 313, 360, 209,  65, 306, 311, 144, 249,\n",
              "       319, 336, 423, 290, 303,  25,  13, 398,  19, 519, 356, 225,  93,\n",
              "       173,  83, 196, 105, 109, 139, 507, 424, 509, 156, 302, 433, 348,\n",
              "       279, 289, 462,   7,  62, 406, 201,  35, 401, 343, 325, 463, 324,\n",
              "       262, 272, 369,  66, 258,  17, 388, 164, 223, 477, 119, 248,  91,\n",
              "       305, 100, 169, 396,  49, 255, 110, 390, 518, 293, 444,  68, 280,\n",
              "       367, 333,  50,  61, 432,  79, 227,  53, 214, 364, 259, 218, 443,\n",
              "       328, 301, 475, 282, 118, 261, 291, 379, 472, 488, 407, 102, 200,\n",
              "        63,  57, 341, 467, 270, 466, 220, 150, 431,  95, 340, 362, 440,\n",
              "       405, 177,  18, 251,  67, 127, 347, 131, 511, 205, 338, 429, 121,\n",
              "       244, 447, 265, 329, 247,  12, 374, 458, 346,  73, 288, 323, 449,\n",
              "       120, 353, 523, 373, 468, 474, 470,  28, 250, 514, 287, 235, 148,\n",
              "       111, 414, 344, 318, 490, 345, 192,   1, 370, 505, 292,  14, 503,\n",
              "        32, 409, 403, 278, 377, 199, 219, 252, 281,  37, 317,  80, 193,\n",
              "       473, 240, 334, 524, 141, 263, 194, 216,  69, 361, 202, 497, 491,\n",
              "       495, 408, 140, 496, 430, 242, 437, 510, 465, 436, 133,  74, 392,\n",
              "       499, 478, 269,  11, 445, 389,  20, 464, 285, 476, 372, 354, 237,\n",
              "       381, 253, 112,  60, 453])"
            ]
          },
          "metadata": {},
          "execution_count": 49
        }
      ]
    },
    {
      "cell_type": "code",
      "source": [
        "data[\"User_ID\"] = le.fit_transform(data[\"User_ID\"])\n",
        "print(\"User_ID\", le.classes_)"
      ],
      "metadata": {
        "colab": {
          "base_uri": "https://localhost:8080/"
        },
        "id": "ISxGW_7E7RHn",
        "outputId": "bf234ac6-c7c7-43cc-bb83-6bb78e776969"
      },
      "execution_count": null,
      "outputs": [
        {
          "output_type": "stream",
          "name": "stdout",
          "text": [
            "User_ID [1000001 1000002 1000003 ... 1006038 1006039 1006040]\n"
          ]
        }
      ]
    },
    {
      "cell_type": "code",
      "source": [
        "data[\"User_ID\"].unique()"
      ],
      "metadata": {
        "colab": {
          "base_uri": "https://localhost:8080/"
        },
        "id": "LZuKYBvw7jAG",
        "outputId": "e1bc05b9-133f-4db0-89db-4710f76eccf0"
      },
      "execution_count": null,
      "outputs": [
        {
          "output_type": "execute_result",
          "data": {
            "text/plain": [
              "array([   0,    3,    4, ..., 4062, 4098, 4189])"
            ]
          },
          "metadata": {},
          "execution_count": 51
        }
      ]
    },
    {
      "cell_type": "code",
      "source": [
        "data[\"Age\"] = le.fit_transform(data[\"Age\"])\n",
        "print(\"Age\", le.classes_)"
      ],
      "metadata": {
        "colab": {
          "base_uri": "https://localhost:8080/"
        },
        "id": "mxIq8DEg7nf-",
        "outputId": "27e631aa-acbd-4707-eb8e-6e2c2f0dc7e5"
      },
      "execution_count": null,
      "outputs": [
        {
          "output_type": "stream",
          "name": "stdout",
          "text": [
            "Age ['0-17' '18-25' '26-35' '36-45' '46-50' '51-55' '55+']\n"
          ]
        }
      ]
    },
    {
      "cell_type": "code",
      "source": [
        "data[\"Age\"].unique()"
      ],
      "metadata": {
        "colab": {
          "base_uri": "https://localhost:8080/"
        },
        "id": "8nLwWDnP7u-E",
        "outputId": "9afc83ec-6b90-45a7-d59c-571533aa8706"
      },
      "execution_count": null,
      "outputs": [
        {
          "output_type": "execute_result",
          "data": {
            "text/plain": [
              "array([0, 4, 2, 5, 3, 1, 6])"
            ]
          },
          "metadata": {},
          "execution_count": 53
        }
      ]
    },
    {
      "cell_type": "code",
      "source": [
        "# 0-17'  = 0\n",
        "# 18-25' = 4\n",
        "# 26-35'  = 2\n",
        "# 36-45'  = 55\n",
        "# 46-50' = 3\n",
        "# 51-55' = 1\n",
        "# 55+' = 6"
      ],
      "metadata": {
        "id": "3pgm8b2T9RJ0"
      },
      "execution_count": null,
      "outputs": []
    },
    {
      "cell_type": "code",
      "source": [
        "data.head()"
      ],
      "metadata": {
        "colab": {
          "base_uri": "https://localhost:8080/",
          "height": 270
        },
        "id": "Rs40ZcUz7xYZ",
        "outputId": "9dbb9ae7-94df-41f7-f45c-e0a141d47ce3"
      },
      "execution_count": null,
      "outputs": [
        {
          "output_type": "execute_result",
          "data": {
            "text/plain": [
              "    User_ID  Product_ID  Gender  Age  Occupation City_Category  \\\n",
              "1         0         391       0    0        10.0             A   \n",
              "6         3         284       1    4         7.0             B   \n",
              "13        4         211       1    2        20.0             A   \n",
              "14        5         363       0    5         9.0             A   \n",
              "16        5         517       0    5         9.0             A   \n",
              "\n",
              "    Stay_In_Current_City_Years  Marital_Status  Product_Category_1  \\\n",
              "1                          2.0             0.0                 1.0   \n",
              "6                          2.0             1.0                 1.0   \n",
              "13                         1.0             1.0                 1.0   \n",
              "14                         1.0             0.0                 5.0   \n",
              "16                         1.0             0.0                 2.0   \n",
              "\n",
              "    Product_Category_2  Product_Category_3  Purchase  \n",
              "1                  6.0                14.0   15200.0  \n",
              "6                  8.0                17.0   19215.0  \n",
              "13                 2.0                 5.0   15665.0  \n",
              "14                 8.0                14.0    5378.0  \n",
              "16                 3.0                 4.0   13055.0  "
            ],
            "text/html": [
              "\n",
              "  <div id=\"df-7daf8c61-1c3f-4e30-908a-f38806847223\">\n",
              "    <div class=\"colab-df-container\">\n",
              "      <div>\n",
              "<style scoped>\n",
              "    .dataframe tbody tr th:only-of-type {\n",
              "        vertical-align: middle;\n",
              "    }\n",
              "\n",
              "    .dataframe tbody tr th {\n",
              "        vertical-align: top;\n",
              "    }\n",
              "\n",
              "    .dataframe thead th {\n",
              "        text-align: right;\n",
              "    }\n",
              "</style>\n",
              "<table border=\"1\" class=\"dataframe\">\n",
              "  <thead>\n",
              "    <tr style=\"text-align: right;\">\n",
              "      <th></th>\n",
              "      <th>User_ID</th>\n",
              "      <th>Product_ID</th>\n",
              "      <th>Gender</th>\n",
              "      <th>Age</th>\n",
              "      <th>Occupation</th>\n",
              "      <th>City_Category</th>\n",
              "      <th>Stay_In_Current_City_Years</th>\n",
              "      <th>Marital_Status</th>\n",
              "      <th>Product_Category_1</th>\n",
              "      <th>Product_Category_2</th>\n",
              "      <th>Product_Category_3</th>\n",
              "      <th>Purchase</th>\n",
              "    </tr>\n",
              "  </thead>\n",
              "  <tbody>\n",
              "    <tr>\n",
              "      <th>1</th>\n",
              "      <td>0</td>\n",
              "      <td>391</td>\n",
              "      <td>0</td>\n",
              "      <td>0</td>\n",
              "      <td>10.0</td>\n",
              "      <td>A</td>\n",
              "      <td>2.0</td>\n",
              "      <td>0.0</td>\n",
              "      <td>1.0</td>\n",
              "      <td>6.0</td>\n",
              "      <td>14.0</td>\n",
              "      <td>15200.0</td>\n",
              "    </tr>\n",
              "    <tr>\n",
              "      <th>6</th>\n",
              "      <td>3</td>\n",
              "      <td>284</td>\n",
              "      <td>1</td>\n",
              "      <td>4</td>\n",
              "      <td>7.0</td>\n",
              "      <td>B</td>\n",
              "      <td>2.0</td>\n",
              "      <td>1.0</td>\n",
              "      <td>1.0</td>\n",
              "      <td>8.0</td>\n",
              "      <td>17.0</td>\n",
              "      <td>19215.0</td>\n",
              "    </tr>\n",
              "    <tr>\n",
              "      <th>13</th>\n",
              "      <td>4</td>\n",
              "      <td>211</td>\n",
              "      <td>1</td>\n",
              "      <td>2</td>\n",
              "      <td>20.0</td>\n",
              "      <td>A</td>\n",
              "      <td>1.0</td>\n",
              "      <td>1.0</td>\n",
              "      <td>1.0</td>\n",
              "      <td>2.0</td>\n",
              "      <td>5.0</td>\n",
              "      <td>15665.0</td>\n",
              "    </tr>\n",
              "    <tr>\n",
              "      <th>14</th>\n",
              "      <td>5</td>\n",
              "      <td>363</td>\n",
              "      <td>0</td>\n",
              "      <td>5</td>\n",
              "      <td>9.0</td>\n",
              "      <td>A</td>\n",
              "      <td>1.0</td>\n",
              "      <td>0.0</td>\n",
              "      <td>5.0</td>\n",
              "      <td>8.0</td>\n",
              "      <td>14.0</td>\n",
              "      <td>5378.0</td>\n",
              "    </tr>\n",
              "    <tr>\n",
              "      <th>16</th>\n",
              "      <td>5</td>\n",
              "      <td>517</td>\n",
              "      <td>0</td>\n",
              "      <td>5</td>\n",
              "      <td>9.0</td>\n",
              "      <td>A</td>\n",
              "      <td>1.0</td>\n",
              "      <td>0.0</td>\n",
              "      <td>2.0</td>\n",
              "      <td>3.0</td>\n",
              "      <td>4.0</td>\n",
              "      <td>13055.0</td>\n",
              "    </tr>\n",
              "  </tbody>\n",
              "</table>\n",
              "</div>\n",
              "      <button class=\"colab-df-convert\" onclick=\"convertToInteractive('df-7daf8c61-1c3f-4e30-908a-f38806847223')\"\n",
              "              title=\"Convert this dataframe to an interactive table.\"\n",
              "              style=\"display:none;\">\n",
              "        \n",
              "  <svg xmlns=\"http://www.w3.org/2000/svg\" height=\"24px\"viewBox=\"0 0 24 24\"\n",
              "       width=\"24px\">\n",
              "    <path d=\"M0 0h24v24H0V0z\" fill=\"none\"/>\n",
              "    <path d=\"M18.56 5.44l.94 2.06.94-2.06 2.06-.94-2.06-.94-.94-2.06-.94 2.06-2.06.94zm-11 1L8.5 8.5l.94-2.06 2.06-.94-2.06-.94L8.5 2.5l-.94 2.06-2.06.94zm10 10l.94 2.06.94-2.06 2.06-.94-2.06-.94-.94-2.06-.94 2.06-2.06.94z\"/><path d=\"M17.41 7.96l-1.37-1.37c-.4-.4-.92-.59-1.43-.59-.52 0-1.04.2-1.43.59L10.3 9.45l-7.72 7.72c-.78.78-.78 2.05 0 2.83L4 21.41c.39.39.9.59 1.41.59.51 0 1.02-.2 1.41-.59l7.78-7.78 2.81-2.81c.8-.78.8-2.07 0-2.86zM5.41 20L4 18.59l7.72-7.72 1.47 1.35L5.41 20z\"/>\n",
              "  </svg>\n",
              "      </button>\n",
              "      \n",
              "  <style>\n",
              "    .colab-df-container {\n",
              "      display:flex;\n",
              "      flex-wrap:wrap;\n",
              "      gap: 12px;\n",
              "    }\n",
              "\n",
              "    .colab-df-convert {\n",
              "      background-color: #E8F0FE;\n",
              "      border: none;\n",
              "      border-radius: 50%;\n",
              "      cursor: pointer;\n",
              "      display: none;\n",
              "      fill: #1967D2;\n",
              "      height: 32px;\n",
              "      padding: 0 0 0 0;\n",
              "      width: 32px;\n",
              "    }\n",
              "\n",
              "    .colab-df-convert:hover {\n",
              "      background-color: #E2EBFA;\n",
              "      box-shadow: 0px 1px 2px rgba(60, 64, 67, 0.3), 0px 1px 3px 1px rgba(60, 64, 67, 0.15);\n",
              "      fill: #174EA6;\n",
              "    }\n",
              "\n",
              "    [theme=dark] .colab-df-convert {\n",
              "      background-color: #3B4455;\n",
              "      fill: #D2E3FC;\n",
              "    }\n",
              "\n",
              "    [theme=dark] .colab-df-convert:hover {\n",
              "      background-color: #434B5C;\n",
              "      box-shadow: 0px 1px 3px 1px rgba(0, 0, 0, 0.15);\n",
              "      filter: drop-shadow(0px 1px 2px rgba(0, 0, 0, 0.3));\n",
              "      fill: #FFFFFF;\n",
              "    }\n",
              "  </style>\n",
              "\n",
              "      <script>\n",
              "        const buttonEl =\n",
              "          document.querySelector('#df-7daf8c61-1c3f-4e30-908a-f38806847223 button.colab-df-convert');\n",
              "        buttonEl.style.display =\n",
              "          google.colab.kernel.accessAllowed ? 'block' : 'none';\n",
              "\n",
              "        async function convertToInteractive(key) {\n",
              "          const element = document.querySelector('#df-7daf8c61-1c3f-4e30-908a-f38806847223');\n",
              "          const dataTable =\n",
              "            await google.colab.kernel.invokeFunction('convertToInteractive',\n",
              "                                                     [key], {});\n",
              "          if (!dataTable) return;\n",
              "\n",
              "          const docLinkHtml = 'Like what you see? Visit the ' +\n",
              "            '<a target=\"_blank\" href=https://colab.research.google.com/notebooks/data_table.ipynb>data table notebook</a>'\n",
              "            + ' to learn more about interactive tables.';\n",
              "          element.innerHTML = '';\n",
              "          dataTable['output_type'] = 'display_data';\n",
              "          await google.colab.output.renderOutput(dataTable, element);\n",
              "          const docLink = document.createElement('div');\n",
              "          docLink.innerHTML = docLinkHtml;\n",
              "          element.appendChild(docLink);\n",
              "        }\n",
              "      </script>\n",
              "    </div>\n",
              "  </div>\n",
              "  "
            ]
          },
          "metadata": {},
          "execution_count": 55
        }
      ]
    },
    {
      "cell_type": "code",
      "source": [
        "data[\"City_Category\"] = le.fit_transform(data[\"City_Category\"])\n",
        "print(\"City_Category\", le.classes_)"
      ],
      "metadata": {
        "colab": {
          "base_uri": "https://localhost:8080/"
        },
        "id": "twx5igfV7y3O",
        "outputId": "d5dea072-6cd2-4c6e-ec45-c5e1303abb5f"
      },
      "execution_count": null,
      "outputs": [
        {
          "output_type": "stream",
          "name": "stdout",
          "text": [
            "City_Category ['A' 'B' 'C']\n"
          ]
        }
      ]
    },
    {
      "cell_type": "code",
      "source": [
        "data[\"City_Category\"].unique()"
      ],
      "metadata": {
        "colab": {
          "base_uri": "https://localhost:8080/"
        },
        "id": "CyPI3x-j76by",
        "outputId": "57504a72-c309-4b79-b09d-c31e105838d8"
      },
      "execution_count": null,
      "outputs": [
        {
          "output_type": "execute_result",
          "data": {
            "text/plain": [
              "array([0, 1, 2])"
            ]
          },
          "metadata": {},
          "execution_count": 57
        }
      ]
    },
    {
      "cell_type": "code",
      "source": [
        "# A - 0\n",
        "# B - 1\n",
        "# C - 2"
      ],
      "metadata": {
        "id": "QgSrofs49ImW"
      },
      "execution_count": null,
      "outputs": []
    },
    {
      "cell_type": "code",
      "source": [
        "data.head()"
      ],
      "metadata": {
        "colab": {
          "base_uri": "https://localhost:8080/",
          "height": 270
        },
        "id": "lXKZCDjp78l_",
        "outputId": "7ff51a31-05e7-423f-e3aa-a9f4a4b7fe45"
      },
      "execution_count": null,
      "outputs": [
        {
          "output_type": "execute_result",
          "data": {
            "text/plain": [
              "    User_ID  Product_ID  Gender  Age  Occupation  City_Category  \\\n",
              "1         0         391       0    0        10.0              0   \n",
              "6         3         284       1    4         7.0              1   \n",
              "13        4         211       1    2        20.0              0   \n",
              "14        5         363       0    5         9.0              0   \n",
              "16        5         517       0    5         9.0              0   \n",
              "\n",
              "    Stay_In_Current_City_Years  Marital_Status  Product_Category_1  \\\n",
              "1                          2.0             0.0                 1.0   \n",
              "6                          2.0             1.0                 1.0   \n",
              "13                         1.0             1.0                 1.0   \n",
              "14                         1.0             0.0                 5.0   \n",
              "16                         1.0             0.0                 2.0   \n",
              "\n",
              "    Product_Category_2  Product_Category_3  Purchase  \n",
              "1                  6.0                14.0   15200.0  \n",
              "6                  8.0                17.0   19215.0  \n",
              "13                 2.0                 5.0   15665.0  \n",
              "14                 8.0                14.0    5378.0  \n",
              "16                 3.0                 4.0   13055.0  "
            ],
            "text/html": [
              "\n",
              "  <div id=\"df-2b268110-dcb7-41b9-a61e-2a18bc59e7dc\">\n",
              "    <div class=\"colab-df-container\">\n",
              "      <div>\n",
              "<style scoped>\n",
              "    .dataframe tbody tr th:only-of-type {\n",
              "        vertical-align: middle;\n",
              "    }\n",
              "\n",
              "    .dataframe tbody tr th {\n",
              "        vertical-align: top;\n",
              "    }\n",
              "\n",
              "    .dataframe thead th {\n",
              "        text-align: right;\n",
              "    }\n",
              "</style>\n",
              "<table border=\"1\" class=\"dataframe\">\n",
              "  <thead>\n",
              "    <tr style=\"text-align: right;\">\n",
              "      <th></th>\n",
              "      <th>User_ID</th>\n",
              "      <th>Product_ID</th>\n",
              "      <th>Gender</th>\n",
              "      <th>Age</th>\n",
              "      <th>Occupation</th>\n",
              "      <th>City_Category</th>\n",
              "      <th>Stay_In_Current_City_Years</th>\n",
              "      <th>Marital_Status</th>\n",
              "      <th>Product_Category_1</th>\n",
              "      <th>Product_Category_2</th>\n",
              "      <th>Product_Category_3</th>\n",
              "      <th>Purchase</th>\n",
              "    </tr>\n",
              "  </thead>\n",
              "  <tbody>\n",
              "    <tr>\n",
              "      <th>1</th>\n",
              "      <td>0</td>\n",
              "      <td>391</td>\n",
              "      <td>0</td>\n",
              "      <td>0</td>\n",
              "      <td>10.0</td>\n",
              "      <td>0</td>\n",
              "      <td>2.0</td>\n",
              "      <td>0.0</td>\n",
              "      <td>1.0</td>\n",
              "      <td>6.0</td>\n",
              "      <td>14.0</td>\n",
              "      <td>15200.0</td>\n",
              "    </tr>\n",
              "    <tr>\n",
              "      <th>6</th>\n",
              "      <td>3</td>\n",
              "      <td>284</td>\n",
              "      <td>1</td>\n",
              "      <td>4</td>\n",
              "      <td>7.0</td>\n",
              "      <td>1</td>\n",
              "      <td>2.0</td>\n",
              "      <td>1.0</td>\n",
              "      <td>1.0</td>\n",
              "      <td>8.0</td>\n",
              "      <td>17.0</td>\n",
              "      <td>19215.0</td>\n",
              "    </tr>\n",
              "    <tr>\n",
              "      <th>13</th>\n",
              "      <td>4</td>\n",
              "      <td>211</td>\n",
              "      <td>1</td>\n",
              "      <td>2</td>\n",
              "      <td>20.0</td>\n",
              "      <td>0</td>\n",
              "      <td>1.0</td>\n",
              "      <td>1.0</td>\n",
              "      <td>1.0</td>\n",
              "      <td>2.0</td>\n",
              "      <td>5.0</td>\n",
              "      <td>15665.0</td>\n",
              "    </tr>\n",
              "    <tr>\n",
              "      <th>14</th>\n",
              "      <td>5</td>\n",
              "      <td>363</td>\n",
              "      <td>0</td>\n",
              "      <td>5</td>\n",
              "      <td>9.0</td>\n",
              "      <td>0</td>\n",
              "      <td>1.0</td>\n",
              "      <td>0.0</td>\n",
              "      <td>5.0</td>\n",
              "      <td>8.0</td>\n",
              "      <td>14.0</td>\n",
              "      <td>5378.0</td>\n",
              "    </tr>\n",
              "    <tr>\n",
              "      <th>16</th>\n",
              "      <td>5</td>\n",
              "      <td>517</td>\n",
              "      <td>0</td>\n",
              "      <td>5</td>\n",
              "      <td>9.0</td>\n",
              "      <td>0</td>\n",
              "      <td>1.0</td>\n",
              "      <td>0.0</td>\n",
              "      <td>2.0</td>\n",
              "      <td>3.0</td>\n",
              "      <td>4.0</td>\n",
              "      <td>13055.0</td>\n",
              "    </tr>\n",
              "  </tbody>\n",
              "</table>\n",
              "</div>\n",
              "      <button class=\"colab-df-convert\" onclick=\"convertToInteractive('df-2b268110-dcb7-41b9-a61e-2a18bc59e7dc')\"\n",
              "              title=\"Convert this dataframe to an interactive table.\"\n",
              "              style=\"display:none;\">\n",
              "        \n",
              "  <svg xmlns=\"http://www.w3.org/2000/svg\" height=\"24px\"viewBox=\"0 0 24 24\"\n",
              "       width=\"24px\">\n",
              "    <path d=\"M0 0h24v24H0V0z\" fill=\"none\"/>\n",
              "    <path d=\"M18.56 5.44l.94 2.06.94-2.06 2.06-.94-2.06-.94-.94-2.06-.94 2.06-2.06.94zm-11 1L8.5 8.5l.94-2.06 2.06-.94-2.06-.94L8.5 2.5l-.94 2.06-2.06.94zm10 10l.94 2.06.94-2.06 2.06-.94-2.06-.94-.94-2.06-.94 2.06-2.06.94z\"/><path d=\"M17.41 7.96l-1.37-1.37c-.4-.4-.92-.59-1.43-.59-.52 0-1.04.2-1.43.59L10.3 9.45l-7.72 7.72c-.78.78-.78 2.05 0 2.83L4 21.41c.39.39.9.59 1.41.59.51 0 1.02-.2 1.41-.59l7.78-7.78 2.81-2.81c.8-.78.8-2.07 0-2.86zM5.41 20L4 18.59l7.72-7.72 1.47 1.35L5.41 20z\"/>\n",
              "  </svg>\n",
              "      </button>\n",
              "      \n",
              "  <style>\n",
              "    .colab-df-container {\n",
              "      display:flex;\n",
              "      flex-wrap:wrap;\n",
              "      gap: 12px;\n",
              "    }\n",
              "\n",
              "    .colab-df-convert {\n",
              "      background-color: #E8F0FE;\n",
              "      border: none;\n",
              "      border-radius: 50%;\n",
              "      cursor: pointer;\n",
              "      display: none;\n",
              "      fill: #1967D2;\n",
              "      height: 32px;\n",
              "      padding: 0 0 0 0;\n",
              "      width: 32px;\n",
              "    }\n",
              "\n",
              "    .colab-df-convert:hover {\n",
              "      background-color: #E2EBFA;\n",
              "      box-shadow: 0px 1px 2px rgba(60, 64, 67, 0.3), 0px 1px 3px 1px rgba(60, 64, 67, 0.15);\n",
              "      fill: #174EA6;\n",
              "    }\n",
              "\n",
              "    [theme=dark] .colab-df-convert {\n",
              "      background-color: #3B4455;\n",
              "      fill: #D2E3FC;\n",
              "    }\n",
              "\n",
              "    [theme=dark] .colab-df-convert:hover {\n",
              "      background-color: #434B5C;\n",
              "      box-shadow: 0px 1px 3px 1px rgba(0, 0, 0, 0.15);\n",
              "      filter: drop-shadow(0px 1px 2px rgba(0, 0, 0, 0.3));\n",
              "      fill: #FFFFFF;\n",
              "    }\n",
              "  </style>\n",
              "\n",
              "      <script>\n",
              "        const buttonEl =\n",
              "          document.querySelector('#df-2b268110-dcb7-41b9-a61e-2a18bc59e7dc button.colab-df-convert');\n",
              "        buttonEl.style.display =\n",
              "          google.colab.kernel.accessAllowed ? 'block' : 'none';\n",
              "\n",
              "        async function convertToInteractive(key) {\n",
              "          const element = document.querySelector('#df-2b268110-dcb7-41b9-a61e-2a18bc59e7dc');\n",
              "          const dataTable =\n",
              "            await google.colab.kernel.invokeFunction('convertToInteractive',\n",
              "                                                     [key], {});\n",
              "          if (!dataTable) return;\n",
              "\n",
              "          const docLinkHtml = 'Like what you see? Visit the ' +\n",
              "            '<a target=\"_blank\" href=https://colab.research.google.com/notebooks/data_table.ipynb>data table notebook</a>'\n",
              "            + ' to learn more about interactive tables.';\n",
              "          element.innerHTML = '';\n",
              "          dataTable['output_type'] = 'display_data';\n",
              "          await google.colab.output.renderOutput(dataTable, element);\n",
              "          const docLink = document.createElement('div');\n",
              "          docLink.innerHTML = docLinkHtml;\n",
              "          element.appendChild(docLink);\n",
              "        }\n",
              "      </script>\n",
              "    </div>\n",
              "  </div>\n",
              "  "
            ]
          },
          "metadata": {},
          "execution_count": 59
        }
      ]
    },
    {
      "cell_type": "code",
      "source": [
        "#Five number summary\n",
        "\n",
        "data.describe()"
      ],
      "metadata": {
        "colab": {
          "base_uri": "https://localhost:8080/",
          "height": 364
        },
        "id": "XVxpnEls7-Ae",
        "outputId": "48d2ee9f-cc4e-4e06-f891-3b7ef7969ccd"
      },
      "execution_count": null,
      "outputs": [
        {
          "output_type": "execute_result",
          "data": {
            "text/plain": [
              "            User_ID    Product_ID        Gender           Age    Occupation  \\\n",
              "count  80582.000000  80582.000000  80582.000000  80582.000000  80582.000000   \n",
              "mean    2785.306930    229.309585      0.776216      2.451540      8.173426   \n",
              "std     1610.765451    144.593979      0.416782      1.338429      6.487913   \n",
              "min        0.000000      0.000000      0.000000      0.000000      0.000000   \n",
              "25%     1387.000000    110.000000      1.000000      2.000000      2.000000   \n",
              "50%     2828.000000    206.000000      1.000000      2.000000      7.000000   \n",
              "75%     4092.000000    351.000000      1.000000      3.000000     14.000000   \n",
              "max     5696.000000    524.000000      1.000000      6.000000     20.000000   \n",
              "\n",
              "       City_Category  Stay_In_Current_City_Years  Marital_Status  \\\n",
              "count   80582.000000                80582.000000    80582.000000   \n",
              "mean        1.087513                    1.860775        0.401752   \n",
              "std         0.758965                    1.285501        0.490255   \n",
              "min         0.000000                    0.000000        0.000000   \n",
              "25%         1.000000                    1.000000        0.000000   \n",
              "50%         1.000000                    2.000000        0.000000   \n",
              "75%         2.000000                    3.000000        1.000000   \n",
              "max         2.000000                    4.000000        1.000000   \n",
              "\n",
              "       Product_Category_1  Product_Category_2  Product_Category_3  \\\n",
              "count        80582.000000        80582.000000        80582.000000   \n",
              "mean             2.738366            6.892085           12.658298   \n",
              "std              2.563225            4.498417            4.129156   \n",
              "min              1.000000            2.000000            3.000000   \n",
              "25%              1.000000            2.000000            9.000000   \n",
              "50%              1.000000            6.000000           14.000000   \n",
              "75%              4.000000           10.000000           16.000000   \n",
              "max             15.000000           16.000000           18.000000   \n",
              "\n",
              "           Purchase  \n",
              "count  80582.000000  \n",
              "mean   11628.183279  \n",
              "std     5069.515441  \n",
              "min      186.000000  \n",
              "25%     7868.000000  \n",
              "50%    11744.500000  \n",
              "75%    15610.000000  \n",
              "max    23958.000000  "
            ],
            "text/html": [
              "\n",
              "  <div id=\"df-79150e62-3925-4b35-a3c1-26ed4b1aad14\">\n",
              "    <div class=\"colab-df-container\">\n",
              "      <div>\n",
              "<style scoped>\n",
              "    .dataframe tbody tr th:only-of-type {\n",
              "        vertical-align: middle;\n",
              "    }\n",
              "\n",
              "    .dataframe tbody tr th {\n",
              "        vertical-align: top;\n",
              "    }\n",
              "\n",
              "    .dataframe thead th {\n",
              "        text-align: right;\n",
              "    }\n",
              "</style>\n",
              "<table border=\"1\" class=\"dataframe\">\n",
              "  <thead>\n",
              "    <tr style=\"text-align: right;\">\n",
              "      <th></th>\n",
              "      <th>User_ID</th>\n",
              "      <th>Product_ID</th>\n",
              "      <th>Gender</th>\n",
              "      <th>Age</th>\n",
              "      <th>Occupation</th>\n",
              "      <th>City_Category</th>\n",
              "      <th>Stay_In_Current_City_Years</th>\n",
              "      <th>Marital_Status</th>\n",
              "      <th>Product_Category_1</th>\n",
              "      <th>Product_Category_2</th>\n",
              "      <th>Product_Category_3</th>\n",
              "      <th>Purchase</th>\n",
              "    </tr>\n",
              "  </thead>\n",
              "  <tbody>\n",
              "    <tr>\n",
              "      <th>count</th>\n",
              "      <td>80582.000000</td>\n",
              "      <td>80582.000000</td>\n",
              "      <td>80582.000000</td>\n",
              "      <td>80582.000000</td>\n",
              "      <td>80582.000000</td>\n",
              "      <td>80582.000000</td>\n",
              "      <td>80582.000000</td>\n",
              "      <td>80582.000000</td>\n",
              "      <td>80582.000000</td>\n",
              "      <td>80582.000000</td>\n",
              "      <td>80582.000000</td>\n",
              "      <td>80582.000000</td>\n",
              "    </tr>\n",
              "    <tr>\n",
              "      <th>mean</th>\n",
              "      <td>2785.306930</td>\n",
              "      <td>229.309585</td>\n",
              "      <td>0.776216</td>\n",
              "      <td>2.451540</td>\n",
              "      <td>8.173426</td>\n",
              "      <td>1.087513</td>\n",
              "      <td>1.860775</td>\n",
              "      <td>0.401752</td>\n",
              "      <td>2.738366</td>\n",
              "      <td>6.892085</td>\n",
              "      <td>12.658298</td>\n",
              "      <td>11628.183279</td>\n",
              "    </tr>\n",
              "    <tr>\n",
              "      <th>std</th>\n",
              "      <td>1610.765451</td>\n",
              "      <td>144.593979</td>\n",
              "      <td>0.416782</td>\n",
              "      <td>1.338429</td>\n",
              "      <td>6.487913</td>\n",
              "      <td>0.758965</td>\n",
              "      <td>1.285501</td>\n",
              "      <td>0.490255</td>\n",
              "      <td>2.563225</td>\n",
              "      <td>4.498417</td>\n",
              "      <td>4.129156</td>\n",
              "      <td>5069.515441</td>\n",
              "    </tr>\n",
              "    <tr>\n",
              "      <th>min</th>\n",
              "      <td>0.000000</td>\n",
              "      <td>0.000000</td>\n",
              "      <td>0.000000</td>\n",
              "      <td>0.000000</td>\n",
              "      <td>0.000000</td>\n",
              "      <td>0.000000</td>\n",
              "      <td>0.000000</td>\n",
              "      <td>0.000000</td>\n",
              "      <td>1.000000</td>\n",
              "      <td>2.000000</td>\n",
              "      <td>3.000000</td>\n",
              "      <td>186.000000</td>\n",
              "    </tr>\n",
              "    <tr>\n",
              "      <th>25%</th>\n",
              "      <td>1387.000000</td>\n",
              "      <td>110.000000</td>\n",
              "      <td>1.000000</td>\n",
              "      <td>2.000000</td>\n",
              "      <td>2.000000</td>\n",
              "      <td>1.000000</td>\n",
              "      <td>1.000000</td>\n",
              "      <td>0.000000</td>\n",
              "      <td>1.000000</td>\n",
              "      <td>2.000000</td>\n",
              "      <td>9.000000</td>\n",
              "      <td>7868.000000</td>\n",
              "    </tr>\n",
              "    <tr>\n",
              "      <th>50%</th>\n",
              "      <td>2828.000000</td>\n",
              "      <td>206.000000</td>\n",
              "      <td>1.000000</td>\n",
              "      <td>2.000000</td>\n",
              "      <td>7.000000</td>\n",
              "      <td>1.000000</td>\n",
              "      <td>2.000000</td>\n",
              "      <td>0.000000</td>\n",
              "      <td>1.000000</td>\n",
              "      <td>6.000000</td>\n",
              "      <td>14.000000</td>\n",
              "      <td>11744.500000</td>\n",
              "    </tr>\n",
              "    <tr>\n",
              "      <th>75%</th>\n",
              "      <td>4092.000000</td>\n",
              "      <td>351.000000</td>\n",
              "      <td>1.000000</td>\n",
              "      <td>3.000000</td>\n",
              "      <td>14.000000</td>\n",
              "      <td>2.000000</td>\n",
              "      <td>3.000000</td>\n",
              "      <td>1.000000</td>\n",
              "      <td>4.000000</td>\n",
              "      <td>10.000000</td>\n",
              "      <td>16.000000</td>\n",
              "      <td>15610.000000</td>\n",
              "    </tr>\n",
              "    <tr>\n",
              "      <th>max</th>\n",
              "      <td>5696.000000</td>\n",
              "      <td>524.000000</td>\n",
              "      <td>1.000000</td>\n",
              "      <td>6.000000</td>\n",
              "      <td>20.000000</td>\n",
              "      <td>2.000000</td>\n",
              "      <td>4.000000</td>\n",
              "      <td>1.000000</td>\n",
              "      <td>15.000000</td>\n",
              "      <td>16.000000</td>\n",
              "      <td>18.000000</td>\n",
              "      <td>23958.000000</td>\n",
              "    </tr>\n",
              "  </tbody>\n",
              "</table>\n",
              "</div>\n",
              "      <button class=\"colab-df-convert\" onclick=\"convertToInteractive('df-79150e62-3925-4b35-a3c1-26ed4b1aad14')\"\n",
              "              title=\"Convert this dataframe to an interactive table.\"\n",
              "              style=\"display:none;\">\n",
              "        \n",
              "  <svg xmlns=\"http://www.w3.org/2000/svg\" height=\"24px\"viewBox=\"0 0 24 24\"\n",
              "       width=\"24px\">\n",
              "    <path d=\"M0 0h24v24H0V0z\" fill=\"none\"/>\n",
              "    <path d=\"M18.56 5.44l.94 2.06.94-2.06 2.06-.94-2.06-.94-.94-2.06-.94 2.06-2.06.94zm-11 1L8.5 8.5l.94-2.06 2.06-.94-2.06-.94L8.5 2.5l-.94 2.06-2.06.94zm10 10l.94 2.06.94-2.06 2.06-.94-2.06-.94-.94-2.06-.94 2.06-2.06.94z\"/><path d=\"M17.41 7.96l-1.37-1.37c-.4-.4-.92-.59-1.43-.59-.52 0-1.04.2-1.43.59L10.3 9.45l-7.72 7.72c-.78.78-.78 2.05 0 2.83L4 21.41c.39.39.9.59 1.41.59.51 0 1.02-.2 1.41-.59l7.78-7.78 2.81-2.81c.8-.78.8-2.07 0-2.86zM5.41 20L4 18.59l7.72-7.72 1.47 1.35L5.41 20z\"/>\n",
              "  </svg>\n",
              "      </button>\n",
              "      \n",
              "  <style>\n",
              "    .colab-df-container {\n",
              "      display:flex;\n",
              "      flex-wrap:wrap;\n",
              "      gap: 12px;\n",
              "    }\n",
              "\n",
              "    .colab-df-convert {\n",
              "      background-color: #E8F0FE;\n",
              "      border: none;\n",
              "      border-radius: 50%;\n",
              "      cursor: pointer;\n",
              "      display: none;\n",
              "      fill: #1967D2;\n",
              "      height: 32px;\n",
              "      padding: 0 0 0 0;\n",
              "      width: 32px;\n",
              "    }\n",
              "\n",
              "    .colab-df-convert:hover {\n",
              "      background-color: #E2EBFA;\n",
              "      box-shadow: 0px 1px 2px rgba(60, 64, 67, 0.3), 0px 1px 3px 1px rgba(60, 64, 67, 0.15);\n",
              "      fill: #174EA6;\n",
              "    }\n",
              "\n",
              "    [theme=dark] .colab-df-convert {\n",
              "      background-color: #3B4455;\n",
              "      fill: #D2E3FC;\n",
              "    }\n",
              "\n",
              "    [theme=dark] .colab-df-convert:hover {\n",
              "      background-color: #434B5C;\n",
              "      box-shadow: 0px 1px 3px 1px rgba(0, 0, 0, 0.15);\n",
              "      filter: drop-shadow(0px 1px 2px rgba(0, 0, 0, 0.3));\n",
              "      fill: #FFFFFF;\n",
              "    }\n",
              "  </style>\n",
              "\n",
              "      <script>\n",
              "        const buttonEl =\n",
              "          document.querySelector('#df-79150e62-3925-4b35-a3c1-26ed4b1aad14 button.colab-df-convert');\n",
              "        buttonEl.style.display =\n",
              "          google.colab.kernel.accessAllowed ? 'block' : 'none';\n",
              "\n",
              "        async function convertToInteractive(key) {\n",
              "          const element = document.querySelector('#df-79150e62-3925-4b35-a3c1-26ed4b1aad14');\n",
              "          const dataTable =\n",
              "            await google.colab.kernel.invokeFunction('convertToInteractive',\n",
              "                                                     [key], {});\n",
              "          if (!dataTable) return;\n",
              "\n",
              "          const docLinkHtml = 'Like what you see? Visit the ' +\n",
              "            '<a target=\"_blank\" href=https://colab.research.google.com/notebooks/data_table.ipynb>data table notebook</a>'\n",
              "            + ' to learn more about interactive tables.';\n",
              "          element.innerHTML = '';\n",
              "          dataTable['output_type'] = 'display_data';\n",
              "          await google.colab.output.renderOutput(dataTable, element);\n",
              "          const docLink = document.createElement('div');\n",
              "          docLink.innerHTML = docLinkHtml;\n",
              "          element.appendChild(docLink);\n",
              "        }\n",
              "      </script>\n",
              "    </div>\n",
              "  </div>\n",
              "  "
            ]
          },
          "metadata": {},
          "execution_count": 60
        }
      ]
    },
    {
      "cell_type": "code",
      "source": [
        "#Let us know difference between value_counts, unique and nunique\n",
        "\n",
        "data[\"Age\"].value_counts()"
      ],
      "metadata": {
        "id": "CcxAxce_8TPb",
        "colab": {
          "base_uri": "https://localhost:8080/"
        },
        "outputId": "3f7ca5e5-40e9-4fdf-e85e-38373984771a"
      },
      "execution_count": null,
      "outputs": [
        {
          "output_type": "execute_result",
          "data": {
            "text/plain": [
              "2    32313\n",
              "3    15908\n",
              "1    15321\n",
              "4     6365\n",
              "5     5489\n",
              "6     2829\n",
              "0     2357\n",
              "Name: Age, dtype: int64"
            ]
          },
          "metadata": {},
          "execution_count": 62
        }
      ]
    },
    {
      "cell_type": "code",
      "source": [
        "data[\"Age\"].unique()"
      ],
      "metadata": {
        "id": "H5bOuNiz8TSj",
        "colab": {
          "base_uri": "https://localhost:8080/"
        },
        "outputId": "f973a843-e2f3-4be3-91a4-94cc14611570"
      },
      "execution_count": null,
      "outputs": [
        {
          "output_type": "execute_result",
          "data": {
            "text/plain": [
              "array([0, 4, 2, 5, 3, 1, 6])"
            ]
          },
          "metadata": {},
          "execution_count": 63
        }
      ]
    },
    {
      "cell_type": "code",
      "source": [
        "data[\"Age\"].nunique()"
      ],
      "metadata": {
        "id": "P7dBJs3n8TWG",
        "colab": {
          "base_uri": "https://localhost:8080/"
        },
        "outputId": "ddc71a57-64fc-42a0-8cc8-839fc831090d"
      },
      "execution_count": null,
      "outputs": [
        {
          "output_type": "execute_result",
          "data": {
            "text/plain": [
              "7"
            ]
          },
          "metadata": {},
          "execution_count": 64
        }
      ]
    },
    {
      "cell_type": "code",
      "source": [
        "#Visualization to understand my data more properly and make inference\n",
        "\n"
      ],
      "metadata": {
        "id": "a_ysWkJ98TZG"
      },
      "execution_count": null,
      "outputs": []
    },
    {
      "cell_type": "code",
      "source": [
        "data.head()"
      ],
      "metadata": {
        "colab": {
          "base_uri": "https://localhost:8080/",
          "height": 270
        },
        "id": "X3p2vnnB_66n",
        "outputId": "40eb3352-df6f-421c-bc9b-ab89f8fb4b7b"
      },
      "execution_count": null,
      "outputs": [
        {
          "output_type": "execute_result",
          "data": {
            "text/plain": [
              "    User_ID  Product_ID  Gender  Age  Occupation  City_Category  \\\n",
              "1         0         391       0    0        10.0              0   \n",
              "6         3         284       1    4         7.0              1   \n",
              "13        4         211       1    2        20.0              0   \n",
              "14        5         363       0    5         9.0              0   \n",
              "16        5         517       0    5         9.0              0   \n",
              "\n",
              "    Stay_In_Current_City_Years  Marital_Status  Product_Category_1  \\\n",
              "1                          2.0             0.0                 1.0   \n",
              "6                          2.0             1.0                 1.0   \n",
              "13                         1.0             1.0                 1.0   \n",
              "14                         1.0             0.0                 5.0   \n",
              "16                         1.0             0.0                 2.0   \n",
              "\n",
              "    Product_Category_2  Product_Category_3  Purchase  \n",
              "1                  6.0                14.0   15200.0  \n",
              "6                  8.0                17.0   19215.0  \n",
              "13                 2.0                 5.0   15665.0  \n",
              "14                 8.0                14.0    5378.0  \n",
              "16                 3.0                 4.0   13055.0  "
            ],
            "text/html": [
              "\n",
              "  <div id=\"df-2dec0a60-4b3d-47f4-bc81-54e59952cd53\">\n",
              "    <div class=\"colab-df-container\">\n",
              "      <div>\n",
              "<style scoped>\n",
              "    .dataframe tbody tr th:only-of-type {\n",
              "        vertical-align: middle;\n",
              "    }\n",
              "\n",
              "    .dataframe tbody tr th {\n",
              "        vertical-align: top;\n",
              "    }\n",
              "\n",
              "    .dataframe thead th {\n",
              "        text-align: right;\n",
              "    }\n",
              "</style>\n",
              "<table border=\"1\" class=\"dataframe\">\n",
              "  <thead>\n",
              "    <tr style=\"text-align: right;\">\n",
              "      <th></th>\n",
              "      <th>User_ID</th>\n",
              "      <th>Product_ID</th>\n",
              "      <th>Gender</th>\n",
              "      <th>Age</th>\n",
              "      <th>Occupation</th>\n",
              "      <th>City_Category</th>\n",
              "      <th>Stay_In_Current_City_Years</th>\n",
              "      <th>Marital_Status</th>\n",
              "      <th>Product_Category_1</th>\n",
              "      <th>Product_Category_2</th>\n",
              "      <th>Product_Category_3</th>\n",
              "      <th>Purchase</th>\n",
              "    </tr>\n",
              "  </thead>\n",
              "  <tbody>\n",
              "    <tr>\n",
              "      <th>1</th>\n",
              "      <td>0</td>\n",
              "      <td>391</td>\n",
              "      <td>0</td>\n",
              "      <td>0</td>\n",
              "      <td>10.0</td>\n",
              "      <td>0</td>\n",
              "      <td>2.0</td>\n",
              "      <td>0.0</td>\n",
              "      <td>1.0</td>\n",
              "      <td>6.0</td>\n",
              "      <td>14.0</td>\n",
              "      <td>15200.0</td>\n",
              "    </tr>\n",
              "    <tr>\n",
              "      <th>6</th>\n",
              "      <td>3</td>\n",
              "      <td>284</td>\n",
              "      <td>1</td>\n",
              "      <td>4</td>\n",
              "      <td>7.0</td>\n",
              "      <td>1</td>\n",
              "      <td>2.0</td>\n",
              "      <td>1.0</td>\n",
              "      <td>1.0</td>\n",
              "      <td>8.0</td>\n",
              "      <td>17.0</td>\n",
              "      <td>19215.0</td>\n",
              "    </tr>\n",
              "    <tr>\n",
              "      <th>13</th>\n",
              "      <td>4</td>\n",
              "      <td>211</td>\n",
              "      <td>1</td>\n",
              "      <td>2</td>\n",
              "      <td>20.0</td>\n",
              "      <td>0</td>\n",
              "      <td>1.0</td>\n",
              "      <td>1.0</td>\n",
              "      <td>1.0</td>\n",
              "      <td>2.0</td>\n",
              "      <td>5.0</td>\n",
              "      <td>15665.0</td>\n",
              "    </tr>\n",
              "    <tr>\n",
              "      <th>14</th>\n",
              "      <td>5</td>\n",
              "      <td>363</td>\n",
              "      <td>0</td>\n",
              "      <td>5</td>\n",
              "      <td>9.0</td>\n",
              "      <td>0</td>\n",
              "      <td>1.0</td>\n",
              "      <td>0.0</td>\n",
              "      <td>5.0</td>\n",
              "      <td>8.0</td>\n",
              "      <td>14.0</td>\n",
              "      <td>5378.0</td>\n",
              "    </tr>\n",
              "    <tr>\n",
              "      <th>16</th>\n",
              "      <td>5</td>\n",
              "      <td>517</td>\n",
              "      <td>0</td>\n",
              "      <td>5</td>\n",
              "      <td>9.0</td>\n",
              "      <td>0</td>\n",
              "      <td>1.0</td>\n",
              "      <td>0.0</td>\n",
              "      <td>2.0</td>\n",
              "      <td>3.0</td>\n",
              "      <td>4.0</td>\n",
              "      <td>13055.0</td>\n",
              "    </tr>\n",
              "  </tbody>\n",
              "</table>\n",
              "</div>\n",
              "      <button class=\"colab-df-convert\" onclick=\"convertToInteractive('df-2dec0a60-4b3d-47f4-bc81-54e59952cd53')\"\n",
              "              title=\"Convert this dataframe to an interactive table.\"\n",
              "              style=\"display:none;\">\n",
              "        \n",
              "  <svg xmlns=\"http://www.w3.org/2000/svg\" height=\"24px\"viewBox=\"0 0 24 24\"\n",
              "       width=\"24px\">\n",
              "    <path d=\"M0 0h24v24H0V0z\" fill=\"none\"/>\n",
              "    <path d=\"M18.56 5.44l.94 2.06.94-2.06 2.06-.94-2.06-.94-.94-2.06-.94 2.06-2.06.94zm-11 1L8.5 8.5l.94-2.06 2.06-.94-2.06-.94L8.5 2.5l-.94 2.06-2.06.94zm10 10l.94 2.06.94-2.06 2.06-.94-2.06-.94-.94-2.06-.94 2.06-2.06.94z\"/><path d=\"M17.41 7.96l-1.37-1.37c-.4-.4-.92-.59-1.43-.59-.52 0-1.04.2-1.43.59L10.3 9.45l-7.72 7.72c-.78.78-.78 2.05 0 2.83L4 21.41c.39.39.9.59 1.41.59.51 0 1.02-.2 1.41-.59l7.78-7.78 2.81-2.81c.8-.78.8-2.07 0-2.86zM5.41 20L4 18.59l7.72-7.72 1.47 1.35L5.41 20z\"/>\n",
              "  </svg>\n",
              "      </button>\n",
              "      \n",
              "  <style>\n",
              "    .colab-df-container {\n",
              "      display:flex;\n",
              "      flex-wrap:wrap;\n",
              "      gap: 12px;\n",
              "    }\n",
              "\n",
              "    .colab-df-convert {\n",
              "      background-color: #E8F0FE;\n",
              "      border: none;\n",
              "      border-radius: 50%;\n",
              "      cursor: pointer;\n",
              "      display: none;\n",
              "      fill: #1967D2;\n",
              "      height: 32px;\n",
              "      padding: 0 0 0 0;\n",
              "      width: 32px;\n",
              "    }\n",
              "\n",
              "    .colab-df-convert:hover {\n",
              "      background-color: #E2EBFA;\n",
              "      box-shadow: 0px 1px 2px rgba(60, 64, 67, 0.3), 0px 1px 3px 1px rgba(60, 64, 67, 0.15);\n",
              "      fill: #174EA6;\n",
              "    }\n",
              "\n",
              "    [theme=dark] .colab-df-convert {\n",
              "      background-color: #3B4455;\n",
              "      fill: #D2E3FC;\n",
              "    }\n",
              "\n",
              "    [theme=dark] .colab-df-convert:hover {\n",
              "      background-color: #434B5C;\n",
              "      box-shadow: 0px 1px 3px 1px rgba(0, 0, 0, 0.15);\n",
              "      filter: drop-shadow(0px 1px 2px rgba(0, 0, 0, 0.3));\n",
              "      fill: #FFFFFF;\n",
              "    }\n",
              "  </style>\n",
              "\n",
              "      <script>\n",
              "        const buttonEl =\n",
              "          document.querySelector('#df-2dec0a60-4b3d-47f4-bc81-54e59952cd53 button.colab-df-convert');\n",
              "        buttonEl.style.display =\n",
              "          google.colab.kernel.accessAllowed ? 'block' : 'none';\n",
              "\n",
              "        async function convertToInteractive(key) {\n",
              "          const element = document.querySelector('#df-2dec0a60-4b3d-47f4-bc81-54e59952cd53');\n",
              "          const dataTable =\n",
              "            await google.colab.kernel.invokeFunction('convertToInteractive',\n",
              "                                                     [key], {});\n",
              "          if (!dataTable) return;\n",
              "\n",
              "          const docLinkHtml = 'Like what you see? Visit the ' +\n",
              "            '<a target=\"_blank\" href=https://colab.research.google.com/notebooks/data_table.ipynb>data table notebook</a>'\n",
              "            + ' to learn more about interactive tables.';\n",
              "          element.innerHTML = '';\n",
              "          dataTable['output_type'] = 'display_data';\n",
              "          await google.colab.output.renderOutput(dataTable, element);\n",
              "          const docLink = document.createElement('div');\n",
              "          docLink.innerHTML = docLinkHtml;\n",
              "          element.appendChild(docLink);\n",
              "        }\n",
              "      </script>\n",
              "    </div>\n",
              "  </div>\n",
              "  "
            ]
          },
          "metadata": {},
          "execution_count": 66
        }
      ]
    },
    {
      "cell_type": "code",
      "source": [
        "#Hint :  i want to see if males are purchasing more or females\n",
        "\n",
        "sns.catplot(x = \"Gender\", y = \"User_ID\", data = data, kind = \"bar\")"
      ],
      "metadata": {
        "colab": {
          "base_uri": "https://localhost:8080/",
          "height": 524
        },
        "id": "MZyNgGzQ_9gG",
        "outputId": "a621fee2-6358-497a-8986-12db7b51df16"
      },
      "execution_count": null,
      "outputs": [
        {
          "output_type": "execute_result",
          "data": {
            "text/plain": [
              "<seaborn.axisgrid.FacetGrid at 0x7f3915e1ba90>"
            ]
          },
          "metadata": {},
          "execution_count": 69
        },
        {
          "output_type": "display_data",
          "data": {
            "text/plain": [
              "<Figure size 500x500 with 1 Axes>"
            ],
            "image/png": "[encoded data removed]"
          },
          "metadata": {}
        }
      ]
    },
    {
      "cell_type": "markdown",
      "source": [
        "# Amongest all the purchases made , majority of the purchases were made by Females"
      ],
      "metadata": {
        "id": "6Gc-izKhA_XT"
      }
    },
    {
      "cell_type": "code",
      "source": [
        "#Hint :  Now i want to compare age wise comparison on male and female\n",
        "\n",
        "sns.catplot( x = \"Age\", y = \"User_ID\", hue = \"Gender\", kind = \"bar\", data = data)"
      ],
      "metadata": {
        "colab": {
          "base_uri": "https://localhost:8080/",
          "height": 524
        },
        "id": "S0uVdO7GA-wi",
        "outputId": "912bf54d-48cf-4a6a-9862-85eba0684bfb"
      },
      "execution_count": null,
      "outputs": [
        {
          "output_type": "execute_result",
          "data": {
            "text/plain": [
              "<seaborn.axisgrid.FacetGrid at 0x7f3915e1aef0>"
            ]
          },
          "metadata": {},
          "execution_count": 70
        },
        {
          "output_type": "display_data",
          "data": {
            "text/plain": [
              "<Figure size 562.236x500 with 1 Axes>"
            ],
            "image/png": "[encoded data removed]"
          },
          "metadata": {}
        }
      ]
    },
    {
      "cell_type": "code",
      "source": [
        "# 0-17'  = 0\n",
        "# 18-25' = 4\n",
        "# 26-35'  = 2\n",
        "# 36-45'  = 55\n",
        "# 46-50' = 3\n",
        "# 51-55' = 1\n",
        "# 55+' = 6"
      ],
      "metadata": {
        "id": "bxTdwo4PAlAY"
      },
      "execution_count": null,
      "outputs": []
    },
    {
      "cell_type": "markdown",
      "source": [
        "1.  Females from the age group 18-25(4) is the highest active in purchasing,\n",
        "\n",
        "2. Malesfrom the age group 18-25(4) and 26-35(2) is the highest active in purchasing,"
      ],
      "metadata": {
        "id": "N0ptkbFhChhB"
      }
    },
    {
      "cell_type": "markdown",
      "source": [],
      "metadata": {
        "id": "X-4M6IWTChri"
      }
    },
    {
      "cell_type": "markdown",
      "source": [],
      "metadata": {
        "id": "59i3agctEXKw"
      }
    },
    {
      "cell_type": "code",
      "source": [
        "#Now i want to compare married and unmarried people\n",
        "\n",
        "sns.catplot(data = data, x = \"Marital_Status\" , y = \"User_ID\", hue = \"Gender\", kind = \"bar\" )"
      ],
      "metadata": {
        "colab": {
          "base_uri": "https://localhost:8080/",
          "height": 525
        },
        "id": "nezRUp7tEZvI",
        "outputId": "6fc950c8-e15f-4a59-ca24-44f81186a14e"
      },
      "execution_count": null,
      "outputs": [
        {
          "output_type": "execute_result",
          "data": {
            "text/plain": [
              "<seaborn.axisgrid.FacetGrid at 0x7f3915c18070>"
            ]
          },
          "metadata": {},
          "execution_count": 72
        },
        {
          "output_type": "display_data",
          "data": {
            "text/plain": [
              "<Figure size 562.236x500 with 1 Axes>"
            ],
            "image/png": "[encoded data removed]"
          },
          "metadata": {}
        }
      ]
    },
    {
      "cell_type": "markdown",
      "source": [
        "# The gender ration of males and females are almost equal for unmarried people, but once the girls get married her expenses increases"
      ],
      "metadata": {
        "id": "cezXFU2WFVkQ"
      }
    },
    {
      "cell_type": "code",
      "source": [
        "#Frequency of product category 1\n",
        "\n",
        "plt.figure(figsize = (10,5))\n",
        "\n",
        "sns.countplot(x = data[\"Product_Category_1\"])"
      ],
      "metadata": {
        "colab": {
          "base_uri": "https://localhost:8080/",
          "height": 483
        },
        "id": "GeqOMPLAFUDh",
        "outputId": "79ae5400-151f-409e-bcb5-9ccc7fdb9c63"
      },
      "execution_count": null,
      "outputs": [
        {
          "output_type": "execute_result",
          "data": {
            "text/plain": [
              "<Axes: xlabel='Product_Category_1', ylabel='count'>"
            ]
          },
          "metadata": {},
          "execution_count": 73
        },
        {
          "output_type": "display_data",
          "data": {
            "text/plain": [
              "<Figure size 1000x500 with 1 Axes>"
            ],
            "image/png": "[encoded data removed]"
          },
          "metadata": {}
        }
      ]
    },
    {
      "cell_type": "code",
      "source": [
        "sns.countplot(x = data[\"Product_Category_2\"])"
      ],
      "metadata": {
        "colab": {
          "base_uri": "https://localhost:8080/",
          "height": 468
        },
        "id": "_JDX8XfXEron",
        "outputId": "eeb10e8f-cf09-4fe7-c1b4-4288f945b1c5"
      },
      "execution_count": null,
      "outputs": [
        {
          "output_type": "execute_result",
          "data": {
            "text/plain": [
              "<Axes: xlabel='Product_Category_2', ylabel='count'>"
            ]
          },
          "metadata": {},
          "execution_count": 74
        },
        {
          "output_type": "display_data",
          "data": {
            "text/plain": [
              "<Figure size 640x480 with 1 Axes>"
            ],
            "image/png": "[encoded data removed]"
          },
          "metadata": {}
        }
      ]
    },
    {
      "cell_type": "code",
      "source": [
        "sns.countplot(x = data[\"Product_Category_3\"])"
      ],
      "metadata": {
        "colab": {
          "base_uri": "https://localhost:8080/",
          "height": 468
        },
        "id": "cVbD_3bFLLe3",
        "outputId": "d606ce63-da0d-4e54-f54e-d9babb534ed3"
      },
      "execution_count": null,
      "outputs": [
        {
          "output_type": "execute_result",
          "data": {
            "text/plain": [
              "<Axes: xlabel='Product_Category_3', ylabel='count'>"
            ]
          },
          "metadata": {},
          "execution_count": 75
        },
        {
          "output_type": "display_data",
          "data": {
            "text/plain": [
              "<Figure size 640x480 with 1 Axes>"
            ],
            "image/png": "[encoded data removed]"
          },
          "metadata": {}
        }
      ]
    },
    {
      "cell_type": "code",
      "source": [
        "sns.countplot( x = data[\"Occupation\"])"
      ],
      "metadata": {
        "colab": {
          "base_uri": "https://localhost:8080/",
          "height": 467
        },
        "id": "P0fJct4DLOSF",
        "outputId": "349ad7d1-fe9d-4bbf-a830-23dcbbe725dd"
      },
      "execution_count": null,
      "outputs": [
        {
          "output_type": "execute_result",
          "data": {
            "text/plain": [
              "<Axes: xlabel='Occupation', ylabel='count'>"
            ]
          },
          "metadata": {},
          "execution_count": 77
        },
        {
          "output_type": "display_data",
          "data": {
            "text/plain": [
              "<Figure size 640x480 with 1 Axes>"
            ],
            "image/png": "[encoded data removed]"
          },
          "metadata": {}
        }
      ]
    },
    {
      "cell_type": "code",
      "source": [
        "sns.distplot(x = data[\"Purchase\"])"
      ],
      "metadata": {
        "colab": {
          "base_uri": "https://localhost:8080/",
          "height": 650
        },
        "id": "wxbYHZTLLb0P",
        "outputId": "273a0cd9-69ad-4d34-c3f1-33f56ded4be5"
      },
      "execution_count": null,
      "outputs": [
        {
          "output_type": "stream",
          "name": "stderr",
          "text": [
            "<ipython-input-78-bdd601a8c4a2>:1: UserWarning: \n",
            "\n",
            "`distplot` is a deprecated function and will be removed in seaborn v0.14.0.\n",
            "\n",
            "Please adapt your code to use either `displot` (a figure-level function with\n",
            "similar flexibility) or `histplot` (an axes-level function for histograms).\n",
            "\n",
            "For a guide to updating your code to use the new functions, please see\n",
            "https://gist.github.com/mwaskom/de44147ed2974457ad6372750bbe5751\n",
            "\n",
            "  sns.distplot(x = data[\"Purchase\"])\n"
          ]
        },
        {
          "output_type": "execute_result",
          "data": {
            "text/plain": [
              "<Axes: ylabel='Density'>"
            ]
          },
          "metadata": {},
          "execution_count": 78
        },
        {
          "output_type": "display_data",
          "data": {
            "text/plain": [
              "<Figure size 640x480 with 1 Axes>"
            ],
            "image/png": "[encoded data removed]"
          },
          "metadata": {}
        }
      ]
    },
    {
      "cell_type": "code",
      "source": [
        "# Purchases in not accumulated in a range , rather varies in different intervals"
      ],
      "metadata": {
        "id": "s-BuMknGLoPv"
      },
      "execution_count": null,
      "outputs": []
    },
    {
      "cell_type": "code",
      "source": [
        "#Checking correlation\n",
        "\n",
        "corr = data.corr()\n",
        "corr"
      ],
      "metadata": {
        "colab": {
          "base_uri": "https://localhost:8080/",
          "height": 489
        },
        "id": "EV0bTsg5MIar",
        "outputId": "607f09ad-6898-461b-9ac4-e1e938ffdeef"
      },
      "execution_count": null,
      "outputs": [
        {
          "output_type": "execute_result",
          "data": {
            "text/plain": [
              "                             User_ID  Product_ID    Gender       Age  \\\n",
              "User_ID                     1.000000   -0.008247 -0.031117  0.037451   \n",
              "Product_ID                 -0.008247    1.000000  0.014412  0.021192   \n",
              "Gender                     -0.031117    0.014412  1.000000 -0.008751   \n",
              "Age                         0.037451    0.021192 -0.008751  1.000000   \n",
              "Occupation                 -0.011876    0.007119  0.110055  0.100146   \n",
              "City_Category               0.019336   -0.025223 -0.002937  0.098402   \n",
              "Stay_In_Current_City_Years -0.027410   -0.003153  0.012817 -0.010013   \n",
              "Marital_Status              0.015240    0.010618 -0.010459  0.311430   \n",
              "Product_Category_1          0.007023    0.019471 -0.069258  0.052910   \n",
              "Product_Category_2          0.007372    0.024563 -0.016422  0.047808   \n",
              "Product_Category_3          0.002163    0.019219  0.033820  0.054444   \n",
              "Purchase                    0.000603   -0.108025  0.060034  0.023078   \n",
              "\n",
              "                            Occupation  City_Category  \\\n",
              "User_ID                      -0.011876       0.019336   \n",
              "Product_ID                    0.007119      -0.025223   \n",
              "Gender                        0.110055      -0.002937   \n",
              "Age                           0.100146       0.098402   \n",
              "Occupation                    1.000000       0.038839   \n",
              "City_Category                 0.038839       1.000000   \n",
              "Stay_In_Current_City_Years    0.025064       0.015376   \n",
              "Marital_Status                0.031437       0.043686   \n",
              "Product_Category_1           -0.013515      -0.020706   \n",
              "Product_Category_2            0.000714      -0.004918   \n",
              "Product_Category_3            0.013637      -0.000876   \n",
              "Purchase                      0.022187       0.076327   \n",
              "\n",
              "                            Stay_In_Current_City_Years  Marital_Status  \\\n",
              "User_ID                                      -0.027410        0.015240   \n",
              "Product_ID                                   -0.003153        0.010618   \n",
              "Gender                                        0.012817       -0.010459   \n",
              "Age                                          -0.010013        0.311430   \n",
              "Occupation                                    0.025064        0.031437   \n",
              "City_Category                                 0.015376        0.043686   \n",
              "Stay_In_Current_City_Years                    1.000000       -0.015000   \n",
              "Marital_Status                               -0.015000        1.000000   \n",
              "Product_Category_1                           -0.006038        0.016434   \n",
              "Product_Category_2                           -0.000815        0.011027   \n",
              "Product_Category_3                            0.000347        0.016609   \n",
              "Purchase                                      0.003687        0.008585   \n",
              "\n",
              "                            Product_Category_1  Product_Category_2  \\\n",
              "User_ID                               0.007023            0.007372   \n",
              "Product_ID                            0.019471            0.024563   \n",
              "Gender                               -0.069258           -0.016422   \n",
              "Age                                   0.052910            0.047808   \n",
              "Occupation                           -0.013515            0.000714   \n",
              "City_Category                        -0.020706           -0.004918   \n",
              "Stay_In_Current_City_Years           -0.006038           -0.000815   \n",
              "Marital_Status                        0.016434            0.011027   \n",
              "Product_Category_1                    1.000000            0.496955   \n",
              "Product_Category_2                    0.496955            1.000000   \n",
              "Product_Category_3                    0.229194            0.545300   \n",
              "Purchase                             -0.399093           -0.152532   \n",
              "\n",
              "                            Product_Category_3  Purchase  \n",
              "User_ID                               0.002163  0.000603  \n",
              "Product_ID                            0.019219 -0.108025  \n",
              "Gender                                0.033820  0.060034  \n",
              "Age                                   0.054444  0.023078  \n",
              "Occupation                            0.013637  0.022187  \n",
              "City_Category                        -0.000876  0.076327  \n",
              "Stay_In_Current_City_Years            0.000347  0.003687  \n",
              "Marital_Status                        0.016609  0.008585  \n",
              "Product_Category_1                    0.229194 -0.399093  \n",
              "Product_Category_2                    0.545300 -0.152532  \n",
              "Product_Category_3                    1.000000 -0.024676  \n",
              "Purchase                             -0.024676  1.000000  "
            ],
            "text/html": [
              "\n",
              "  <div id=\"df-0efca078-a64e-4277-919d-da93d6a826f4\">\n",
              "    <div class=\"colab-df-container\">\n",
              "      <div>\n",
              "<style scoped>\n",
              "    .dataframe tbody tr th:only-of-type {\n",
              "        vertical-align: middle;\n",
              "    }\n",
              "\n",
              "    .dataframe tbody tr th {\n",
              "        vertical-align: top;\n",
              "    }\n",
              "\n",
              "    .dataframe thead th {\n",
              "        text-align: right;\n",
              "    }\n",
              "</style>\n",
              "<table border=\"1\" class=\"dataframe\">\n",
              "  <thead>\n",
              "    <tr style=\"text-align: right;\">\n",
              "      <th></th>\n",
              "      <th>User_ID</th>\n",
              "      <th>Product_ID</th>\n",
              "      <th>Gender</th>\n",
              "      <th>Age</th>\n",
              "      <th>Occupation</th>\n",
              "      <th>City_Category</th>\n",
              "      <th>Stay_In_Current_City_Years</th>\n",
              "      <th>Marital_Status</th>\n",
              "      <th>Product_Category_1</th>\n",
              "      <th>Product_Category_2</th>\n",
              "      <th>Product_Category_3</th>\n",
              "      <th>Purchase</th>\n",
              "    </tr>\n",
              "  </thead>\n",
              "  <tbody>\n",
              "    <tr>\n",
              "      <th>User_ID</th>\n",
              "      <td>1.000000</td>\n",
              "      <td>-0.008247</td>\n",
              "      <td>-0.031117</td>\n",
              "      <td>0.037451</td>\n",
              "      <td>-0.011876</td>\n",
              "      <td>0.019336</td>\n",
              "      <td>-0.027410</td>\n",
              "      <td>0.015240</td>\n",
              "      <td>0.007023</td>\n",
              "      <td>0.007372</td>\n",
              "      <td>0.002163</td>\n",
              "      <td>0.000603</td>\n",
              "    </tr>\n",
              "    <tr>\n",
              "      <th>Product_ID</th>\n",
              "      <td>-0.008247</td>\n",
              "      <td>1.000000</td>\n",
              "      <td>0.014412</td>\n",
              "      <td>0.021192</td>\n",
              "      <td>0.007119</td>\n",
              "      <td>-0.025223</td>\n",
              "      <td>-0.003153</td>\n",
              "      <td>0.010618</td>\n",
              "      <td>0.019471</td>\n",
              "      <td>0.024563</td>\n",
              "      <td>0.019219</td>\n",
              "      <td>-0.108025</td>\n",
              "    </tr>\n",
              "    <tr>\n",
              "      <th>Gender</th>\n",
              "      <td>-0.031117</td>\n",
              "      <td>0.014412</td>\n",
              "      <td>1.000000</td>\n",
              "      <td>-0.008751</td>\n",
              "      <td>0.110055</td>\n",
              "      <td>-0.002937</td>\n",
              "      <td>0.012817</td>\n",
              "      <td>-0.010459</td>\n",
              "      <td>-0.069258</td>\n",
              "      <td>-0.016422</td>\n",
              "      <td>0.033820</td>\n",
              "      <td>0.060034</td>\n",
              "    </tr>\n",
              "    <tr>\n",
              "      <th>Age</th>\n",
              "      <td>0.037451</td>\n",
              "      <td>0.021192</td>\n",
              "      <td>-0.008751</td>\n",
              "      <td>1.000000</td>\n",
              "      <td>0.100146</td>\n",
              "      <td>0.098402</td>\n",
              "      <td>-0.010013</td>\n",
              "      <td>0.311430</td>\n",
              "      <td>0.052910</td>\n",
              "      <td>0.047808</td>\n",
              "      <td>0.054444</td>\n",
              "      <td>0.023078</td>\n",
              "    </tr>\n",
              "    <tr>\n",
              "      <th>Occupation</th>\n",
              "      <td>-0.011876</td>\n",
              "      <td>0.007119</td>\n",
              "      <td>0.110055</td>\n",
              "      <td>0.100146</td>\n",
              "      <td>1.000000</td>\n",
              "      <td>0.038839</td>\n",
              "      <td>0.025064</td>\n",
              "      <td>0.031437</td>\n",
              "      <td>-0.013515</td>\n",
              "      <td>0.000714</td>\n",
              "      <td>0.013637</td>\n",
              "      <td>0.022187</td>\n",
              "    </tr>\n",
              "    <tr>\n",
              "      <th>City_Category</th>\n",
              "      <td>0.019336</td>\n",
              "      <td>-0.025223</td>\n",
              "      <td>-0.002937</td>\n",
              "      <td>0.098402</td>\n",
              "      <td>0.038839</td>\n",
              "      <td>1.000000</td>\n",
              "      <td>0.015376</td>\n",
              "      <td>0.043686</td>\n",
              "      <td>-0.020706</td>\n",
              "      <td>-0.004918</td>\n",
              "      <td>-0.000876</td>\n",
              "      <td>0.076327</td>\n",
              "    </tr>\n",
              "    <tr>\n",
              "      <th>Stay_In_Current_City_Years</th>\n",
              "      <td>-0.027410</td>\n",
              "      <td>-0.003153</td>\n",
              "      <td>0.012817</td>\n",
              "      <td>-0.010013</td>\n",
              "      <td>0.025064</td>\n",
              "      <td>0.015376</td>\n",
              "      <td>1.000000</td>\n",
              "      <td>-0.015000</td>\n",
              "      <td>-0.006038</td>\n",
              "      <td>-0.000815</td>\n",
              "      <td>0.000347</td>\n",
              "      <td>0.003687</td>\n",
              "    </tr>\n",
              "    <tr>\n",
              "      <th>Marital_Status</th>\n",
              "      <td>0.015240</td>\n",
              "      <td>0.010618</td>\n",
              "      <td>-0.010459</td>\n",
              "      <td>0.311430</td>\n",
              "      <td>0.031437</td>\n",
              "      <td>0.043686</td>\n",
              "      <td>-0.015000</td>\n",
              "      <td>1.000000</td>\n",
              "      <td>0.016434</td>\n",
              "      <td>0.011027</td>\n",
              "      <td>0.016609</td>\n",
              "      <td>0.008585</td>\n",
              "    </tr>\n",
              "    <tr>\n",
              "      <th>Product_Category_1</th>\n",
              "      <td>0.007023</td>\n",
              "      <td>0.019471</td>\n",
              "      <td>-0.069258</td>\n",
              "      <td>0.052910</td>\n",
              "      <td>-0.013515</td>\n",
              "      <td>-0.020706</td>\n",
              "      <td>-0.006038</td>\n",
              "      <td>0.016434</td>\n",
              "      <td>1.000000</td>\n",
              "      <td>0.496955</td>\n",
              "      <td>0.229194</td>\n",
              "      <td>-0.399093</td>\n",
              "    </tr>\n",
              "    <tr>\n",
              "      <th>Product_Category_2</th>\n",
              "      <td>0.007372</td>\n",
              "      <td>0.024563</td>\n",
              "      <td>-0.016422</td>\n",
              "      <td>0.047808</td>\n",
              "      <td>0.000714</td>\n",
              "      <td>-0.004918</td>\n",
              "      <td>-0.000815</td>\n",
              "      <td>0.011027</td>\n",
              "      <td>0.496955</td>\n",
              "      <td>1.000000</td>\n",
              "      <td>0.545300</td>\n",
              "      <td>-0.152532</td>\n",
              "    </tr>\n",
              "    <tr>\n",
              "      <th>Product_Category_3</th>\n",
              "      <td>0.002163</td>\n",
              "      <td>0.019219</td>\n",
              "      <td>0.033820</td>\n",
              "      <td>0.054444</td>\n",
              "      <td>0.013637</td>\n",
              "      <td>-0.000876</td>\n",
              "      <td>0.000347</td>\n",
              "      <td>0.016609</td>\n",
              "      <td>0.229194</td>\n",
              "      <td>0.545300</td>\n",
              "      <td>1.000000</td>\n",
              "      <td>-0.024676</td>\n",
              "    </tr>\n",
              "    <tr>\n",
              "      <th>Purchase</th>\n",
              "      <td>0.000603</td>\n",
              "      <td>-0.108025</td>\n",
              "      <td>0.060034</td>\n",
              "      <td>0.023078</td>\n",
              "      <td>0.022187</td>\n",
              "      <td>0.076327</td>\n",
              "      <td>0.003687</td>\n",
              "      <td>0.008585</td>\n",
              "      <td>-0.399093</td>\n",
              "      <td>-0.152532</td>\n",
              "      <td>-0.024676</td>\n",
              "      <td>1.000000</td>\n",
              "    </tr>\n",
              "  </tbody>\n",
              "</table>\n",
              "</div>\n",
              "      <button class=\"colab-df-convert\" onclick=\"convertToInteractive('df-0efca078-a64e-4277-919d-da93d6a826f4')\"\n",
              "              title=\"Convert this dataframe to an interactive table.\"\n",
              "              style=\"display:none;\">\n",
              "        \n",
              "  <svg xmlns=\"http://www.w3.org/2000/svg\" height=\"24px\"viewBox=\"0 0 24 24\"\n",
              "       width=\"24px\">\n",
              "    <path d=\"M0 0h24v24H0V0z\" fill=\"none\"/>\n",
              "    <path d=\"M18.56 5.44l.94 2.06.94-2.06 2.06-.94-2.06-.94-.94-2.06-.94 2.06-2.06.94zm-11 1L8.5 8.5l.94-2.06 2.06-.94-2.06-.94L8.5 2.5l-.94 2.06-2.06.94zm10 10l.94 2.06.94-2.06 2.06-.94-2.06-.94-.94-2.06-.94 2.06-2.06.94z\"/><path d=\"M17.41 7.96l-1.37-1.37c-.4-.4-.92-.59-1.43-.59-.52 0-1.04.2-1.43.59L10.3 9.45l-7.72 7.72c-.78.78-.78 2.05 0 2.83L4 21.41c.39.39.9.59 1.41.59.51 0 1.02-.2 1.41-.59l7.78-7.78 2.81-2.81c.8-.78.8-2.07 0-2.86zM5.41 20L4 18.59l7.72-7.72 1.47 1.35L5.41 20z\"/>\n",
              "  </svg>\n",
              "      </button>\n",
              "      \n",
              "  <style>\n",
              "    .colab-df-container {\n",
              "      display:flex;\n",
              "      flex-wrap:wrap;\n",
              "      gap: 12px;\n",
              "    }\n",
              "\n",
              "    .colab-df-convert {\n",
              "      background-color: #E8F0FE;\n",
              "      border: none;\n",
              "      border-radius: 50%;\n",
              "      cursor: pointer;\n",
              "      display: none;\n",
              "      fill: #1967D2;\n",
              "      height: 32px;\n",
              "      padding: 0 0 0 0;\n",
              "      width: 32px;\n",
              "    }\n",
              "\n",
              "    .colab-df-convert:hover {\n",
              "      background-color: #E2EBFA;\n",
              "      box-shadow: 0px 1px 2px rgba(60, 64, 67, 0.3), 0px 1px 3px 1px rgba(60, 64, 67, 0.15);\n",
              "      fill: #174EA6;\n",
              "    }\n",
              "\n",
              "    [theme=dark] .colab-df-convert {\n",
              "      background-color: #3B4455;\n",
              "      fill: #D2E3FC;\n",
              "    }\n",
              "\n",
              "    [theme=dark] .colab-df-convert:hover {\n",
              "      background-color: #434B5C;\n",
              "      box-shadow: 0px 1px 3px 1px rgba(0, 0, 0, 0.15);\n",
              "      filter: drop-shadow(0px 1px 2px rgba(0, 0, 0, 0.3));\n",
              "      fill: #FFFFFF;\n",
              "    }\n",
              "  </style>\n",
              "\n",
              "      <script>\n",
              "        const buttonEl =\n",
              "          document.querySelector('#df-0efca078-a64e-4277-919d-da93d6a826f4 button.colab-df-convert');\n",
              "        buttonEl.style.display =\n",
              "          google.colab.kernel.accessAllowed ? 'block' : 'none';\n",
              "\n",
              "        async function convertToInteractive(key) {\n",
              "          const element = document.querySelector('#df-0efca078-a64e-4277-919d-da93d6a826f4');\n",
              "          const dataTable =\n",
              "            await google.colab.kernel.invokeFunction('convertToInteractive',\n",
              "                                                     [key], {});\n",
              "          if (!dataTable) return;\n",
              "\n",
              "          const docLinkHtml = 'Like what you see? Visit the ' +\n",
              "            '<a target=\"_blank\" href=https://colab.research.google.com/notebooks/data_table.ipynb>data table notebook</a>'\n",
              "            + ' to learn more about interactive tables.';\n",
              "          element.innerHTML = '';\n",
              "          dataTable['output_type'] = 'display_data';\n",
              "          await google.colab.output.renderOutput(dataTable, element);\n",
              "          const docLink = document.createElement('div');\n",
              "          docLink.innerHTML = docLinkHtml;\n",
              "          element.appendChild(docLink);\n",
              "        }\n",
              "      </script>\n",
              "    </div>\n",
              "  </div>\n",
              "  "
            ]
          },
          "metadata": {},
          "execution_count": 80
        }
      ]
    },
    {
      "cell_type": "code",
      "source": [
        "plt.figure(figsize = (20,15))\n",
        "sns.heatmap(corr, annot  = True, cmap = \"rainbow\")"
      ],
      "metadata": {
        "colab": {
          "base_uri": "https://localhost:8080/",
          "height": 1000
        },
        "id": "_JwLHKOHMYJ9",
        "outputId": "a87f947d-0841-40ec-bdcf-b214b4290bb8"
      },
      "execution_count": null,
      "outputs": [
        {
          "output_type": "execute_result",
          "data": {
            "text/plain": [
              "<Axes: >"
            ]
          },
          "metadata": {},
          "execution_count": 84
        },
        {
          "output_type": "display_data",
          "data": {
            "text/plain": [
              "<Figure size 2000x1500 with 2 Axes>"
            ],
            "image/png": "[encoded data removed]"
          },
          "metadata": {}
        }
      ]
    },
    {
      "cell_type": "markdown",
      "source": [
        "#Statistical Analysis"
      ],
      "metadata": {
        "id": "qDy8JEuxN30S"
      }
    },
    {
      "cell_type": "markdown",
      "source": [
        "# let's Suppose, it was observed that the average purchase made by the Men of the age 18-25 was 10000. Is it still the same?"
      ],
      "metadata": {
        "id": "wjBg6z6lODIs"
      }
    },
    {
      "cell_type": "markdown",
      "metadata": {
        "id": "psGXIaEUWoni"
      },
      "source": [
        "![image.png](data:image/png;base64,iVBORw0KGgoAAAANSUhEUgAABJoAAAKVCAYAAACH74FpAAAAAXNSR0IArs4c6QAAAARnQU1BAACxjwv8YQUAAAAJcEhZcwAAFiUAABYlAUlSJPAAAP+lSURBVHhe7N0JYBNl/j7wJ0nTchbBChRQLItyyS2ggBwiIKiA3AiuCIvw97eC7LIup+sui11vEXdXlGtVBBRQUBGqUEBQ7kO5qRyW+5RytU2T+b/vzCSZpJOjTQotPB8dOpnMPe+8M/PNO+9rOfTrEQVEREREREREREQhWCyA1WpVO5vVBqvNBpvexcTEwKII+rhERERERERERERB/XrkqBZcMgk0WfVxiIiIiIiIiIiIIsJAExERERERERERhU2+GydfkJP/yQ8ul0vtnE4nA01ERERERERERBQdDDQREREREREREVFUMNBERERERERERERRwUATERERERERERFFBQNNREREREREREQUFQw0ERERERERERFRVDDQREREREREREREUcFAExERERERERERRQUDTUREREREREREFBUMNBERERERERERUVQw0ERERERERERERFHBQBMREREREREREUUFA01ERERERERE11CO6K5s+hgXX6qK7L3faAOJbhAMNBERERERERFdQzGiy774G2zZF6FkXtQGEt0gGGgiIiIiIiIiuoYU0cXekgCL+OvMvKIOI7pRMNBEREREREREdA3JQBNcgMNqh8VxUfusuOQgoiKPgSYiIiIiIiKia82ZqQaYlOxL2l8LYNFCTkRFGgNNRERERERERNea8ypsyIHiyNQHWNVX6YiKOgaaiIiIiIiIiK4h9UHc6VDfoVMcWeorcyzLRDcKBpqIiIiIiIiIrjFrTo5WgsmVrQaaLIqMOskBREUbA01ERERERERE15AaT3JchVVxQXE6YJOfLWIo352jGwADTURERERERETXlAJX1mXxQO5UX6Gzqu/Qif9ZooluAAw0ERERERERERUIGTkydhr1U9ZFwCIeyXOy1dbmXLJflmoiKuIYaCIiIiIiIiKKOi1opLgUtdPei5O1MQlKDiwXT0Kx2GBxOcWYDDDRjYOBJiIiIiIiIqKos2Dzxn2Y9t9lmDH1Oyz7ajMyrzrUbxRHJiADTVYbIANNjDPRDYSBJiIiIiIiIqIoO3fuIr5dug3pR84hPf0cVq/agZ9/Pqh+55SvzWXLV+cssLq01ucssr4mtY+oaGOgiYiIiIiIiCjKzp7+DVevOmC3W2GLsSAmJhYHD57Qvrx8Eq7sy7BYLFCLM+nxJRZsohsBA01EREREREREUWaPtcNmcz9yK7BYrPjt/FXkyI/nDsKSdRGKGKbW4cQIE91AGGgiIiIiIiIiyidFVvCtyP9ltEi+/qZV+F2ubGkUi7NDybHBoiiQLctZxX+y8FL28T3ikw02xaV9Jzo5hsVdWXihF43IGKNrNyoGmoiIiIiIiIjyS7Egx6LAqYaJbHr4xIX4W0qicdMkKEo2crIVZOdkospdCWKMHDgPbUGMGNOqiOnEU7mcWns8L+x1NLmDQ2br6f5O/pUBs0CBJPmd3F43OZ78HGh8KmosiqD3ExEREREREVEeKC7AZc1B9uEfYIuNhzWxAWxKlnjajhFfWJC27xh+/vkQbOJju0fuh/3498j+eBiKOS/D6XQhp2Z7lOg3XczJps6vcJcGkS/+ydf9rDh9+jdkZWZr9UypLJDhhYTypVG8eDGcP5eBSxevqq8Musnvy9xSEvFliolPRSGwRoEcTj+qvhpqs9lgs9pgser9omOgiYiIiIiIiChf5OO0Ba6r53Hu/ccRm1gD9t5TEavkQL4k5w6yaC/Oib+Zv+Hyp0MRe3A1nLaSsDkuw9nk9yjx6CviezmWS3RawKlwcgeaLPj4fyn4Zf9pxMTI9bWIjbPBpWThiafaoPpdVZDyzQasWbUPsbEx4nst7JCT40SHhxujeata6jAZpNv58yHs33cEt1WIx71NaqFYcbta5sk34BZOQEpbhtyDhTtYd2MIFmji/iciIiIiIiLKFz0AkpOJ4lfPIcaVrb88J8NGOdpbYrITMg+swNWP+sF28Ec4Y4rDYpHBqGwgPlGfi6yjqbDTSyFZXFCUGLhcVm+nOMUwPegkuBSLGG4Tneh3jyPfE9RLQCni+x/W7sSnc9Zg6+Z0LP36ZyycvxLZDhnMEhOJ3ShfR5RdOGSASQ3WiWOg73K6ThhoIiIiIiIiIoqQYrUix5ENu5IDxWJXXynLslqQLZ66s376Alnzn0fMkY2wxMjAiQU2lwKHtSRst1RWp9fCKUXnEV3dCvGPsTPGhPy/c3fucTIuXMEPq/fDZisGe6wVcbFx2LfnFHbvShd7wSbfOkR22gpkrp2Cqz++J7qp+l+T7of/ImvLJ3CcPwqnNRYWGd2SkSq6LhhoIiIiIiIiIoqE1QprTCxsh9bh6pbPxIO2LJWjwHZ+P7K/eQnOxX9CiczzcNlvgdVlRYxLtjYHOG3FYYmvoM5Ce7lOj8JEjVa6qjAGXU4cO4VLly+LXSf2lbrpOVBcdvx66JT6vUtRkLPzG+DribCIfWj55m/6X//u77As+wcsX4xC5oy+yF4/A06LU8xS26OFcduNzEpfFe41Do2BJiIiIiIiIqJ8kq9ruezFkFOsNGzOq3Au/ScuzXoC52f/P1yeOQD29f+FTXFBsdrF3xw1lqSonQtWuw3W+ER9TpEGmcQyckUt5Dxl2KKQvEwmttm9Lo5ssWayymh1s+U/sjJx6K/OATHiszXGLroYKLElRFdS/2vS2UvAYrfDfvkI8M2LuLL6v2IOTjjFDBXFIfoLW+hGpBn5r8sh11Ltd3cKssV/8lhmFbq1DhcDTURERERERET5ZkGMvQSUW+5QP8W6rqD4wdUoue8bFLt0BFabHS61UnAFivrumCQDIOJPsVthLX6rNihiFly5moXP53+PubNTMe+TVMz9eBWWfrUeTqf8vnCFLcolxMMeUxyKK058EusmV8+SjdvKl1a/12j1VsmySVpF6Vo5Jd9ODtdraLLGwm5xwb76LWSlrYZV7G+nJUYdq1BR5AFRkH1iF7Lm/j9kfjpMdP8PVz/7fzi/4M9wndkHi9iWooqBJiIiIiIiIqJ8keWZFMBih+13bWDNyVRL6WTZS0OxFxNP3DFwiu+salkVI/HZpcBaKhGWuDL6sEhZ4HI6sXf3Cez86QR2/XxS/D2OtH2nIFuJKxRkUS416ONEYuVb8Lu7bkV2dpbYZxbk5LhQOj4Wde5JEt/77y8/LqfocmDRAzbqINgQo2TDYSspvnYh+8cPxGKuiH0v2/8rXEE2xSLWSq7SlfOw7VgM687PYdn1hej/HCV++hS2iyfV0FlRxUATERERERERUb7owQAFKFHvUTju6QqHvQSsSjZcjkxkO8UXMqCg2A3BDhmaskFRnLCUrQyLVbbUFg45vQzAyOBK4EBMjF12iqeTzc2rFUKFG7hwr2aBkOsgF2CDxWJF58eaovY9FVAsLgaJlcrg8R4P4NZyskRToJUQe1FMl1mmEhy3JCEnrgwUhxMO+UqeRe5hqxpssttcsKVvRtbJHfqeMs5P9suhsuU8l7o3c8QwF/L3ip3W2p6Yn3w9Us7TPe+g89JSg9Ui9kNMMZE8iouDpv3NsZcV2yg+e8YqeiyK+lJk0bDnpwN6X3TVrFdN78ufK5cz8esvx/RP0VOiVHHcUc39vi4REREREREVOuoTtfxHgdPpgPO3dCgZvyLnt1Nwnt4D27Y5iMm6rJZu0l7h0kIQiiMblnZ/RfFWI+QMgpBjy+CFnFZ06vLEX/nRz8WMK5j67yW4fCkHVqsFLpcT5cuXwZD/64iYGBnQMpnIh1yOXIC+rFzja+shAysfz1yJtP0nDfN1qRV493+qFarfVRnLvtmINSvTEBvrnU+Ow4mOj9ZH85Z11PHVepScVly+eBVxxeMQFxejDlPLxCgWXF4yHrb1M4FY+XqdILZHue0uxAx4Hy57OVgvnYHjp8Wwrn1XTBULmyVbHc0q1s8hS3F1fQXFGvSRYT0x1L0t+v4X41jEVDI4JTs1TKW+4ugeLzxOGTAUfy1qOR4xP3VyLXgo52pOkQXa4DrwPXI+ehLQWyIUKwWXxS627yPE3HmfOsfC6nD6UdhsVjWQabPaYLHq/aIrMoGmXw8cx9/+7x39U/TIQM7f/z1c/5Q/W37chSn/+Ej/FD2N7q+N514Uia4IWfPtZr3PSwbyEiqU1T8RERERERHdSGTgQtYSJMMVkrcciuP4Flz+8EnEOi7DLj576wpyIcdpQUzv/yCuVueA4Qg5hSfwIR/d1ZJJkh6Y8HPp0hW8N8UQaHI6UaFiGQx5thNsMdEIW0Qv0CRDEZ4qq1TuD2J/yu/Ef7kCTc4cOBPrwT74C8TYZHXhFmTJkkQr/w1LarIYT9ZrJIcq6utzaPcCirX8o/hsJNZTDNHCQzLQJMuX2dRhMszlO25o7tCcLBWlfZJzk5WZy4CZFnDKTW6jGPvgD3B82F+OLIgli4EuSyzsv58N2x1NimygyfaSoI9XqP28aR+2/rhL/xQ9zVrXR91779Y/5c/Pm/dhh+iirWnrehGXtrqWZMmuf478r3qcjF2Hbi3U0llEREREREQ3Jhna8IYoZNhJ1g2UvXUe7Pu+RYzVrkcwtHHka3Owl4CtxRBYS5bHb+cu4dyZi2qgSJZKyrhwFfZYG+z2GOz46RCWL9uKzRvTsH3bARw8cBw5DhfKli2tBo/cARs5j5PHL2D3riNw5rjEMG2d4orZUblKOVy+fEWdrngJLRijhce09Tl9+gJ27TiMbZsPYNuWX0T/IRw7dlYdr0x8SVjViIcxyKXgp22HcO7cZfGd/FIbJseo16Aqyt0aj1/SjuHXQ+dgs8nvtOW4XAqq352I2++4TWzHUXy5aD12/vwrft5+WHTasjPE9le9s6I6vmP/CliPboPYUPWzfD0NpSsgtmFvtYSYDOzI2VtuqQTH7i9hzb4iPujhGZcTlsr1Ya/2AGS7bhYlBy6LTR3uOLwByuaP4djwMZRt8+A4tEZ9hdF6azW4fvsVjrMH4Lp0As6Lx0V3DK4r52EpcavYp7L0kyDXQ1Y0fvk0XDsXImvLp3Bu+h+UnxfAcmoPrOXuhBIXD8epvVAu/ArnpZNwZhwTXbqYXswjtjRyTu9Ajtg2yy/fqwW45D6yWLSjolSqBafYZiXjKGylC+dbThcyLqrBTHn8ZUkwmd7UftEVmRJNc6Z+hZQv1uqfokeWGJIlhyIhSzPJUk3RFo11u5bkq42v/PUD/ZOmRMli+Pf8v+mfiIiIiIiIbmTa47UaLHBm4uKsJ2A/sl48fNtlXEIdrn7vykZO2STY//AFihVPwBcL12LbpoOIiXWKL+1wOp0YMLAtzp27gq8XbYLLqQUh1ICNfIS3uFDtdwl4vNcDiC9TUh30+aff46dth2Gzx4hxtOWo48t/rTnIcWSj0b3V0aV7SzFEW88LGVlI/W4jdu/8FZlXZV1DMvRkFRPIEjeKGjSoXr08One5D+VuLalPJ4Nb+SzRlONAx0caoXnL2ti2JQ2ffrIWdrss66XJyclBvYZ3os8TrdTtzF2iyQlXYh0UH/w5YCsmxpGvqtngyr4Ax7QesJzeI4Zr81PEvCwP/B+KtRuNHLX8kliHrAvIXJqMnJ8WIi7nApyWEmqdThbFistxCYjtJp5dj/0MfD8VSpy2vRaxzJzEBij+9BzYY4qJcZ1iOity0rfAuXgUlNN71a2Tx9Ym9p8YG5lVGqHUI5NwecEoFP/tF7GOslL4GOSIeRV/cCTi7h+ECx90g+XMLygh0oJTDdZp1HlbZJ1eWrCy1FixTYVQsBJN3q0p5M6cPK/3RVc06kCSr/UVhKJUmkky2w93/K6S3kdERERERHSj017LkuGYnGOboZzaCYvNApdVvqKlUYNNLjHerXchtvit+lAxjisGrpxiamdBHDZt2I8VKTvEQ7sddrsVMTF6Z7eJv3FI23sO3y3bpk8v2aC4YsUCtKCORi5VvkYWKzoZmNFLBoklnDt3CXM+/Bab1x+BI8uOGFucWoIqRl2WVprKZrVi/54zmPvRKrWUlTtgFA02q0XfFncnli3+Wm15CFPI6J3kyIKilmbSPmvltcTmxpZQP8sAkJKTiatLXoJ10/8Qi2w44uJhixH7xh4rjlFxlHKcgGvFm3D9ulk9ZjKgZHPlwKrIziHDa+p/LosVrhM/IefTYeL47lMr8YY4HpYYse/tYqn2eJRJ34bM1NcRk3lWrIRTrRw+znkJscolQOxTlzUWxZ2XUUx0MqhkZHc5UMJ5UYx/VSxTVlBe9BSZQFONetXQtX+7gJ1ZHUAyiGQ2rrGLtO4g+bpYi4camc7b3clSPf5kEMlsXHfXb+ijptMVZntNKmtnZeZERERERHTzkOVmZCjJhewdy1A8M0MMixOf3BWB64EQlwJ7hRrq2BpZn48LFqsYy5atll7avfMosjJFvy1Hn8zw+G5xIDbWigP7T+LCb5f1gfJ1OTmf3CxWh5hczEdfniw59OUXa3HsyCXExmmvPclAlXzlTpamysnRSjfJkk32OCdOHM/AyuXbxTjudXCv97WmQBHrKksxyUCSLPNjURRkHt4MZBwT26GtnxZeE2sZV1r9LNc3Z/McuLZ/DmtscTGVDTEulxhJPnPbkGOT+6ck7OePolj6RrhspWFXxDB3IEudmxYslAGtzKUvI+bCIbhiS6oVj2uhRUWsT6yYLhNOezHE7V+D2MwzYvY2OKyxcMkSP2IM9TjJck8WO3JEuhDfimEamUbUcWXpJ0usup1FUZEJNMl6froNeChgZ6bh/bVNxzV2kZLBILP5ursOj7dUg1H+2ofYHrm9RY1ZiSYZICQiIiIiIroZaOEGC3IyjsK1ZzkU/TWu2BwnXDIg4bKqYQaXtTisleuq32lseuxGzEEvkWSzyrqUYtSgj3zlTL4e5wnwKFbxvwvZOTm4mpmlD5X/ykCGCTG++r1FBpuAbZvTkLbvjFpSSltpK5zObNSsUwn9BrRDi1a1YZWv6rnixNc2yMI6O3ccxelTF9XptXVUV+jasipwZl1AVtr3cKT/COfub3El9TXkfPMPGS4Sq+UONMkXABUoJbSCJTmXTyD7x+mIka8EilVX5LZJspU6izg2FgscNpfYDRY4Y4qJeWWrwR65lbKTwSQ5hVP8c2XnV7AcWgslthTsSrZYjvhPzFTOV9YBJQNILjF/tVSUnIf4IkaRtUTZxPTyFUBxrNXFu8RwFxyG1+ZkgNLuyhLzE3tdppfrsIujocgEmoKRr9WZvVpXGF7bCvTKX2Eu6WMWGAsl4DFgiSYiIiIiIrpZ6IEB58+LEPvbQSiWWFicOcguVRFKiVsQ48qGTclGdskKsJYP3iiVy+VCjN2FatUroEatKqJflqjRAkXGR3mt0m+xTFcOnLKlNTU0YiRfy7PKBtu0YJUYZdOGNLVeHTdZiul3NW5Dr76txbIS0b5jI9zX8m4xjVYKSi7jamYm9u89rH7WNtR/OdeAJQYxv/0K57w/wPm/fnB9NhjWVW+g2OV0KGrl4BoZznPZi8FSRsYExF7bvxyW39Jht8qAkXwtTlGDRPIVRiXbiZjsbFgdOeIb7QC6/7qpW2uRASUx3vbP1PJpGhlgEvMQXYwjE/bsC4DjMiziOMtgllyWNpa7k0PktDZxvMQf8Y8MYnlZxBGORZZiF+lGrh9fnbtuAtWRVBjqOJIVZPuTr+tF8sqeDASt+XazWvH2Xwa+iv/r+Xc83WmM2smKyae/OV/9PlxyHb/4+Dv87f/eUeflnp97XvK7QOQ4cj3keGbkcPm97OS4RERERERENy4rXFdOwLF1nv607VJfikP7F4Cq98KhWGB1ZsJ26x2wlblDxnwE36CGJCvitsda0aPP/fj9oPZ44sk2uLdZDbXUkRn5htf9LWuha8+miIu1qNNrtIq7S99iQWLl4ihbtgSOHj2FUyczfAJN8vW86tWr4MKFy+K7Czh79gKSqlVCsZLa9Oo44r/Dh06KPjFvNX6iBVGuLStsrljEyv3jFNsp9rFiLyFWRdZNpYU3ZCDH5VTgKF8Ttoo15c6EI+1HxLmuItNaUv1evpqYrdhx+bZ7gEdehNL9X8ip1V4N/lh8Aj8apzUWVrG5rvNHYDm+R+wvQ5BOzFEe46x7esHZYyos7cchs2wdwJF7PiqxPrLi7JjO/4CrzZ9hdcmpteMl100tPVWuKhyV6kOpUEsdXtTcGIGmX47pfV6yJE1hqOMo2vUWyZb3/vLUK2oARwaIZCkiYwkk2fqdDDLJ72VLfcHIAJ07ULRo9nL1s9m85Hcy8OTf6p8cV44j18MsoCa5v3OvKxERERER0Y1HBhVccFmArJ+/gf30L2pLc07FAVdiLRSv8yhsDlkiyYlMlIT1zsZQbHHigVwGGWTARnHHGgRZAglIuC0ed91dRQ0+SJWryIrDfSuO1mgBnyq3l0fNOrfDahdTeOblhNOp4L77a+KPz3dHqwcb4uCBE3A6xAiGOJHVYkPqdz/hvSlfY9p7y/D+v5fi009WIydHvugnX/WyquOcO3MZ2Vnuup4CBFIKlHz1TUGOTUG2TZZgkq+3GV+HU+ASf3KsxRDb4hnE2OORk30RllP71P1tk63Uyb3usiGnVCJK9XgDJZo+g7j6v0epXh9Aafp7uHJyYHOJ/Sbm7WaVr75Z4wBxXJF1USzLHUpRYHG6kF27J+J7vILYet1RrOUfUbL/e3DedrfY/TIwKMYR03tpB6d40gOwV2sujpV3OfK45dhiEdf5RRR/5ksUf9q8QEdhd0MEmtJNSjQVlhbbzEpb3Z6PQJM7KCSDR+G+2iYDQ7KUkhk5v1deeF8NFIVLLttYuskswBdMUWtFj4iIiIiIKDTZ0px8WUt0l08CG2bCaZN1GymIceUgptkgyKb4HVcyYIcDMTYbYqq10MMNhmiPShsqyVJKWiXd2jhaX/BHeLUwjncWYgLtg9WmzUMGMk6e+E30yc/GEYEch+wsolPUfke2Pj+d+vrc1WxkZpqXqrpW5GtvMU5t31pdsgSQ7LRAjtVxGdkoBjz0V8TV7qSFwq6eVztZsbZ6lMRGOcV0MdVbILa8VmJI3RvWGBRrMRhXEuqI/SRbmfMGh+QLbfI4Oy+eEMvPUoeow2XpI3GsizXuKeZfQq1XSY4XUzYJtlZDRZ98TU/WwyQr9lYnUXn2vnw1zvcwqNsDW3ExjljfGK3VvKLmxijRFKVgTrQFrLcoj3VHyYBRoKCQLLUlAziBgjhy3/iXRJLrJOfnH7CS85KlrQLNS/3esO5m+z0YVgxOREREREQ3Fi1KIP+VlU9nb5oN25n9sFpdyFGcyKnUGPbaXYDLJ2DJOKYGHpRySYip1EAtLyNfR9MYohAq/8+54hF5ImMXGgWXMrLVV7f856gFtnw7Xxa9YnJ3PVHXR06MBdm2Ysiy2eEQXY6luOiKwaXYcSXxPsT1ehul7x8o9rVdrLECl+Mq4MzybJCscFv2WSrW8dkD6rBSVRBbqRZyXLIuJXegSTu6co+5ssUztP6Knkp8Jevest16p/pRW4LWip/tjqbIKZEAi5IjRrOoAa6weQ9YkVTkA00y2GEWzCkMpWcCBWLy8uqcDBKZlWKS8/jrK0Pw2v/+qv6V3b/n/810u/1f35OvwvnPr9/QR9V5/f3fw9V5zfwmWe03zm/wn3uh0f219U9Q++W4clozz734pGfdZFcYjgkREREREVH0aC+2yRp7HKd3wyJLM8WUQIySo7Va1nwobPZiwOl9sFw+CYdFjF+1GWyxpcSUMvDgjuYUcGBBX4ziUuBSgyj+5HCxzk6n6Fx+fw2dT6wk91yuBYt8ne++pxE35HPEPP0Z7IPmIWbQp4gZ/BlKP/UhYms+DEWxeirstsSWAGJKantblnySrwHKfvXVO3XLtTHFMZNi7DGwig11eV6dk0fKKqZVYIsT85KlmAzbrljt2vxkv96pLxdanXDaiovPNrXVObO9fqMq+oEmk9e3ZMmbSCrbjhbT0kzVEsNeNxmoWmRSEbcM2Pz11WfUv8Z6qGS/WdDHuB5ynv4Vhct16tCthc+8JHcwS85TdsYgkyS3w38d3OS0cnz5vbszG4+IiIiIiKjokmEK+UKWE5mr/w3l8nnYxDAlxwnL3Q8hrnZHNeiQfWg9rI5MtSSRrbr7tblr/zgul1+yVBzcFXxL6ptaMU50frQx+j/VCv2elF1rPPH7VuJzG/Qf2FrtBjzdGr2faIFSpYvrU+ahhE40ucQeLVcVceXroFil+ogVXZze2YqX1YI+Fi08JP+NKV4OllIJsCmZ4qMCp9gHVmTCef6oWmZJCzPlIMsSA6fjMpwn94kdIoNHhn0kY0TyNb1yleCKiRVz1Y6gjB1ZMi8g5/I5dWw51OISx17s1Jwzx2C/dEo/ynIK2adPd4Mr8oGmvT8f1Pu88vpqWkExrQg8D+tmVpJJBmxkSaFAQZtQr+pduXRV7/MKVeeTDELJLpDCfAyIiIiIiIgKiiylIkMIWT8vhk12tmKwurJxuXQSYtuOhM0aC+RcRs6+NYhVHMi5JQkxt9977cMN3rgIEm4rJT5qQRiNghhbDO6qWRnVa1TC3bVkVxlJv6uISpXLiq6c52/FxLKwytfu1IiKNvV14VO5dmBq0MleEq6KtcQksoJvWZm6C7LVuZw938FydrcYR4YGY9Q6nxwb/gfLsZ8AmzhuBlaxvbIlP+utSXCWKK8Gk1QWK2IyzyF7yzw4lWy1knCnNQbOC4eRs/IN2F1X1WHqqNd9p107RT7QZNbamSxNEy45vWyhLZwuVCtu/sxenatRN0nvC87dmpu/rv3bBQwyyeV961cfk9TQUBLJLKgkg1Ny+0IFnAIxC26Fu51ERERERERFiywDIyMPWrDB8Vs6cla8DovFCquSgxzFAnur/wdb+XvU75Xj24HTe+FUbLBUa4mYkuW1Cp+vBwtwe9Xb1DqE9DCMWvonK9OFI7+e8wyTm7dm9XZMfuNz/Pvtr/DvyV9hyluLMPejNeordWq8RGxP4SXDOu71s8BWtSmyLcXhkoEhxQWXrTjizu7C5TlDcSXlb7iS+hqufvwkLCteUwNpsiJwY6tzcoe4LE4opSvBVqEanOo7hDIVWOCMKYbYTbNw5ZMhuLLyVWQu+SuufDQQliMb4YqR9UfJuqLc5Z1uDkU60CQDI6ZBjnrh1wUkgznyVbJwukB1LpmR45qtW7ivza0Vy/Mnp5XbLINQ7k6ul2wJTrYuJyv49g9OyaCbLAXlZuw3kvP5v55/V1u2k/VChRt0kuOZvb5YGF5dJCIiIiIiKgiyRFCOxaaWVspMeRm282nqK1U5zky47nkMxe/to8YVZDzGcXgz7Fln4bAXh73mg+qrdPIVrutDQZU7EnDrbSXhLpQj10UGTJYu2YjU5VuxbWsa1qzZgY0b9iM7W7Y058TVKwouXXSiYqV4xMa5S/vI4EnhJfe9ymJB3J1NYSlZHjZnth7uEd/a4hB37hCsaz+AbeVbiDm4GrJxPhl4c4lja9OOlEq+9iZfh4PFDluN9nDprx7KFuVkJfCyZFNs2nLYUifDtuFjFDv/i1qaTavdybOj9b83viIdaArUvH5eSjSl5yF4lJf5Bqo7KtxXysyCWjJwJQNBxk6WRJKVe8vx/YNDcn1lXU7GElCyP1CwSZLBK1lyyx10kp+Dkevkv9xQyyAiIiIiIiqqZNBBfZVK9F/5cQZidn0FW0wc7I4MuG6rjZgOL4on7Tg1rOByZSH78BatEbHbaiKmanN1DtqA60FB8eLFcW/Tu5DjugpY9ICJxSKe61xI/XYPPv90I75d8jOuXrbAarWpgRcodhQrHodG99ZQx1c3XvunSLCWuR222h3gynEHmnRy++ziWIlOvi7nfs0tF7ETrOKIxsi/NdvDdUtVOGXF6uKzTS3ZZoFF1utkj4UlJlbM11ga6uZTtANNJsEYWZImL6Vp8lJKKS8lpczqLZLrFei1NyMZvDErDRUuGWCSr9j5B5ncZAXf8vtQZJBJBpuCvTJo+uoi62ciIiIiIqIiSYYh3J2R7zDFYoNz39dwfv8fWGxWKM4YZBYrj5hH/oG4+IpqSRZZgbTzyllYz+yHU4xvqfMobPZSaot0cnpfMpqTlxIv/utn5F5X9zjG+apRIzRuUgPV764IhyNLfBTrYlHUVtLssRbE2GXLaxb1MywyiGKFIycLje69A5WqlFPnojJdXf/tCLaeZjPwTq9tgayS2xu2kCWv5DDZuYeEQ77WaGs2CK4ylfWW88R8PKXKtL/qv4pL7ApZmbf4a5i31eVQy2+pZb/i74Dl/kGwiH0i10e2Lij3kUUecLXWcEmMrajfeubinZ/64qX4bE7bNve33nUoSop0oMm0su28lDo6YP56WyB5mbfZfMMt5RPOa2sygCQ7uU6yky28yeDR3/89XO26DXgoaFBLfj/zm2S1NblQgTn5Kp0sOWUm0mNARERERER0LchH9qzsHFzIuIKzZy/gzJnf1O633y7iytUsZDty4PKUNPIPA2jBAfe3Wce24MqSf6B49hnEKBY4rDbEPPRXxCW1VAMKsvSLnIPr4jHg8nEoZSrDfs8j2sSwqeP4cIkhTr2TMQoZ1VADIkZiHXJE59K7nBjx1z2yl/jK0ylOmzaOmL9G/rUgNi4G3XrcjyTx7JaT7YRLLFcNOKmBEr1TrGJaGxxZTtSoWREPPtRQzkAQM5ajeP4KsmSUWjrKPb34VwZa5P50D5KBHTFP9/dav9qj/iuDMnIUd/xHhmhsrizRiedjVw4sTtk5YHNmwqpogR/3tCGJfRR7a3XYOk2Ayx4DqyNbzFPsP/W7GLHqVlidYj9Y4+CMjYfDJf7KgJNcpli2bKXPKbZFBr1sFiuKN+oLZ/2ecGZfVoNQiqzTSWyW0yq3WayZ+OAsfov4LP5CTC9bohPHQR4TuebypTy5F9RtENPL7VK3UYxnc8oGvMQ08rsiShx3z5lU5Pxl4Ku5Ajoy2CKDKOEKty4iKVjgxkjO8y9PvZJr3rK1OBkQCkWWEnrlrx/onzRy2f+e/zf9U/TJZcpu7XdbTINkgZZvdgzC3U4iIiIiIqJrYc+eI9i6KQ1nz1xE5tUs5Did4uFfPAqLp32bzYbY2FjR2VCseAyKF49DyZIlUKpUcZQpUwylRRcfXwLFS5UQz0XFYblwFJfmD0SpY1uRFRMv5pMF6wN/REybsYiVT9d6HEXKPLkLmTP7wdZyGEq2/H9q8MCmhhfkSN4Rl371A37edgQxMbKkkwVOpwsVEsug/8CHYLVq4+3dnY7FC9chRq9ISHFppY/6PdkOt1UoI8ZQcDHjKj6a+R2uXsmR1QaJB34rcnIy8WCHBmjctKY6H6OszEz8uGY3tm89gt8uXIIzR66hOwDkEvsiFg0b3Ym27esirlicFtexKOqbf7OmLcP+vWc866wGR5QcPDm4Pe6+uzK+WbwBq1fsg72YN7iU43Cic5dGaNm6NrZtTsO8T36A3S5bgpOztYh1vYr6Ynm9+7cVyxLbszwZ2DpPbHNxdRwpW8lGTPsxKFmvl7Y62uCgtHJFCpxiGc693+DqindQ7ORPsLhsYmtdcMoamUqUha3DKLjOHQC2fA1rrEVdJxkAyqpQB/G934UlroTcfDjF/s9xXEH2yrfg3PIpYq6eR4ziLh0GXL6jFUq2GYary99FsUu/INtaUn3d0iamcbUejpLNBonNU5B96Ec4FoyEXewiWf5J7FlkxlhQovs7iKvSVF33cLbvejicflScO1b1/LHJVxCter/oimygSQY3ZJDDX2EIcsiSUrJybn+vzXohrNf6Am1buNNHSr4qJ0sx+ZOv3BlLZclAmqzLyd+1Wk8iIiIiIqJwvPPmIpw6liWe2l2w2HJgtVjV1sW01tfEA754Klab/FdcWr/4Rw0yWBQxnqIGdOzF41C6dHGUyjqF8ufXISHmFBKUEyhzb2fc0mkMYNOazncHauT8nLKUzPmDsJapLL4uqYYSNN7wgRwv86oDrhyt2X33+ljEcouXKK6vI5CdnY3sTLHuMmLhXobojStmF+snX98Sy8uxIDMrU8xTW47cBrnMmFg7YkWXm7a+V65k4sSJczh+7CwuXdQKTJQtVxp3JlXEbbeVkXEtnexxweWyYNP6fTh79pIeCBOd+pqdgkb31hTTlMbunQdx6OBJWG2ypJRWZ5HLmYOadSojqVolHE0/jZ+2HRbfa4Eo+Z+s0yqx0m2o3yhJHIocOLKvwuK4LJYh5yF3ihwnG0pcWdhjYqBY4zxhsaAUp3uPiP+tcF08i6yDq+A8uwMWsc+UUgmIrdYEMeUbICf7IqxiH8pXItU0IPemDKLE3QLFJoNPsrya2G/iK1nCKfvUTuQc2AhbxjG4xHhKwl2I+10buErfBuulk7BBvmIXK2YjSzSJ9CDXPa6EmK9Y8+wLyMnMgM3mDuKJeSrZcBa7DXFq/E6r66swuiEDTe76g/wVhiCHDNL412uUlxJJgQI4oYJoskTSt2LZDcU4jZrXyVUCS853yw870bJ9Y32IuXADXWbHoKBLXhEREREREeXVb+cv4dTJizhz5gxOnbig9p87m4HMqzmQ9ffIYI58bU6r19klHpblXyccrhjEuOQrVTGis4sHaJdax5LTVgxOqwMllCzcWu5WlLytJCpWKIU776iAxMq3iecib4DAKfpkqRktaCF4ozY6PcKgMvb7l3xyf5bjGMMr7uCWLGlkyT17n3makd/7z9PN+J17PoGW4+aeRo5gNpL4Touk6Z/9yTCZHEf8LwOC+lAjdU/IgyXrvtIGhSDDefI4aOsl/5WdcavkPOV6yW9lmjCS42jk994++WqgrBDcPR/J/VfGA+Uhdx8d9zK0+p9kj1wb+dKdBf5Vh6vjiW+01ywLp2CBJttLgj5ekbJ+1fZcFW7LuoEe6d1G/3T9LPl0FY4fOa1/0tS99240a11f/xScPTYGZ0/9lqui8gN70tUgkfzenwwyyaCPnGbrj7vUdZDzkCWQ3OPPn7lUdMvU739X6w6UKVtaHe5vj9ivG1b9pH/SyABSr0EP6580P2/ehx2iM3I4ctTKwBNvv00NbKUuWS+Wbw+4LCIiIiIiooJWrLgVtyaUwe13VEDN2neoJWZq17ldPKeUwOVLmeorc7eVj0dS9dvQ+N7f4f6WtVCvfhJq3F0JFaqWRzHLJeD8ESiWODgsJcXjvwMxsKoVQV+8lI2zJzPw68HT2PFzOn7+6SCOHTmnBhziSxdDrD1GDyy4tGhDrtCB8bN/v9ln4zDJ/TlQ8Md0oIHZPN2M33n/Bg4ySe5pAo0khgedgZi//E+ME2QOajAo2Fx8uefl/dc9rfGvukyTdXOPr83F2ye3Q/0re/06+Y/86w4ySep3cv76MuTUviEtjTqe+MY9XWF0IeOiWppNlgyUJQTldqn9oiuyJZrMmt6XQZjBf+qpf7p+zOot6tCthVrxdrgCldiSwbQWYjvdpZJ+/eWYGjha8+1mnzqhZGBo8J97eUpAmZWykvO4XcxPBqPkfOU6y+Uu+vg7n3lJZnVfmR0DM/6v3BEREREREV1bsnSIm/HRX9YblAOXS1F/oPcNMshHZQuUy8eQueB5ZB/chiNKVfxka4QDuAfZV2MRE6MXW3HPU7Gq83Iq2ZBVKZW7tRRq1qmIeg2qoUKFcmIUOa42X6Ki7IZ8dc4smCODTKFeCyto+X3tzUy4gRx/Msgkg1rufSHXyaxy8nDJINRfX31Gna+RrLBclqQKhZWDExERERFR4WAM8rgfhY1BH/1FJzV+JL934fzisSixcTpixOfMcjUR22k8TpVqgm+XbMKhA+cQEyPGV8eVE+nlU+RnxSKr5UFOjhPFiseh+t0V0bTZXbgjqbxaEsT7UhVR0RMs0FQkU7V8Pcw/yCQVhgqoAwVe8tPkvyyRlNfpZMkhOZ0x4OYOPOWHXL4MFPkHmaRw1+3KJdk8IxERERER0fVmDCrJfuNnyR0okmEjC5Scy8i5cBSuuHK4XHcAYp+cBXuNTqhSOQH9f98O9Rvegexs2YKdmE62OOaepxpwsoiHb4taUkoGm3b+fAQf/i8Fsz9Mwf69R+H0FLKSASfZEd0YimQdTT9v2qe+LmYkAyG9BnUyrb/oWjKrt0gGZPJTd5TclraPNDOtr8mfDLJ1HfCQWo+SWQBI1pskKwiXxUJDzUuS+7OnmNcTwx4LWL+SrOdJ1uUUrKSUDHzJ0kxshY6IiIiIiIoOGWZyAdZiKHZXMygNeqFEwx6wlqwgvlEgK/e2xVhx191V1Ob9jx47CUe2bKHOvCyHfGNOLcWkxODs6SvY+fNBHEk/gfgyxXHLLaXF90WyDAjdxG64OppkqSH/YIkMjFzv1+akglo3d/1J6YbSXDKgdGuFsmowRwZyzEodmZGBIdn6nJyXe11lqSM5D9nJVutkYCrc+cn6n2Tgzz0PqYZYJ3fdT0REREREREWNDCjJN+Bc4h/ZjL1sI0xtkUx0GlmCSXIhPf0MUpZsxq+HzsAmW6dTA07GUkqypJOBmIUzR4HN7kTNWpXRqm1DVEgsI77QWhojKuxuyDqaiIiIiIiIiAqe+5HZL1jkIb+3IDs7GxvX7cba1Xtw5ZITthhb4ElUFsjHcafTiRIlbWj9UB00bVYLVgsDTVT4MdBEREREREREVIDko7V8fejM6QtY+d127Np5BC6nXX3FDpZsMUKA1+NkiSmXS3ROtGxdB+07NhADZWkod51PRIUPA01ERERERERE14jicmHf3nSsSt2Fo+kZ4iHcqT6Mm7K4xATyOytcrkw8MaAt7qpVSXyWr9Fd3zqIiQK54VqdIyIiIiIiIiqcFPHQDdSoVRVP/6EDunZvhAoVysCZk4Mchyy95ICiyOCSDCLJCsLF/+Kzy5WD7Cwnzp+7rA3n4zoVUSzRRERERERERFSAsjJzsG/PUezZ9SvOnb2IS5czcfWqAsXlVGNKxYrFoWQpOypXKYuHOjZAyZJ2MRVfnaPCi6/OERERERERERFRVPDVOSIiIiIiIiIiKnAMNBERERERERERUVQw0ERERERERERERFHBQBMREREREREREUUFA01ERERERERERBQVDDQREREREREREVFUMNBERERERERERERRwUATERERERERERFFBQNNREREREREREQUFQw0ERERERERERFRVDDQREREREREREREUcFAExERERERERERRQUDTUREREREREREFBUMNBERERERERERUVQw0ERERERERERERFHBQBMREREREREREUWFRRH0/kLhwksl9D4iIiIiIiIioptTmZeu6H2Fz+H0o7DZrKKzwWa1wWLV+0XHEk1ERERERERERBQVDDQREREREREREVFUFLpX54iIiIiIiIiIqPDiq3NERERERERERFTgGGgiIiIiIiIiIqKoYKCJiIiIiIiIiIiigoEmIiIiIiIiIiKKCgaaiIiIiIiIiIgoKhhoIiIiIiIiIiKiqGCgiYiIiIiIiIiIooKBJiIiIiIiIiIiigoGmoiIiIiIiIiIKCoYaCIiIiIiIiIioqhgoImIiIiIiIiIiKKCgSYiIiIiIiIiIooKBpqIiIiIiIiIiCgqGGgiIiIiIiIiIqKoYKCJiIiIiIiIiIiigoEmIiIiIiIiIiKKCgaaiIiIiIiIiIgoKhhoIiIiIiIiIiKiqGCgiYiIiIiIiIiIooKBJiIiIiIiIiIiigoGmoiIiIiIiIiIKCosiqD3UyGgOHP0PiIiIiIiIiIKm8UCi9Wmf6CCdDj9KGw2q+hssIl9brHq/aJjoOk6yDx/DCe2LcHlk78g67fjyJTdee2v48oFfSwiIiIiIiIiyou4MuVR7JZE0VVCsbLybyLK3NkAFRp0htVm18eiSDHQVAhcPLJTDS6dFN3ZvWv1oURERERERERU0KwxcajYsLMacJJdXPxt+jeUHww0XUfHN32BfYtfwW8HN+tDvOLKVNAirXqUVXaxpRP0b4mIiIiIiIgoXIriQpb+tpCnE58dV37Tx/CqfF8v3P3YXxF/Rz19COUFA03Xwdk936sBplM/p+hDNLfe3QIV9ChqfJU6+lAiIiIiIiIiKghndqVqbxht/QaXTuzTh2qSHhqGu7v8FcXKVtaHUDgYaLqGZL1Lexb+HUd+mKsPAYrfegdurdECdfq+zMRLREREREREdJ1cOLwNR36ci7Sv39SHABZrjBpsqtnjb/oQCoWBpmvk1M/fYcvUp5F14aT62RZXUk2sshNJVx1GRERERERERNeXLCQi30L6dfUsfQhQvm57NBo6U61QnIJjoOkaOLTifWyf+Uf9E/C7TiNw92OjEVv6Vn0IERERERERERUm53/ZoAacTmz5Uv1cssLv1GBTubvuUz+TOQaaCtjOuaM9xe5kkbtGw2agyv191c9EREREREREVLjtmjcO+796TftgsaKxfK5v/oT2mXJhoKkA/fS/4Tj43Xtqf6mKd6HRsJko+7um6mciIiIiIiIiKhoOpU7D9hnP6p+AxsNmoUoLBpvMBAs0WfVxKB9++eZtT5CpfL2OeODFVQwyERERERERERVBd7b9A5qPXgqL1aZ+3jz1aZzbv07tp/Ax0JRPxzcvxo5PXlD7y1RtgKbD5yG2dIL6mYiIiIiIiIiKntvqPIj7X/ha+6AoPg1+UXgYaMqHjPSfseW9p9X+mOLxap1MtrgS6mciIiIiIiIiKrpksKnBoP+q/bJ1OhlsovAx0JQP22c9h5zMi2p/42EzEV/lHrWfiIiIiIiIiIq+qm0H465H/6L2n/r5O+ye/5LaT6Ex0JRH6Wtm49y+H9T+xMZdULHRY2o/EREREREREd04aveZpD73S/u//Beunjui9lNwDDTl0T6RuKTSlWuh6fPz1X4iIiIiIiIiuvHc1eWv6l/F5cL+xa+o/RQcA0158MvSd3Dp2F61/+7HtMRGRERERERERDemstWaoGprrY6mg8un4sKv29V+CoyBpjA5s69i/5da9PLWGi1RpcUTaj8RERERERER3bjcpZoklmoKjYGmMB3bsABZGafV/rsNiYyIiIiIiIiIblwly1fDXY+MUvuPrp+PrAsn1X4yx0BTmE5uW6L+lQmsfL2Oaj8RERERERER3fgqN++r9wEn9PgAmWOgKQyK4vIkpAoNO6t/iYiIiIiIiOjmUOaOeihdqabaf3IrA03BMNAUBlmayZl1Re2v2OAR9S8RERERERER3TwqNNAKnsgYgSsnS+2n3BhoCoM7Whlbqhxuu6ed2k9ERERERERENw/3G04upwMnWKopIAaawnD+wCb1b0yJMupfIiIiIiIiIrq5JNRspRZAkS4c2qr+pdwYaApD5m/H1b+VmnRX/xIRERERERHRzafYLYnqX3ecgHJjoCkExeX0NF3oTlBEREREREREdPMpVraS+peBpsAYaAoh8/wxvU8mKAaaiIiIiIiIiG5WnhJN5xloCoSBphCMUcpit2iRSyIiIiIiIiK6+fDVudAYaAoh87cTeh9LNBERERERERHdzOL0uED2xTNw5WSr/eSLgaY8sFhteh8RERERERER3WwsFmMYRdH/khEDTUREREREREREFBUMNBERERERERERUVQw0ERERERERERERFHBQBMREREREREREUUFA01ERERERERERBQVDDTdDNYmo1GjRhF0AzHvoD4vEtYiWd83A7ljqFA7iHkD9fM4ea0+jK4vb/7BY0I3L54HdO1kHliKKc/3Qxs9zbXp9zzm/6x/GQnD/TWTMRUaB+dhINMlFQIMNIV0AzRXmH0OaWlpEXRHcMmpzyuP5MV9VkrhDMY4Tm7E9Pmb9U95kY1z+r45kt8dQxSWTBxYOgv5P4WcuHREP4/PZevDrhUHTm6cjnydYtdAgedNmQewdFYKci/Bm39c+2PiK/95IFGYisB5QDe2c6l/QcMGvTFuxtfYoqe5LV9vw7lYfYQwBLxeGO6vC3cyLtzXY4oy5yUcKRLpkm50DDTdDBKa4bnnnjPtft8yQR8JqP2Y+TjPPdcd1UvpI4XtCFIntEU1cXH/OL2wBWMysH3W02h8TzuMXJ+hDyMqZI6kYkLbamjQ+2MUulMolIztmPV0Y9zTbiQK3ylW8HnTkdQJaFutAXp/nI7CeeiYB1LBK/znAd34duKTMVNxVPbG3YkOY6di/vz5mP+/iWhdTR0hhMJ8LxumQn09JqIbGQNNN4O6PTFp0iTT7vke3ivtA38wH2fSpGfRuqI+Utj2Y8nkzbikfypcTmHTxwtwKEv/mGf3Y+zevdgruk96V9WHEUXZ/iWYvDnSM6gqen+ipdW9Y+/Xh10Dpzbh4wWHkO9TrEAVfN60f8lkRHzoClSkeSBRaIX/PKAb3okdWLNL660+5iPMH90PHTp0QIfHH0ANuzY8uMJ8LxumQn09JqIbGQNNRHlWDGUTE5EouvKlw7pTIbpO7ChdXkuriWWL6cOIiIhuApcu4Yze26pubb2PiIiuBQaaiIiIiIjohmWP4Q+DRETXEgNNFGXuVq6GYbY+ZPuk7nqrHAFar8s8im0Lp+D5fm308dqg3/PJmJ66Dxcd+jiByGmXTUfykK76tFprIlPmrMM+k4nXJstxumPSdn3A7GGe6cJvmSFUq3OZOLptGaYnD0FXfbxGbfrh+SlzsG7fRYTapJAcF7Fv3RxMGWeYv+i6DhmHKQu34WimPl5eeVpPSRZbKDhO4mdxXIZ01ZfRdQiSp6fiQDjzdx8XQysv4RxX7fiITh4MsfyNn0xAvzbis7r/FuLnk34TRmM5guPkz1g45XltWWJ4m34TxPQHxJH00sbx7vOuQ+QyfMcxJY9Xqm8aDXqs3K2FDPOcQZjUXZuu0cB5nkp1w9tX4bU6l3l0G5ZNT/Ye60ZdMSR5Opb9fDKP6VU/N7pPEmutmT3MPU89XflxXNyHVP9lj5uChduOhty3ctp1c4x5h35clpnt23zkTXl0cN5AdX7eQzcJ3fX1CtZCZeaBVJ/8QktbYeR/nrzGm3ZlJ/NAea4WXB5oYJIHa8fgZ/ifrv5M012oY+9pTcd9zDJxwOf8EvPIlVdo40xwp5NA+YnOPH/Ix7kvuLfRmEbV5YvzKzXg9cB7jdFO7434ZIKWx6nXt4Um+/YaXkdDufbngbafjXl46H0chgDXRM8+FsuY4H9NzPd104GL+3y3X047TqTTbWFd1OX06zBnyjjD+RTGPEzOp6PbFhpaaJPpKIz82H1fYrwWq9u+LMz1D8E0nwlyHXUfO9NrUTh5XX6vFyb5Udjp0H/fB8/LQwtxPT4yH0P05fzxixP6GH52TvOkx4D7bPM7+vr2w8f79WEGua/TecibQokw3bnXbZwhXYW+Dnnvq9z5We68S0zvd/+kjqPn457zKsA9ljsP9dzzZR4Q90n6PZ4YHvA6kEeR3H/lvn5r2zRnXRSOK904FArq2KYvlC8G2NXu8ulD+tAbx/5p7ZTSpUur3agV+sCI7FemtdPml7trp0zbr4+mylYOp4xX2iSajat1CXUHKrN3XNXH95W9Z6bSJci0pRPqKsMXHxZL8VoxymQ8vQt/+1coo/Rp2vlukFwpZWaXxFzz9nYJSt3hi5XDxpXKg7Nrk4PuL7VLbKMkrz2rT5EHK0bp8xilrDi7VpnYIsF3vu4uoYUycdUJn/3qla3smTtQqZtgMp2hk8d17p7cc/Acn1ELRH9Nv+mSlBfXuqeJ1nJWiH06UWkRYD415fdiWSdSRgdYljieo+U45s5unqYMrBtgP8pOHiv/fbl/mtLObFzZtZsmzjBNePvKcD6aJfDsE8qq5DZKos+0xk5s38C5iskuDMB7buTuRLrSx9KcVTZPC34ME9skK6tOmC/87IpAx0TvErsoUzYbj0xe8qb8Mean/p03rzDsI3Hs1gbZ/wktJiqBTuXsPXODpy3ZiTxw4Nw9PukrOnmgJM6LVcHzo0Dnn5J9WEkZHyzdyWM/Xkkxyyg954c4Znv2KHMH+Kd9vUvoJL4X01/doUwLlCeLNDIzgvxBHp9A6VNeC+YOrKskmEzn7QKdX940MmqB6K/pN13Si4onKxTH4VpfR0O5ludB6LQk9/FsJcDmBxfuNbGm/F6syokUZXSAczKh7mh1HFNnNyvTgqaVRKVN8iolUFITiVRJbhPsvkN2ch5rc1+rwj2fRFdzQIBrwdkVAbdb6xKVLlM2B7xOBhc6fcvr6PgUvzTqOXbmXei8LszrhWE5oxYEOw4JSouJJvtfl304RRkf7BjKvHz2DiVvyTjU9Xib8kZD/fOgxcoFfSoj47nc8I1t+lBf6yYmaeM0fEPM0Sj0NV7mTdN8rtN5EFG6Oxs0z3F38h4kd97jTRvtpu0R96IDlJp+02ldgtJJfJ8tjtqOaV0CLEus40zfa7Tk2e/inm+PuNYP8L8GuLuaA8zzdsN9pHlaj+T+S9x/zwy0PVqXUHe4sji/DzpFyIFv/+uJETgdmfrQm8+hX48o6UePKcdOnFROnjqjnDpzTjl7/oLyW8YlhYGmEBhoyqsLyt7vlynLlr2mdNfn23DER+KzHPa9stdwJdv/mSFzTmyi9B0/TVmojveJ8s4fOipJ7gzQ/cBgdGGlMtqd8fpMu1CZNr6HIfNspryxzTtt+hY5zkfKCPfFtftr+rotU7ak6yOF5L14+waaLigrR7tv0hKVJn3HK9MWavNeOG280sNwQWwmLth5zYKzt72hNNOnlzcdPUa8o3yir/vCaS8rf+iY5L1R9XkQCZPnhqmd0qmTtq6JTfoqyZ/IZchjYrwo11RGr8x9W3J28SDvOoibvz+87D4uy5RP3hmh9G1iuJHqNlvx3+WeB7yEBHU+iW3+pO5Ddf/1ek/ZoY8XteW066R0kmlF7k89DclldfFc1BOUQaNHaelULuedT/Rl/MFw42sMgHldWJfsfUBNSFI6/sF9vGQa7as08UxfU5x7hjuZC3uV7+V4r3XXv2+ojPhI27Zl3+/13AyGt6+CBZrOinkYHioM27fsk2SffagF3MKRrmyR0380QmmoT9v9NX3dl20xHIcLyrrkFp5jmJDU0bvshdOU8X2beNOa/hDnY/9M7bj5T+ufThMGKYs904afN+XXhb3fq/N7rbu+/IYjlI/U+S9TvvcswHDzrx874773zysShi3xHHOPs4uVQZ48TjxA/uFlT16z7JN3lBHG/Ve6mzLbcAJEJw8UqyDyC+/NtVwHd/r+REkOevz2Kx8bAj8+x0+su08+Jm6iP/MPAHpuoBuKfEpLv4lt/qC8486nnvKmq9LNRimj+8h9maDU7aHnxzJ99TA81IeTP6j5ebK2fXIdjQ+ENUcrubPCs8riQd5jKNfv5WkL9f0s1nGE8fwvrXQzHiCVN40kiDSi7t8/yfxJu771es+dE16f62go1+w8EGnpM0NgRF6vxrv3s19aSugkHtgivib6paMu3mUnDBqtBwQN54JfWkl6cW3u6/6FdUqyJ4CVoCR1dKdlbR+EzIeztylvNNO+19ZvhGd6uY4vG9OA2bXK7Hwy7Effa524d5niTXua/cpM/X7B9zrnP624lnoz47Dt/9jwQOszf7/0La6jA4yZRfoWbR+YXovCyevCvF4YAk3auWrMj/zPowRl2JLcqVicxIZAgu+9o9yHHZO86UMLXIQr9PV42xsNtXkniHw614yPK3P7uNdLdIYfury8wSrfQJS4Hx5vyGeN+Yv/NT6hhZK8zmS/BBVJussW291M/14ct7o9lBHua5A8Zi8b97nZeeu9r2rYqZPJ/eFThh8nmimjRvdR94NcjnZe+acL32u05Hk2ayiuQWrakHmDdo+X6xom8vaZAa+TZs92kd1/XVg52nPN8clz/der2RtKHi4bRRIDTRoGmiLAQFN+BQrG6NLnKn30TDah0xuK2Q8a2YcXK8PcF1+/C9yFxYP09W6nTDW5e8zeM837ICo2LNBFwrSUR0gBtu2CePhzD59qcjOQvUeZ5rkwml3Ug0lXZnfT19nsgUGVrRycrV3Q5EVp9Ep9cLgMN0xyerNf367umOrZr7kuItlrlReT9O/MggOqq8raF9035+LieEAfrPM84IkuYdBi8+BGlJcj55Hi/6tN+mylm/t70SV0mprrF/HsPVM9F/Kkiev0obrsdcpEd9qtOcz8l52zm5U33OkhSWyH/32W4SHH7BQKa18FSevZ6yZ6bhbMtk+WdkrxBKJqKsmb9OHhCPFrmnHZNYeZl/A7u/kNT1pLEjMx7h7PzXHSCCXFZMONQZDc+U+IvCkKvIEKsxtzwwO26GoOMCltIfKKqe7jVrqPMve4PlyVLdK2/guyf5DS4OraFz37oJP/CRBpHmhM3yI/mpp7A5QTKd5jUNOQeNLnuvOoQMc+Wzm8eJg3bfaZ6xsIMqQt9cFrqv+v/Mb9Izuxj1L8S2CeVVJGuMfx37++55ZagjPXT9pXlR1TO3m2w/+Hg2yx75P07wIGaa+KfMy9DzvNVHyPkDGNBHlAv67X0dAK9jwwpiWRDt4wK7ngm5byfL77XBPN0pHhuiw7s3PBuA1JExXfK0W2sm6iN48dZlpy7Kyy+Q13WksS57vvhSJ9djd9+sBBiOyDs73pxP/GwP98MtuPZ1OUEe5rrv82bHtDD2IkKSPMM2NviTzTdBCEIX0Huo76pO8EkUb8A0ghrkWhhbhe+KWRASaljoz3CqVFfuabjNOVuWowXHwn0s8b5iexsniYO53ko/RtsH0grsVaXpWk+N/GKNniuOvTaV3uc1DZMUX/AdR3et/7C/O8yXiNL11TpKu8ZDCRpDvD/V3AAHT2QWW257iMVnzPGsP1U52Hyf2h4Rogu5qjUnKVSDybMsIzTh+/HWt8NlPTlV/JZLEEn2tsrnvAIMc8svuvC8riQdrw0u2mmuy7bGXPNHd+lSCWbbZzbxwMNGmCBZpYRxNdF9s/fQVLZFurcb0w4+M/oVE5bbiR/Y7H8M70kUiQHzZMwkc/eF/6PXXqsN53D5Kq5a7g0V7j9/jLwDi1P2vZFuxU+wrYqVPwrFVSNeRaK3sN/P4vA6GuVdYybMnLSp3ehG/XaL21//YaBpu2y2vHnU3bo77an4Wr2RG8JN1uMuaObw7/w1KszjN4f3I77cOud7Fwo2EZO3/E52rzLnHo/+YEtDU5prLFvuZtHtX7ryA7W+/NJQHPDn441/JVUV0O0OvVCWhfwW9/VnkQfTvr/aiOv/zzadTxa7TNXqM1ejfS+s/sOARjDQcZS9/Hq0dlX228NPcdPHaHyfEq1wh/en8y1L15Zire+eqIOjjvguyrgDLw3azJUFdRPQefybV9sFdA+wlvor+aYC/gq/Xb1MGRy8DS91/Vll37Jcx95zGY754/edLamanvwLh7zh1P03ruqI07TDa8XNuhGNVU69++ZgdOa72Fj9j3r05+wmTf10DfEb30Dxuw352xqHbiR+0EQFz/NzHB/ARAseZt4DkDgp0A+ZDx3SxM1hIPes34GM/k3gBUaD8Bb2qJBxe+Wg8t9ezEF28t0ZrZrvwCZpkeezvueOwdzHqhsvopa8lb+CJQXll9DJKfqSPOdiM7mncepF03pG6TMKZ9Bb/8uBzaPNJF7/ffv77aTZ6L8c3993Ex1HnmfXizwoXwzQo/11q6iuuPNye0NT83izWHN4vKRuCs8FkMftj8GN8w19F8nQfb8ekrWlqK6zUDH/+pkcl+1tLS9JFaatgw6SMYNj9ver2KCbnSURU86L1QoPpf/omnc18o0Np7ocAh3wsF3tcuFCIrnIt3HrvDb/5SOTT6kzutncHUd76CNys8jU3eGwO8NriGyfRiFe5sivbajQGyrmYHritIzsNsP5Zrj6f/WF3rP3MQpzK0XtW549By4ztQ2zwzxlBvZowdeciMd37xlpa+URkvzDK/jqrpe9YLYgwhawneCphZFLw4kUYmP+GfH8kk0BfeZLzfc5+o2v4pXtFOYjUv/ZP5SYzH3pkOLRlvwKSPfgijvqcwNXoQT6rzPYOFa901Oem2rMdi+bfzJExSk/kSpGw0Hnwgbd0X2CV7EgahfTN1kGC8v+iMd983z5vUa/y7nbV74qOTMes733kHFUG6O73pW2hnTW387bXBML+dvhNNvScNAt9OV8eY5Nz3T/bmnTHIexHCpDHt4X+bWa7NI/BchYJchBJGTseMPv7ntrzGvuzJ27I+m4GlYd1CRnr/dQrey0YScl827Kjx+79Au2xkYVmeHnToRsRAE10He7F+sf6g2KUbWptcI9zsTVrqGfEZfLlOvZypyle6S7s4YQaGD3oXy7al+1U+Z0fLF/fh6NkMZPz0ZzTQhxao8pVwl7ZSmDF8EN5dtg3pfjXi2Vu+iH1HzyIj4yf8OS8rdVs3zDwttkXk8N/8oY4+0C0T548fVCvKnDB6sqfSxx2/Br5whdJr0KPiFtpclUcHQbtnOoOPVmxR+1QN/oyfMjJw9ug+vPpQvD5Q57iIU8d3q5UuDvmHu2rNLdh/TO/NpS3uvcfs6i9EdTmd0aGJ3zxUFVH+dr0X7dCkkdm62GCL0XvPXMIlvVesBNYv/0zrrd4b7eoH2A6pSmN00p9Bli/fKm4B8iPIvgpoK1bPV+/gETdwAAI8xwLxD+HVfUdxNuMY1jwbpbPIsR7e3dMOwXdPJ2i7ZzmWb/XunfJV9Waqt4zD4DFzsG73eb+KK6uj/2eHxQNRBk7P7Ibb9KGFTrsOaBJg38ffUUdshXQGF66oPboG+PNPIi84exT7Xn0IvqnXgYunjmO3rBx1yD88ldhuCXwC5MvW1fO1YFHcQAwInHjw0KtaHnxszbNaHnxwI5bo2Xijkb3QLOCxt6NZ31HQHhN2Yf7avWqfv4TuLfTAup9bE1FN723aup5poMfuaYHKf/8a9cKgRwPmhHh0kP70eOYj+GaFP4k8/iyO7nsVubOoUzi+W1baPATeLGo/AmeF98L89L6BrqP5OQ/2iodgz+a3Ng/mqexo0lJ/nDvzJQybnyedOzTxO9c0Fb0XCrRr0kgsLTeb90IhW9v3cKxfDi0rrI7e7eqbTqupgsbeCwW8WeFt6DbztEhrp3D4mz8g153B+eM4KBsLmDAak703Br6BDoOER5vkmodbyTLuPSzy1VN6r1S+qnhcl7Zg3OAxmLNuN8771SJcvf9nOHxKpKHTM9Et7Mz4IDZ6Mwv0CpxZwN6sr+eHhV3z14oz4/poJ9KIeTqMxx113IG6C/BNxov1gEkXdAt+EsObjNdpwZ1oEPNt00PLBdKWbNLXRbN97UKRYkUe2r4TWjXV1n/xD1vVv5oj2PDVBrUv4ckH9Wu15L2/QP/B6B4oCxWqdB/qCUrMXrY+/ABaBOnutm4zcVrcG5w6/A1y306fx/GDspLrCRjtPWkQ8HY6oTtamF+EkOi9CKGe2aG1x3jO+TMBL0LV8cfuzQPkDXY07/5HPX9cjsVrA1TobhTx/Vd5VPI+6GDQu8uwLd2vont7S7yo3jdm4Kc8PejQjYiBJgqfp3WSAF3YTRYdw373Tfln/VElPh7xgbpbe4hbYE3a8XN6n3z+fR7/aqlldkcXjUWvVnVQ+dZKqKG2AvO5+uDpLF0WpYNkolEnHsqf/1dL/deZRRjbqxXqVL4VlWq0Qb8J0/G5vBA6S6NsJCtVrBRifjW0LFOvGm6LL4+qNeqjVa+RmJxySHsAjEhTNK9ldkuti78bzfQ7ijMHT+UKjthLF0fGTkNLWDUqieNYGdVrNEOHoeMwb7PhTjugcigVZBWk6CzndpSvqPcG0rSmGCsvDuPXHXpv2kt4wCxde7omGOU+Fw6fgvH+PXyh91UuBw9iu55Q6te8PcgDjh2ly5YO8n0+HP5V3LZp0l56wGSfGLomo8RtpOaw4emmzhPJGKr9hI2f/j0UHZpVRfnbqqFe1yGYMmeVeuNjK1s21y/Lhc7t5REw+ZUsE+ThWbCXRvGMnYYWzWqgUvytqFy9Bpp1GIpx8zYbgp/RdBAHvYkHtwdJHHb/PPjQTv2XZKDJXTX0vgCqV0NDvTdQoKxa4q16X2ANq+kPePnRtDmCZ4XN9BvxMzjoU8xDEudO8QzsNLSKWaNSPG6tXB01mnXA0HHzEF5WWMo0wHFDXUfzcx4c2+/JGz7rX8V8u/Xu1h6erYdh8/Pk9tAXCoisNE8Oey8UeOkB83V3d028FwrfQI+qGErF/GpoPaseqt0WL57Fa6B+q14YOTkFh8K4MQjnfMqlzhNI1jJjZP30bwzt0AxVy9+GavVk649zsEoGL21lUTbPmfEh7PRmFgieW1RHNW9mEThoW8CCpRFvoM7XMe9JjP5VzI+91t0KbzI+jnwmYxN2NH6wp3bfuuFbbPbEKtKwaYkMO1VH53uro36L7mqpyKxlmz0/ZuLEWixeLnsS8GTHJt77hLQ0bNTTW9O6ScHvH+y3o6Y7UBMkCJpLFNJdsVIx+NXQgnO9archvnxV1KjfCr1GTkZKeCcNQp41DavpwaD8aIeGpoEsXe26aKX37jt6Uu8LIuL7r3g89Py/oF02jmLR2F5oVacybq1UA2przZ+vw+7zzujfN1KRxUAThc95CUfEBSQtUHcuzNcz0g7A+JtI2PYd8xYZt9fA4I+X4a2+NVFKHwTxWHV8y9eYPPIp9cHz9mot8cy73+PXsH8iiZQdNQZ/jGVv9UVN70rh0vEt+HrySDwlL4S3V0PLZ97F9/lZqXM/4F9tq6LyvfIhZQrmpYp9fuiMHlgqhcRGj2DEC70iuKC5NUTwZzNDSR6/4Ihj7zw8Xe921JI3t8kz8PUWsY7H9aepuATc2bYPJg1tr32OwLVaTv6kY4/2I1/e7DqEMG4TosPpDPyqTkFL34P87R7D3inXFi8vW4ARzRP0EhlC1hkcSp2HcUMfU298qtboigkLd0XxhrwQcezFvKfr4fZa8oY4GTO+3iLy4ON6YCkOCXe2RZ9JQ1EwZ4ATzogTT3UkBo2iSeIBRC+lcN2EekCw2eDNCn1yQuyd9zTq3V5L/QEgecbX2CKukd4s6k607TMJEWVRN+x1NDxpB/K19WLzw3q/5JpIz9+FAsasUNwY4Id/tUXVyveqP7BMmZcq8oJDOKM/I5dKbIRHRryAXpHfGARQDm1fXoYFI5ojwZsZ48yhVMwbNxSPyeBl1RroOmEhduUzM64eOrPA7dc9s8iPNOQvGe9DNJNxfIvOeolHw6txJzbjW5k83SV2GrWAWvApbQk26cWeMjamiCmEuB5o08Q8rFC1fHm9LxBDkDBPIkt35374F9pWrYx75Y8yU+YhVeTPh7wnDRo9MgIvFNxJE75QP3QaSkUZf0QIKAr3X/Yag/HxsrfQ1/dBB1u+noyRT3VAs6q3o1rLZ/Du97/6lnSimxIDTXTtlSrlqT/jnhdTsHfv3vC6WT18X+cq1wiD39+Aw0c3IWXqJAx6pJ7hgiOfO3/C3LGPoHHX6dh7zXK7cmg0+H1sOHwUm1KmYtKgR1DPd6Xw09yxeKRxV0zPy0o5tuPNzg/jZfUncPEg2bwPJk2djy9Xb8feNO3Vpr0r52Bi39z1KuXdOVzy/3E+kIRS3geUc19iWMshWKD+ClQKNcWF+q3/zUfKenHsDp9CxukD+GnRB3ius7s8cT5dq+XkWwmUcSfwPjOwyywtm3XbXtBfFbrBlSjjOf/7zNhlvi9Mum0v+O4d+x3tMXHpAaTvXo3P3hqDPm0TDQ/L8r4nFZMH3ocWf0m9wYJN5/DlsJYYskArvViq5iMY8db/MD9lvdhP8nXB0zjw0yJ88Fxnz+tjhU84JUuOIs2vypBr7tylsF9nTRDXNbdzXw5DyyELtFIkpWqKB/238L/5KVgv0rF8leP0gZ+w6IPnEFEWdUNfR0MrVcqz9XgxxWQ7A3SzegR5j+caK+G9UGDGLvP1zd1tgzcrdGD7m53x8Mta6cW4hOboM2kq5n+5Gtv3pkF9bXXvSsyZ2Be5qhmLJvsdaD9xKQ6k78bqz97CmD5tkeibGSN18kDc1+IvSM1HZhzOA/TR655Z5Ie4f/KexEgxPd5m3SxENRnHN0EHvaqxxas3q8EBdxAprkcLrdSmvTFaqdGoDfhWLfaUgbVL1BqcEDewM1oGKL7iG4A3cxCH81uNTz7TnWP7m+j88MtaidK4BDTvMwlT53+J1dv3Ik1WbXFsL1bOmYi+BXrShOncBVzWe0NJKFNC7wsiSvdf5RoNxvsbDuPophRMnTQIj9Qz/OgnA34/zcXYRxqj6/S9DDbd5BhoovBV7Y1PTDIgTzf2fn3EECpWRJKeI+3YfRolExORGE4XoAysvfTduK/fc3h7zhocOH1W3HCsFzfMY9HhTm0hWWtG4+28VDIYDfbSuPu+fnju7TlYc+A0zh5Nw/qUqRjb4U4tM85ag9Fvfxf2Q0zGd+8hWX8pv+nra7B36Qd4rl8HtG6QhMTyhiKqly9E4aH6Fxw/rvea8j4AxiVV9LzysPOTSfhM/UEoAYMW7MAGcaEe/HgH3FfL99hlXIpsDa/VcvKvPKrU1Hs3/4qzZmnZrDMex4JWvjyq6r3nLgS/jVmb3Ab9nh+HcbPW57MOKT/lq8C7e86a7wuTrnyA93eKVW6AjoPH4INFe3FM1lWyXQaehqCxfsN5dOoYfHIj1Ue58xNM0k4AJAxagB0b5mDi4MfR4b5aYj8ZXhfMuFRAAbbysnoMTaib4LXJaNPveYwbNwvrZeIpl+gpIZR+KkR9ErIODW0zwyrRUCB+OY7gWWGa/hpJHJLEdU2zE59M+kwraZowCAt2bBAP+oPxeIf7UEukY28WlYGIsqib4ToaRMWKSfqDzQ7sPl3SfFtNugCbf12U914o8OtZ8/XN3ZX3vsqY8R3e894YYM3epfjguX7o0LoBkozjibP0wrW4HBarjAYdB2PMB4uw95isA2e7GgAY4s2MMSbszLgcEr2ZhU9jG7nJ+is9mUUUfmy7VsT9k/ckxumSZsfbrIv2a+EV0fpxLdKUtWAttsCBzau1IFKXVo31+5J4NNGjUUtSNiLDsRkr1HqY4tDzQfc4OsP9xYHjZ/W+QDJwzn1wq4pri96bJ3lKdxn47r1kvY6rpnh9zV4s/eA59OvQGg2SfO8zLl+TkyaEtF9xKlik5uBhTyMNNauEsfeiev9lR+m770O/597GnDUHcPqseDZYn4KpYztAu2xkYc3ot1GILht0HTDQROGzl0Z5kwzI04V9B1cDDfTWerD4C6wKlpcfmY9n2vTD8+PG4fWUg/rAE9j+6RTx8DIEXSeu8ouWi4yvfC1xwzwa8xf+Sy8hkoX9x0L9qhK5E9s/xRSxnkO6TsQqvwuDvXR51LqvH0bPX4h/6T8MZO0/FnadPLs3L9MeXMQW9XvQvGUZ6cjO72GszDF/tuCbzYHLZTt+WIF56sqIG4xW7jLPJ7Bjjbt6yh7o2j7QrZ4DOzal6v35ca2WE4kk1Gqu/2aU9imWbw9yl+BYjzfadMUQkW7GfbzZp5LQAhVfC831dJj26fdBWpPajvWfbcHXM6bg/Z1XUFwfGpEksWzP7lmO4LvnDbTpOkSc6+Pw8WZ971z5BanTkzHu+X54ZrZ/ai+Gskky8PQGUmYP1R9Ed8k3PG8YJ3as8VQE26Nr+4APVY4dm1AwZ0C8SN+exIPvgzw3bl//GbZ8PQNT3t+JKzLx1G6Idvpz1ZKvfwgaCDu36gutxSOh4V1Jet81tuUbBM4KHfhhxTwtX47rCW9WuAPeLKorAmdROxBZFnVjXkfDVqOB1mKnsPiLVUHT0pH5z+gBz9fh2fxCIKlWc710QRo+Xb7d7xgYObD+jTboOkRcJ8Z9DHdWKG4MsEyPrzTt96B561nSkZ34PvIbAxNX8EvqdCSPex79npmd696jWNkkNQDwRspsDNXP+11hZ8a10dCbWeCH4JkFvvBmFuIKXHTU8J7E+CL4SYz5z+g/+ryegmgn44qN22vn+ZmFWLt9C9YukAmrJR64x1tDnGecxaux/seVUEdBF3Ru4VeLnOH+4szCVdgS7Bq/fTk+1RNO9Tp3BKiPzl8k6W43NntPGjwY+KTBzoI5afJoMdYYmzT1c+THRZ4W9Do3CSPlR3r/dWI7Pp0i0uCQrpiY+0EH5Wvdh36j52Oh90EHhemyQdceA01U4HL/olERnZ7qrz0EZn2GF5IDvdpyDqmTJ2Dulq8xY8ocXCzlLitcAsdS/4Ep8r3qdz7E0gDXZsflC3qdJfB5rcFHyF/KwlfiWCr+MUXWnfQOPgy8UrjgXSmfV32CKVbiFr3vHM5mmF8ZHHun45kRas2MEVs+/nV8a7YJjr348J//UVsiQcJA9PbcYJRAiZJ6L07ifIDNP5c6FoPf0ppmz59rtZzINHv8T3qLKLuQPObDAK+cOLD3w7/jX1tSMU+km13WCmLrzBxAyB8F86w6WvfTbwR2vYkPTA+22I9fvoNk9V7L5FfLMOUuudIMj/9JbzVuVzLGfBigaLVMa3//F7akzhPn+i5YK+h7p0Qmdn6QjCkzvsbcKYsD3ihd9BQXSUCgEuWhf22N0IHjiPYSSnhPAJwMfAJg7OC3tPM0lHzkgdVb99ODD7vw5gffmuff577EO1riQVzPB9FYJh57Szz+rH6X+8U4JAd6j0asf/ILeqmguP7o2Tq8x4/oW47xr5tvn2Pvh/jnf7Q9nDCwN7xZYQl4s6jzga9tYwcjsiyqEF1HQymA8wAVO+Gp/tpTZNZnLwRNS5MnzNUCnnMuwrP5hUGzx+HNCsfgwwDvJsq09vd/bUHqvCmYsssKd1YobgzguTM4mxEwH53+zAiRkgtCCWTu/ADJU2bg67lTsDhwZuxJm2G93qOyo+Xjz+qBuC8wLlj6Tn5BL+Uch/49W4cZrMi7grheVOz0FLRknIXPXkgO+GrhudTJmDBX+9FnzsVSAVsFDiVgSdLqraHdEqRhyTvvY6HMm6o/hIbG2EX1e9FZljLLWoAJL3ykXV96dUPu7Lk6Og7SA2hpr2F8sGv8GHfpotoY1DFYrddGkaS7YvDeTp+F+e20uDeb/gyidDsdoTN468WZ5veQMm+bqK9k0yF4OFCTkT4ivf86htR/iHxoXire+XBpgHPSgcveBx35ljfdxBhoogJSCXe5WyZbuQk7/Zodje/0Z7zmbu1malfc03YClnqaKM/E+YM/YvrTbdB76lF1SFznZAxp7n7MjcdDA0dAa3TqMwxq8zSm/3jQ27Rp5nkc/HE6BvV9SbuAxXXG4y2MrYFUxR336L0bfsS2kwEuUnkU/9BAjNBbwvpsUBs8Pf1HHPSulLZNg/riJW2l0PnxFp7XzkKpfd9jnl8+/9l/kNhebzPUmed3I/Xdp9G45Uis0X+oidiZGejR4knDcsT6716KMW1bYqS6ELH+ySPQ1nODEY+G7dy/zH2BoV3GGI6nAxfTt2HhhLa4p+tUaEc0v67VciJU5/d45f/0FlHWjETLxjKNuvelbIJ+N5ZO6IC2I9doD9OVX8DoXn63jpXu8rRotXLTTn0bo6d6rwnQVvEMZvRogSffTcVuPb06Lqbjx+lPokV/7WE/ruVr+HOnPNy+V70D3lNsG/xPsTq/f0VfdhbWjGyJxk9Px4/uJnIdF3FKpLUJHdrqaU3untHw7p466Days/aAvesldOog845TnvNBNh+/e+kYdBmkByoqD0J7PS/SBM+bpLXJjTytaYbdmKZBJe8CsMlsARGIb9jOU5Lji6FdMGapt1lnedy2LZyAtvd0hZ51BhBhHli9Fybo6fvMjB5o8eS7SHWfh+L4pYv898kW/bWHv7iWeO3PnfSHPzuaj5iMXurBO4qpXX3Tncy7d6e+K6Z1r7/IZ94dh7wkvWjTts+QPuU6ivTV1p3fiutL8oi23ofb+IbwZlFD0WXMUu/2yX2zbSEmtL0HXYMfoLBc3+toaAV5Hsj17/Tn1zytH03teg/aTjDsa339n27T25uWkofAs/mFQh38/pX/04/BGoxs2Vi9b0jXMzMtL5uADm3d1/bKeGF0L2+QofZ9eMxdOuGf/THIMK37XHq6sfuaXTDqdBuJzlpmjJc6dcAEkR+d8mbGal4+pssgPRBUGYN8M+Og7M1HYLKWWajp2yefkel7dyrefbKF51yK6/wuxkU9swh9vYhIfCf8+TV3a8VT0fWetuo+9Cbjg+Ja/DTa9NbvaWR+MyRQc/cBhLgea6rjXjWKJMb57DO1lFBC9xbwDf3UR4vuMsGdwa5dWpS8c4cm3rzPoEqvl/CSGs/QrvFtxyz0NoOv54Pe+0l5jZ+MoWEFSjT5T3e1cZ/3pEH/QYa83Z2mnm6Mlu57s8Jgwyi0bGu41/VcY93XSZEvTPq957X0UCK6/4p/CAO1Bx1x2RiENnLag+5z0p1eB6Gv9qAjkuvj8L1sHMS8ge77q2Tk4/aKihqFgjq26QvliwF2tbt8+pA+9Maxf1o7pXTp0mo3aoU+MCouKEuGJXjmrXUNlTe26V9LZ9cqE1v4j5O7S2gxUVl7Vp/G46yydmILJcFkfJ8uoa4yekWuiZUdU5rlGnfQ4gv6t6GsUEbp07Sbtl8fpjm7dqLSIsF3vrm7BKXu6BViC/IiXfl6aE2TeRk6sa0DZy9W3mytfU6auE6fNkwrRnnm1a5LFyXRPd9cXYLSYuLa3OufvU15J9TxTGyjJK+Yozyrf+4z97g+sWbFKPe4o8ReDuAaLcczTrtpiu9RdtuvTGsXZJzsPcrcASGOmexqDlDm7snWJzK4sEQZ5p+WGr6huE+hsPaVcR1NTvDsPXOVATXd8zHvEuqOVkxOoRB2KFOa+c9rkGI8xcJZtuxqDpir5No94e7bxC7KzFwTh86bvPs2f/nihSXDcuVNDT0L8OYfZsfEY/80pZ0+nu9o2cq2d0LlfYlKm+QVypxn9c995iq+Z0CkeaAQzjEIkP9m75mpdEk0Gd+nS1S6TNuhXNWn8TDsF//81yPgvjMw5Hf+43iPfzulS5dEz3i5uoQWysTcFyeRRb0T8jqQ2CZZWTHnWf1zH8U3iwozjUjX8ToaSsGeB5pwr7mm16xQgqQRD8847ZTAydF9n2U2TrayZ+4Apaa+nMBdTWXA3D1ibF/pXw8NMa243xg4W1n8Zmvtc9JExefOIJzzSQi8DeGuvzifZ+Ze/5BEPjMz2Dmod4ldpik7cmUWQjh5QVAhrhfhpBHBu//Mrtfhnofm+U1ooa/Hqm1vKA093yeI7cl9tLLF9nrX0z/f8nN2hTK6bqi8Sd4Ppygn8p4w8p/u0r9Whoa87xmozF78ptJa/Zyk+N5Oh7j3UwW/99IEzgO96aWh0qlL3SBpwzxfCJXuI7r/CveaY3rvaNgvQe9di4YD3/7XEyNwOjL1oTefQ78eUdKPHlOOnTipnDx1Rjl15pxy9vwF5beMSwpLNFEBiUenSYsw1l0ZnyoNO3811ApXrjnGp+7A2lkj0NanqQiNbEFlyHvLsSN1vEmLKeXQfHwqNn/9Mvr6tHagi0tAvb4vY9H6DUhum7uSjDpD/4cPeugVc+u27o/8rfdyzccjdfPXeLmvb8s9mjgk1OuLlxetx4bktnmssLIKOk9Zia8mPQJji6KqUoloO+Q9LN+xGTOfeBgNmmgLPrNwrV5Rbd41fH4+tn41yVMRrEa2djcE7y3fgdTxJq3b2evjue9WYuYQY3OzmriEenhk7KfYdiAVo9vei0b6W1tqpZJab/iu1XIiZa+BPh9txbZFAdKobI1KruvWj9DHrJ6A+E6YtGisp1JrVdpOGE+hSNlr9MFHW7fh07Fm6Upbv/UbkmFyCoVQB0P/9wF6+KSfrTCeYu5lL3q5r2/LjDrZmtrYT7dh60d9ctc9ou7btVgXIO9Qz4kRs7B263wMzDVxGHlThOI7TcKisY19Xo1N2/lrlNKgHfWf+w4rZw5B89wnAOo9MhafbjuA1NFtca/3BIC71Wq3iPNAd/r+dCweyZ14UFOuR4D8115jIBYdCJDuDNuwaHCdKFd6m1cN8fz8rSLfdVduqhPr2FzNc1Mx3qRlInv95/DdypkY0tz/vJfXAC1dH0gdjbb3NtJfQTQ0K55X1/E6GkrBngca9Zq7Yy1mjfBrcUoV4ppVKNhRo89H2LptUYD7Bv1c2rYVH/XJXT9jlc5TsFJcq83OwcS22rZvnvkEHm7QRDu+ah086ghRoq3/2nWzMMKv5U+NXI8RmLV2K+YPDFy/ZEAinxm46ECAfMZwPi0ajDoFklkU/PXCfR7uWBtgH4bIb0ILfT1W1W8BtcCSqgtaqe87+7I3biW+0bXr4ldaxU+5tkjevAPL3zO5VhnTZ3J7VMh7wsh/uqvSGVNWfoVJj9TMNV2pxLZafrl5Jp54uAG02+kzWBjdkyYPyqHHGxvU671PEhRrHixfCCWi+y/1mrMZXweYVt6H9315UT7vHelGY5GRKL2fTBzfvAgb3u6l9rd/az9KJLjbUrgxyKLZZy451f5iZQumRZbM88c9xYBtpRICth4li3of10cMOp4ZWdzzzCWoW2IrhYQwW/Aybr/YAWFWaJ6J88e1oqLB11O+InUG2uxtKJVgbAUmEob5mmyrd5vyuMzUvyC+61S1d+iiDLzWVvZ5l5W39OHdR2b71ZsmiqGsoQWVQMMDK7jleMYJmJ6CH4dcjGk07LQmGbbRcEzD21eGdQxjmaG3Oa+M54BchcBpKKK8yJB35GXfeveh3GTvuawO/2Uu+j34NzTxnAv5YFwvzz4NnmY9DOkl2P4Img4Myw80j/zlgSY8y8p7XhdeWtYZ9kvA/DecfRdk36T+JR5aVjgUizJeg5YVuucZxjoaBT0GgdJCmGnEjGF51+o6GpJhnQrqPHDzpqUoXHODHjudZ5zAy8vbNdmYZ+YtrQVdTqDzJtBwP+Fvg/F6lcdzJRzhHBOjPKafYEyvF2Guj3f/hbNPDPswmudhyOtxOPc0ebunMMrbeZBX+Ux3QdN/oP0Rrf0UOA9Mm/4QGo3cIPqa4q0t32Gw+l6ce/ww9l8e07332IQ3vpFx2tDXHMN+yctxKqQOfvcefvrfcLX/sZkXYY3JHXi7GRxOPwqbzSo6G2xWGyxWvV90DDSFcKMHmog8TANNRDcnhzgfKnXdin95bvLoZmEaaCIiIroGzANNVNgw0KQJFmjiq3NERERGssWV12Yhq2k/tOYNHhERERFRnjDQREREZHBw9kiMPvIEZs8IvyUXIiIiIiLSMNBERERkkNR/IdI3T8ZjdwSra4CIiIiIiMww0ERERGRkL4ZijDEREREREeULA01EpLl/LPbu3at2Y+/XhxER3WTuH6vlg3v3jgWzQiIiupaq9v5EvwZ9gt5sg4qKMAaaiEgjm1dNTFS7vDRtSkR0I5HNO2t5YdFuepmIiIoee+ny+jWoPEqzdDUVYQw0ERERERERERFRVDDQREREREREREREUcFAExERERERERERRQUDTUREREREREREFBUMNBERERERERERUVQw0ERERERERERERFFhUQS9n0wc37wIG97upfa3f2s/SiRUVfsL0olV/8GUlKNqf8O+k9CzrtqbJ955NETfST2Rj1kUnBOr8J8pKVDXzm/7fp4/DnO3ip7KHfDcs61RURtMN7WfMX/cXGjJ4jk82/r6pArHyZ/xw4qVSNlxQv1c8Z5O6PhIS9wdr36kG9oJrPrPFKhZapHNmwzb0LAvJuXjwpL//PlG2H8FKMg18WblSWuF8R6mIDguYt/m7/B96iYcuCQ+V7wHHR5ohWYNKqOYNkYIDlzctxnffZ+KTdoMcE+HB9CqWQNUDm8GhUzk+dWNx7BP8suzL5knU2R4Twwc/O49/PS/4Wr/YzMvwhoTp/bfbA6nH4XNZhWdDTarDRar3i86yEATBXZs0xfKFwPsanf59CF9aMHaP62dUrp0abUbtUIfmEfeeYxS8jmLgrN/mtIuwPatGKUNL91umrJfH0Y3uxXKKD29tJt2fVLF2RWjlboJetr0dIOUxRf0EQqR7BMblM1R2E1Xf9mgbDuufyhkorWN4duvTGunH/cimzcZtiGfF5b85883wv4rQEGuiTe6QPmMJ60VxnuYqMpWTqxKVtokurfXt0uoO1CZveOqPm4AV3coswfWVRJMpi+dUFcZOHePWEpRE3l+deMx7JP8dp59yTyZ8q8o3RMXpAPf/tcTI3A6MvWhN59Dvx5R0o8eU46dOKmcPHVGOXXmnHL2/AXlt4xLCl+dIyIKxvEDJg/+Nw5lyQ+lUPORQXjuuefw3IhOqFaYfrlxnMTG6U+j8T3tMCddH5YfmQewdEJbVGswBpvkD+OFSbS2kYiur8Kcz1xD51LHos2jL2Ozug+815c+bRPFJyDr0AIMa9Md0/c65Ai5OfZievc2GLbgEOQlqlTNRzBIXp/6NEeC/HE96xAWDGmJrtP3IsAcqMiwoVSV6qhe3azT0osqLgF3mo4junKx+khE+VRU7ompUGCgiYgomF3r8OUZrbfdexuwYc7bmDRpEiZN7Ik62uDC4fBXGDNygX7xj8CP/0XvyZtRKJ/9orWNRHR9FeZ85lrJ+Abjek9VX5lE5f6YveOw5/rywaK9OPDj62ipBovWYORTU7FTjucn7cP/w8g1MkOMQ8vXf8SBDXPwtrw+fbAUe3csx0vaDLBm9N+w8Ig6CRVZSegzawu2bDHr3kN/fSzUH4eFpuOIbkwLfSSifCoq98RUKDDQREQUzLnjSFN7quOBOlXUPiIiokgc+ep9zFaD5pXxwqx38NgddnW4W7E6z+D9ye20D7vexOfrtV6PjG/wxugNam9crxn4+Jk6PvU52Ss0wZ8+noFeaqxpCcZ88ANLNRFRZHhPTHnAQBMRUVjKoUxJvZeIiCjfTmDt4uVab/UheKyZb5DJrUrTR9FU7TuDH3YfVPvcHJtXYL4aqErAs4MfFlcoE+UexuBnE9TeMx+twBa1j4goUrwnptDY6lwI16PVubTpD6HRSO1XqqGLMvBaW7U3N79WSkpVuxdtH3gIje8ujcOeeQzFoozXEGgWyDyKbetX4/uUHeK2R6h4D1o3aYz7G9+N0ub3Pb4yz2P3to3YtnEV9IYHQs8jbToeajQS6tr5bV/qX+LRdaroafoWtnw3GNVF7+k17+Ptbw6r34dqkcexfR5e+vQn0VcVnZ5/Bi1v04ZHTybO796GjWKbV3k3GPe0boLG9zfG3WHttMAyz+/GtpU/IHXTAe2VArXlmZZoVOf2MI5HftbN2/KIp0U3vzRR8Z7H0PFRv+nlOKuW4pvVcj1Lodq9bfHAQwGW8fN8jFObD3K3HqS1jvPVsi+1NBOydZ1U/CW+K7RksQXfDZapwkwmjm5bj9Xfp+hpMbLj4mm58dByTPlylxiSgJa/74eGZeS3ldHhuWfh3wCe//GT52Tzxk2DthzkaV1JbQ2mJk7+vAJffbUaB1AN97Z9AA+FPBf1VvkubMWcD9eIxxGg9mPPod2d8rs8tNjkbvnKbHsDtUrj31JSKbHOzRujaTgtHYlp03duwRrP8dLSUfM2DVCrrP/EUdpGNzXfWokf3Ost00qHB9CyUR3cbrqz0zD9oUZQs1R33hQk/w2Z2nJtexhpNcyWyQK3OGrYhqGLkBHowpLr/O+AB1o1QwNxQM3y5/BEef/l8bpzcNmrmLb6gugzP2+Njqx4B/9dflL01cTjY57EvZ6KT9yim8+oglwTfUWybO36sPIHd6tk+rFt2Qh1bg+xz/N8vgQRZj7jSWueexi/bQ953TDQz7dNm3/wbHvovMrb2qnnfAtybuSPOCbHj+PweTsa1A5QMmDv+2jTZJQaIOr8wT7M7eNNvOv/WQ3tX5W54SAsOPs22gc4FBlfDkaV/p+JvkZ4feNKPFNDGx7UwWV4ddpqqGdNqNZej6zAO/9dDvWseXwMnsx10uTn3iRIfuW5pwh+PofbSqbj4j5s/u77PF233RwX07FzyxrvPbRMV22bo02DWsh1GStQ3vuk8PLnKOfJ+cmbPNc0/TjecgDrPv8aX4oZBD63/FtXlPcNzdG4aSTnoZGYf/pObNm0GT+478PDWEa+7uMiff4KJT/PZ0Hk5544T9touMe5q8tfMbCZSYVPhrwm4H1Q2hIkz1wrjl0ZtPrDC+iYpA8vAGx1TsNW5yJQOFudC9ZKSYJSd+A0ZcErIVqdyz6hbJg20KTVAL1LbKOMTzkcuKWS7MNKyviOSlKg6WUXaB55bXUufbbSTR8/6cW1QVpPuaAsGZaQe/qoyFYOp4xXOibp8zftEpU241OUw/lp3iV7jzI3UKsxshP7MnnViQDbHsm6eVsekS26nd08Relilq4S6iqjV5xVpzi7NkDaS2ihTFyrjeNjxSh9HJEWRbpZPNx8OxOb/FlZbLrzQrU6J86HDdOUgXUDbX/+jovxPMzdtVOMqyJbQZsW5PjJloOmbTA/fp40PypF2TOtk988EpRhS0I14+HdP7m7PLTYZDgvc3W5zqeryi/fjA/YUpLa0tG0zYpJalAFTENqJ/Ow2YpvQ0tR2kZxBPbMDZLvybSSvEo5EeQ8kfti8+bA6S2xyxRlc6AND7Xf1LT6jfKLWSNTQfJNo8AtjoZqxemqsmN2oH2jnUMfjtA/5zl/jdL+y+91Z8cUpZn+fbfZ6fpAMzuUKc30+QxaLK4oRgWTz6hCHtvIlp29Z26QacU+b5OsrMqd6IX8ni9BhJnPGFudSzmcooxvk+g7rt4l1B0e4LohnVU2TxuiNAl4vokuYF7lzXNGrRDX2MXDA+wHkV8NX5y/4x5StrLtjWb6cpopU3bog1XHlbl99HVoPVXZow81te0NpaG+viNSwl1Rw7nQbbYS9KyZ4l5H/1anonNvkiu/8txT+F6H/YVsJfPqL8o349soiZ518e3U63bAzOissjY58LRqupq9Q+Sq14rhGhlW/hyta1oEeZMnLxDHcbNY/5p+0zabIlKh19VfvgmYD7iffQKvZ2hnxT4Y0iTQ/GUXeBl5uo+L9PkrlEiez4LIyz1x/rZxnTIxSfs+QZzzZut2fG4fzzwCtULtyY+SJoo5Fiy2Oqdhq3M3GP9WShLb9lFr/B/0SD0kxGXh0IKRGPhP+TNFAI5f8eXwNmjnrlS3VCLa9nnOMA8x7NJmTO7ROEBLJUcwf9B96DH5B5wR08cl3OmZ/rlBj6BRov5rljqP3phqVoNlXlR5FM/016LEZz5aho2BKhnIWIX5WoUHaDeoYx5+bQ/tyPxBuK/HZPygbTDu1Pf5c88NwiON3K19XMLmyT3QO88bfA6pY7thiLvVmMS26KPO29vyjNyXLz/aBq+sNzkaUVq3nJ+nYkDHsUi95E1TnuVnHcK/ez+L6fPGoMXDIu05ElBPbWlCLKNeAtSjk/UTXu06Dt9kyA9mTmLJ2I7oP1Nsp1jP5mqa6YO2enq5tOd99G/cNXDrOqYc+PXL4WjTbiQWaInZs+4yLdbTErO67Y27TkdeZl2qendtPo/V1ofIX2+04/Lcc91RXVttOPbOw6A27TBSP35xCfXwyCA5jnffyJaDRrZrg+Ff/mpyPum+Go5uI9cgq1RNdXr1XKz8LJ58KFQzHgloJtfp9y1Fn0aW9tHWs5lnWEilqqN7oO3tXl1PR9I5bHmzO5r1nqzlQeJYamlBjNenLdTDKVs6GtkGLf6SKsb25dg7HQO66vmXcVrP8ZJ52DC0GThP5DRu0dlGmXd2G5I73/Ost0wrLz+KNq+sD3ycDryO/h1lehNrVc/dwpN7ejEHsYyOzxrX3e0cfvjnQ979ZkyrxuVP7o1m3d/EFv8dV6Ac2Du9O9oM0/eN4bhoeYB2Dv3fDG3siOR7/0Vw3anTDcP1qm6Wf7baZN66nan4WP5QK87a/j1bw3vmFVw+E1qEyz6XirHdhuSe1pj3bn4Zj7Z5Bf6Xl6icL/7CzmfcvsLwjj0wWZw0nmujZ7tlVjNTpKfc6y732/p/tUHHkXOxR55vYv0bufMaue13uq9bMq/qiHGBL1w4uUSkyf4zxX7w7j/PvZLMr2b2R8e87INwyNIlC4ej70tqgkRcr3F4wqem3Uu4pFfIi4ploBYqCKRkGc9rdTt+1UqHh1YH3bwnDVYHPmmQqp00iOvfE60Nl6uCvW+K0LkteLN7M0+F9N7rtm+LfyPbtMBfUnNdxUR+OQBdX849rSddyHQ1rA0Gzgu44wqPfOfJ0coXD+D1/iLPPhqHhOZyei1vaje8m6dy6XNb3kT3Zr3VfEDsce96evIx7dmnTYu/INfhCoNj/b/QRuyDuVpmgcRG7vnL9HCn91wXy+g47hsEzC1C3cdF/PwVSsE9n4V7T5z/bWyEB5/U7uayFqw1ec03AxtTluj9wIZvN2ulpHykYd0XWn6U8OSDYo503enBKAqg0JVourBCGaVHfEvXHKDM9v3ZX8k+sUqZ2ML4y0LuX/v3z3RH2xOUFhNNfo28ukOZPaCmPn0z5Y1tviNcWDLME62vOSrF5NfMbOXE6r95fkFOmugXUw7y622gX6C8y0xQf100kz67mzZtrl/VInRhiTLMHZWvOUpJMfn5NvvEauVv7l//8hpF9+yPBKXTtD25ovhXd0xVOrmX32euclwfrop43Qy/aqnzGKYs8ClOIY7lgkE+v84kdHpD2eCznGyfX3AG+e98z6+PWpfYZZpfaZWryi8Lhik19e8TxDb6/nrq/aUu1y8Y+2d69k1Ci4kmv8rLUhoDPPNu9sY2019Jggr66+l+ZWYn9/lWUxlg8gvm1R2zlQHuX+oSOikz/ebh/eVedO3e9dk32dl5WNuQpSLCFOLX4gsrR3v2Z80B/iWPhOwTyqqJLTzn66DFxp//ssXs9f0l0qteSM5LTJsyyp33JCn+WUdk2+hN6wmdpil7ciWVHcpUz7Hso8z1OdH8zpPELsoU/xJqPtP7lz7w3W+madVnv4l9O3qlb4maMLc9XyWaDPM2WzefNCy7sH4xN4rC/ovwuuO9PgQuBbFuYpI2TtKLylrj/As6nwl2bCNctic9iLxnWu5Er+yY6s27+/gk+kjOlzCEyGd88sWEusrwBb/45q0+eYVJyU9DKbaETlNz51PC1V8+VPoGurYaS4jIeZjs++wTKd5SGAnDlJCFT0M6rqz891hl7B+6KHcbSmHlvmZKK5XR7nUPlRlmpygj9HkFKgVgylCaPOB06yYqSeo4ScqLxpMmmvcm/tsXcYmmC8rK0e60Y37d9rmXThD3lD6XMZE29G2rKdYt92XMkC6uQakKjSG95rVEk+zykSdHnC8a8j2ZfkZ8Y1x+trj/0XsviLTu3p8mzz1y3BOrJiot3OsyaHHA0tTmDKX3RD451TyzUD7sGzi/C/c+LtLnr1Aifj4LR4jzL5JtzBbz1qZtKIbrAz0MeZ7amTzrefKswM+K0cQSTRqWaLqBHPnqHUxVf8VKwND//BtP1PF9X9heoRXGL9ZbGTHjSMXUv6xRS14kDPoEi8e3QgX/92SL1cETM+biJTVovQvJ731niN5nYNX82er0SBiJ6S+3zz097KjwwAAM0WqwxJkLV7SeCMQ/9CS0+iyzMOtT4/q4HcHqz7SKNf1/VYtUxqr5esswCRg5/WW0z73BYr8/gAHeDUaetjh9j1o3B1AfPVrXyPUuvGx5JnmMXj5rSQo2GjY+uusm5/EOulczpilxLB8bgIGe9NQU/3rnT2jisxw7avT6f+iif9q637fCUh+1X8I38wfDN9kWQ7Xu72CuluCQteQVfLpd7Q3BgdSpf4HasnPCIHyyeDxa5U7MqPPEDM+8dyW/h+8C/3CdZ44fPsI/1BWQmzYXM57wbfVHKlbnCcyY+xLUNchag398FKjlnzj0//OTPvvGbs99PK+vNHw28d9ac9xNX8cXM57wO5aCvQJajV+MGVpTR/hs0ieGZrkP48BWbX/h0c5o6197rZi2/YRXodWKdwYL14aVEMKUjj16Qc/6PVqjRu4TDc8kj9FLQi5BivFE8yHy3tkf4Y9NKvieq2L6p8c/K76VdmHrAeP0R/DV2/p+i+uFGWZp1We/AUf//Ta+uiY/hjvww0eT9DxInN+zcq+bTxqOWH72X+TXnSqPPgOtYOwGfLDU5Gdcxw9YMkMrIpLwZEc08cz/euYzkS873Zvo0Tp3okedZ5LhvbxsNFxbo3W+RK7pvxZicvdqvnmrzCtGTIBW5iYL6/0qyt6+bIZIRVI7TH7/mdz5lFCs2pN4ZqD+4cwltXSKOTGPubn3vb1Ce4yYoJf6ydqN9ONab/4dxvevT8GUeak47l6Zym0x4qmmSLDpnz1cyNGz0pDsMb7nWrgMpck3fLDUkI+7ibxjyQy1zjxx0qCj96Qp+PumSKR9hon/VnNjcRn7wvS67XMvnfUZJn1i2PrDB+C9jLXNVQm7TBcTXtWuYjizEFG9jBWI/OTJUc4Xa/8JQx42Lt8u7n+0vrTPJkI7XE3x+hczcj33yHErtBqPxTN6aSXIP5sE4+EKafsyzNAyC7Sb/D6eMc8s8KQ3s8ClgJlFkPu4iJ+/Qrk+z2c+ItxGe+MH0VPNctKwZJPWtp3H9s1YJmfcdCiGquu/GKs3+95Nn1i7GOqTYNxAdG6Za+PpOmCgqUjJwNbl7lZK/ogBbQNEUwytjOTyQwpmabkQBvVrb95KiWSvj3a9tVvIrNnLDMXS4/Hw22nYu3c9UhYMQXOT81hWjrht2WJ8e0AfsPWAyDIiZG+OzoO0bcqavxhr/XPenV/gHS13wcDeDxleeYhc/MNvI23vXqxPWYAh5huM9G3LsNi7wTiQlw0uUUa/kG/A628sxO7zmeono/q9pyNl/V7sTXsbDxs2LqrrFtcDbQw3ih7221Gzvt7fqDda6g8lPuJLedJS2vHA5ZbbDe+N+qZ5v11s43D9oSENHy8P587sB6RoiVlc0PqhfeDEjPrtemsPRFmzsczk9cP82rLiI+0mG70w7g/1xZLM2ev/AePc953/+VKsuZl2aNMwmim3ABxcgwX6w2fnIV1yP3x6lEPrbnrocdd8rN2r9coi6aXcWdOs1/Dmj+m46H844lvjrytWY7tI18ufdSe8aCiBMvqyN7z+BhbuPo9cZ1r93piesl7kb2l423iiGcX1waMB8l57tdp6C1HiWeTUKb1POLEWngamxgzHYwHTajk8Ntz98L4cH38XJGgbNbuw7kv9HZxeI9DL7PwW7GLfuN+kiUh+9l80rjvxLdBFu4PFro9Tcz00OzYuw0fqbqiNP/VubjiXr2c+E/myS3gTPd5YuBu5Ly/10Xt6CtaL8y3t7YcN184onS8Ra4kBDwZIlFV+h8b6Ovpfd+o/u1ys13asXvEKHjWrZ1tWlLtuDpZ8r3/esAfpem8uLbvi/gB1dVdJdK/bFuw/pvfmWw5sdfVXj/q0xZ3yHZOjqZg0sAXuaTwmX68ERSYeLbr0VB/exUmD1NwnDZZpJw1q/6m3z3lZ4PdNETi4ZoEeWO+MIV1y/7jnUa41vJextfBexkrp92zyMvYmfky/iNyXsb9ixertIg0uR1QvYwUhX3lydPPFhEebeF6T83UQa7w3HegS+KZDHK5u+g+euzDfe9MRWv1nsVyk1e2rV+AV88wC53evwxxvZoE9ATOLIPdxET9/hXKdns+MIt1GcZ3urJ9z/q/GpW1aoq5r9c4D0LONPAOzsGCt8QU776t1cT0fROPASYWuIQaaipTd2J6q97aqG+TXZTvuude82Zq0tI1atBsXMWNIIzRqFLh78l13TroDxtf67aXLIzGxFu5rmKBmvilzpmDcuOfRr00j1KgUj1sr10GrXi9hif7sEi3NHv+TXipkNv73je+buTtTPxaXFiHhWTwe7Si2vTTKJyai1n0NkXB+N9alzMGUcePwfL82aFSjEuJvrYw6rXrhpfxucLO+eLGl9gB0dPZANKtaHpVqtEG/56dgzrrdOCWfxKs0xH21EpFY3q/1j2iuW/2auD3UrmuQhGp6b941QqfGAe7WpSp18IB+z57266lcN265pKVho5aYcXHGENM07OmefNfzEBF+HRWhHMTuH/T92qgZ7g76nBWPWs3127WsjXLVTdyO8kEa9omIbKVHpItA3X9W5X7T3dShnVij965+sbP5vta7NqO+0cc0PoBVRKf/93+oLHuz1uCljnVQuVI11Os6BMnTl2HbQfkwG4+7722AJJGuo9tqTzP0fbGl9tB0dDYGNquK8pVqoE2/5zFlzjrsPiUfFqqg4X21RP5WPnCLLPWra+tvpmJ5cRRN7N2m/comtKobOOdW1W+oB1yBNTsP6X0F6MQebNDTY6NmdxsCDf6qoI77BI1EfvafEPl1Jx4PPan/Or9rBpb5xLIz8N1H/9GCxrUHoK3xied65jNRWHazvi9Cu7wcxeyBzVC1fCXUaNMPz0+Zg3W7T6mB3ioN70Mtcb6V90n0UTpfIlYHVQO2GnQrEgNdkIqVFeuVhAb3JsGSvg2rPp+OZJHXDenaCPWq3Yb48lXRrMNQTNVLMgRVpyoKsOEigxYYs+gDTJo0CZM+WISf9u7A8pe0Y5B16N/o7VNPjjcQGFLGpVx15YXLW5p8F2b4njTI+O4j/Ec7aTDA56QRCvq+KQKHdnquYnixs8m55OnawHsZ2w/vZawT/t//ablY1pqX0LFOZVSqVg9dhyRj+rJtOCijufF3415xv5SYWDZXaalCJz95cpTzxWqJt+p9/g7Be7heRGez+bu7NqPgPVx5ifoWQ1mRVpMa3IskSzq2rfoc05PFvdGQrmhUrxpuiy+Pqs06YGhYmUXg+7hoPH+Fcr2ez9wi38Z4NOnQWev1eYPjBDZ/KwOOCejeoj4ateih5otnVu7wBsoyVuEL2bim+KZnlxZB7mXoWmKgqUi5ggvuzCFEUej4UuZx5KNp7huFLJw5lCYyhcDdIVmTnOoAjp/Ve1UO/PrtBDxc7XY18+05dBymTJmBr7ek6cW9ZUV9zVEv3JugcNV52FPcc8ncFYYbrvX4/E3tAlD9j91No/iRcvz6LSY8XA23V22GDj2HYtyUKZjx9Rak6eXbZWWQzfO9wdUx8ONFGNvYXZMecOn4Fnw9YxyGdmiG6pUrodrDQzBl6b7cpT+Egl03P/ktgq9qgKSgUaqSKONOtjt+Rchr69E0eFLzmUOmadjTHTqjX/xEavZNzBFwwpmt94aqjFWoesc9et91cGa9OEenBOwWpgUsB+7j4GHvT9qXjpvsZ2PnefcDSD/lDWTFt/4HvvigB+5Un2CFrDM4lDoPySN7oVV9+TDbFP0mfIIfj+Yu2Rep6gM/xqKxjdWKXlWXjmPL1zMwbmgHNKsuHxZEHjNlKfaZnWiRcOXo6S8BCfGhzqBKuOta1mB56ZJeKg+IkU3RBlHSc4JeD5Ffd+zNO0MrGJuGd79crw5TZazF4vnaETJWQKu6nvlMNJZdfSA+XjQW3svLJRzf8jVmjBuKDs3EA2alanh4yBQs3Ze7VMZ1O1+i5NyW6XimaVVUrtMKjz01Eskir5uX6r23kZWLNw4R972u7BXQ5E8f4xN3aW6f18oNQbb0UyaV4hqcOuW5nsaGOMdzMZQmT3v3S3G35ZaBtYvna2mu3XB0MymOck3vTcJ2EN7LmDgXzM4lQ+e9jKXDexmLR+t/fIEPetypPuxK8vxMnZeMkb1aob78sbBpP0z45EcUwGWscLhW+eLBw97SpyL/MZ2/pzvuff011Dnh79wWTH+mKarKQMxjT2Fksrg3mpfqXXdZoXWEmUV0nr9CuU7PZ7pobGPF1o9DCzUZXo3L2Ai1sFJcD7QQ90f2xq200msbvsVm/UA7Nq8WU0hd0LkFw0yFBQNNN632eHH+fMwPq/sQvWvpkwk+LYnI1hlkKxNj3sL/5n+J1dv34vCp0ziw5l08nf+iLwFUR8dB+m/9hlZQHD8sgVa1Rm0M6lgAZZSPzMeg+3pg8g/aBUdr+WYM3vrffHwpi0YfPoXTB9bg3Ug2uFxzjE49jKObFuGtEYaWIVQiw/5hHsb1vhc1es7ybbnjWqzb9RBrQ15uh9u/aJZuzbsPjYk5WjKu4qreG8jZc3m67SnkqmPQf8z3r1n31xbGn/jsqNFnJn5K343VsyYZWnTRXdqDrycPQ8cGTTEm6u+KlEPz0ak4fHQTFr01wtDykSbrzA+YN6437q3RE7Oi23SY7iIuh3zw+A2nftV7ySM6151mePxP2sPCmRlL8IP7HtZTn0xn9H0wcKnL65nPRLLscs1HI/XwUWxa9BZGPNLI05qUKusMfpg3Dr3vrYGes/xbObre50v++bYi5W6lahKmiv0jX0NPO3oWx/YuwosPaOMXXuXQ/vE+ekAjDd9tdb9OWx7lq+q9Jy7ggt5r6uxx8SinqRO4eFhAntLkZ2Zgifek8bTy27nvg8h11hSFe5Pqg/Afv3MncPdX+F7GaqDPzJ+Qvns1Zk0ytGKou7Tna0we1hENml6PVx6vrWuVL1Yf9B/TeZp2f22BsAuIO9bjX206YuTcPWqgyt2K4KSpYj7y1eC0ozh7bC8WRS2zyP/zVyjX7/nMXwTbWLEx2quFCryvxnmCSF1aaa/ExTeBVvDJXT+gAxtXLlDzGvTqFtV6eilCeoXhFEDhanVum/JGQ722/UGLfVsk8nNh8SB9Hr4tD3nn3VqZukcfmBfZa5UXPa3embckotmjTG2tj+ffAkaQFnYCtxKiu7BYGaRPq7WCkq2sfVFvKajbbL/WyqLBMP/SNZVRKX6tchjsmdpaHy94SyjhunrumLLrx4XKtPF9lSaGFmi6zXZvZTTWzdDySMCWSoK0/uJhaPEkny3EKMo6ZaI7bfnMI0Crc4Z01DpfiTlMAdf/uDK3j76+Dd8QZ2dw3mPg22KJt7WS3C1E5kmwlqvStyjLli0L2H2/15CbBDtenu9KKyNSotiiR3aGcvLAVmXlJ+8of+iY5Gk1JXfrX0G2Mb+unlOO7fpRWThtvNK3SaJn+3zzk3DOEylAWvW0zGTSKqM/QwtRPi3CGLbdt3UwX950Fmarc4Y8tWHuZl58bHujoTZ9WK0aGUW4/6Jx3XHL1SpNujK7mzZNwrAlua+r1yKfCZSuC2zZV5Vzx3YpPy6cpozv20RJ1JdRunQ3xXN5CSSs8yUMIa4L4eWLga5N3mMasBUpVbaSMkIfL9dyglzTjAx5Yp7ypOwTyk8rRf4r8rx/rwzRZN+eqUprfRnG88JzPoZoaff43D76eJ2UmQf0gXliOEfERqpnjbsVR9PW9qJ8b+K/Yz373KRlUg/DsfXLC7xpa4QS3cvYSeXA1pXKJ+/8QemY5G6hTOTjL64NuP3RY0ivYeXPEebJ0cibDPPwmbcPw3aNSCmQ/ehtkTRB6TQ1dwuEbtkpI/Txgjy7BMmvIn7+CiWa18lgguTd0dpGz3z0e2t3i7DGex/3OFqe5H1+CHZ/FG1sdU7DVuduGLXRsJ3+m8ni1fCrbN/AgR2b3JU5+apevYn+q8sWfLM5eJNGaUuSMWVOClJSNuFX97J2rYO73thGI/9g2pKIKmMf1hvraIuW+Nbo6W4FZc4qpDnW4HOtkgC069Uq969qETNUlNtoJP7Q3q9VDo8M7MvXBjtwUdYfkfI5ps9a5VPUt1hZWb/B4xg8cQ427JiFbvrw5Vv3630FvW7RtgE/7A7SfsbOjfhK35zO94bxE0716miinw5bvtlseJXSRNoSJE+ZI9JyCjZ5EnOkKqJmU3elUkvg30CGryPY/I1+DBLuwZ1h/9QWJVUaokOHDgG7lsErmPK6sw5a6r2L12z0K/3gK2P9LCRP/1zs81XY5f5FV62AV+Qpc6Zg/s/6MEnW55HUAK37PYcPlu7FsvH6fj2zFrvzUD9BMGolmKtS8Pn0WfCpkkrW5VLrPjw+eCLmbNiBWd4TDe4zLWK16sNda97i1ZuD7jfHxjV68W+g6V3uIgu+zgRs8iYf53p8LbirD0tbsilIxaBHsPP7oIm84ETzulOlFXqpBWOzMGvJGjiOrIbWYGmAhiSuZz4T6bLVCpdXIeXz6Zjlm+hRVtbj8fhgTJyzATu8iR7uy8t1PV8ilbEV7nZT0H8knjZrRUq1Cz+v1nuvNfsefNKzp/pqy+gPja395XZi2wpxxybFoYlIE271W3TX6hwzaX3Jy1tBLqo/hIb5qmyqClppJw2yZi3BGoehld+BvfFQrpPmWt2bnEHgRrMCH9s763iuYlizMehVDOtnJWP65+KatWqXp56rTLXOqRTMmTIfvpex8khq0Br9nvsAS/cug/cytjt0VQBFzTXLF++E93CtQfDDtR6zkqfjc7GcVZ6bjlAMjSyhP0Y+nbsFQrddEWYWET9/hXK9n8+EaG1j9Xs7axXIq/fW27F2odywRniwgffm2T1O1oK12LJ9LdRR0BmPt77WN9gUDANNRYodLR/XKzPNmopJM/2LuWscez/EP/XgSy7NH9MrdhT3heNfx7eB8uJz3+LdPyZj3FBxI/TiOlx051eZV/Cb3hvYOaROfAFqnWxRZ6jQdcMcrFq4Fgu0spIYZNpaRKQycSX0BuNc6kS8kK8NtmPX/7rjsZ5PYeTwt7EiUL5cuiKS9OMWF+M+bQt63aLvs0nTsN30onkO337wprg1FOK6omdYF4rmeMybmPF64MSMb9/9I5LHDUXPni9inScxR65+x0HaKwXYgEnvfhuwwtVz376O8fq9TMKTD4rLZcE6dynYY0u4zuHCZb3XLekhDNDfXj3z1ouYGeh1GcdezB03HMkjn0LP/nNxOEYf/lsK/t5Be7h6Yf4PAQIudpSv4g6wxCJQlSJ53Ub7rv+h+2M98dTI4Xg78ImGit4TLXoXSEOAPGvqpKD7beaLb+l1JrVDF+O7GtWroaHeu33TftMHU8feuZic53Pd8Eryhkl4N8B5dC51Mia678evtahed6rg0Wf6qzfD8qH5s+WfaRW1B2xI4nrmMxEu274L/+v+GHo+NRLD3zbWa+irdMUkPWARB/fl5dqdLyb5TKSuXEHoWTqwd/oYJF+n2CnE2dxKbwVRXBgxzfzCKE88vPGSHiiK64lW7kxAavQgnlR3fxamTprp+1q9zrF9GibpJ0XtQR2R38oFqjz6DNQsLGsWlny2XA/OJuDZx1uaBJEK+N7k9pqeltC+3+nfFJ7m3Lcz8W6AY5v00AC9wYUzeOtF8/0myfx03PBkjHyqJ/rPPQzvZezv6NCzJ4aOewHz3a8S+rOXh/cylreqAIqGa5UvJuEh700HXgzw3KOez3PHYXjySDzVsz/mem46QrmCK2HkP4690zEm0swi0uevUK7785kQrW2s3w4D1EjTBnw790sskbs+4SHUryGH6eq3QHe5rDML8eo/PtZ+JGvXxfcVV7ruGGgKRdH/FhL25k96WijbMKoter67ESc9ua4DF7d/gkHdRmKN9up8bvbmGJLcWYs4n5mBJ9o8jekbT/pk3JkHlmJMlyf0eo/i0GvcE97KUWs1Rkf93mjLuJF403/aoz9i+tNt0HvqUX1I9HkrdBUP92NmqA9lcf17Bnkn9wRW/cfdwtZ/fH+dDakWGns3GCPfNO5vIfMofpz+NNr0nor8brGn/gPxuDOi7xgsPeBXiUvmASwcPhhv6cejp+dOs+DXLep2vYROPd/FRuOKyu0b0QZPaAkOtceMQtewLhR2NB+SjM5aYsaMJ9rg6en+++AAlo7p4pl3XK9xeMKk0tJ8q/MEJuoVpZ6Z8QTajFjoWzGu4yL2LRyBNk9o6VSsACaPMDadHkXly8N9X7t1d1qAm7EwlEvUfkkSl+1tv/jfJVRBr9Ev6C3UbMCoth0wYekB8Vjh5Ti5EdMHdcMovUXi2mOGeX/xrtgJT+kBlzNvDcYg/+Ml1vrkxjfxzAg9olG7M5oYf4GPZBubPQ69eh4sH9EXY/zWWyQWHFg4HIO1E00807XyBHYiF4+Hnp+kPxzJ/dYT7/541Gf5Mu98t2db73576SX08omd34WG+v121uw/4a8Ljesv99t0kfePwoa4OC1/z4Mqjz4PrREl7Twa4TPvTBxN/Se6XM98JMrXnfgWXaA+42ctwPi/a2ktcEMS1zOfiXTZ3jqpRKJH3zFLkfvyshDDB+vBTWMgo6DPl6D5TIQq3oOW+rpjxnAM90nPMlveh6UTOqDtyDVanR7XhTFP2IWXOok8wSddi/u5ffJerDe0ZB2Hlq/9GZ2M9znG+7kNo9Bt0CfY7rn+6HlC35e0H3AShiL59xEkyvgW6KKdNFgw/u9acLb6H9Hd9KQp4HuTqrXQQn+Y3fX3v/jlByJdLh2DLuKae1Hkhaaq9MLoF/R21sR+a9thgt99lyE/VT/Xxphh3tKOFTs9pQXdxFnz1uBBue6hxUUQG998Bt7LWBPfVgtPrMJ/9BZfx/kU7S1Krl2+WKXXaHgPV1t0mOCXj8n9PX0QunlvOjAsdzG7ACriHm9mgeHDF/rNW9zDLZ2ADm2DPFeFK9Lnr1AKwfNZ9LaxPlqoUSRgyauvqudhXI8Wfj/SNkKLHnJJafj2Wy0I2PTRpgXwZgtFRH+9jgI4trEw1dGkO7tCGVVT+17tEpKUug0bKg3v9taXULNmTb3f7H3hs8qK0XW99aCILiGprtJQzKOu4b1y+b5y3dErxNhG2cq2KQ+YTmtcfkLd4co/R+j1B/jXXxOoPgohZB1Nuh1TmnmWJd/Tf9GnIhd/hnfRA9QHEUz2tinKAwnu6UXn3t8N7/bWbZFQVxn+zxFKQ/VzQyVEVSd+Ligrx5sfj4Z1DfXViK6m2GHG4xH5uoXznn6QuhI8gtRnYajDwpsuE5Skun7rKbrELjOVPbkOZYA6AnRnV4xW6prtA799l1B3tLLCNzGHJ0RdIsrVHcrUTr7njbZtdZUkn/XqpLyxOfcKRK2OJmMdV551+IeyMq+VGhyfq/Rxr3PpROVuuS+f+NiQNrKVPTO7+By30ol3a+nVkAfIzvR47v9Y6WKoc8yzDNHdbRwu9te0XBNHto0XVo43Tyv+x6qmOBY+hyrC+ixU2cqJlFFKTfcyZBdgv9Uctlg5bLJNF1aONp3ek28ntFAmzn5Fz1/901Pw8zh7zzSlk3Ef+M9b7O+aNfV6V/Jcr0Ok+y8K1x0fxjpkZNdMmbJD/yqAAs1nglwTpYiWfWGlMr6uWf7kf72vKZbtO3H+z5cwhMhnIqujSeyzJcPM8yjjPkvsovzrb931cfzrOQpyTTPKbx1Nqmzl8OJhPud0oHuxFhPX+t2LuYn7uVHu66rs9H1pzFPEPcDoPB+g3LLXvuipa052zYKcNFG9NzHZsftndjLNDzzXkJoDlLlT9Tp1zPKc7D3KzC5+16u75fr5XYfE/uwyc484Ur72fxzgGuh3T5PQaZrJNdB7vgdNW3liSK9h5c/RuKZFmDeFVUeTJnvPzAD3Db77W57TM3PfRAZ3dokyzHTexnxOpIN//U3pro/jX9di+PdxkTx/hRLt62QAoe6Jo7SN/vmNWf2W3vqIZZf357tIsY4mDetoutGUa4vXtv6ImUP0Zodl8+CyuUi17cpSaDz2K6x851H5TQDl0DZ5A9Z/OhYd9DbG3c2TupubjEtojhGfrseG5LZibCM76v/xCyx7+WFPS1Gepk3l8kvVRN+3lmPH5sl4rp3++2bI+mvyrs7DQzxFp5HwJDo2KZAyIip7/T/ii2Uv42HvBmv7W21KtRRq9n0Ly3dsxuTn2um/6KZhSZ42OB6tJ27AyplDPE1Qe/app2nVxhjy3kqsfc33eBT8ukXXo/9Zi5Vq2nE3fao3R6unm63zB6JGHg9lubbJ2LD+U4ztoDc17N4H7n0Xl4DmIz7F+g3JaFsQrbMXq4NnFu3A8rf6oqZ2Qurbdgja6eQ+Dovwp0YF2Tx8Mzw7/f+gndLudViOve7mhsJVsTv+/k5bLW8RR0dt/vnLjTjo+UnKjhoD52Pr8vcwxJ1g3c0Ou9uCDnY8q/fH/K1fYZL7eLmXITp387t3dhiLBZsXYXCuiSPbxvjWE7Fh5UzvenvOF++xajzkPaxc+1oBpBU7KrR/DVu3fYoRzfUWivz2m5bvbsPW/z6GO0zOg/jW/8DKryZ58m339DLfjruzB95b+R3GN71V+y6P7DUGY9EOw3ExzFvMHD1E/jN/1PVqISra1x07mnf/o16iRgjQPLvR9cxnIlp2fGtM3LDSe7/gOW+81/tSjYeItLMWr/lNXKDnS8h8JjLlOr2DdbOf0fNkwX2uyX2m769tBxbhr4+30NNBsHqOCooddzz2X6xd6c1L/e/FStXsi7eW70Dq+OZ+92Ju4n7u5ZXi+tNDzxf1fannKer0y1YiOQqJ0t68O/7oPWkwPMhJU9D3JtUHLjS9Z1Kzg8Zj8dXKGehzV5CbCXsNDJy/Fcvf887j0nG5fu7rkHvfb8X8gTXEkfJVvb+4BprkxZ57GpFndhi7AJsXDc7zPU1Rcq3yRXuNgeK+YTne8+Rj7vsGfX+709TW+RiY55vITnhn3Ww8480s9HnLfC4OCc1H4NNtB7Dor4+jhZ7+Q9W1GFgkz1+hFI7ns2hto71JG6gFllSd0aFJ7lJq8U06iG90tbvhPk/+RIWFRUai9H4ycXzTImyY3Evtb//WfpRIMK+cNZoy9q3BukNaDYe31e6AhkHKATounkLazm1IlxV2xN+OBnWqo3xpkcke2YqUXafFwNtQu0PDIEUJHbh46gh+2b0fp9TzPx63162BpMSyASvE88g8j4N7fsJ+dcI4lL+rHmomGabL2Ic16w5Bbknp37XE/b8rkWu4//Yd2ZoCdbVL3In7Wt7tKaqc2xa8WrsN/nlE5C0v/4h1fwz2lJCBfWvW4dC6qej5jwt4a8t3GJyvzCgT5w/uwU/7T6kX0Ljyd6FezSSU9W6wthxtg9Hy/t9B3+I8EMs4fhB7f07X62AJ93jkd90MwwPuc8M4t9VGB9MEeQRbU3ZBHrpc46T+BfFdp6q9QxdliIcZmW7TsXPLbjXNxd/eAHWql4dMtua88y5x531BK66W58ORX3braVLOuy5qJCUa9kM+eM6lErjzvpYIWm+24yJOHfkFuwMeh9w8aT7kuRoe476VQuUhgcgKT7dtdKfDwNueef44Du79WcuD1HygFn5XJdjx9PI/XnJ/1fpdFS0PCyIa2+i73qHSSjjniRR+WvVdvjjPG9RB9fKlcz3QmDOe7355ryd/9U9P4ZzHmszzB7HnJ+2aYEzDnmtTyPzZXxT3X36vO7mEf6z8RT2fCXJN9BfRssW+O35wL372JnrUrZGExDAmztv5Er5A+Ux4+WIYaVrmyWk7sU1f8dzXG286iKlQDw/Wd7+37R0e9HzxXB9CH7tQjOedOPFwV63foUrYeYLgc27kNU8JT/j3aG5RuDcJtv99jq/fNruPTch19bvvytO+97+HDuMaaDjfg25bnhjSa1jHJop5si7PeZNhP+QpD/bLx8K9bwhNHss07NympwPjM5XOk/5jKqDeg/XhyS3ydR8XwfNXKFG7TprIyz1xRNtoSKNxVXBv69omQalz2LVqE47IeUftXArfwe/ew0//G672PzbzIqwxnsjYTeVw+lHYbFbR2WCz2mCx6v2iY6ApBJ9A05v7UeK2gg80URh2vov77h+LXaiNl39ch6BxJt2JeX1x95CSmH1kOh4L83pGUWASaCIiIiIiIiqKGGjSBAs08dU5KoIc+OFTvYWyMF55UDn2YvEHSxDXtRNMSl8SERERERERURQw0ERFguPieaiNqaiteLlbuknA0OGPhlFE9RJSx3XCqKNd8e74rp6irkREREREREQUXQw05QnfMrxerq4chcq3xiP+1sq4d+BstUncuM7JGNE2nOJJpdDyj0uxbetH6HMj18pIREREREREdJ0x0ERFQnx8eRjffJWtiiz6T5+wK06233E3qkVcux4RERERERERBcNAExUNzcdiy+ovMX/+fKSsP4wDqaPRPPLWeulauOsJ9bjJ7om79GFERERERER0Q2KgiYoGe2nc3qA1OnTogPtqRaHpT7p2qjRUj5vsrnHLo0RERERERHSNMdBERERERERERERRwUATERERERERERFFBQNNREREREREREQUFQw0ERERERERERFRVDDQREREREREREREUcFAExERERERERERRQUDTUQmMvatQUpKiujWYF+GPpDomsrAvjUyDYpu6xF9GAFHsFU9N7lfbg7e473mBsyMj2zV03LKVrGl15njIk7tXqevTwrW7T6Fiw79OyLKnyNb9XOK95NEdHNhoIlubo6TOHlO7zc49f1L6Nmzp+hewven9IFEBSTz5Enkvv88he9fkmlQdJ/s14fdXMz3y358op6bhWG/OHDSLAO5KWWKfVEQT1He4/3SDZgZ7/9ET8s9PxFbev049s7D042roXqzDvr69ESHZsOx5Kw+AhHlz/5P9HOqkN5PBrgPLkwc4l4gGqtofk9ROERrG4kKEwaa6CYlHhA3Thc31vfg9e36IKJrLfMAlk5oi2r9vwLjmQZFYL84Tm7E9Kcb4x5mIOJwLcWEttXQ/yum4qJpJ6Y+NQQLDmWpn+IS7kT16tVRvV4T3FlRHUREN5wicB/sOImN059G43teR0SrWJjvKaK1jUSFEANNdHNK+xD924303FgTXQ+pExqg9+TNuKR/9lUK1bs/h+eeE12zBH3YzSH4fikM0vBh/3YYueAQmIOkYkKD3pi8ufAeLQph71rM36X11h6/EukHfsKWLVuwZc2f0UwbTEQ3miJwH5z2YX+0G7kAka5iYb6niNY2EhVGDDQRERVKFdH62UmYNEl0Pevqw4iIouzYfmxRexLwaOtGKKb2ExEREeUfA01EREREN71qSLxV7yUiIiKKgO0lQe8nE5eO7cXR9Z+p/b/r+BzsJW9R+6kwceDiqX3YunYrdv3yC345nY0SJUujdPEY/Xsj2YLROvy8dy2+/HqrWvFeubsbo+wlMd0vGYj7XSLixbBzWz/E1GVHRV9lPDz092hUTvRmnsfBHRuw8ad9+OXIRVjL3IKypsswIVvz2bcVa/8/e3cCHkWRtwH8hRjDKqDiCIZDCRsFBOQSogQhMRyCXCKnoGIU4cMFxMVdLl13EeKNGHUXDYi6UVRQAQWNQgwCcgWCckVCIBwmsBxyrJBEt7+u7uqZnp7uySSZQBLe3/P0k5rO9FVVXTP9n+rqLTvU7ezBfwouw+U1asB5cfHEsTSk79qD3N+vwXVXh6mb34lN36nHqB5fDXXbl4eFyPcWg9iP/ep6Nv6An0Re7TmI01XVfal+OYpenSWfi5MHluM/eLoqrrjyKufjF09pWfej+t5c/H7NdVAP35Z4YtO6H9V9yf0d11x3NTxvk+WsbutU2B8RLgoV53Bi7zZs0I5dPe5Lr8bVV4TB+7DV9+zchO+0/fwPCmpcgSsvt75HJ55MmJa+y2vbhacP4Md16/HDT/6P0Vg245uPkJatzvhDPbSMqIo8dX+N8jbXgT2nwvBH/SBsFZ4+gp+2rMGWHaJM1f2+7HLUqPEHOFevn7A6LR27vPLXkj9V1WO/ys863MzLqdsvRf0MLF/24euEBUgXC9wyFJO7RagJ77r5n4Iaat4HUqcFsex+7Ny0USs3o35ednl122PQ61wm1iz9Alv0BgRtrzqjLeepa8Wkti25u7fie3l+FF2GJW0fvMvK33EWzdiHDHzzURr04mqJiKp56v47n7fnTuRi99bvZV3V64tzey14yrvenaNwv9YYmxVi/6YVWL9NX1/OmcsRcW11+T9vF/Y8sbfv6wQs0Cszhk7uBlGb3WVZkvWbP6eKaN/dbVjGN/hIP+FQr2UEquaJ/HEqw+LXIXc7LdsxdzuZ4+8zpDif60XxfB4czL8KDa/5g5xv5nmPp62xKNyPTSvWY5v6niMIR4NaofIfJsX+rC++cyf2YtsG2V4V93O4mJ//1rITvM6j0nwfseNTfwOv/z75op7f1R0+vzXu7xme737e5ef/O4CVY77s+xoJ2klu+j4pOX+HMQugbhoCyr/AvgcXV/Hbdj9k2WSuWYov9A9a3Nj2KpwR6y3i+5BZYN8prErzOVmM78lBOka6cH7J3oTDW5dr6cb9pqBK1RLU9Urg5Cm1nletok5VUbVKVVSpItPqBIX8+nnjZ8pnw0O16b9H9sq5VD6cVfYsn6Z0j3ApNWrUsEwuJaL7NGX5nrPyvYaVykSf9xrTRPW/ut1JcXJenJK0K0/ZkDRCaeGyvl9sI0FJyyuQS9koEMuOVNqFW5dVJ1eE0n3acsVnFzW7laQ4/X1xSbuUXW/3UcK9lm+hvLhFvjUABXkblOTHuysRPscgp/B2ysikDYr9oRQoOSlO+VxDCW83UklKPybfa1GQo6RMc9puuNJuZJJiu+jKifI9av7vlvNsrJwo1xWXpOaYmaecJ6qFenZbsjKihe/+h8ckKGvk9o+lJ9m/p0+i7T6664jYtlrOaQkxljJSJ1cL5Z5X03zy1VO/fKc49wF76kANcRA2zu5ZrkzrHqG4LOsQkyuiuzJt+R71LLGxO0mJ094n8rdAyUtLsC1fsY6EtDy1Btg5pqQ71W15/qXk+Dk3bASWL6ZzWM0XLQ9iwn3er9Xp5G32xy+IczP5ccd6bdTPDZbCc9c5m8mhmByJfU8Y0s633sjJuQyL2z74ayvtj7NopvrpM1nPW7H9BGVIO5ty0ian9lrwlLenDhjUtmnJaKWJ/L+rx0u256po/5JG2udz2Z8n/nnqk/r5c3abkjyihe/5HB6jPL7QT10Wzu5Rlju1tQ7tu7/zzacM/X2WFVGH3MeoniDHVk6yfJa6lBGfHpHvFNR83pCkjLStK/7qiT+mujp4gZIr53rJeElpLbcTMX2dnOmtYM1TSoT2HpvPpRJ/1gfKX76IzzLnfCnN57+57NQPUiXZ9jwS5Z+sbCvF8fk7R0X9dzxHi8oX8f1kg8O56f6eIb77nVW2JduXn1hHsr+DO5busO/hSowo9+XO32ecv8OY+WsDdcXLv8C+BwemNG27H+6ysZmK8UEb2HcKQ2k+J0vwPTlIx0gXTvbX/3THCH4vPCfnXnz27T+oHDj0s/Jz3mHl8JGjypGjx5VjJ04qv5w6o/DWOaqYCvdj6f+1RqtBs7H2qD6CXvXwSO1JOeHaj9n5OLp2Nga1ao0nvj6MQu0dwqWoJZ6m09Dl/uXIWC4yspb6X6vjWDQhRg7UFwZXQ/G+cOi/l4ttzESvmKeQZve81HPb8Wbf5uqyC7BLG4GwOsK17TSES2w8/yjWzh6EqPaTkSp+zHBwfNEE9BuXijNyee34bnoEd7bS/1+krIWIj4nD6LfWQsuqMBcaavth5JXqzC4smBCHmOfWm/JKdzx1CrrfY+SzkQeRaKgdhFh0ASbERGOyTyYcR+qU7rhntnW78vjVI9q1YAJioifb51+QFO6ei/4xo7UBL/WnKRnbV/cgfSb6Dp+PzamTEdNdHxRTrw9GGavvEcc/5kMclK99HUPalBj0mikGmpT5Y9Sv/H1ImdoLrQfMR6YpY0Oq1/fOf1OZ1K8e2K9m+5f+H1qLQZjXHtUHpK4eri0fKVeaf3QtZg9qhdZPfI3D1kI1OZY2BTG9ZmrlazxtytgvsY6ZvWLwlE8BFSJz7nB096nb3uffPW37Yn6WeB2YYufLlhfQP0oORC2P36iXWp0eHYP+tjuQhYXx6nk9+i2fem3kn1E/42Kew3pT/l1aS7zPU4fc+a5OtXwbEEen1j+LLuq+z/xilz5AqXs9nnXrZRiFER86174i24fCw/j6CXNb6TlW/VDlcbYegPnmSlqkEFSvL9bjOVfcTyuLrA9PcZ3C+me7IGrQTHyhVxZ5jqmTux2W7XXUCPg5VItCHP5aPTeHJUP0PQ3r+CK+/eRxr94Cwrntb6Jv8zhMWGDJZ7ltI4/bT071+2jpkp0nxbEFL/SPwWhtgHl5PhkbOJOOtx6McdzHwsNf44nWYrBba1sry0a2707tkKfOm84Dcxke34yXvT7LjPd5t+Vxzfvize3nxAx76vk6fNDr7s9S7VwNG4BBd1wj33AO29/si+ZxE7DAUlf089qoJ+0x2d+Hpo9I3NrvJj25LAUbbYopa9MytVXQHf1kje3TnzavfA9HReKmfrg1UpulC9JnvTO1vZ0/AK1N+WLUQffncLrIl/6Yaz2HS/n571a4G3NF/dTOI3l87vNXlP9oxPSf787D4ijMnI8BrU3nqLGPxvrV+i/O0f5zMy37dxybX/auLz75Ir6fxDVH3ze3q7XLSSF2z+2PmNF6+el1zvQ9QV3H6Jj+9p9lx1PxRHSM775rmXsG6aLc75sv/lNmip9/xf0e7KSs2nbVpbW8ytFzTqlTMT5oA/5OUcrPyRJ9Tw7SMRKVazIYRQ7Yo6k8KlB2zfH8SiF6nKw9aP615KxycG2i0sf9y1ScMmeXz0+58pdq+14I1l9Bmgy3/JJxdo+yaHQT9//7JR+Q/zAcU1LGR8j/hyt9EtcqXrtYcErJXDTO/cuua/ACxXsN3r0FxC/1nu2rx3fQrhuQnQPKgsHGLyxNlNGLrL8KFiinMpcrE6PktlyjlWUn5b8065TpEcY+zFEyTpnzUfyS+JLSw/iVNCpR2Sb/o1k3Xf7661J6zMlQvBfNUza81MP9y31UoteSpl96bH45NnH+NdDyi12T4d6/ahbkKIvijfJxKS71GFzRk7x/dTu7TZnTw8g73/2w1hFRRuZ6qP3CONxTR+x+ifT/a6Zzj6aCXXPc9bdGeB8lce1Br3I9e3CtktjH8wtj3JxdnmMXTPVfTK4W45RFmadM7zmr7Fnk6SlSo1+yd/3MXaAMlv9rMnG5d922LOsavUzxqlIB8J8vlrJ1RSuTvH6ttdTLiKeUNV4Hr54VCwa7616T0Yt8ehoUnMpUlk+MkttwKaO9TwqVc9kEpEA9r5rI5V09lJd8fnEXbdgcZbA893zOLfP21cm5fTC3lS6lxbhFSqbXiWhpK5tMV9ZZ8qpo/n9tL1DbAXOPI59fhM8eVNbOGSzbCpu2wHb9ahmnTHSvN7zP24q1idccS1HGG3loc56Icl40zuhB5FIGL7C046U9TwLgruva5FKiJ3n3fBG93iZFG+1QhPp5ZamLBbuUOUZdcLVQxi3K9G5rRf4menq8NZm+zlLXVH7bW/NnmU0dsnyW1YgYr6T4/HAv/yemJqOVRe4DVMvxoKfuH0sZ764Hvp/r4rNqkTLO6HXqGqxYi8svd48ll5qH1hzIVT8n5f5pk10+ZCgvtdb/3/qlDDlPKO1nfdEK1H2PMvbN+lkmzuGV05Vo9+fwS0qG+5+l/fy31k/f4xOfcy+5PycjlKesjW1RCtR8Nbav7uNwS8+qswdXKtPd9T9KeclzcF71xffctNQXdd/G+1ZM+T998qlzlu8pEU+tMa1fOKYsiTfWL/LGsu97zNsXUxn0aCpF/hX1PbgopW/bi+b5nlXcnlbe/OdzaT8nS/E9WRWsY6Tzjz2adP56NDHQVAQGmsqhk8uU0UajHTfH/gJDZb4Y97nYLUagyfGLoXk/xqd4fwHZlCA/gF1KjyTLRb6J54uS9Qua+UKyBF/eDKbjjFK/HDutpUDdD31bli9CAXwROZDcz3bZoj88DyjJ/fR1+3z4BzXQZPlyZTDdKuF40eIOltVQv6R6r8Mr0ORUD70uAtV8sLzH/5cfp2DGSWXZaOOLo00Q1eC1bcsFhPkC2hWvLLGNW5q3YynDIsunQFnzlLz4sjnuovjPF3PZNlGmO0RGtiUagaLOah7JmRpTvnpdlFkUpCjj5XZ8AyilCzQVqPlnBDfi7TNfs2tOZ30bPudQgO1D7sfKcNlGNVH302lL5rbSN2heFH+BpgK1LGUdcqxnglpXO+vr8M1P3/UfU/PPuMBpMnyB42fApgQZ6HX1UJKc3mQOFFiDkqU9TwLgruvq5FhG5oCZJZiV+/FwWZeaqG20YwmbLqT6KT5F7O983pboDnJEqJ9zTlswX/RbLyjNx+hcvzYpCTL46uqR5Fim5rzwvfD3x3Mx6HNrXIFax7TzpL/Sv7/+nsELLDfYuT8vWqufJ3KeUOrP+qKY6pefenxsSbysB6b1l/bzX2UuO8d1mOqIbxvg38llo91toWP+HVuixMt2zFPm25REI8BiE9x0M5871ot8d70X/3P6LDBtx/p5ZDpu2wCuYN6+v/y1/awzOLexJc8/VQDf75wFo20v2nkJNJX2c7IU35MFBpoqLgaadLx1jiqVU2kLkSx6p8KFCf94EI1txuMUQhs/iH9McGnp/OR3sDxPSxbbsIf6o75Me6nZBFHtZHrbfuTIpLB++Zva7RwIG4En7m8Mh11Era5DEa/t4lG8sXStNs9H2GDc0cFpDUWoH4tnFi7EO7NexsxBLe3349wJZB08IF9sRZa241JIiLsb9efL7G/Bqt9pLF6e9Q4WLnwGsaaMCglxL4llXrcvGuqj09iXMeudhVj4TKx9HgdD5CDEtbQ58patESeT6DMMPex24OpwNJLJbfvNJWwWhmF/HmJfD0MbY8ifh+ldyPPnY9lqmwwsrlNpWKifAHBN+AcedD4B8OA/JqhniSo/Ge84nQDDhuBOy+1Gupq44ZaWMr0F2ebbBqpeIrvFb8WilXa3JISiXf8EzJijlu3C+yFvWgm+NhMwMMr++Ju1iJX7uBm7f9YSUn3EPqPu1zuz8PLMQbCrGuIWnhNZB+E+K7xOiiC46X41XxZizozXMM4+8yEGTD6UY3Sz346cvTJp5ad9yFPbysVaVWmPiaNiYb8lUVX6YGRPPb3i39/AaVMlcdP9og7MwYzXxjnUs0KcPnAInkPN8bv946lPILrvHK19rTcsGV/NG+zwGbAey9/Uyy1sxBO43+k8UXOl69B4/Tw5+gacmuESnSfFEocnxzuUUa2uePBP8l6tFf/GN+4MykPawsXQi3giRsU6ljAa9xkJvYhX4N+eFRRp61fzsENLxeGZiV0d61CtrhPxjGxQd7z8qZr7djqi720OLf365dCLKwwjnrjf8XNd5MVQ/UNTLa6lcCouX1HoaixnvTVu8xosEpnYcxCm9O6ozVqWshHmO+zct9a5+iPaKG5VUD/r7Zjb+zHTHOtxrTvH4bUZc7Bw6Sd4uIWcWdrPfy9tEH+XwzqaNcPtMrlhl7GuQJxS62+yXn9dYzDNKf9q3Ylxr83AnIVL8YlxcFu/wjy9YiLumYno6lwxMdFTMfGpfcVEm/i7HD4LmqGZ5+DcnwlC5pqF7nPjyRFRDvveFSMfL6tPwFLkXxAEu22/UEr9OVmK78lElR0DTVTh7NyaKlOxuKW57ceqpF7sduwj0yuQkSmTxdIeLSKcthGB65vJpJe92LlWG8kBqLEdi56eiqlTnab33F+U8zdm2Y9v0DIS9WSy2Ko1wq3duuHuhx7GHfXF0zD2IiMtBSkfJGLqY0MR06Yx6ta+HlHjv5YL5OO3/8mkENEFD/TUL9cPzbkHN9RthI5DH0PiB2nIOHBaDx7VvwMPP3Q3unW7FY2qaW/VRHR5APqihzDnnhtQt1FHDH0sER+kZeDAaf2TuP4dD+Ohu7uh262NYFo0uOJaw3RdYCuy2XUlesqKrg96RjsvXbN1jAxo5WNLtlOwqhh2boX7DLiluf0XSym0XUd173QrHE6A9i0i/K7DVod+GK9VynysnngbatdtjL4jEzD303XYeUIPO4W2HIyxQ9Wy7dwCdYq9gQC1uwGNZdJHvUiHcq+GRreq+3X3Q3j4jvrak4L2ZqQhJeUDJE59DENj2qBx3dq4Pmo83GeF10lReqF1WqCzel4OHTtYvbg5hxO5O7EuJQWfzk3A1JF90ebmRqhbrxn6JRotQgF+/10mrfy0D5kZK2TqDFa+bdf+GFMiluyTb129HUay9EJRp0VntW0YirGD1YtU9aI2d+c6Na8/xdyEqRjZtw1ublQX9Zr1g+dQf4fToR5fNM4dZFKvrNBrUGdc51S39u6EpxlehKdtj1tO77lbYWzMso8Uleg8KY42PdDWzwVIy7bdZeB0Nba7CygTniJeibftjs2YEpe4y3W1ZwVFyMOuDTI/Im9HM78XSPXRtkcbPXl0LXbaXlE2w/XisXo29u5cq49/hBrYvuhp3/03TZ7i2giH4rLVJvoePQ+zlmGTabmtaz7Rtt2+a1u0bd0FWkgvdSt2ir+aLKR9sEFLueK7IkpLCUH+rLezdze2yGSfju2c62BoSwweO1Rtb1uhQQ35rtJ+/ntphxscG9uS2ovdnoNDO+eDQ8vBYzG0W2e0alBDy4O8XRtkHkbidv8VE/Xb9oBeM49irX3FVD9Kintwp/DT+s16sohzo1m7XnogO+hKnn+lF9y2vSTEE/tS1M9N+2k1fjJHiv0o9edkKb4nE1V2DDRRhfPrSfnFLqw2ahYRHQitfZ3+pdHvF6hgO4KDu2Ty6Gq8m5iIRMfpXayWh4PjJ/FfmQyqwsPY+P6fcaf40I9siU69B2DAqKlInPcFNmflaoNHVq9ujJRoVR+D3/gIjzbUP0TFoKY/fDEPU0f1Rqdm9XC1CDD8eS6++tGmx1L9wXjjo0fhWfQHfDFvKkb17oRm9a5G3cZ98ee5X+FHfyNVnye1rrhcpkogshmu81cPr62NBjJZvF97Hfx6Ul6QhaF20ScArpMdIYIaLAmNwl8/exWx7sFkc5H6YQImPNANUdfXxjUiqPjsB1iX7Wdg4AuqEIc3vo8/3ykCOpFo2ak3BgwYpV6Mz8MXm7OQq58U+kDKZeVcNr58dijai6BW4yh0GzAAD0xIQOKHqcjaJwZ4D1N3QZ48JZKHvL16TwhgB5batj+eaansHaA2RDgT4Bf0QJ3L/hLPDm2vXdQ2juqm5vUDmJCQiA9Ts7BPDJ4apuZ1AIeatXq1DDIJRzFnTILzgwSOHISnGX7X9pjd07ur5TklmuEyaYWL9sdwhMukLVPgdLvRvS0vD54iXmp/bO5pqex9oTp+xqu3jrMzOGNkzLW1igzGh4f/Uab8BEYdHPF8aGL1u3b775ne9XxoojjFFdqxJ0Zo9WwDvk43enhmYdMycSUciZ63qI1ly2j0F1GBo59gjdHtKS8dX2txJhfiu3rCTOfls/54rjsoFXpJCUIEpfr8L2vHkes5uGIFQM54KiZqFV0x4a6Zxa2Yjo7giPG7Ua0r4PcbhKlndHCVPP+CJVhte0nsfl+ty+rnpv30NL47It/oVzA+J0vxPZmokmOgiSquGpeXXS+YUvkVRiwMN/XG2LFjA5tGtMLVcrHgsX+6VuxgdXtaN/tV2JpzBD8nD9PfbqdWLBLSs7Fp8SyMjPU8YUojAgxvTcDA6Btw830fej3RSKgVm4D07E1YPGskYt2P/dCdyU3FWxMGIvqGm3Hfh9anyVQgRX3JLDM1cPkFPAFCG4/A4uydWDV/Cu662fP0GkELKs4chW6tGqDjM2vVr2TlS9bCeMTEjcZb8ol92pOKYger56F+e8GqrTk48nMy/JwVpXNqPZ7tEoVBM78wPaWqDe6KH4vJont9ynpkHfoZq6YX1RfPH1OQwNUR99u1ObZTN1z3B7lcENg+Xa/NXYgfO1m7bTZlfRYO/bwKgR1qGBo+ugibPpK3uh16HaMT0uyDJu6ArGiG7Y7TfhrRKvitcLDV/IMsoDNn3Mfo6ni/7fHYTt2uQ7GLuOYfir9MMbh/QMJN6G23z7bTCBSruELbopPs4um+Nc4IIrlviWuD6HtEa5aFZbLb06mNKVgmEq77cIfstKUrT5/1doLw+V/u1YRxOtD5Fdy2/UIJ0udkKb4nE1VqchwncsDBwMufbycZA6+OVyzjM/tyD/boUiZ9K+cJRQze5xmcz2mwY539AIOmgXp7vK1ky7nFY1qH30Ei/fMMFFlDe7qW95M0TEyDYhY5XmPBKWX/lm+VT5JmKg/3udH9NCMxFfVUkYJT+5Ut336iJM18WOlzo+epaGLAbq9F3ftjGXjVwnmAR9OA0Y4H5G8QY8lUT6zvCXgAx5NLlHiHdfgfCNRhwOlvJ7nL1DpAuS/PMbrMJ4Cf4zIL9DzQnD2u7Pj+K+X9V8crQ6Ij3Psozj3fp7b55z9fAilbldM5bh7EXzwBy+tJRWb+tlO6wcA9A5W7lB4vWZ5SZeKc/4G1D+58dE1SzM1fcPk7j0wD6Yqn61me+ubh73g86/cMRm1+0lcTtW23qV+m8u/xdsla4TI5Tyz813UT04MJPFXO4fwuLsfBwLOVt3vI/es8R/EaU9+GJx96KOYsdx+jn7bSadlgO7kkXt+OfEiB8dqlZqrRDrjfM3iBkqucVJbE6/tvfo/OVG9L/FlfBFN777+pOalkfve9suPnn5XD8nM+GJ//gZSduR4Wrz38VplktMVFLHcy8zvl+x0/Kz8f1tvr7Ld7yP2yPuzBhlNbEOD3Hvs8MD2psKhzY9ccpbO2vG/74F5365cU5686Tm1syfNP4/QZGZBgtO1F87QLvvXvh4+nKFOmOE2vK9+axvP31866/xfMz8lifE/2d4xUvnEwcB0HA6dKpXErYwjnJTBukXeydYtx73U7NL5OJsvc9biuuUyu/g7b/N6jcBw70tZhZ24ucuXYNsFTiPVfyYEiMRDPP9cfNxpjN1hk7t4oU1Zi/Jhc7Fy3BQflHITWQINWnXH3Q5Px1uJM5Oz+SA5yCuz4bJ27m78YZDRXjD2zxb2kumgDtOp8Nx6a/BYWZ+Zgt9EzATvw2Tr3kiZZyHXsDpMJx90+r/wPAFy4bZMcUykMrRtdr6VKpXEr9yDmS4o+AeA+A4J5AhSexpHcvcjY9JOnN0m1q9D0VjHu0Cv4YHU2DnyfgPbaP/KRvDJdS5UHheu/kg8TUM+K559D/xsdxqzI3I2yqV6ZWLNQ9r+PnIyEx29DPdueaYXY+6M+LkxJ1b1Bdr/I/wrpXqMfWxVi/6Y0ZOxV26EjckyJYMhcA8+hJuDx2+rZ90It3ItADrVRiwg5UGstdH1qNgZq3egO4fXRNrfQXX8dPM3wNv+3ih3fgbR1O9X2KhdBb4YDtXUXDvjJ+Kxt38reSx3RrKGWUNWFp4jTvQe4tircj01pGdirHuMROUZe0SLQtINs3DevRIbfB2qcws61shDDWiLCYSwmJ9d7PjTxnf8PTbW40rBup1pXc0/YPIjAv5rtuumDoucvwprNhUhftUSb36dTW3c74H7PshRsPJ4O/S1hGNGzo6WtOA+f9ab2fsUWfyW8Ex/d3w1RjRvj1tnicyEYn/9lrTHcX+dWbPFbf3d+dD+6RTVG41tnQxxdRNMO8rvDZqz0XzFxauda6DUzDC2LWzEdXYsm7eV96UWcG6d+Wq/ts19Zuc49fx0/i0qef6UW5La9JFoMmIEZM5ymMeh8rXxjEUr/OVmK78lElRwDTVThXBvdR37xOorZby51/nA+vhSvJsjm/KaeaOfw/aLwt2D3Yw1FVHf5pDF8jBlJWx0v3Aq3zkd8b/3LYfQrm4N3gac5iEM/yaR6YVbdaRyD46lImmX/1SNrbi9cr+5bVLf/w2fb5UyL0Drt0Ul/UI9JFub2uh6Nxdgz//cZ7BcNRZ32ndTLJht1b5CDd4rvX55AlVnh1i8wLyjfmEprA15csN6h7I7jy7lv6BeIYSPQs6P9F338VoxBMq+NRh/55fLo7Dex1PkEwNJXE+QXmpvQ0+kEKLZCpE5phMjGLdGpxyyscbi4qtbsNnQr7dNVipMvATroOSlQy/mkQGrSrMC+kBf+VszzNg97jRPCz22XhZnvYlayfFFCjaMHyCf+ZSHhVX9t5Zf4e4/e6NRSvRAZtRSH5ezi+s06/kneXve57zwOWiEy352FYh9qrd54Yd5AvZ21u4UuNArdh8kbOj+egaStjq0wts6PR+9uUWp7FY1XNge3FQ5Y/nzM+cS+rRNt9JwX5dVa3HB0cZ/K6ufGAPlEq6wEvOrcGKhF/Hf06N0JLdX2fNTSwEu4zR33yQv6ZZj1vr/PsiTM+FhPhw3ohNZ6MmChUd3hKa4kOBfXVsyP761fNEe/gmIXl7v9PIpP1ryLNdrj5tqjQ1NTW3BtW3TVouRLsCJhMeZrd50NwB1tre33efisd++LWsSvfYK1DgueSl2IefoHDe6JFp+epf/8L3vXoq3n4PCJ88FhoX5wCLsnWv9u0OYO3Ccv3JfNet9vfUnyVEx0Km7F9KNl93jZvvo5NwozsWC23L4Nd5BD/Khme/qr7dMX8xw+i0qRfxbF/h5clm27rUIE5au6zXeK0n5Olvx7slWQjpGoHGGgiSqe+r3w2KP6c5byP45Hn2dW+TxOtPDwKjzTJx4faz/nuRA//V54PSCuenX55RnI2JstU8FTs8toTJbf/3c8PQTxczf67OO57E8wbsjTcoDW9ph6XwfLr6WlZfo1GvPxwpu+j6EXAzlO7jMIcxweaRypfpHSYxo78PcnXsZGn4G7C3H46wRM/Ux/5YppLgdfj0T3eBkN2fF3PPGy7/GLQUq/TpgKfVEXYprLXweF8AZoKi86Vkyfja8tC3vn3YV36PkRiH/fkr/q8a16pg/i9UqI9s+OQqylgC+7QpbP5h3Yb80fR/XR67FH9SeN5X+M+D7PYJXvCeC1bVf8dNxr+4TEkghFx7vH6OdPfjIe/+sn8B3z+xy2vzkNL8gvzj1vaaonAlSyfAmM55dw9ax44U1s9z0p8OXkPhjkdFJoqqO6sZKMvSheC2L6FXrDi5jztXWAUDFQ+VzE95uA1XrxlVyzezFV7/ajt5WTv/Qpq8LDG/HycE9bOWpcL7WGFcdl8BTXfu9jMfXG2PDiHJ/zWNTTjXPj0W/Catnzonhq9f47XjOe9vP6aCR4dWuqiS6jJ8sLiB14ekg85m605vU5ZH8yDkOeli1J+6m4r0NwW+HA5WPZn4bgmVWWfTy+WS0fo432LZ9m906VPbvy8XF8H0z+MtvSzov69DKGx3+s57FrFMb1CryEQzvch6c66nmsfZZZ2znVue3vI970WTbjsS7Ff4pnzS4Y7fnQxJD4ub6fN+q5+cm4IfAU130ofnHVR/te+sV5VsIkzBbX35E9IcYB94jELT3FjHzMmzNPz7c+PWH3cNGy/6yPxMA/y2DW0Vl4KP59nzZL5P+jY+boP2jcNBnDtR80Sv/5fz5EDvyzDDAexayH4vG+78Hh/UfHYI5+cJg8XPYqC+2A+57qqOeLVl9880VbNt5UX2Y8hi7Frph+NOuHCbL9sT03Cvdj6bh+mOinR094g6YyULkC02dbH41vaZ9slDj/hNJ8Dy7jtt1Q3fNBi9J8Vff7naKUn5Ml/56sK/oYD2KL8TS91aZe5EQVgby9jhxwjKZy6li68lIPY6wmdQq/UenzsH5vtvf90C4levoaOa6HmenedlcL5Z7xYtmPlR/kfwMdc8Pffd8Fu5KUHsY21MkVEa0M0bYzXhnS2XsfeyTtch77oQT3tbuZ7sEXU/iNfZSHtfvXvcfRadKnjxIl097j/hQo66Y3cS9fwxWhtOjzsJbPU6Y8rPRpYRqLp8lEZaU5owvWKdObyP+pkyuihbuMpjzcR2kR4Sm/JhNXWsrId7vRQ8Zry7rLVy23aZPkWBo+eRTImBFO4x6Y+BmjxVNHXIpLlrM7f8cPUaJNx+fqkaTsshkeI9s9zoS6bIyer6+7BxYw1QGfYzimpL/UwzQOUrhyo1Euat7eGG7MV7cdPV1ZYz0BSj32zAFlwWDv86+zLB9x7J1N4285Hbs//vMlwPFAHMefMOWrmExtx/gh0UqEcc426aP0McagGJ9iOT/F0CnG8buUFvfox/6x0YAU4eTKie7xdsTyEdFDlPEi78Q55c47te3q00O+zzoOSTHah2NqfpnOQ++2soXneNXJ9zwMhGkcH7UexmjrNsbHOKm2kcZYSupkOo+96qkrWunTQ77PZ7yTIs7TAwuUwe4ys7RBaqntSjKfJ6a8ttRTMc5IkrWilvo8KZpnjJYoJUo7DtM+PtzdVD5On2WiiCcqTeR+isnTzlva6BpN1HPBZg2OYzTpCnKWKKO92nLTZ5nXeGxNlOELrJ9lpmMsagySgl1Kkvlz3VRfxg/p7N2ulaBdcduW6P68E1PE9HXyHyamMbHEFL/EeZy50n3WB+KYmodFfB5q8y11uNSf/4GWXYBtsgPv+muu/+bPMpu8K8hRloy2zxevtlydmgxf4FtfSjVGk2RpX83fAdq52zf1O4L2f5vzy+d7klF3PJ8FrhbTlElynDC7dqjE+VfE92D/gtG2B8A0RpmrxT36cQX6QWvi/zuFqlSfk6X4niwUeYym86s01wMUdByjSedvjCYGmorAQFM5dnaPsnxajOlLnGUKj1GmLd/jMECh9QJETJ4vAcEINAkFOSnKtO7mL+KWSexjSo7NF88gBZpUx9ZMV6JNH5JekzuP1C87Efo83y/dx5T0xIFeH7Tek/rFpnuCkpbnexQiIJg40M/xqx/I3RPSFLtFtS+Rf25nX77hfZTEdPXT2viieEEDTXHKnA1pyvRo0wWSe1IvvKelKDl2xydYv9yIyb2//gJNwlllz/JpSozp4st7EtteruyxOwGCcQHtr3y0KVxpNzJZ2eYw0LVffvMlkLJVOQaaVMfWOJSXmDz5tm66/IIcMV09Q7xZLy7F5C8vvantz4LhXsEB8+RqMUJJ2pCnFOQuUAbLeYMXmL4UF7d9UM/DpJF+ykq9yBiRlF6CIJPOGugQkzvPC3YpC4abvoR7TS6lxYgkZYPaAOQuGCznDVa8DjWA83S3ehFhtDF2FwE5KdOU7qbAr3UKj5mmpNidpOcz0KSW465dC5Th1novJlE+ydscPst0x9KTlJHtzA9Y8J60OiXaTDvuC27n/S/I26AkjWjh2Ja766x8v1nAgSZBbVdSppkDbNapiDY1IBnKS62N9bnUumqzsgK13rn3wVonfZX8sz5Q6udw0gilhUO+iPxPtmlsS/v5fz4CTYKovyNaOJyj/up/QZ6ywU++6G3bBvvvGMEINKnEueH0PcfVYpyyZNUc2Y7Yn18ikPtnh3M3vE+ion/V0V87tUMlyz//34OLVOq2PQDW4LOYSvKd2O93CqlUn5Ol+J5c5DGazq+SHDuVGQaadP4CTVXEG2TnJrKRu2kxNsweqKW7vvwTLrvGPQonlROFp39C+vfp2Ji2Ddp4jNc2R7fbO6JNswZwGPtSKsThH1fi889XIVt7NivQesgMDGgB5KW9gcQU0Z+8HrqNdR5U8MeFU7Fgi5qo1w1jx3SG/dsKcfrAdmzelI61m7L1x8Cq+9i5XVvc1vZGh33MQ9obidB3wd+6A3TuEDLWr8J3KU55VIitHz6Nj35Qk1d0wsN/6Q7riD6Fpw9g++ZNSF+7SeZXdTS6pQPa3tIGzRo4DKissTn+6o1wS4e2uKVNMzTwX0jqrmdg/arvkLJN7Pm1aN7tdnSKaqUPoPzjQkwVBeCTRz9i4dQFEEWjFipmiEL14XlPvW5jMcaukPPS8EZiCvRi8H5P1twuaDNB9Ilvj1mbv8FDkeeQve5TfLFU5LHIm1jc3qWt4wCsbueyse7TL7BUOz6V+1hMdcDxGFSFp/FT+vdI35gGfRV6HnX0l7d+jssskPPg3ImdyNiY4Tn/xPY7t0Ordq3Q9Crb4UED45gvgZStynSMxnnt7RwOZazHqu9SHPOtcOuHeFo/KdDp4b+gu+WkKDz8I1Z+/jlWeRoQ5/2xobVd33yHVHleVG90C2I7xKBV06ug59xBrHz1n1ghBoNocjcm33eLfGxyydoHn7KS52F743wqhXPZ6/DpF0tlXlrrldoG/JSOb75LxSYtr/Tzo0OMqY4cXIlX/7lCG/eiyd2Tcd8txgOiAzhPkYVlCW9jjVYMVyN29OPo0kD7h4d6nhzYvhmb0tfKfRDNYGe0a3sb2joNCB/E88SJz2eIaKvTvsTyVaJOqPnUqQfu7Bxo+ZzDiZ1q+WZsRJosCFGnOrRtj6hWDoP1CkY7GsD+a+3xBk9b7ltnfbmPEa0xZMYABHKG+H7e6O1K29sCaFMD4NmnG9DnryMQ5XNL1Smsn/8cluxWkwGfYyX5rC8m7bN8gydftM/yTv7LtxSf/4GVXYBtcpH0NnmD+xy1fN77Y80X0bbFdkBMq6Zw/Bhy13unzwhdYHlgaeO07d+OLqLcjxntiL/zy/J5ZClXYx/8tUMlyz/n78GBKU3bHqDCw/hx5ef4XGsThcDbES+O3ym8leZzssTfk/0eo+n8KsbnPZW9vd/8Cz+8M05L9377NKpeot+CebHJOXAIISFV1SkEIVVDUKWqTKsTA01FYKCJiOz4Bpr0+UREREREVHkx0KTzF2jiYOBERERERERERBQUDDQREREREREREVFQMNBERERERERERERBwUATEREREREREREFBQNNREQlUD2yP8aOHatO/RFZzIeoEBERERERVVYMNBERlcC1ncdgxowZ6lS8x5kTERERERFVZgw0FeGSP9SQKaDw7CmZIiIiIiIiIqKLTeHZk9rfqqFhqHpJmJYmbww0FaHaleEyBZw78bNMEREREREREdHF5tyJXO2vOVZA3hhoKoJXoOkXvUIRERERERER0cUnX8YFGGhyxkBTEUIvvxIhYZdpaSNySUREREREREQXH3ePpqsYaHLCQFMAql1ZV/trRC6JiIiIiIiI6OJj3OnEHk3OGGgKwB9q1dP+nszZqv0lIiIiIiIioovLuV/y8OvRHC1d7Sq9Qwr5YqApAHVa9dT+Hs9ah7PH9mtpIiIiIiIiIrp4HM74QqaAOi17yBRZMdAUgGtloEnI27JMpoiIiIiIiIjoYmHEA2rUa4qaDZprafLFQFMAqtdtjCuuu1lLH85goImIiIiIiIjoYvJ7wTl3PMC464nsMdAUoDqt9Yp0eOuXyP/lsJYmIiIiIiIiospP3Dan/O93LW2+64l8MdAUIHPEMvvr12WKiIiIiIiIiCq7PV++qv0VT5u7usntWprsMdAUoFqRtyL8ln5a+qelz+HssQNamoiIiIiIiIgqrwPfvYfju7/X0jf0/ov2l5wx0FQMN/b5q55QFPy05Fk9TURERERERESVluhsItSo3wyNuj2qpckZA03FcGVEW1wfE6+l9618CydzMrQ0EREREREREVU+e5a/gjO5P2lpd+cT8ouBpmK6sc8kmQJ+fO9xmSIiIiIiIiKiyuRE9kZs/3CqlhbjMtW/bYiWJv8YaCqmy65piCb9n9TSxzJXY8ubD2tpIiIiIiIiIqocCs4cw+Z/PQjl90LtdeO+k7W/VDQGmkqg8d1PokHHYVp6/3fvIvOzmVqaiIiIiIiIiCo+EWQybpm7eUQirmneRUtT0RhoKqE2o95GrRs7aOldi57GwbUfaGkiIiIiIiIiqrh+ePcxHN76pZaO7DkBEXGjtDQFhoGmUmgzah6qXXmtlk7/5wPI+uIlLU1EREREREREFYui/E+7tt/79Rva6/Bb+qLZUP2JcxQ4BppK4fLajbSeTaGXX6W93r5gMra+zUcdEhEREREREVUk/z2che/+0dl9t5KraWftep+Kr4qikmkqodM/79Lu3/xlb7r2Wty7edPgmbiyYSvtNRERERERERGVT0d+/Fq7ps8/dUR7fX3nB9Hq4TlamuzlHDiEkJCq6hSCkKohqFJVptWJgaYg+d9vBWrFHIFD6xdqr6uoGX1jn7/iht5/Rcilf9DmEREREREREVH5cOrgduxe8hwOfr9AzgGaDvyHei0/Sb4iJww0nUc7PpqG3Uufl6+AsJrX4Aa1kv6x+1g5h4iIiIiIiIgulHO/5GoBpmw5FpNwSdjlWi+mercOknPIHwaazrMTezbgJ7XS5m1eKucAl7muR53Wd+HaVj1R++Zuci4RERERERERlbWC/x7H4S3LcDhjGXLTF+N/vxXK/wB/7PGYdkfSpdWvlnOoKAw0XSDicYg/LXkWx39aK+foQi+7AnVa9cTVjTui2pXhqHaVOom/6oQqVeS7iIiIiIiIiKg4fi88h/wTuVqvJTEdWvcRCs+exn+2fSPf4dHg9vtwY++/onr4jXIOBYqBpgvs4NoFyMv4Qoue/nbutJxrpwourcEIKhEREREREVGxKf9DwZnj8oU98fT4Oq17ol7UQNS64TY5l4qLgaZy5PDW5VrAKS9jGc4eOyDnEhEREREREVFZuDKiDeq0ugvXtu6pptvKuVQaDDSVU7+dO+Puzmd07Ss4c0z+l4iIiIiIiIgCV8VraBoxhamvq4aEyv9TsDDQREREREREREREQeEv0FRVvoeIiIiIiIiIiKhUGGgiIiIiIiIiIqKgYKCJiIiIiIiIiIiCgoEmIiIiIiIiIiIKCgaaiIiIiIiIiIgoKBhoIiIiIiIiIiKioGCgiYiIiIiIiIiIgoKBJiIiIiIiIiIiCgoGmoiIiIiIiIiIKCgYaCIiIiIiIiIioqBgoImIiIiIiIiIiIKCgSYiIiIiIiIiIgoKBpqIiIiIiIiIiCgoGGgiIiIiIiIiIqKgYKCJiIiIiIiIiIiCgoEmIiIiIiIiIiIKCgaaiIiIiIiIiIgoKBhoIiIiIiIiIiKioGCgiYiIiIiIiIiIgoKBJiIiIiIiIiIiCooqikqmK7wqi++WKSIqb5S+n8oUERERERERVWQ5Bw4hJKSqOoUgpGoIqlSVaXVijyYiIiIiIiIiIgoKBpqIiIiIiIiIiCgoGGgiIiIiIiIiIqKgYKCJiIiIiIiIiIiCgoEmIiIiIiIiIiIKCgaaiIiIiIiIiIgoKBhoIiIiIiIiIiKioGCgiYiIiIiIiIiIgoKBJiIiIiIiIiIiCgoGmoiIiIiIiIiIKCgYaCIiIiIiIiIioqBgoImIiIiIiIiIiIKCgSYiIiIiIiIiIgoKBpqIiIiIiIiIiCgoGGgiIiIiIiIiIqKgYKCJiIiIiIiIiIiCgoEmIiIiIiIiIiIKiiqKSqYrvCqL75apC6PhZbW1yfBL4X+RcXKvfEUV1Yjr7sD4Rr3kK2B29ueYv3+lfEWBUvp+KlNERERERERUkeUcOISQkKrqFIKQqiGoUlWm1Yk9moJoVvN4pEZP95qo/Hq79VhsiXnZPZmDhFatrohwTy1rNpRziYiIiIiIiMiMgaYguTL0csS4mstXOjFP9Iah8kkElswBJFFeRERERERERFRyDDQFSb/wKNtARd9r28sUEREREREREVHlxkBTkDzQIFamvIkAlL9bsqj8E+MxifG/jGnCtnnyP0RERERERERkxkBTEIhAkvm2uVf2LJUpnQg2FZfoHVXSW7nKW2Ar0OMo7a1rYvnydOylPR4rsb6SrLO85QsRERERERFVXnzqXBA83Xgw/tZkiHwFRHw9ShsI3Li43/frEW1eUUSwSjzdTPw1BxQ+y12vrcOpJ41472Pqcn1l7yljWbGMeOrd3zM/9Hn6nXn/hNbfPq49Jc/qsT/29nrimliX+Ylr1v8bxymCa39T88W8P98e3aYdg3lfxLGKQdSN94l9EO+z22cxjtKn7SfJV8DdG57V3uO0rXcOpNo+HU6swxiTyXi/ILZt5IHYT5HvghhnS6zfIJ46Zw0mGsTxiPdax3zytz+C2Hfz4PHG9sX8EQ1ivcrWKFdx/E7E+8R+GLd0Gvsi9kMsK/LXrrzLEp86R0REREREVDnwqXNl7AHTgN/iQl4EAt4xBRREgEBM/oiAjQiAGIEBMzFP/F88GU2kzcR6xXwR6LIGN8T/xPvF/0Uwx0y8z9gvMVm3aebvfVdecpnX/wXjWKz7I4IwYl+M+eKpbyK4Yn6f+Cv22RoIM5i3Jd7rb1ti/ebAlEG8z1jezJhv9z9jvpiu/8M1cq6HeL/Ylthva6BQMPbHOH475m2I5cX7xPqsZSv+b5SrdTuC+N/ernO0vDHWZRD7Ieaf6PlvDlRPREREREREQcdAUymJAIC4mDekHd2m/X0l+3Ptr8Hc68dKBAZE7xNzQED0OrHr0dP56mbylU4EL8zbF71UrMsJIqjgFOAIJhHEsAa1rMT/xfH6C3SIvBA9efwReVrUtkTeFvWe0hL7KgJCYltFEWXgL9hkaFmzoRa4MpetlViHNQ/F+0WdMNclo5eYlcg/8/uIiIiIiIiISouBplLqZ3mq3PwDqdpfcXEvejYZ/AVVxEDi5gv+2DVPareyiUncDvjglkRtXWKd4pYngwg0iB4qBnGrlbh1zVhO/DVu1Zq9Z6ltACrYjKCOCGyI27/EZM4HwehVI5jfZ72Va7x8jxMjsCPW8fddC7RbycRf6/bEtsz5L94n8smaHyLfxXwxGbfNBcK4Vc5M7JMoN7Etu9vs7HpamRm9kUSeiH0R+SOOzcr6VEORJ+a6JJa7atlw7dhEnRB/jfyxy3MiIiIiIiKi0mCgqRTEBb35tjkREDAHOcRYPgbxXqdgkzlIIS78rb1PRLBIBD9E0MIcGLAGN9KObff6vwikiGCHCDhZe1iVJZEPRoBFTGL7dsT/RODDeJ9ImwXS28bY1tOZH2pp8VfklTUPzb2aRB4ZgTszY77d/5yIYJARNDMYxyLKzQgSWY9NLOcv+CiIfTAHq8Sxiddm1jpg7vEmlrfmg3ht1CXr/4iIiIiIiIhKi4GmUhA9c8y3NonBns2sAz9bb3szmINTIrhivR3OYA0MWIMhTrejiYBToIGT0jKCI+bt2QU8xDGbe2cJYj/NeSH4CzaJ91q3ZRCBFGu+BnJrW3FZb+8zAktW4vitQSLRk80fsR6xPjNrnbLmj/WYRYDNGowSrOslIiIiIiIiCgYGmkrBHCiwC6aIeeYLf+ttTQZrgEoEi8RgzmLcH9FbxinYIoIF5iCLeJ8IUomne4kAg/m2uvNF3KJnF/ixBpCcnnpmfZ/TsQvivXbrEMR8a3nYBe9Kq6UliLPVz+2J1uCOXQDIIIJu1qCSwemYBXMvOkHUATEmlJhEnSiLPCAiIiIiIiIyMNBUQiIAYg3kiAt5EegxT+aggFjGrleNCCjYjb8j1i/WKZ4QJtZlFyQQt2RZxxoSRIBKBKrO99PF9p39j0z5Zw0olYUca9DqkstkKnisZZJxap9M+RJ1wVofnAJp/oJJ/v4n8tV6m54gglqiThgBTH9BLiIiIiIiIqKSYqCphETwxhwkEGkxzzpZL+idbpcS4+9oYynt8R04WhDrEr1SrMEtEWQSy4nbrKw9eASxX0bQ62J3hUNQpzT8BX2s7AJLxVk+UKIeiHGYRJ2wC+gZvZysY0sRERERERERlRYDTSVkfdpXoMRFvtPtSyJoJIID4ulgYowhu/F4xCPp7RgDUIugk+gdZe3lJAJV/m6bsgZADGXRCyhYiuqV09kSlNvqp7dRSVnzuVXNhjLlyxokLMteXWLdok4YA3+LtDWoJcb0IiIiIiIiIgomBppKQAQ4zEEDcQEvgjxOk3VsHuvtc3YBILGMGDxaPJreHJCwBit8bt06udfdO8p6O555u9agg13QRswbX457vYjg2KftJ8lX3kRgzZpX1qBQMFiDVyK/7IJ2Yp61N1tZDMjtVJdEAFPUJfM2xT75Cz4SERERERERFRcDTSXQz9KbSfQ8ErcrOU3Wwb7NPUmMYIm4lcnpqWhOt1cZY+6IcZzs/PLbrzKlM/dOsgZdzD2lxD6JII0Yy8caNClvPZxEnplvATP23Zon4niLCjQZgSCxDqeysBKBG3MgUCwr8s0cwBHzxP5Y17k4b4NMBY+oW/7G5SqLW/WIiIiIiIiIDAw0lcADlov4ogIGdsEIIxBhjOMkJhFwEtPTjQe7AygiQGHubWQES8Q6jOCQeJ940pwYh0mkxbJiHdZbo8wDVVt74ohtiACFCJIYA0aLbYjAhDk48bcmQ3x6Cl0oxn4ZA6Zb990g3id6h1lZA09GPhqDrwfCbt0iL439EAFEkbYGfsStbCIIGUyiXMR2xLGL/TeeNCfmiTphpA1i38vy9j0iIiIiIiK6+DDQVEzigt3cW0UEKwIJGFhvkzKCQGJZ88W+WL8I5oiAk11g4O+ZH7rT1u2K94plxLJiHeZgiwhsmPdB9MKyBhnE+0WwwljOCKJY31debrcSeW/cHmjddzNxDHa9mdKObZcpX8b6AiHKwXqboiCWF0En6z6JcjDKMZhEeZmPU2xbBM9E0EnUCZE2E7fTEREREREREQUTA03FZB1nZ7ElgOTEGlgQASVBBAbEgM12gQozEcywPllOBFDEWEz+eqWI4IMIMtkFNsQg0U7Liv0S6y+roEiwiPGoxPHZMQJl1iCfQcz3t6xd0MqJ2A8xHldRZSHKUOS7SAebKDPjCYT+GPthHWyeiIiIiIiIqLSqKCqZrvDE09rKmggQmQMQIlgRaNDA3DtJsFvWWH/DP1yjPY4/5+x/tOCFCDD5247oZSR6sIinnl2vpsV7xbJiG/6CH4LYL2N7J9XlPsvb4NMDSPTOibm6mZaefyDVvU5tm+pkEPtptz2xvLknlFO++ctfsR1xO5hBbEsEdwTxPzF2lvnYRSDFX54ZxDZFvhn5LY5dTMayYr/NvZuM8nBiXp84lhz1/ftkWTjtj3ifWM4g3ifeb8eaR04BI6NsRNmKfAlkP8qSuC2RiIiIiIiIKr6cA4cQElJVnUIQUjUEVarKtDox0EQVhr9AE5V/DDQRERERERFVDv4CTbx1joiIiIiIiIiIgoKBJiIiIiIiIiIiCgoGmoiIiIiIiIiIKCgYaCIiIiIiIiIioqBgoIkqDPG0t1f2LHVPi/M2yP8QERERERERUXnAp84R0XnBp84RERERERFVDnzqHBERERERERERlTkGmoiIiIiIiIiIKCgYaCIiIiIiIiIioqBgoImIiIiIiIiIiIKCgSYiIiIiIiIiIgoKBpqIiIiIiIiIiCgoGGgiIiIiIiIiIqKgYKCJiIiIiIiIiIiCgoEmIiIiIiIiIiIKCgaaiIiIiIiIiIgoKBhoIiIiIiIiIiKioKiiqGSaiIiIiIiIiIjIr5wDhxASUlWdQhBSNQRVqsq0OrFHExERERERERERBQUDTUREREREREREFBQMNBERERERERERUVAw0EREREREREREREHBQBMREREREREREQUFA01ERERERERERBQUDDQREREREREREVFQMNBERERERERERERBwUATEREREREREREFBQNNREREREREREQUFAw0ERERERERERFRUDDQREREREREREREQcFAExERERERERERBQUDTUREREREREREFBQMNBERERERERERUVAw0EREREREREREREHBQBMREREREREREQUFA01ERERERERERBQUDDQREREREREREVFQMNBERERERERERERBUUVRyXSl9euRvTiRvRHnfslFwemjci4RERERERHR+VOlagiqXRmOMHWq3aILQi69TP6HqGLJOXAIISFV1SkEIWq9rlJVptWpUgeaDn3/IbK+nI1fsjfJOURERERERETlQJUquLZVTzQd9Axq1m8mZxJVDBddoKnw7Cls+/dE7F81X87xuLSGS6aIiIiIiIiIzh/lf7+h8L+/yFcezYe9iD/eOU6+Iir/LqpA088bP8G25Cdw9tgB7XX1ayPRMG40rm3dE5dd00g7eCIiIiIiIqIL4ff8X/FLzhYczliG3UtfkHOBOi3vRKuH/oVqV9WVc4jKr4sm0HT2+EGkTm6Nwl9Paq8juozWIsNVL7lUe01ERERERERUXvyydzO2JU/EsczV2uvwW/qh/fiPtDRReeYv0FSpuveInkxGkKlJ/7/h5gdeZZCJiIiIiIiIyqUrI9qg47SVuLrJ7drr3E2fYd+KN7U0UUVVaQJN+1KT8POGRVr6hl5PoPHdU7U0ERERERERUXnWceoKXNWonZYWPZz+e3iPliaqiCpNoGnnx09pf0VE+KbBM7Q0ERERERERUUXQfJg+XtPvhefw0+IELU1UEVWKQNN/tq9EwemjWrpxP/ZkIiIiIiIiooql1o0dcH1MvJbOy1im/SWqiCpFoOnojm+1v1VDq6FOq55amoiIiIiIiKgiMa5nRUeKX7I3aWmiiqZSBJrO/ZKr/a1e54+oUjVESxMRERERERFVJDXr3yRTnutcooqmkgSa8rS/1a6qq/0lIiIiIiIiqmiqXRkuU57rXKKKptIMBq6rIv8SERERERERVTBVzJfoivxLVLFUskATERERERERERFdKAw0ERERERERERFRUFSSQBO7FBIRERERERERXWjs0UREREREREREREHBQBMREREREREREQUFA01ERERERERERBQUDDQREREREREREVFQVFFUMl1hff9CLxz5IQW1W3TDbX/5XM4trVNYP/85LNndGkNmDEALOTeYflw4FQu2yBclUa8bxo7pjGvVZF7aG0hMOSRmotvYMegsZlIF8iMWTl0AUR3qdRuLMSzA8859PprOq/Pqx4WYqu8Az+FSuODlSERERFQKvxecxecPXaGlWz74Ghre8YiWJipvcg4cQkhIVXUKQUjVEFSpKtPqxECTg8L1z+Dmrs/jEEZh8akXEKvPDqrUJ2qi7xz5oiTaz8Lmbx5CpJrMmtsFbSZsEDMxa/M3eEjMpAokFU/U7AtRHdrP2oxvWIDnnft8NJ1X51XqE6ip7wDP4VK44OUYiHPZ2Jh5Gdq1ZBiMiIiIvDHQRBWFv0ATb52zczwVU0aIIFPZurRWJCIj7aaGcIXJN6E6wm3fo071qyNEvouIiMq7c8j+8knENmqFyZvOyHlERERERJULA01WhZmYO3wQ5pR1lEkVPXkzNm+2mz7B1JbyTRiGf9m+R53mD0aEfBcRlc4N9y7EwoXq9PTtqC3nEQXX9/jnoNlIZ4yJiIiIiCoxBprMjm/Gy307YsLqfDmDiC4W9Vt3Q7du6tTxRtSU84iIiIiIiKh4GGjSFOLwxrm4LzoGT6/OR9jNf8GEfvJfREREREREREQUEA4Grkp/6Wbc+fd9yEcYbn70fbz/j67YM8UYqLvsBgN3loW5XdpAG9s7wO37DgZeiNM/peOb71KxKfsMUL0Rbom9HV3a3ogaofoy/pw7lIH1q75DyrY87fW1zTujXdvb0PbGGghgcb/OndiJjG/XInVTNrQ7SK5tjm63d0SbZg0C2LdzOLEzAxszNiJN7pu6AjTv3A5tb2uLG21XkIe0NxIhHsrnfqLbuUPIWL8K36VsU/8rdqE3uveyLC/ek/Yllq8S+1kdjW6Jxe1dHLbhfmKY8ZRCPf8//2optN3UjrETolrVQzVtAatABwM/h0MZ67HquxR9vUUeu5med9+ulXVCdW3zbri9Yxs0a1D6ckXhaRzYvhmb0te616/Vuw5t0T6qFerZHrjnaXuth8zAgCaH8ePKz/G5mudqhiP29i42dc5St7Wy6YC27aPQyn4jAXF8WplP2YqqYT4/1DLodjs6OR6jmaX8zPUi0MHA1Xz+Kf0bfJe6CfrhF5XHqlLXT2+Fp39C+jffuc/h6mpZdWjb3u/y7vxtPQQzBmi56JwXYgF/fM5ftR530ss/0MHAz+8xGG3QPqxIXIod6hxXx/sxtLUY6JNPGSQiIiIPDgZOFYW/wcAhAk0V3drn71I+Gx6qrH3uLjmneFZOrKGEtxupJG3IUwpM82rUENNEZaWcd/7sVpLiirf93Ulx8v1xSlJ6upI0ooXi0l5bpvA+SmL6MbmUr4K8Dc7LqlN4zDQlJcfIpWIq2KUs8LPuGuExSkKapwy8FSg5KdOU7hEu+2W1KVyJmZai+O6eJz/jknYrx9ITlT7h1mXVydVCmbRSz5tjaxKUGNv3RCvT19jk38qJ8j1qeRXkKEvG2R9neLs/K0ts82+lMlG+R+yjrwIlb0OSMqKF0/E7HbuuYNcCP8uKck1Q0vJKWK7KMSU9aaTSzi6/jEnN2xFJ6eo7rTzHPTFll5LUw7KPrtHKspPyraqze5Yr02LCvd/jnlxKixFJip/q7Zf7nI9LUmuMSYBlK45x3JIch/qr7vu2ZMcy0M6rd8fL1+o5bFcFlLPKnuXT7OulmBzzWFXq+imd3aMsnxajhNssKyZXixFq+2NfAO78nbhSKchZooxzyAtXi3F+9uGssi15hNLC5buccQ68O16+tpaj4YIcg7lNt05O5U1EREQXo9/yf9WubcW0d8UcOZeo/Nm3/6By4NDPys95h5XDR44qR44eV46dOKn8cuqMwlvnVC0f24nsDW/ioXZ1St+r44LLxovDumPCon2A62bcFT8WY8cORmx4df3fZ1IxpfsYfHhQf2lWuH8pxsXEacuKUaqqh8di8FixfDzuutkF8SC8M+mzcU/bvpibWagtE7jjSJ3SDyN91j0Wg2PDoe3dmXTM7BWD59b7rvvgwnjces9srD2qLh3mQsPYwdqy2r61kcvjDNJn34NBc7Zrr+z89uMcDO8+BalnqiNcrsO9/fx9eH3QGMz9cDKi75yJ9EIXbr4r3uv4kf8Dnu87FctPiRd2DmPZlO4Y9rZ6nOp+dhjsnf9ndr2JYcXOv0LsXzoOMXETsGiflnvufR8bfxdu1h5RqB97275z4bNq8RTFfiN9lzXvV/pM9Ip5DjZZX4RCrH82Bt0nLMAurVtIONpoeSbX39DIt31YNKE7pjpnHD4f108bH616k7sQL/O83pj70EUOmHR888voHzUIs7WRlMPU6i3eZz6OfOxbNAEx0U8g9bi2SJCZylY9zlitbM11Yx/eVs89u/pbmDkX/WNGyzIw7fvgWIhd186rR+fpb7Z1HJtf7o8oYyBptW7pddOzDj2PYxD9RKr6bielqJ9iDLv+URg0O13rARTmbl8851D+vkWYEBONJ/wVwOFlahs0DG+reeFuB9z1WKzjbQzrblcXC5E5tz9iRi+Cno2ePNC3r58D/rPxQh1DdUT2F9vpjZvkHNGjST9P+iNSz34iIiIiospBBqMqtNL2aLJTcXs0iSlc6ZO4QfHuoHJW2Tanh7sXQ1TiNjnfsFt52+hNInrt2PQsEj0yhjeR24h6Scnw0/HBx+4kJU7btkvpkbTLZt1zlB5GL4XBC5RcOV9zcpky2vhfk4lKik3Pm4K8VcrfouR7IqYr6+R8naU3QZPRyqI9Z+X/hAIlb1G8Vw8PV4+XlA1e2ylQdiV58i9+iambjeDuMaJP4X2SlG3mTYjeKItGK03k/13qMR6Q/9H56dG0+2133riip9v0PBK9PIa71x31UoZX/rrrhquHkrTLZllTvRi8wCvni7YtUYmSy7p6zLEcs+7snneVIU5lazpuMcW9tk3dI0OBUmDs7slvlUlG3WsyXEn22ZBahmnTlWgjn+KX2Pfs8aPoHk1icinR09Ms55a67ZSJnrIdvUzxrh2m+md3bp3dpiQPb2Lahm8Pl5PfTnKvv8nwZN98LshT0qZHy3J0qfXTcvSlrp8nlW8nGfvYRBmebC4nXUFemjI92mhD4hXfXfBs3zYf1GNImWhsw6WMNndlE9xtiP154NU+icmnR1M5OAZ/5zkRERGRij2aqKJgj6aLjGtUMt77UzvU8eqeVQ3NHpyGMS791Y4t2TD3LSlMnYMntKftuRD//hJM6+Tbu6tas3sxb8HT+i/yOxLwr2+ce6f4OLAL2pBTaIl7Oje2WfcjSJgsR1NZloKNplWfSluIZLFr6r5NmDsTXb0PTBNa53YMH9lef3H0JH7VUzbEOl5F/0bmEVRCUaf3cIzQOyOo2uPZVx9HO6/thKLxwP9DH/lqy+69MmXjpqexfOFDaOY1SEs1NOr/KhY8rfdnyF/2HD7aqiWLUIjUOU9AL5p4vL9kGjr5HL9atvfOc697R8K/YC6aA7v0nEfLe9C5sc2yjyTAk/UbvepFUbZ+NU8bbwaIw+w3H7Ecs65ao/vwyAj54ugZrSeJrbBh+PN9zUxj24QiVO5u1sfT8fohkWqPFz+bh3t9NqSWYadpWDJvoNa7KP/jGXjfuWNbycXNxoJpnSznlrrtruPxZJz+Kn/nAeTqSU3h2vcwQxZB+2fn+55b1Zrh3nkLIIvPRhY+nv469MN/EZ/Nu9c3n0ProNO0JZg3UDt6fDzjfTgefknqZ9bHmK4XgLoLn2HeveZy0oXW6YRpS+ZB34WPMcNPAcTNXuCbD+oxdB3/pFqThHzsPOCVi1j73gzZhqjn53zf88CrfbJzwY+BiIiIiOjiwEBTpROGwb1i7R/PHtoIN8lYDHKO4IhMCmtT5mu3tIlgxtCutbR5dkJbxmGQFpTIR/JX69XLvwBddgX0GNcGvPjSJ9h54pz2yqzloLlIWZ+JzKxXcKfpAGre+QqyMjOxPmURRnbwvrjUiEGoM77Ckq+z5YwtyM6SSauwexDTzmYdoQ3QpKVMtxmEjnYjCNesDiNnsnKdb6uJGzcILW02oW5EPcZx8iI0C/9eEUikaS1S5msloxbNUDgXjbruuEH6wMf5yfjKdN/RZVfI6OKGF/HSJzvhm/UtMWhuCtareZz1yp3FerR/yzErkJm5FatWPode9eVMs3MnsHPdB1j2nXy9YRcOyKSPuBi0tt34XqxeJCM1PUeij0+wzKNW534yGLgDC9dkaqlg6tj3NtgdJtS54Uad2bwbP8uksGPdUhzVUgMxfqBdxVKFqmUwTkaqrPauhufw+8D58Guhcz8ZCt2xEE6HX5L6uXf1Ihnk6YmRfXwDxW61OsOzC2tgvwsd0fc2+1xE/XD34N2bd3vlItYt1XMRA8fDORsHwTkbL/QxEBERERFdHBhoqnRaIrKeTPq4FrUbyKSXLGRt1IMZOD0PI9u0QRvH6T68ZkQKtu1HjkwWKWoInuoougkAh5JHIOr62qjbOAZDH0vEB+t24sjpQvUCrTVubRqO8NqWp4yF1kDt8HA0vbU1XCd2Yl3KB0icOhWPDY1Bm8Z1UfPqemjWaSCeXiYvRP1p2QQNHK8wpVYRaCSTxdcGPdo6XIAK9ZvhdnkVmrX/SNGBuqwseIpmpE15mKb7XnMHcbbt95RM1JCnoGf9ISSPiML1teuiccxQPJb4AdbtPAI9629FUzWPaxf92D9v1a5CeHgEWt0SgSoHMpD26VwkqGUzsm8b3NzoGtSsfT2iuo3CHL3bk38Nanue9OZlH7avlslVT6Gn3bEbU8xELJdvLYuL/GbXR8hUoPKwa4OMeraJwo1+onj1m91u/4S0fdvhOfye9sctp5iJ7qOH/eGXrH7u8xQAnuppv219ioFnF7wDbh7NUPxs3AVPNt7oJxhaH82MA7C44MdARERERHSRYKCJVIeQZXReyD+KfVlZyHKc9kGMx63JzsUxmSxaJEb8ezGmtPWMensmdzO+mDcVo7pFIbJeXTS6cyQSv/xJC3xYFe7/Gk/e2QgNro9CtwGjMDUxEfO+2IysXP1GLDGob4ebZc+d0gq9xLm3Q5FaIcJvlOpyXGH0SgokUHcoC56i2WdTHqZp31G9V5oqO9dUMpEj8O/FU+DJ+jPI3fwF5k0dhW5RkahXtxHuHJmIL386HXgPNZPjm+fikfbXo16zTuj9wAQkqGXzYWoW9smKIgZLbut4P1MA9uZ4bgM7k2t/7O4p13Nr3oEj2qPvL6wzOGPEPy8JQYhM2rr8CnePObO9OZ7bt87k2h2zaZLng3DgiN3Rl6R+7oVnF9S6Y7dd0+TZhQOw3YWSOHNG9goT2eg3F9VstM3FC38MREREREQXCQaayFvXp7Bw4cLApncHoalcLCC1OmBSag4ObVqMWePvQhv5pCtdPo6u/RBTB92CxgPmez857eBCxN96D2av1QMp+lOeJmPWOwuxdNVWZOYcwX+yV+O1B0veD+mCuLSIwINF16dsysBheneQd8nU6jAJqTmHsGnxLIy/q43+lDJD/lGs/XAqBt3SGAPmZxYr2FS4/lnEdJ+ABdoj54ynqc3AHHUfxG2QWYeO4efMxXjqdv39pRUZ/4bt8dpOf4126CFVUUUi/g2b43SY/hpdyqO3q5+R8XjDZlv2019R2l0oE5XhGIiIiIiIyjEGmkhVD5HG+ETHauL6bt3QLZCpo79bWJyEosaNsXho+gf4NvNnHMkRYy+9owWemsjgx5nUcZj08UH9BQqx9q2/YLHWw6AeRi3ajZzMxXhrxmQ8dHc3dG4VgfCr9CF9f//9N+3vhbUNprvWbBxDrjGUVLPrUeTdN/Ui4Sma6+3LwWbqaHePVmgN3Bj7EKZ/8C0yfz6i5uN6pLwjAk9NtMe6i54eqeMmwZ31RTqIj5+dKR813xEvfn8A2as/wCszxmKoug/iNkj9VrxC/FaSrlKGiOvRTCazUAexlmN1nFr7uUXsvKmN2tfL5PGT+K9M2vrvSdiN/BVxvefoUSfW/lhtJvvDL0n9jID3Lthvz3dq7TCeVQnUrg1PNvrNRTUbbXPxwh8DEREREdFFgoEmUkUisp0+fhI2L0e630BDFpYlJOKDlBSkbNofYO+XQpwW4/ekfIq589O8bmeqdpUYe+luLfC0Ydt89JPzV2zZLVOmQYDbTMDDXX2fhqc7hZ/Wb5bpC2kD1u7089y27RvxuTycnrcE0B8sMhKeokmH/6JZhoTED5Cils2m/bJktIHS05Dy6VzMT/PKeVwV3hS33i0CTxuwbb475+HO+qKc2oIVK2R62AQ8aPfIOc0O/LhKJkukIZp1lMklq7HRX6U7tR7zE+biUzUP0nY4D9h+/tRE0w5yBH61fDbJcYbsHNz+nYiB+GrYDJ7D3+j3nDu1fj4S5n6q1oE02B9+yepnQ08BYLX/AsD6+QmY+6naPqTtsA2clUjNpvBk4yb7fNIcxPbv7P97wY+BiIiIiOgiwUATaTr0HiOfCrcC01782vHi6vjXr+FPCVMxasAAPLXudIBjGYVixzv90XvAA5gw7hWsdIqW1LgWEXKYpbBLjKp5Dr/+IpN+HE+djr98LF9cYB/PSMJW2+vY4/j6rZehjYsd1hcDOgdyT04H9B4jM2XFNLz4tWPJ4OvX/oSEqaMwYMBTWHdalkzoDrzTvzcGPDAB415Z6RioqnFthCz/MLizvii//uq/h46mEJlzJyPBT4ClaBHoMlw+SuzoLDz1ttPtfeq2FkzFuIQJeGDAMCzIuUTOv7Aiu8fLJ7ltwIzXHM6t46mYPd2I2llEdIHn8J/C2173lZoUZmLB1HFImPAABgxbAKfDL0n9jOgyXB7DUcx66m3vW1tNCjMXYOq4BEx4YACGLchB8EogEt3jZSZsmIHXHM6D46mz4ZyNF/oYvBXVM4uIiIiIqKJioKnU8pD2xlRMnSqmhfhRzq1oQjuMREJPvevM0Xn3IubBudh42Hwldg7ZX05Gn3vn6YPyhg3E1HuNe1GKFnX349DHg16B8UMm48tsyzP2z2Xjk3EPYZeqaJoAAG9qSURBVJa+cgzo1FqbDTRF2+5Gl56pmPDyRnjv1iF8P/dBxAyag0Ny1gW342n0GPCad/6J4xsfg3vn6d1Fbpo8EX0DGvslFB1GJkAvmqOYd28MHpxrzYNsfDm5j3vdYQOnwlM0Ubj7cTkS94rxGDL5S/hm/ScY99AsWa4D4M76olzbHB2NQb7njcO4T7LVWuJRePonfPlkN8ROWO0epLyk6g+chL/IpylumBiLbk9ajqPwMDbOjUe/ifoD7NUMxuguxb+xs0zU74XHHtV3Xju3xn/ite/nDqXimT6DMMexAtfHwEl/gb6GDZgY2w1PfmnJ68MbMTe+HzyHPxqOh1+S+ll/ICZ5CgCx3Z60nMOFOLxxLuL7TVT3ULgJk0d3KcGttc7q93oMejbq58F4r/p2DodSn0Eff+1AOTgGoBbCjaf6ZexxDOgTEREREVVkDDSV2hlkfZKIxEQxrdcv1iuk+hj8xkd4tKGIaORj36IJiLuhLhrdLB73fTMaXVMbrQa9jh+08Xga4tGPXkBvu4c7OWl2P54b3xDa2n94HYNa1cY1jW7WHyd+cyNcU7sVRiTrl4j1Rn2EGT2My7ua6DL6b2ilBVrysfrpONxQtxFu1h5D3hh1azdF9wmLsA8N8eBf4+Xj4Y/jQnYWqFevHs6kTjHln9hP9fje3qcPZh77Kt4Z2zLA3mCq+oPxxkePQi+afVg0wZQHMu8Gvf6Dtu6who/ioxd6ez29rNn9z2G8LNcfXh+EVrWvkfvVBjc3uga1W42AnvX1MOqjGXBnfZGa4d6/DZPjOx1C8ohWqF23sbtM69a7BYNmp+NM9VhMfbyr9i5RNmf83LnlKDQKf/3sVcRqGzuD9NniOOqisVEPrr4BcRMW60EGdXuvvjMWLQPO4LJWE53/8RlmdZTn1tsjPPuu5lODpn3xvHpihan1xum5iaFRf8Vnr8bqeX0mHbMHmfK6cV1cfUMcJizWz5+i6lfJ6mcoov76GV7VC0DdhdnaOVy3sVi+DRrXvRo3xE2AvgvVEfvqOxgb7AKo2Rn/+GwW9Gzch7dN9e3mRg3QtO/zavsUph6fYy5e+GNAHdS7USY/G4Hm2raHIblUPf6IiIiIiMoXBprIo1YsEjasx0dTuulBDfWy8+g+8bjvfdCfVB8GV4fx+Gj9BiTEFifKJKgX29M34Nu3R7ofs+9+XL/xWP7qbTHyX99izQuxXoGS0JZ/wmdfzcSdLm2nxILYpz2GXDzKvjqaDJmFFdvUi++xcdA742Rhmb/BcMpYrzfW4NuZd8IVZuSffOR+9SYYMmsFtiwcgcbFvH6tFZuADes/wpRuerDOnQdG3oW50GH8R1i/IQE+RaNeoE/f8C3eHtlWBoWM/crCPr1g1awfiX99uwYvFLNca/V4FeuSH3EP5I4zuZ4ylfuUkb0Yf707WgYBl2BVurk7VuBCG4/Awi0r8C/3cRiPqZf5a9SFLQsxorgZXNZCG+Ohxdvw+Qzj3JL7rpVfGBre8y98u3AinJ+bGIrGIxZiy4p/YaRxAhl5bTyLP8D6VeL6qR7DiIVbsOJfnnP4TK5YPgueXRiCWSu2YOGIxo6BrtIIbfwQFm/7HDOM80DmgVaPwxriHrX9WDjRz9MnL/gxXIv+fzcCpsa2l2Lj3pKdE0RERERE5VEVRSXTFdb3L/TCkR9SULtFN9z2l8/l3NI5uCUFO/4jUtfgJr9PHjqFn1avw75fRbqo9waq+Os89dNqrNMWuAwNb+0Iu4eOCe7juqwhbvX31LjC0zhycA927j6iBzJqNkCLxp4nvJXOOZzI3YvMHw+oRyrURIMWjRERfhX8r11dbu8u/CD3Kaz2Dbi5SQQ8u2TKtxp/RMfb/qjmhmW+43Gb3nPNTQ5PLDuILSk7oFcLy3tSn0DNvnO05KjFp/BCrMjCA9i+eSeOqDtbs0ErNIusDe0hbLY8676s4a32T42TCk8fwcE9O7FbrFhVs0ELNI4IN+WDH+dOIHdvJn48ILsVBatcRX3J2o4MuV7f4/Uc3yV1bsYdLY37svzkqT+W4xB1oekf68un3JWM47lxcAtS9MZA3UWnp7mZli/qnFX3fe+uH/TyC6uNG25uggiR/6d+wup1+/BrEeewcO5ELvZm/gj98MNQ+4am+GN9P/Wr1PXTynIOi+No+kfUr13DMTgTWP4EXh/OndiLXT/s1vbf3Ba428Ki2rgLeQxqHdiZsVGWX9HnPBEREV08fi84i88fukJLt3zwNTS84xEtTVTe5Bw4hJCQquoUgpCqIahSVabViYEmomCwuZAnKjdYP4mIiIgqBAaaqKLwF2jirXNERERERERERBQUlSzQVOE7ZxERERERERERVVjs0UREREREREREREHBQBMREREREREREQUFA01EwXDDvVi4cKE23XuDnEdUXrB+EhERERHRecJAE1Ew1G+Nbt26aVOgT+gnOm9YP4mIiIiI6DxhoImIiIiIiIiIiIKCgSYiIiIiIiIiIgqKShFouvTyWtrfgjPHtb9EREREREREFU3BmWMyBYRefpVMEVUslSLQVO2qcO3vuRM/a3+JiIiIiIiIKpojP3wtU+p17pX6dS5RRVMpAk1XNGyt/T33Sy5OZK3X0kREREREREQVya//2StT6nXudS1liqhiqRSBpmtb9ZQpYO+Kf8kUERERERERUcVQ+N8T2P/de1q6Tss7cckfamhpooqmUgSaLvlDTTTqPlZLH1idrE1EREREREREFcW25Cdw7sQhLd3wjpHaX6KKqFIEmoTmw15AjXpNtfS29yfizM+ZWpqIiIiIiIioPDu49gPs/+5dLR3RdQyubdNbSxNVRJUm0FSlSlU0H/aili44fQxrnu2OQ+sXaq+JiIiIiIiIyqNdC59G+j8f0NLVw29EC3ldS1RRVZpAk1C7RVdE9nxcS4sn0G167V5kzB2NM7k/afOIiIiIiIiIyoO93/wLq57uiMzFM7XXIWGXaZ0nqoRcor0mqqiqKCqZrjTyNn+ObckT8d8j2XIOcMX1LVHtyroIq3mNnENERERERER0/vzvf78h/0QuTh3aifyTeXIuEN62jxZkuuyahnIOUfmWc+AQQkKqqlMIQqqGoEpVmVanShloEn4vPIdt/56IfSvflHOIiIiIiIiIyo+ql4RqAaaILv8n5xBVDBdloMnw69H9OJzxBU5krce5X3KRf+qo/A8RERERERHR+VNFvSCvdlU4ql0Zjto3d8e1rXqiamiY/C9RxXFRB5qIiIiIiIiIiCh4/AWaKtVg4EREREREREREdOEw0EREREREREREREHBQBMREREREREREQUFA01ERERERERERBQUDDQREREREREREVFQMNBERERERERERERBwUATEREREREREREFBQNNREREREREREQUFAw0ERERERERERFRUDDQREREREREREREQcFAExERERERERERBQUDTUREREREREREFBQMNBERERERERERUVAw0EREREREREREREHBQBMREREREREREQUFA01ERERERERERBQUDDQREREREREREVFQVFFUMl0p/WfbCuRlLMPx3d/j3ImfUXD6qPwPERERERER0flTpWoIql0ZjmpXhaNOyx6o06onajZoLv9LVHHkHDiEkJCq6hSCELVeV6kq0+pUaQNNpw/txLbkiTjy49dyDhEREREREVH5EtlzApoNfU6+IqoYLrpAU/ZXr2lBJkX5n/Y65NLLcG3rnqhWqz7Cal6jzSMiIiIiIiI6n5Tff8O5X3Jx6uB2HNv1nZwL1LyuBVoMexGum2LlHKLy7aIKNG2e8yAOrE6Wr4CmA/+BG3v/FahSRc4hIiIiIiIiurBO7v8Ruz9/Hoe+/1DOAVo/koTrbr9fviIqvy6aQNOBNcnY/K8HtXStGztoEeErG92ivSYiIiIiIiIqb/avmo9t/34ChWdPIvTyq3BHwhZUu6qu/C9R+eQv0FRpnjqXfzJPu11OqFGvKTpOW8kgExEREREREZVr13UagXbjFmjpwv+ecF/XElVUlSbQ9GPyEyg4fUxLNx/2AqpUqTSHRkRERERERJXYNc3jcEMvPcB0aP1C5Hw7T0sTVUSVIhpz7kSu+75WMWJ/7RbdtDQRERERERFRRXDT4Jm4omErLX1g9b+1v0QVUaUINB3OWCZTQIOO98kUERERERERUcVRr/0A7e+xzNXa0+mIKqJKEWg6dWiH9vcPVzdAzQbNtTQRERERERFRRXJNi64yBZzJ/UmmiCqWynHrnIz0cmR+IiIiIiIiqqiqXRkuU/oQMUQVUaUINP129rT2N/QPV2h/iYiIiIiIiCqa0Ms817S/nTslU0QVS6UINBERERERERER0YXHQBMREREREREREQUFA01ERERERERERBQUlSTQpMi/RERERERERER0obBHExERERERERERBQUDTUREREREREREFBQMNBERERERERERUVAw0GRVeBpHcnORK6YT5+TMsnQOJ0qwvcLTR/Rl1Om87CaVS+dOyLpz5DQK5bwLznQOsW6WL+WyvpQbhTh9ROYPKy4RERERUYkx0KQ5h+zU1/BIx0a45up6iGzcGI3FdH1tXNOoI4Y++yWyy+y643vMNLY383s5r2g5H92rL6NOxViMKpnvZ8q6c+9HyJHzrAoLz3NIIecj3Mu6WS4FUl8uXjn46F6ZP6y4REREREQlxkBT4WF8Pbk9ovpOwYIfjiJfzjbkH/0BX8wchKj2k5F6XM4kqgjUur1x7oNo+9RqOYOIiIiIiIiobF30gaas5Adx7+v7tABT9bbjMX/Vdhw6dgqnTh3Doe2rMP/RmxGm/i9/3+sYNHwuMnm/CZUjl9aKRGSkOtWvjhA5T7cXyQOaI27CIuz7Tc46X0Kqo77YJ3WqdamcR1TuhaB6fXk+seISEREREZXYxR1oOrUcLz2xWgsyhXWchdSU6ejfqgFqhIp/hqJGg1bon5CKb56+ScxA/upJeOWbU1qaqDyInrwZmzer0/zBiJDzdL/j3H+t/fPOk4jBmC/2SZ0mR8t5ROVeBAbPl+cTKy4RERERUYld3IGmLauwULsWD8OIJ+5HYy3AZBWKlg9PxUAtnY+Fq7ZoKSIiIiIiIiIi8nZRB5ry0ACPjI3HXW3uwi0NbaNMuppN0aG9nsz/7X96oqI5d0J/mlJATwLzPH3pyGnzvYKeJ+Q5rsP9xLEj8Fo0AO4nYuWeULdUXA77XKz9Kd4TAN1P/rM8wctpfkCKVU6mPDNtS5/3C04Zt8z9+ovXOov1xEL3/hSjPB2fOudUr5zml5bpKWIlqlOm+qBOReWVU7m7y8hxBYEev8P55y6jkhyjH8Wsi46K9STPAM9B8zoDqJu+ZSDz3KusTPUlgAM2n0dFn+tObafT/EAEmFd2SlO2xSpPIiIiIrooKZXA2ufvUj4bHqqsfe4uOSfIClYqE101lBo11GniSjkzWNR1i/UWc927k+L0ZdTJebGzyp7lCcqQ6AjFZWxDTuHthigJy/eo77CzW0mK098Xl7RbPf4cJWVadyXCyANtClfajUxS0o/JRc7uUZbbvidZ2Wa/EZ1YLmGIEh3hMi0nlx2SoCzf429hlbpvqxJHKu3CzcuK4xupJImd252kxGnz4hRxKHYK8jYoyY9b912dwtspQxKWK0674C6DuCQ1xwqUnBQ1r9uF26wjRckpkAvZKlDyNiQrj3cvbjmptWeifK+2D5Z5NpOoKwVrnlIi5Ot+yQfkUva2JUbpy0Y8pazxewwm7jy31k2beqWWvW/ZqceckqPmSsno5dlHudGy3hquCCW6yDqlnjMrk5TH+9yohJuXlZO/8vCtD9OU7pZ67a6XGnF+2r8n2fak8bQVWr4eS1eSRrbz3k/1GLtPW6RsNzZhYVdfvJW8LjrbpiRGyfX0S1b81rhtiUqUtj2XMnrZSTlTKshTflhk356J90d0f1xJ3pBnW2/cx61mXMGuBcqIFqY8V8/RKSuOqO/y1E+ntrgg7wdlkW17pU4i7x9PVjbk2e6BT9n5tjnyGNz1w97ZPcuVhCHRPu2VKyJaGZm0QbHdvKY0ZSuXtTkvxHb9tZNERERUPL/l/6pd24pp74o5ci5R+bNv/0HlwKGflZ/zDiuHjxxVjhw9rhw7cVL55dQZhU+dC8Cp1cuwSA530/OWpnqivDu3HXP7NkKrQTPxhc3T9M7s+gIzB7VCo77z/Q9w/vtedT1tcc/stTjqtZIz2LVgArqLAdIPr8UzXaIwyPY9oxHTfz6y5Byzc9vnom+jVhg08wv84L2gSl32i5kY1KoR+s7PtO8tcFzdbmxb3DVlAXadkfOkM7sWYEJMNJ5IOybn2DueOhltm8dh9FvWfVed2aU9cbBV6/vwof9Mwt65fdH2HjWvfXdEXcc9aNvXaSD540id3BbN40bjrbXO5dT6vg+DNhB9aIdBeFwfdgwr5n1lWza69fj05R1aynVfd7Tz0+mv2Ix6pZa9b5apx3xPW/Sd61Du/hxPxZQYUZ6pyLWsF/lH8YOoU1HtMdnuEZKF+7H0/1qjVd8JeCs1V62BvtzlMTkNzqO1GfVhNtZaKpVWL7sPx9zMw1j7TBdEDbJ/z+iY/pjvXDDAiVQ8ER2DCQt2ee+neoxrZ4/ArdFF1Vk7ZVUXm6HfuDg9uWIevvJzXFu/mgetxoUNQJ/omto8zfHNeLlvc0SPsG/P1APH0bVvYXRcc7W98LOBw8swpd9ILNpnWsOZemh24zXyhbPjm19G3+bRGGHbXqlE3r81GnHN+wZUdr5tjjwG0W7ZPuK0EJkf3ofWrQZh5hc/+LRX4gmpCybEobltW1O6sj2eOgUxYlmb84JPZiUiIiIiH1ooqoIr0x5NBeuU6U3kr7eu0Yr1R/bSM/VoGvOJ8vPPPwc0bXy5s/sXZd8f348pS+I9v7g3GZ6orNxxXP5afVY5vmOlkji8ifv/rvgl6hJmnl/2XS6xnnAlZtpyZcdxuYbjm5Vk9/IupUmTCDVvWigjktYq+0+Jn9MLlFP71yov9TD2IUKZvk5b1OPYEiXe/Yt8E2V44kr3+tUNKDtWJirDjXxXtxG/xPorv/kYXUqLce8rWw7qyxec2q+sTRqhtPD6xd+3R1NBxkuy94Q6NRmuJK7coRi7INaxZdEkJdpYR5NJyreWsnf3YFHzSPQQcEVPUhZt2a9oWaDl83JlUrRnH316aKj5lPGS7DGkTt7lJPJwi7JoUrS790GTSd8q1jU491Dx3zvD0yMuSkncJmdaeHo+Ob/HVgA9mvR65VKiJy1Stuw/pR6tSpT7clOeF/t8O6ksGy3z29VDecZUnj7rbjJdWWfp+bH77R6evB6epKzNNspC1IfDWp309ITpp1g7g1nrQ3jMNGW5UZ7q9jcnD1eayPW7mjRR81attyPU7cjj1+rtS559iPA5aTxthVf+yXp/9vgOZfm0GE+Pk6iXlAzLMTrXl9LXRb9yFyiD5bJRzhVOeSpCf0/EU2v0OqE5qXw7ydPeRE9S26LDss6ozh7PVs/VaUqM0YPNpvedVy8/V7QyaXmmdp5qeb4qQx6Ln3Pm5LfKJPfngFh+h3JYP9FV6rmereaPKe+991+wlp13m6e3WZ76USMqUbHmUsG66Z7/h8co09R9cDeZB7co749r4Skfte54tl/Ksj25TBktzxtXj2dMy8o6Z17Wa7tERERUEuzRRBWFvx5NDDT5U5CnpEz0XOAMXuD/NqOSMQWaSjhZr4nMt0Y1Uf9pfyPGMfXiyzi2COUprysz0wWXOsXN2eV78XAgWekn/y/yxjcQpDIFHLRbpdwKlDVPRchlm6j773CryDE1b4yLO8vFYyDHeGzlRM+FmU+gyXSMTSYqTrtQsCtJ6SEvsqwXyJ5gjTrFzVF22V1hmfPJWlCm/HEupwJlV5IRfPAN+JQ00GTeL/sL/wJ13TKoYnPR61cAgSYx2dYr1YHkfu732O26s2+VSbKsOqvrtnNsSbzMS2vwc50yXQY5HMtSVZD+nNLaYd+Krg8HlOR+8v/q5BvgFUx55FOm5rbCpfSYs819we9hri8uZfjHuXK+zrG+BKEu+mcKAjrUJ885bSkbU5AqYnyKw76pZbvoPn39NkFlc6DJMdDl55zJXTBYLh+hjE9x3ANl0X1yeb9l57QOc7toPQZT3XH1UJJsK+gxJWW8sXy8ssSIFpW2bL+dJOd3VuxPK1PQP2K6eiYRERFRaTDQRBUFb50ricLD+HpKDO6Zc0h7WW/UR3hjcH0tXb4VYvWnb+CoSIYNxPOTY1FLm29VC7GTn8fAMJE+ijfe+8bhVqCeGNmnMXzumqrfFj3ayLRrPB7pbbOVyEZoLZMbdh2QKVXhanz6hraH6i4+j8mx9nuIWrGY/PxA6Lv4Bt77xthD8zEOw8tP2h9jrdgn8fIwbWlf27/EWxv05MDnn4TTLoQ2vh9PjNDXsePlT7FeS/kaOH6I/VML67dHLzmQPLbnYK9MCtu/fAv6Lqjl5HAM4qmHje9/Avou7MDLnzrtQTHV74V4/VGK2DHvK2zVkx6nvsFH8/UbbOLG9UMzLRVMAzF+iE29UtVv3wueLDPnWFH+h9/kPUH7d+yH3V08tToPxsOxgzF27EjcUM1U409Vww0jx2Ls4Fg8+heHshTCLodxQ9eBI3ky5avnyD4266iPtp6TBuMf6W1T5pFo5DlpYDprvLnGYNqDzVBNvvQQ9WUaxrhEOh+LF6bBeS89yr4u1kSXQSP0c3nHPHzlU+FM5/RNj+PuKG2m7rfaiB47FvF39caUkV0d9g247LIaMpWNXMc7Ztsgvmvxa/NvtaPVOhOPu3pPwciujnsAzy7kwnEXIv+EB23XEYoOMffI9FZk6R89uqyvMG+Fnrzpby/gIdsKWgtdR05B77viMXZGF9SX1bvUZfu/3+StdvuxY7/tWYXOgx9G7GD1/Bl5A8ynFRERERFdnBhosiPGahlnCjL1fQufzXT6gh5E972DzMzMgKaVfzcuWK12YMsKebUd1w3t/O10rc7o10dP5n+Vjp160lubO9DqWpn2EoKQS2Sy/Q24XiYDsmMLPLvYzm++1urcD/ou5uOrdGMPTcc4rD+6mIZy8aZe3PYfJtPe8ratVtciRKLGyXVISUlxmFJxqLCB9k4cXYudtnGPNoi60XEnPAp+x+8yKZ55uG21vgeIrIGT6+y2LafUQ/Dswk6vYFXJ1UTnAcP0C/+s1/DJWu+BWU6lLUSylsVxGNipDAKsbaIQWJZ5cqxobXGHDCwenXcPmjfui5GJHyAtY6/nyVo1uyFh8VuYMWMyBrc07UDNlhg8eQZmvLUYCd30+dqTyvZmIC3lAyROfQxDOzZC3dsmY7P2X3UbZ+xGcRLa4A77kwYhnpMGNxTrpPHmiu+JDk7BsNAOuGOwng9Ytsn+vPZyfupiaMe7ZQAsC68ttQSpTIHN9iPv9A5s1o/F2Bkz8MoHyXhY+4d8OtxO9bz9dC4Spo5E38Z1UXvQe9rb1T3DyV9l0kc73NBYJouhfuxYtc68gg+SH9b3TT55baeaV5/OTcDUkX3RuG5teHbhJBx3oVMLyCHS/MiH+QGnhXt/lMGiSAy63U+grNnDSP7gFcwYOxSttdM2CGXb9g7op9VRzLunORr3HYnED9KQsdfzlMOa3RKw+C31/Jk8GObTioiIiIguTgw0WWmDzrbFsGQZZBqWjK/mDXbu4RBMl12J8PDwgKYraxoXrFbHkWsMRNugNuwvdw01UTtCu/JzvjC6JAQhMumoyO1YHM91D0DdoHYRS9asDc8uGnvoOcbI62rb9ooxhF53k3rZ7+vwoZ9kKgvzxgzAgAHO05h5xt7+ioICmfRyCUKKzCSrw/DswjyMsdmuZxoDzy4UwHYXSqBml/vkhf9RvPfVRvXy3XAQn8/7WEuFDXsEvcqiI18g9arYaqLHjI8wqp7+6kxuKj6cOgq9O7XE9bXronHMUDw5NxU7/TyS/Vx2Kub+WQQN1HPj+sZo3LITeg8YhamJ8xwGobYTSH1ogKKqvj/ti4hS1YtsKVPbUXSnsPNUF0M7oP+fIrXk0XnLYI5tmgOb8d3193grxOEfP8GzQzui0TVXq8enlk1UNwx4YAISEj9Eqs/I72Wg8DB+/ORZLeB4zdX1ENm4MaK6DcADExKQ+KHN4PNOQi/x22bZydm/TaZq4YrLZTIgQSjbmj0w46NR0E+rM8hN/RBTR/VGp5bXo3bdxogZ+iTmpu70BHOJiIiI6KLHQJNJYeaHuC86Bk+vFlc8Ybj5L19izT9747rzEWQqA5HhRffBurL2dTJ1IUSi6F28Ev52sVZRV13qFb9dSO64OxpXHeGRkYgMaLoCVX+Ti5WaKSBYPdxmWw7TFVURtF0IbYfu9+lRvKNvfIrVxoX/wVX4WLtNJwwD+kSjQnVQqBWLF7ZkYPGskejgkr16NOoF8uYvMHtCX0Rd3wjtJy7Ffq9OXIXYv/T/0LpVX0wwPbEuzNUQkW3uQvzYGZizdBW2f/ei+7a+C6nIAK1bAYruFHb+6mLL7vF6b56j7+GrjUYB5GF5sh7YxMB4m8DmcWx+uS+aR4/wetpa9XB1H8RtkJNn4Z2U9cj5aJT+j7Jg+9Q7ve0Qt4xNnvUOUtbnoCx3oWSCU7a1Yl/AlozFmDWyA7xPq1xs/mI2JvSNwvWN2mPi0v2mgDURERERXawYaJK0R1d3HInFWkemeuj71mqkTutQ9rfLlaGs3KKfNf3zbuNGoAshC0Xv4s/wt4tbvQYysXEsF9kyaVb3BqOfUyf8Y9lmbN4cyLRY3roTDHXh2YV/YJnt9mymxfLWnaAIRYdBj+sX/vnz8ZEcAyvrq3nQ4kyuMbjP+b7E8qtaI8Q+9BK+zP4Zh7LWI2XODG3spYbuK+Qz2PXmMHR/br3novjgJ/hLfDL0078vZi5ej5wjp/Cf7B+w+dsP8MqMsRjauRUaXB78flglUdTYVb//boQJmuO6Im/RO491sVk/jIsTCdO4cAdXYsEykQjDsAGdfQKbhevfwLCnV2vBnbCbH8X8Vdtx6Ngp/Jwp9uEtzJj8EO6+tSmuMgdAgqoQ698Y5vkB4tH5WLX9EI6d+hmZaj6IW8YmP3Q3bm16lX4r6gV1DieOnDYFe4JXttUaxeKhl75E9s+HkLU+BXPUc2JwbENP4OnMLrw5rDueW89QExEREdHFjoEm1fHUyYjp/jT064ib8Zcv1+C9wfYDFZd/DdGso0yu2OI7yLOXLGRvkcn2TSCH5yh7DZvBs4v+9xBZ2fDsorGHnmPM35jlvg3PTt6+bfoAwxbh4X+UqRXYtNP/hVHh6SNlcFtIODy7sAn+d0GMSeMZDyWomsViuB5pwsIla9QL/+34Uo6S7nccoHKs8PQJnNbyMxQ1ajfFrUPHamMv/SACT5vmY5i8te7Q7M+wVk9i7zfvYJnWTcWFCXPn4U+xTXGV70jb6kJZRZxT58eug0dkys4p/LReRmcjr0PtIsvwfNbF+rhjSE8tlb9wCdacKjqwufaz2XoAEHGYvSAB/Vs1QA2bY9qbs12mgm0tPpstA9pxs7EgoT9aNahh8/mwF2W1C5GR7WQQayt2HfBTQKe+xsTIeri6Zk30TT6ozghW2ar/OyEDWKE1ULvprRg6dgbeWvyDFnjaNH+YvLXuEGZ/ZpxVRERERHSxuugDTYWZczF80OvYJy4yq8di1rffYFqHityPKQLtesqhZrPewlI/vy4Xrl+AF/WYAlwxzWE3MkqZiGgHzy4uhfMuFmL9ghflILguxDQ39tB0jBs+QJpjpCkLX7yldZXwUbN1nHrZKuRj/pxPIC7J7B3Ex/dH4vraNVHzmvFIcRzht7hqonWcvgeiN9GcT5z3AAc/xv2R16O2evF4zfgU50GGS6QZ+uldTPQL/63r8Jk2dvBNeNzr0V/l368rJ6PRNTVxdb22eNF9W5ZZKGrc2B8jH5T3ZuX/BmO85X3bV8tUI1znGJk5jq8//TDAcZrK1tF5C5Hq9HSvg59DDrGFyOFxMEZrcnZ+6+K1PR7QB5fOX4gla7Yi7QN5ht/XHe18sj4LWRuNHI9EuNN4YYWZ+PrfRhkGWVYWPLsQDudd+BpltQto3cH9UIT5Hzk9IVStoWmfYYmWikTn5mJPS1u2v2Ll5Ea4pubVqNf2RdifVjVwY/+R8JxWplHMiYiIiOiidHEHmgq3IvGBCbInU0fMSl2Ih5rZdWPwRz4BKVdMZdTrpJia9ZuAntrP34fw/IhxWOo9GI2mcP9SjBvxvN5TQD32p4acz6BCM/Sb0FP/hf7Q8xgxzjpejiDGzBmHEc/rPQnCOj4F8y56jnEDJo17GZt9bsET47qMwyQZSPNRvxfGjdLHJ8pf9ic88vJGHPbZh3PY/uYjGC8fK15v/L2IvUxPB0P9XuOg70I+lv3pEby88bDeY8Ds3Ha8+ch4vccH6mH8vbEIbBdCEHKpTG7J9tvrq36veAwUCfXC/52Ez/XA3k3DERu8e/TOi8tu6YTuWuoo3njmbWy3OxmPp+KDt+XFtqkXX0N3N8CtWJSW6VsOhYex8eXhuHeeXf+4C+DoHIz5q815I8YSMupLWE/8dVDRYSahbOuiRc0uGKQ9Rz8fCxMnQ48z3YTHB3Ww6SUUich22omu+hzLUm3utT2XjU/G9cNEp3O9tCIj4dmFZbDfhU8wrt9EGRQvAzXvxEMTZHuV/Dj+ajMWkmjTp/7lYz0Q2v5R9JFFX7qyvQy3dNLPKhx9A8+8vd32M+546gfwnFbnrW8sEREREZVTF3Wg6eAnCUiQT35GverIfPdpTJ061f/0Rhry5CK6HHx0b2M0biymmfhezr2g6g/GM//sq9/KcCgZw9o2xp0jE/GB9hjrD5A48k40bjsM+oP1qiP2hVkYdt66M+nqD34G/+wrb7ZIHoa2je/UHkWvPWb7g0SMvLMx2g6TY+ZUj8ULs4Z597gSx/hCRy1Ylb/6acQ0b4+hzxrLP4uh7Zsj5unV6sW2cYVoVROxk+fKJ5TlY/XTcWjedgCenPuptg7xyPKRsY1w20R9bBjUG4U3xkQF93bKmrGYPFc+zSl/NZ6Oa462A57E3E9FOX2KuQkjEdvoNkzUIqFiF97AmKhA9yAC1xuBog0v4u+v6ce1xa5DQ83OGKB3McGyZfqlZpx64V7B4kxaAGP0ZL2nW/7qibitUSxGJszFp1q9l/nZvC/maJWqHkZNvdtdpyK6PCADl2pdmNDRVA4p+CBxJO5s3BxxYpyg6i7vwZAvIO28MdVZsZ+xzT0PM+j47N/R36n7jVWZ1kWrUHS8ewxE7CN/9eoiA5sd+o3X90ttDeb0bY5Yd1um7teTQ9G+USuMUBuzMJdLbc3KQgf0G6/vAQ7NQd/mar0y2qpP5+LJoe3RqNUItT0Ng8tVNnsg8qzDeKO9OoTkYW3R+M6RSPzAyIcBal2Qbbr40eT1+z3tZSnLtmaX0dBPK/XcmHgbGsWORIKsc+L4E0bGonnfOXpbrbaTU+8+zx8mRERERFT+KJXA2ufvUj4bHqqsfe4uOScQ2crbPWooNWoUc4pLUnbLNeh2K0lxxv8nKivl3MCtVCYa654Y+NK7k+Lc+2S/WIGSkzJNiQk39s1mCo9RpqXkqO+0Mh2Tz/EaTO9x3O8ijq0gR0mZFqOEG++xmcJjpikpOb57qDurbEvq47h8eJ9EJX3RRPk6TkmyOZCCvDQlISbcaznrFB6ToKTl2eSSuwzs160rKi8LlLy0BP/lVCNciUlIU2x2QVk5Ub7HZt0nv52kNLGsq8fb2fK/3grWPKVEuN83WFmQK/9REruTlDi5Lu9iD6ReqUzLxzlnrL2CPCVterTiksvbTq4Wyrgl1nqvlkPKJKWFy+b92uRSWoxIUjbk7fa0G/FLlJNyaSGQ+uB5j3Nb4S5Tn/eYzqfx7ypLxrWwP071+EYkb1PPDl/+6ktp62LxbFMSozzr7Zd8QM634/881/Zp2nJlz9lvlUmy/Fq/lCGX1TnnqZmfNu3sNiWpj592QrSly/coZ9VzTi+T1or3LgTYzq802iv7dr3I9iq8j5KYfky+26x0ZSu2Oz3aZbOMZ3K1GKcscWyriYiIKFC/5f+qXduKae+KOXIuUfmzb/9B5cChn5Wf8w4rh48cVY4cPa4cO3FS+eXUGeUi7tH0M3LzLI90DmSqXx3ez50KQfX6xv9rwbhbKXCXopax7lqBLx1Svb57n+wXC8V1XacjNXsnVs3Xn7plvD928GTM+ngVdmanYnrX62x66ZiOyed4Dab3OO53EccWeh26Tk9F9s5VmK89wUi+NzIWgyfPwserdiI7dTq6XufUc6Iamj20WC4fj7va6Mu3uWs8Zi3OQPbiP6HmCWMocXuhdTphUmoOdq/5GLMme9ah7cPYGZiv7cMkdKpjk0vuMqiP6o4PIysqL0NRp9MkpObsxpqPZ2Fy/F1oo61TncSj22fMx6qd2Uid1Ak2u4BLazmvu2bnf+DbFf/C+LvayP2MxC9HD8v/egtt1x336XfmIGzYA+gR6NPz7YRUR325Pe9iD6ReqUzL13fOWHuhddBp2mocyDCeiiW3p07iMfQz5qQg48APmN3bWu/VcuiagA0Z3nUpss1diJ8xBymbspH+9kNoVycS7frLc2nnFmwxDVIUSH3wvMe5rXCXqb/2JLQ+es/egIyvTOWr1pfJsxZjU3Y63r63mXp2+PJXX0pbF4unGWIfNtqkR/F/vfx1vRLn+UJkblqsnqODEWvap8mzPtb3afqdaFSttbpO/X/Y+CN2y6WFgPLUXD+t7VW1ZnhoYSY2LVbzxaktvbMRqrWOxcPa/8QueO1BYO38pbXc67ZtMrX2Khs7V83HjLGevGhzVzxmzBf7sRh/amM3xmDpylZsd9rqA8hImeO1XaOdnJOSgQM/zEZvx7aaiIiIiC4mVUQkSqYrrO9f6IUjP6SgdotuuO0vn8u5VJmJJ4udq3aV7dOnzLLmdkGbCeLmnFFYfOoFxOqzyerUUjxUfxg+RhhGLf4ZL8TygrH8ScUTNftijkiOWoxTL7A2ExEREVU2vxecxecPXaGlWz74Ghre8YiWJipvcg4cQkhIVXUKQUjVEFSpKtPqdNE/dY4qppyPBqLe1TVxTaMnkeYzsq3hIDZ8LofnbXMD6uopsnHw83nQHlTmGoO7OzLIRERERERERCXDQBNVSNc3aq0PBH70X3h3qc1TlNQ5mXM9T4y7aUA0GutJsjqeitnT9Yy66fFB6MA4ExEREREREZVQJQs0Vfi7AClAoR2Hu5+E9PEI8RSlx+QTmNRJPrWu4wTjiXGP4rn7K9wz1MrUwYWPYehjUzH1saFobzyJzTUKCcwnIiIiIiIiKgX2aKKKKbQlxn60CI/erD+Wf1/KPEwdNQADBqjTqKn4cO1RLchUve0UfLkmAZ1rakuRVP/qUHwxLxGJ877ArjNiTj2MmjsZscwnIiIiIiIiKgUGmqjCCr2uKxLsnoQknhTmfmrdJHSwewjTxe6GHpgsn1YWO3gGPsrYghdimVHlW8meUElERERERHQ+VbKnznXFbX/5Qs4lIiIiIiIiqjj41DmqKPjUOSIiIiIiIiIiKnMMNBERERERERERUVBUikBTlaqXaH//9/tv2l8iIiIiIiKiiuZ/vxXIlOc6l6iiqRSBpmpXhWt/z534WftLREREREREVNHk/5InU+p17pX6dS5RRVM5Ak3yBDyTm4nCX09qaSIiIiIiIqKK5Jd9m2XK06GCqKKpFIGmOi3vlClg16K/yxQRERERERFRxZG3ZZn297JrGuKK61tpaaKKplIEmq76Y3v1RIzQ0rmbPmOvJiIiIiIiIqpQxLXsoXUfauk6rXpqf4kqokoRaBKaD3tB+3v2+EFsS56opYmIiIiIiIjKu9/OnVGvY5/Q0n+4+jrcNHC6liaqiCpNoCm8bR9EdPk/Lb1/1TvY8+VsLU1ERERERERUXok7ctKejMKvR3O016ITxSV/qKGliSqiShNoEsQJWf3aG7S0iAave7GPNkA4ERERERERUXnz84ZPkDq5Nc7k7dZeN7zjEdRtd7eWJqqoqigqma4Uftm3Bdv+PRHHMr/TXlcJuQQNYx7S7nEVA6qF1bxGm09ERERERER0Pv3v999w7pdcnMrZiryMZdq4TIaILqNx8wOvyldE5VvOgUMICamqTiEIqRqCKlVlWp0qXaDJkLl4JnYtfFq+IiIiIiIiIip/RIeI5sNe1IaDIaooLspAk3BizwZkp7yOwxnL+CQ6IiIiIiIiKjeqh9+o3XnT9J6/ISTscjmXqGK4aANNZidztmpdFAtOH5VziIiIiIiIiM6fKuoFebUrw7Wpet3Gci5RxcNAExERERERERERBYW/QFOleuocERERERERERFdOAw0ERERERERERFRUDDQREREREREREREQcFAExERERERERERBQUDTUREREREREREFBQMNBERERERERERUVAw0EREREREREREREHBQBMREREREREREQUFA01ERERERERERBQUDDQREREREREREVFQMNBERERERERERERBwUATEREREREREREFBQNNREREREREREQUFAw0ERERERERERFRUDDQREREREREREREQcFAExERERERERERBQUDTUREREREREREFBQMNBERERERERERUVBUUVQyXWnlnzyME9mbcO6XXBScPirnEhEREREREZ0/VapURbWr6qLaleG4pnmcnEtU8eQcOISQkKrqFIKQqiGoUlWm1alSB5py05cg+8tXcXTXKjmHiIiIiIiI6MILCbsc17buiaYDp+Py2o3kXKKK4aILNP3vt0JsS56Ivd/8U87xCLn0DzJFREREREREdP4o//tNu141CwmthubDX0TDOx6Rc4jKv4sq0HQ4Y7kWZDqTt1t7/Yda9dEw7hHUadUTl18TgUv+UEObT0RERERERHS+5Z/6D07mZKjXrsuQnfK6nAvUbXc3Wsb/E5dWryXnEJVfF02gKf/UEaRObq2duMJ1nR5A82EvIvSyK7TXREREREREROXFsZ/WYFvyE/gle5P2ut6tg3DLo//W0kTlmb9AU6V66pw4QY0gU9sx76H1yLcYZCIiIiIiIqJy6eobo9H572txVWR77fWhdR9hf9p8LU1UUVWaQNP+797FwbUfaOk/9hiP+rcN1tJERERERERE5Vmnv63GFde11NI/Jk/E2WMHtDRRRVRpAk07Ppyq/a3ZoDma3/uCliYiIiIiIiKqCJoP069jfzt7CpmfPqOliSqiShFoOrozDfknD2vpJnc/qf0lIiIiIiIiqihcN8Vo4wwLeRnLtL9EFVGlCDT9Z/tK7W+VkFDUaX2XliYiIiIiIiKqSK5t1VP7KzpS/LI3XUsTVTSVItB07pdc7W/1a29A1Usu1dJEREREREREFUmNBs1lynOdS1TRVIpAU748AatdFa79JSIiIiIiIqpoql3puaY9d4KBJqqYKkWgSVH0v1WqhOgJIiIiIiIiogqmSlXzNa280CWqYCpFoImIiIiIiIiIiC48BpqIiIiIiIiIiCgoKkmgiV0KiYiIiIiIiIguNPZoIiIiIiIiIiKioGCgiYiIiIiIiIiIgoKBJiIiIiIiIiIiCgoGmoiIiIiIiIiIKCiqKCqZrrC+f6EXjvyQgtotuuG2v3wu5xbfuUMZWL/qO6Rsy1NfVUejW2Jxe5e2uLFGqP6GIPtx4VQs2CJflES9bhg7pjOuVZN5aW8gMeWQmIluY8egs5hZznj20R+R720RGdEUbZo1QBllfbniyZfWGDJjAFros4n8+BELpy6AaD7qdRuLMeXxhPejIrRXFDzuzzrTZ5YmLw1vJKZAa/2GzMCA8tT4+du3Hxdiqn5A5a/+Ou53HtLeSIR+2lnK4aJTsdtPIqr8fi84i88fukJLt3zwNTS84xEtTVTe5Bw4hJCQquoUgpCqIahSVabViYEm4dx2vP9/QzF+0T7ky1ke1dF2ygIs+HMn1Aly0CP1iZroO0e+KIn2s7D5m4cQqSaz5nZBmwkbxEzM2vwNHhIzyxnPPgaoehMMmf4vPPtQG9SSs8rOOWRvzMRl7Vqe9y/fnnwZhcWnXkCsPpvIj1Q8UbMvRPPRftZmfFOiE7481Pny215R8Lg/60yfWZqsuejSZgK01m/xKbxQnho/f/uW+gRq6gcU/PpbeBgbfzyNdm1KuFLH/c7C3C5toJ92lnI47y5c26MLRvtJRFR2GGiiisJfoIm3zhVmYm7/GIyWQaYwVwcMHjsWY+Pvws2uMHXOGaTP7IWYKak4ri0QPJfWikRkpN3UENqmNdURbvsedapfHSHyXRVN9XCb4xFTeHX5DtWZXVgwIQbR932IzEI5rwycy/4ST8Y2QqvJm9TSJqr8WOeJyptCHN44Fw+2bY64Dw7IeZUP2x4iIqKLw0UfaNo+5wFMWK2FmNDx6W+RqX4JemvGDMx45QOsztyGRaPqae87NGcQpi4/paWDJXryZmzebDd9gqkt5ZswDP+yfY86zR+MCPmuimbYv2yOR0yZP+PUsUPYtHgm+upZj0OLR6JfGQT6DN//cxBmp1+4r7y1b38aCxcuVKd7cYOcR1SWLnSdJ6rQbrhXttlP4/bacl6p5eDzyROwaJ9vv+piqX07ntb2bSHuLYcfKGx7iIiILg4Xd6CpcC0+enmHlgzr+RrefNxyi1ZoHXSdORcTXOJFPpLfWQ4xehOVsdAauDH2T3hvzWLIOB8OzXkICanBDfSVFzVv7Ihu3bqpU2vUl/OIiKicqt9attkdcWNNOa+8qHkjOmr71g2t+YFCREREF8jFHWjavBLvHdWTfYb1sL/ID+2AmHtkekUGMmWSzoNasZg5/y/QY01HMefVz3FQSxMRERERERFReXTRDwZeePoIjh48jNP1Wjj8MlmIrx+7GvfMU5Ouv+Dr7GmI0v9RhkyDdgY4QLTv4LqFOP1TOr75LhWbss8A1Rvhltjb0aXtjQE9yc37CXzAtc07o13b29D2xhoo6Zjo5sHAAx/49SDev/smjF4h0kUMvHruBHZmbETGxjTI3RY7js7t2uI2m+M2nny1b0UiloqOba6OuH9oa4ih9+yfRHMOJ3ZmYKO6jTTPBtC8czu0va3kTycs+qlz+na/XSvLUnVt8264vWMbNGtQ8vJwKzyNA9s3Y1P6Wvf6tfrSoS3aR7VCvWr6LHtqPTuwHZtXe+pK9Ua3ILZDDFo1vQr+F9W3u/q7FFle+pMeO8S0QtOr7Jd0fHqVFz9PFHI/LcrIa9/zpFOPO9G5VT3Tvuvv+fyrpfp+qnWq2+2dEOX1HgfnDiFj/Sp8l7JN7w3ppz7a8T4P1brW7XZ00sqkZIPZFr/Oi9NqJzK+XYvUTdnamCqifDu0bR/Y8Tvwba/O4VBGGr5cvgqiGIpXvy1lqNWjDmjbPgqt/FdePzxP6HLni1pff0r/Bt+lbtL2Uavnt3cJrE30qesBtBvup4fJJ5tdmY11n36BpeoKtPzpJI/vvNZpdTlxvm9Kx1pZHwLJ7+INBv4frH7zFSzPEeminsRZiK0fPo2PflCT1/fAY490xDX6PwLkm1fuz8kcP4OBF/nUOZlPAbaLert2Els+eBerxY9fN/XG2LiG2v/cT44LtD44PnXOZjBw0T6lfYnlq0RZ6u1LxzbN0MChTgb2hFTT0+1aD8EMuQMlaXsKT/+E9G++K3HbE+z2k4jofOFg4FRR+BsMHCLQVNGtff4u5bPhocra5+6Sc4Lo2BIl3lVDqVGjhuIavUw5KWeXrd1KUpy+zRo1Jior5Vx/difFyffHKUnp6UrSiBaKS3ttmcL7KInpx+RSvgryNjgvq07hMdOUlJwC+e7i8exjDWViIAcl5S4Y7F4ufolNCRTkKCnTuisRspxsp/AYZVpKjmLec/P+WKe4pN3yXUKBkpMyTeke4bJ9rz6FKzHTUpSSZI1nP3zLumDXAmVEC+fthsckKGl5JSsPtXIr6UkjlXbh9uvWJlcLZURSuvpOG8fWKAkx4fbLqZOrxQgledtZ+WZvx9YkKDGO23UpLUYkK3aLrpwo3xOXpJ4lTlYqE+W6vMtRtXKi3Iaa12q9WTLOvq6H93lb2SWytWCXssDhfGgyfIH+HjsFecqGpBFKC6c6aVMfvZzdpiQ7nsNi2XeV8fK1zzH6EXidF4fgvy0Q5Zu0Ic/5GPywtleJfezqkUuJGJio+GmulLN7livTHOugqEdJfpd35mmDRb4cS09U+jjU1/A+/vbxrLJn+TQ/dV20G8uVPXanye4kJU57j8gjtU43sSwblahsE+87T3X6WHqSMrKd8/nuL78dz1v3MXp/JhxI7ifXGaE8tcZPDTu5TBktz7HinAdCQV6aY/ul1e1Fz9num8ad52rZWDdbgnbRnT82k3vbgdYHhzw112lRDulOddoVoQxMtG/z/X1WeZi2Y9qB4rQ96omtLJ8Wo4TbvFdMWvn4bRjKpv0kIjpffsv/Vbu2FdPeFXPkXKLyZ9/+g8qBQz8rP+cdVg4fOaocOXpcOXbipPLLqTMKnzrnx7lD3+Pl4fH4WBub8yZMHt0F5W04Bl/ZeHFYd0xYtA9w3Yy74sdi7NjBiDWe5nYmFVO6j8GHNvegFe5finExcdqy4pCrh8fqT+AbG4+7bnZBewZf+mzc07Yv5pblY+Asrm3S3v0LeOrWnTJlOIiF8bfintlrcVTd6TBXQ8QOFvusPzmwjfu40zH7nkGYs11/KVSP7K+9r/dNcob4hVU73rHoH+l5+t3BhfG49Z7ZWKtvAA1jB+vrF/nSJhz6O88gffY9GGTeQGkdV8uq30g5OGx1hLu36ynPM+kz0SvmOawvdnEUYv2zMeg+YQF2aT8Vh6PNXfGe9TfUyxv5+7BoQnffgfDF0xqH98VMbVDXMLWq3YV4I09kXcnftwijY0b41LXCzLkY3ncm9EVduNnYrvtJj/nYt2g0YkZ8WIa3Sh7GsindMext03ni3r44Tcah33MfYm7fjhipng+hxrkwOBZGlRKD1D9gV96F+7F0XAziJiyCXnTh7joZf9fN+hMltfrYFn3nZqolYeHzJEzLeawt+yhEJ8viCrTOF2Z+iHhTW+DZB+/ynRAXg3FL9/seQ8D09mpK6hnPNkz14OiXUxAT/QRSbZ4EcHzzy+gfZQwsbK6Dxvkh6tEEx+UD9duPczC8+xSknjFtw1QPzqROQfcxdnX1ONY+0wVRg2brdd18DruXF+3GIET1fxmbHfdR5JHadh1St99BLK8fX9y4fmgm36EruzpduP5ZxHSfgAV6Y4HwNkZej8XgWOMpqXp+d5+6HKUdTa9+r0cwTFvnUbz31UbH+nUqbSGSRQVFHOK7F6NXimhbY3rJ9kucojIvZH5pdXvEM1pvpmIpYbvoihLvuR8dtfEgVaJHk8zfKGOeW6D1wY/sFzHMUqfdbVP+UXw5JQbRTwT3ARyBtj3qiY2X+0dh0Ox0rReTp+0RdU3/vNXKJyYaT9id2GXYfhIREVExyGBUhRbUHk0/fKxMmTJeGRId4fk1zNVCmZRSsl/uS6Y0PZrEFK70SdygeHd0Oatsm9PDfUxRidpvnya7lbd7yJ4zrmhleprv8Z7dlqwMN35FjXpJyShmhpj30ecXYn9Mv9CafyEVTi4b7T6mJhNTLMcsFCh5q/6mRMn3RExfJ+d7+O0lY/rFvEaTiUqKTe+hgrxVyt+i5Hsipiu+W/DP6Vdi93xXDyXJp5uBd3kOXpAr5wdoW6I7T1w95tj2Hjq7511liHHsgxco5i0UrJwot91ELUvrL8tqnqdMVJrI9XvneYGa37Keqfnpu2iekjKxif7/GhGKtbiC16NJTC6lx0uW8+RsuvKcUZba1EQZvWiPmtsmx0y9CVqr54Gcbdj9tlEuLiV6eppvnRS/tg83jjFKeclyInnqg93yarknD3fnrZhK8ou8/3w0tQXq8Q9P3uZ9/CqvtkCtn28Xcxe82yubchA9wl7y1O8makXwyoaT3yqTjO03GW7Tc06tg2nTlWhZf13xS+x75Tkyt8EO21DLcY47n6IUa5N68ttJ7nJyRU/37XmoHmPa9GjPMU761rvHrLndU8+F8cvNbXKBUmC8KPM6vU1JNJZXy3qOfWOhvDvEyIvBirU5Km6PJjX3lGWjjc8j0VNLzvZyQEnuJ9erlm/gvY1PqvsToS9nV78t5eK7byqHHk0lbxcF+55AboHWh0B6NIlJLcuXLD0SRS/Gl0zn/vR13hnv9Fnlzf9x+G97TirfTjLaRvu2R/REmx5t1I14ZYklm89H+0lEVNbYo4kqCvZoKoa8HQuRmDgPX/xwVPs1DKiJVvf+Cd3+eEXpx8I5T1yjkvHen9qhjtcOV0OzB6dhjPx1dMeWbK9fnQtT5+CJ1eKIXYh/fwmmdarjc7zVmt2LeQuehvaD5I4E/OubC/0UuFNIW5isl5NrAubO7Go5ZiEUdW4fjpHt9VdHT/6qJwLk+cXchQlzZ6Kr7wYQWud2DPdsAMXbgrMDu+Tv6S3vQefGPqWBZo8kYLL8EX9ZysZi9SLY+tU86M9bjMPsNx9BM5sBL6o1ug+PjJAvjp7Rfl025GRvkedHL/SM9XpWo0rN865P4vmB+qujn6zBVj2pykH2Fn1J9OoJ30XroOuTz0Nf9Cg+WeNZMujiZuPNxy3nSbU26G+Upco16g0817+R93ggtWLV8pYZn7Ud+71PJMx5YrWWN67497FkWiffOlmtGe6dtwBP6ycSEv71jafsCtfivRmy3Ns/i/k+y6vlfu88LNAXLhOFa9/DP7S2ALjp6QWYd28zn/FQvNqC/NX4x3trS9yrSeTTv63loNaDdo//G/MG6r1xDs2eD3Nzk/XxdLwuxoBBe7z42Tzc61OB1TrYaRqWzBuo9yL5eAbeL3FnQ3Hu22xDLccHp41R/yvsQNbP5hw4iM9feV0bJwdhAzFvyTR0slYE9Rg7TVviOcbXX8HnTl34bnocI+80t8mhCLXWK6Es6vTWrzBPbyzU1b+JR+wbC9znaSxwxtxYlEhNdLlP5m3+fHxk91lzcBU+1sbuC8OwAZ0D72188HO8Okd/CojIi9et9dtSLsVR8naxmAKtD47E5/y/8Xg778/50Drt8Pi/50E/9EOYPd/UNp0PWR9jun5io/2Ln9m2PaF1OmHaErmP+R9jhvnELgftJxEREekYaLI4q34Bc98iot0WdQoZb09E31aN0He+zW0u5U4YBveKtf/SHdoINxnXGzlHcEQmhbUp82XAJh5Du1q/IHuEtozDIO16JB/JX62/wPlRE3e+koXMzPVIWTQSHWy+aBeePoCMr5bg62w5Y0s2smQyEDXvfAVZmZlYn7III+03gAMZX2GJZwPILs4G/LjsChkV3PAiXvpkJ06c0196tMSguSlYr+5f1it3Bn6hpWo5ZoWab1uxauVz6GX3uEUxsPq6D7DsO/l6wy4ckEmhenXjfo75eOHl73HgtLUm1ETnv67Eqq2ZyFwxRt1TQ3V4Fn0BL39/AL6LdsZfV67CVvW4VozxLBls7Xu1t33SZGSj1jIF9OnW0TZfL7/COEdycMT7RMJ8/URC/NCucDyTQlsiTj+RkJ/8lefWxx3rsFQ+CXPg+IGeQZO9hKLloHGIk6+CbfPK96DvwkBMfbil14WoWWjLhzHVuGh+YynW6sliisSfHnTKp1q4c/gILVCkZhK+cmfSXqxeJC8me45EH58grEetzv3QR0vtwMI1JXxmaNhg3GF37qtCa1+HRjK9bb82erUubw2WaEEQ9Qgnj0Nvx4pQC73HTZblvAL//mavlrJy9WoX0G1RZVKnW47BCvVc3LpqJZ6zbyxwYuc6fOBpLLDL3FiUUGiHnojXI01YuGSNT8Bj+2evqjmmChuBQV0Cb/1ObVmhLyfq3nCHz0pR9x4ygoiBK3m7WDyB1gdHkX/Cg06f87XuxPARepDNq206D/auXiRvV+yJkX0aO7Y96omNfvqJjR0L13ieBlwO2k8iIiLSMdBkETH4NXzwygzMmPEKPvg2E9kZ8zFMe77+GaSO64fnzue3rhJpiUhtf+1ci9oNZNJLFrI26r/D4vQ8jGzTBm0cp/vwmnERsW2/eklyYYXWqI3w8Ka4tbVLu9hJ+SARU6c+hqExbdC4bk1cXa8ZOg18Gsvkl89iC62B2uHhaHpra7hO7MS6lA+QOHUqHhsagzaN66Lm1fXQrNNAPF3iDTiLGvIUOspflpNHROH62nXROGYoHkv8AOt2HtECNPVb34qm6v7VLu4T7/6/vTsBk6K61wb+As4Hj5GJmgmCYGBw2AUGREUkAhIHIZGI4gp+IgTxJgrBh2tAlKtRHBONBOF65SpgFiMRXFBjED9kEZFFliirTFhkUwIoiwqOpr96q8/prq6pXqdnmIH3x1PPVFdX1Tl1lpo5f2qpc4ZTbvko7JSPGjvWYOHLU1HsHNfQn3ZEu6bfR269xrioaBimmCsZ/Or3/g/8wm1nx7D4/l5o0/BsNG33Uwwtnoo312x1g2K5zTuhML8BGsS8Qa4+ev/HLxDedDHu79UGDc9uinY/HYriqW9izdbPnGFrLpp3KkS+c1xxXj6XFR2aBg9Dojqi9Q/SK9eSkhXmiobDmDY0qP9Ep5ujHQk2RvHJxuUmENoRFwW/BjOsURv8MFn2M7IVG5aYttzxojhv4rRy0aqLiVwfW+Ece3g2PT3RIcFoO6dVp8iAMBrI2YZ1i83sonHoE1C2kan7KPzdrLpq824zl6b2BeH2mo5Na0wwA7i0bZKrJ9p3iBzj4nXbzFyspg2+Z+YSq4g2zatAznD6Yn5hJ+TX2IE1C1/G1OKxGDv0p+jYrim+n1sPjS8qwrB4J4uMXYR+d4XL7thzf8Dfwy9vM9Zh/p/D6eX9vB+6pnFIG/4x38xdikRVk3Nep6Rve/XL/LyYnlTbQ1w9OyQIcuWgVadIr4ucmyrDtmjHxrg+Af05MnXHqGjHhu3Zx//8KSIiIpYCTUnUaXo1nnjlMYSHU7vw2/+dU7mXkleKXSix1/Af24dtzoixJO60zX3otmvLHuw3sxVqx8bIQ1k7NjvbzFml+Pit+3BF03PcwU7/YWPDtz6uKsEe9/YNPuy0C9ql+1/THqUfv4X7rmiKcxpfhKL+wzB20iRM+9sqlIQTcB822qU8CcRTMAh/nn0Pzo88J/UI9qz6G6aNHYaii5zB79lNccXQSZjz0eGMriw7sGoqbruwMRq2uRRX3jISxc5x/XV+CbaZCuYDcs+PNxDL7YZfv/I0rmkS/p9vDqz2bZuPvxaPxLWXtneDYhfeeB/+8t4u+C/Eyu32a7zy9DWIbuq0ufl/RfHIa3Fp+8aod/aFuPG+v+C9XWUu4apkp4Bv5kzHrmhHcsojqP9EJ1vOfLjvHtORjhyxActkaX8HkQtQsupbfPu1ma3/XffV44k0/sF5Zi5DHZvB36Nj1K8HGxtfbi+T2bodkZtljuwJLNvotCd6y+eOvYiJVVSkf39jAo55yMtNFgU5G806mtkKl36bdh1Yham3XYjGDNxfeQtGFk/CpL/OR8k2c4s5H3gf92SRuTZXDDW/e9/AjLc99xUuexmPu3GmAtxxdZf4V74E+PKg7WM5OCXRhrmnxb8iMZ5ynBcrU9nfo7HqR/5HKjtXp6VmK7ZHOzb2BPbn6GR+/Tp2YK/p2Mf//CkiIiKWAk0pyGlxOQZ2NR9eXYLVZvaEdPk4zJo1K7Xpj9ehldmsIv1jtb02oDYuaGZvVAmLeSOcfavTmAn4w6zX3NsTtu/9F7YsnoxbYzdL3c5ZGNz5GkxcEh5Qhd9ONAYT/jALry36BzZt34t/bVmMyRknkNiZXUZj/vZdeH/2BIz4ccfI26Fcx/ZhyV/H4rpOLdA/zds6Y98iZd88NB5TnHqdu2wTSnbtx+5NszHuh+H1g+S0uB7TP9iBDYuexfjre6CJebtV2BFs/NtE3N6rEBeO8b+9KActrp+OD3ZswKJnx3veWmUc2Yi/TbwdvQovxJjyvC7suLoc4/z9Je70R1xXGR0pXYe+wldmNp79B8oZuvl4Lz43s8kUNCg7MiwY/GRAecaZfnUJ6pvtKs9hfJE0ovA59n5sZqui0mV4pHsvjJyx0Q3a2bd4jZ/ilOncZdhUsgv7d2/C7EQni0wV9MJgc3HNvJmLzJv9SrHkjWnh2ztbD0aviru7NiOZnxcrz8d7U+51COh2Fa9gMJ4M6sOB069wSeV3bBEREUnipA40Hd2yFHPn8jaAWfjQLAvWCA2bm9lj3+DfZvbE0RAF9o/1/bloXFSEolSmrs3jPN8im9bhnRfMPTm1++Oy8z3/BV26BE/fPTt8xULDYXhx83Zsmv00xo8Zgn5F3dzbE8J3J3yLb7/hz3Q5A5qn78bscAIY9uJmbN80G0+PH4Mh/YrQrTA/cvvDt5klkJqcumjeYwgefH4BNu3e6+RhGeb+gYGnlu6rnjl4mT98NGbGe5BwGTsx85GHw6/er90Vj723A1sWP4/fj78TNzr12rmVvRWvFN8kjV7VQcPCq3Hn07PxwZbd7hU9i16b4gywukRfef7fQzBxScCO6jRE4dV34unZH2DLbl5VtwivTRmP67uEXwOOY9vw30MmImjThFfTlX6T0RVe2dAw2pGQ2zigzwROXSO3qNWr1zg84wxBD35hZgN9gYMVMkr1PEPrkwNJr948eNAGmvJwmjcImqpkD8/3XL1U/0xTSPmNI8+nKcFZ6BFYpgFTh6DnC1WQU79rnu9zDHsPJSnF0kPYZy7EyPvuqeGZKmTnzEfwcPhkga6PvYcdWxa7t5ffeaNTpp1boUG9uu4VRaXJTxYZaISfDDYPAps3DW/yV0HpCrz5p3CBpfVKf+PMBvaeqQM4kqhqDh0pRyCoHOfFSpDspRhbI5cW1YftdrGiVxGVlenv23w0jnZsnNXD13/jTh0izyU7/udPERERsU7qQNOeRb9G//68DeBhvJXw9S+rsOxVM9u1DZqY2RNHAQouMP/ruurvWJkwYFGCN4on4fm5czH3/Y8rfEB/4LXH8YB59Efez29GzDNfPQ/+7DjyZ4FvhHMd+gjLVpn5tKzH0mgC+NnlZd/EF3YIH2WWQHzuQ8YXYu7LU/HsQu9f9HxeSit07sfA03KsffYqs3weVm82s8kcWo159iKxASNxa9BbpFzr8eEiMxsj/PDfuXxe1SxviDYHdevlo7Dbjc4Aaw42vXmveRjrPry7wTzow33IuNN2np+E2E3rol5+IbrdeCeenrMJb95rBoP73oXdNEaiAMX6DxGY7UpQUHBBOEjmnDP+nrgjoeSNYkx63imLue/jY9ORclt1MbcKOf3s/QQPPdq5Du8k+Dpz9dHyQlP2JW8gURYYsFz5d9Pu885Dk4yuKnDabYJz76G17yD81JY8dGmV787BOQO3iVxhuhgrEp2EDi3Ds8VT8bJzvlq4vhJHlq3aR57v8+qilQnPk6UrFsP+ermwmR0oVxWHsDp6ssDIW8u+BcxaH3yyKLfcbv0xwO1Uy/H8whKULn4ZT7qn5Z649tL0g4etO/Q0ffRVLFoZv2ZK174P+zSn1JTjvFjZ5q1O8Ma7Q1j7jnlWUl4XRLpdjARvFsz4963Ts6MdG4sTd2wse7YYU192zp8L10cCgsf//CkiIiLWSR1oyr+gT/j13M4fJcVPvBbnfy9LsWnqA5ho4g2t+1yAwL+7qrkuV9o37MzDvY+9Ffd/cg+8NRl3FI/FsP79MW7p4TiBl+w4uu5/MXDwTPeWNV55M+5m37M4jn6Zwm03BzD/wbsx03xK6MBBxP4n6FF8mcIdBgfmP4i7U0ogDTnr8Yerr0T/W0Zi+O/fNreMlFW3fr6pt9o4JdXe/OWXvuMMwnY/BsWBf4x/jrkPFKE/n1d196zgK44cOfUawQ6b/499YMbnc/FAUX/3WVp3z4r3Svwc1GsU2TLmWRvntDQPn8Y7WOd5q3XUAbw1fTL/Q/z46HIlfm6uCJp372N4K35HwuQ7ijF2mFMW45bisG3YnluFlo+fHGd7p01PfDDysOlyKdPmgfa9Bpvz4nKMn5zoXPAY7jWZyLv5MmT2mKEE594D8/Gg7Vit70K/i8KzvPLhRwNNIe2bgHHT49026rThGWMxvHgkbuk/ADO2n2KWV4Lcbugfjo7g2JTxmL4pTicp3YTp4yaYt/z1RN8qdw/Ql/gy+cnCOYypGBN8sii/3B/hZtOplj+/EC+9+2L4d8K1g4PfmJlETtd+po8ew5Tx0xFYNU69/PGhJ029pKoc50W/A0eSXk1YLiXFeOK14J7t/X3W+q5+iHQ7R/Tthf/A+5uDcsg+NzHD37dOz/7RQPNg/H2YMC5O3ThKN83A2OHFGHlLfwyYsR2Rnl3Z508RERGJ6+R+RlObm/Bg+P3JODZzMLqPeAlbvM/TOLoL700djKtGLg7/YdvwF/jN//VfqP8JFj45FmPHckp2C17VldNlKIr7hAdG+6bdhO63TsWKT71/5R3Fljlj0Pcm82yM2tdi7E3lesFyoNLDe7GHr8q+rweaXjwKi8NRJnR99AkMsnc8WK3OR69wlrFq7Eg8vuLTmAHn0V3vYeqt3XHdlF1mSbDIrRQla/DPmD9MW+H8aAIY+fgKxBYJ28et6H7dFCROIRPRNy5h3gjcMGZObNt0HN3yEoYPMYPU2v1xafQN5onVPw9d7XN7pw3H8Je2xDyYtvTwR5hzXxF62HZfRn30vmVA+KoAZ6A/ZLC/rTj7+HQFHr9thPljvjX6XGDCs/V74xYzAN83YQgGT/WVqVODn654HLeNMMOA1n1gN6XGrS4xgbX1eOA/H49N9+gWzBnTFzdNO4zaptoqXU4XDC3uY8pmGm7qfium+tvlljkY0/cmTAtXHK4de5Pn9p9G+MkvzVv53O1H4CVvxTttbv5DfZO26WTit3mH57zonguc8+JH3te0lx7GRy+NQHfPuWDiiPQeyOwVdO49ums+Hup7HcKH6S8jp5SuHY27zavglo/qgaL7fP2j9FOs4Ll7lHmNQOsxuD2NV+CXXy5+9Mvx5uqK5RjVoz8m+x4AzfPT5P49EMni/ffj2kq8uy819XFe9GSB4cN9vyPZFubch6IeI825uiLkoEufweF+v3w8xrgdpzYG9O+W2a3bTh+9eVzXcB9dPgo9+k+OOY+UHv4H/jL4KoxM+4DKcV501UPkzq/VG1ASu2mWHcPMwd0xIubcfxS75j+Evvb3WdDv+Gb2DYnH8Nxdv4o9N3n6XO0EJ+CE555G12J0tGOjR9F9mBPb4JzfD1Mx+KpR5gUhrTHm9h952kF2zp+fLHzS/E03NvbKWxEREUld6ASw5Lc/Dr0yMCe05Dc/NkvSsH9l6He980J169Y1U4NQ8w4dQh06NA81iCxzppYDQzM2fm028toceqanXW9U6G2ztHzS3+fmZ3qa9XuGntlsFgZ4e5TZb89nnFR89r8dGt3WWxZ5ofy2LIu2ofw8u8yZ8tqGRr+932yUumge05kahPpO3xgKKvmQs3TNpB+G8jzr5+W3dfLr5Ll5g+iytsNDD43oEP7c4XehNWZra8+M6yPr1m3Q3N3+pj+HS+frNZNCP4w59vxQW3/7cMpj+EMjQh3czx1Cv/MnkES0XHx1fXBB6N7A+ugQapvvXd4yNCrN+tj/xu2x7dscd4e2+dHybNA39Mh/XW3WGRx69aDZ2LU59Oe+0TLm1KB5OG/esmeeez/jq7/Nfw71bRDdLtrnOoSae5fn9Q49U6bPbQ5Nj+mvtkyi9dFy4IzQlBHh+Z7+zvD2qMi2o+J1rMg68ftS4v62P/T26LaB7TK23vJCbUe/7azt93Vo4zO9Y7YPl62nH+a1DLXMD8+XOcYUJGrzrq/WhqYElrP/XNA79LuV5TkXXBUaONC2F9MOvG2Q7ed3KwPKyCmljdPjtCPfudtpx9MDz92JeM7BQedKa/MzoZ4mnbL18HXok7mjQi1tPjjZfhbTR5w2e/uroe1lmnqifXtUdJve/0bo9sBy9rYF5zz9yH+FrjbrDI49WcT/veM5xrh5d60NTbrI7INT/rjQu+lWaQynj45qGd1fwHmkbkunj5n5MnmLW57lOC86lj6YH1nHnjN+vcCslWp7iFumnjZ91cDQQFunpk3GnJvi9uuDoQWjveVW9tyUd8mDoed+Y9pSQKUmPfd8vTE0PU4Zxvx+YJsL/Nug/OdP798qiduliEjF+ObYl+7YltPWeVPMUpGqZ9vHO0M7du0O7f7k09Cne/eF9u47ENr/2cHQ54eOhE7uK5rozI64a/ZKvHhPkXndun2trnktdu08dBnxAtas/hOub5Hp/9lXE2f2QPHyZXghUhb2Fe3bEH4Te23kdRmBF5YtR3GPCn4VjVPu7X58D15YswWzB7WIc7VEDtrf8QrefPiKyFvLju3bFn79Md99fFpL3DBhHtaunIg7e5rLfQKeO1P/6gfwRA/zJGPzuvTXVmx1r0LJaX8HXnnzYVwRTQDbIu3jNLS8YQLmrV2JiXf2RDiFJM+GSEduNzy4fAGmDz3fPPQ7+sp8+2r8084fiqcWvItH06yPM3s/gaXP3YaW9gHO9jXxfF25bfNbZuNX/S4xzxPxP8+kAANmrcbr421b4S7CeXPL3lG7SRHueXElZg/x1V/BAMxa/TrGFzUJ/+9/pM/ZV1bXRpOie/DiytkYUqbPFWDQS0FlEq6P8+95HQumXY9mx7Wrnokexcux7IV7UGQKx7ZLW2+187pgxAvLsLy4R8Ar1HPQYshsrH19fGT7cNmG+2HtJtc4dT4Lo8rxosNEbd5Vpw1um70W8ybcYNqI/1xg2/5s3NWxPOeCAgyethTP3cq2YNqBeWW+W0ZsP3d1DHzNfE6LQU47moenIm3Bd+62eVw9C4OOy7k7B2dd/ihWr3kBI+wD7m0/s33EbQdrsPp/rsQPjmubTeDM3nhi6XO4LXqyMOXMtmB+J/A8/at+uMRcrJLsuVTpa4MrhtrbZnmrZi9cUK7ycvroo6vx3vShOD+mfYfbzmnn34PXFzyBn/CrtJTjvOi46OdT8QvfOWPepi3u56wqGIxpTp3eyrRMmwyfm8L1yXNvcL/ORbdfLwg4vnBbaHLNU1jw/+7Fhd8Lfxck6bknpwUGOWU47ylbN9EyNEXo/Gq/ARPmrcaswL8NKv78KSIiIsnVYCTKzFdb7z36E+z9YC7qtS3CxXe/bpZmoPQw9pasw5od4WcP5J7TFi0iby6L5xA+WrwU29wnE38frT1vQMlc+vs89NFiLHU3OBVNOkffYuW3c/VcrP+XM3NqE3RO9NY4lsXOf2LD5r3uoM8pDLRtEX3LWiaieUwkF+e0bYpGefXgvvgsVUc/w9aNH2Dz3vAfy/WatUPL/DOiD6499BEWL93mPkC67rldcfG5/rc78UGua7DC1H3Z8nG+37oRH5jyqF2vGdq1zPe0DU+d1T0XXS8+16mJ1ETLJUFdO8e3Z+smfGjzl4X6cJVp84VoU+At+51YPXc92GROOasdLmsf8AwZf1upXQ/NWp2LRuZtVInwVsmd/9xg6i1crq3ObWTeepcYty1ZtwZu1p3yKGxTENnOtvNTm3RGV29n2Lkac90O4JR26yIEvogssk78vpRqf3NyicN7d+KfGzYjfIhs3y2Q38DTNhPytjtvu462tzLHmLJkbd7w1W/Ztp++oDZ/9LMNWLNih/tsmtxzLkBhq1TLyOHrH+m0o2Ce/pzoXOk5rySrh6Of7cHWTR+G2yvbQWEbFCTqI6nuu9LaNNtyCdatCdeRv89R5PfLKWeh3WXtYc8WcX/veI4xbt6tVb9F6+4POWek1nj4vaW4I1t3bsecA731Ej33lclbCuWZ8XnR2W7HulXYYM6JTuLhNyam2h7ilqmnTdt9xpwDnGO/oBCtUu3Y3t+5PLZ2LZFvto20pUg6fimee7jenq3Y9KFpc2n8bgnL7PwZ7QsBdS8iUgm+/forvD7ku+58+1sno8llt7nzIlXN9h27UKtWTWeqhVo1a6FGTTPvTAo0iYiISJW2bnJnXHzPeqD1w3hv6R0xz+wSERE5kSjQJNVFokCTbp0TERGRqqt0CV54fL0723P4VQoyiYiIiFRxJ1igqdpfnCUiInKSK8Xhzw67z+3hWzBfGj4EE/iyubxhGP4T3cckIiIiUtXpiiYRERGpQr7CglEN8b3cXHyvYScMeo6vo6+NPsUj0CPOo4lEREREpOpQoElERESqkFzk1jOvNXPxjZKz8eT1uppJREREpDpQoElERESqlC73rMKi12Zh1qy5WLZ9C+aP7oKgF+6LiIiISNWjQJOIiIhUKTl1z0FhtyIUFXVO/ZX7IiIiIlIlKNAkIiIiIiIiIiJZoUCTiIiIiIiIiIhkxQkRaMr5zhnuz6+/+Mz9KSIiIiIiIlLdfH3kgJlzxrmnnm7mRKqXEyLQVOf0Bu7Po5/tdn+KiIiIiIiIVDf71s0zc84494zwOFekujkhAk3fbdze/clA0+db3nfnRURERERERKqTL/ZuNXNAbqO2Zk6kejkhAk31C/uYOWDb20+bOREREREREZHq4dtjX2DHu39x5+u1vRw539Gtc1I9nTDPaGrSc5g7v33hdOxaOtOdFxEREREREakO1j73n/jyX+Ermhp3H+z+FKmOTohAE7Ud8Ci+c9a57vza50bh6Od73HkRERERERGRqmz38hexbf4z7nyTHj/D2Rde486LVEcnTKCpZk4dnDfgMXeeQabFD12GT1b/zf0sIiIiIiIiUhV99OpvsGLSje78qd/Pj4xrRaqrEybQRPU7/BhNi+5w57/49J9Y9ng/fPinkfjqwE53mYiIiIiIiEhVsHPJ83j34cuxYeZ97ucaNWrivAGPolbtU93PItVVjZDDzJ8wdi2b6d7fyrfQWWc2uxh1zjgbtXO/b5aIiIiIiIiIVJ7Qv791xql7cHjXenyxd4tZGn74N69kqtuwlVkiUrVt37ELtWrVdKZaqFWzFmrUNPPOdEIGmqj0i8/w4XOjsOOdP5klIiIiIiIiIlVLmxsfQUGfu8wnkerhpAw0WYd3b8Snq9/AgZKl7rObvj70L/ONiIiIiIiISOWp4QzI65zRAHVOPxv12vdC/cI+7lvURaqbkzrQJCIiIiIiIiIi2ZMo0HRCPQxcRERERERERESOHwWaREREREREREQkKxRoEhERERERERGRrFCgSUREREREREREskKBJhERERERERERyQoFmkREREREREREJCsUaBIRERERERERkaxQoElERERERERERLJCgSYREREREREREckKBZpERERERERERCQrFGgSEREREREREZGsUKBJRERERERERESyQoEmERERERERERHJCgWaREREREREREQkKxRoEhERERERERGRrFCgSUREREREREREskKBJhERERERERERyQoFmkREREREREREJCsUaBIRERERERERkaxQoElERERERERERLJCgSYREREREREREckKBZpERERERERERCQrFGgSEREREREREZGsUKBJRERERERERESyQoEmERERERERERHJCgWaREREREREsujzzz/Htm3bzKeqi3lkXtOxdOnSrB3b0aNH3fT5szIx/wsWLIhJl5+9x/XJJ59UizqMh+WaqG5tGVgsC37mcaeL22zcuNF8So0/fcm+41nGCjSJiIiIiIiUEwfqr7zyCh555BH8/ve/x7PPPov777/f/ZnJ4L2iMU/MG6d0cOCaSlCB+0923AyEsKzWrFljlqQn0+2Yr2RBlhkzZrhlk24gLlsYJEhWfokw/4nKlnXIoKFVnkATt2N66WzrTz8e5ivTej7ZKdAkIiIiIiJSTXGAzUE9B8+dO3fGoEGDcPvtt+OGG25AnTp13IAFB8xVSf369VFYWOjmtyIwiJBKICFTDAAxsFdR5cpyadmypVt/x0N5rhxjO7RBn1SCguXFdsSyOv30082S7LH1LNWLAk0iIiIiIiIZYqCDA2EGJBhc6t69O5o0aeIGcjj4ZrCJgafjFbBI5KqrrqqwQFNFB9Yq+kojlosNFB4P5bmaiVcAMd9siww0VXRZ2XZeEWVVnnKQ46fW/byeU0RERERERNL2/vvvuwP7K664wg0wBTnttNPMXBiDMNyOE69aOXLkiBuYshgY4BUt3B+/5/45cTu7Hr8vKSkpkybXWbx4sTvPK0zmzJmDvLw8d59Mj9s1atTIDQrwthquz+8tpsd1uO6+ffvcZTZQwW24b+aBx2T3x/VsPrg/5svm95RTTnGDBd7js3jc3EdBQYGbJ2JgZOfOnW7e+d3atWvd/TE9W462TLhfLrP5tN8zXe+233zzTcwxcv9c3rVrVzd//J7H5c0H98+82ONimvzM7236/Mzt/VfycDnT58S0uF8vmz+myTwyfVs+LGvun9/zeLgul3nznwjXZ50zUMaJaTB/9rgsHj/Lj2VA3I51yaBRUF3Z8ua+mGe2HR4782WP13uctg1zYhlwXS5jOjwum36nTp3cbW1dcX82YMX92vWYLn+SLRdux4nr8XNQvsl7+5jNk+0DZOuTy71t2fIeC79nXrxBNZuXeO0tXtmxXJj3ZH2Y/HnksXIfXlyH3zMN7oMTlzHgWBEOHjqMmjVrOFNN1KxREzVqmHlOZh0RERERERFJEwdyxNuHUsEBp73NjoNVDgZ5RZT39iAu42CUy2wwiINdfuZAkrgtv7PpW/zM5XYgbAfIvH2PadrBOtlgicX1+KwdpsXBL7/ndgxceLfjNswL82Xzwe0sbsd9ENflxHVTwXSYHvdv88b9PfXUU5F98hjtcfMn17P54zpc15YBJ+aN+0gH9+vdhvvnPpk3/uTxMF1brhbTsnXJtFmmrG/L5o/bMFjAdWw9E/dr02WaXM+7/2SYHvdhb/tju7T7Lg9bHjx+TkzDljm/Y7oWl/MYuZzHyGNmObFsvOsRj53rcX/8Ll4923Kw33E75oeBGE48Rv++LS7nfpg+92HzTfyOy21e+R2fs2bTsfXF721AiJ+ZX7LfM/147Y3bMh2u4y87LrNpWVzf7o/8eeT6bFPe7bgOy5j75XZMn/s4XhRoEhERERERyRAHdhz8pYoDTa7PW414FRRvX+PEgWFQQMGux9vvGDywA1MGEDjA9g5oiQNO/1UpXIdp8Na+X/7yl5GrJPy4LffLNHk1DNcnznOfFgeyzI/NP79n3jmA5nfcnmnY4+RkB82p4H6YD5sG80z2WHmFBtMkps/920Afy5e4DdfjxHUYmPAP6NNlj8+bLx6nTZOYHpd765bpMkhAXJ/fMc82byxblj2xzLiMbF3Yz6lgPXjrn/PMt7+dZILHwOPn8bEMmP8gth3bY+RPHjcDNd5jsfVsj5Htjcvs9iwn2+64Did+ZnlyHe7bTsyTbRNBWL5cz9sHuB/2J25nj8fm1QZpbLvmcq7HdUaPHh1pzzZwxH3avHBdf3uzgSVv2fHYvWlZrCtbh0F5ZFmxLO12dh1vn+FPW3bHgwJNIiIiIiIi5eAdUCbCwSYH6xw0egMvdkDoDwZwuXc9DiQ5qLXp8TO3sZ/t/rnci/tJZdDJfXPgazFtb/oWB7ne5fZKj1TLIRXe/DIt5ssO1uOxQQo7QOf6nOwxZSN//rLlZ+6XaRPTTlY2/nrlNtze7iNTPHYerzePTIvHb4M35cE8M9DhzXsQHgfX8ZeD//j4vbeebdklKwe7XwZXkrUJi+l40yIbRGK6tq1wYl5tedm2w7SC8sX1uL63vdn8+dtbUNkxTzYfxG342dYh+zO/s+0/KI92e//x8biOFwWaREREREREMmSDBKmItx4Hn3awm4g/YGKv4LBXw3DAyf34B5z+wW08HNxyQM39MC/2Sh3//vzs/lMth0ykcgy2XPiTebcTj8kGfLItKIjF4ADT5O1OvLLFj+XEdZg3/6135WEDlaw7tgk72UCTN4+ZYB2kUg82+Ma0+ZPHyvSTtSMrWTtiHnjFDtfjbWu8jcz2gXiC8m3Lg9t62wvLz+aVP9nPuA5vqWOd2n5qf3I/3u2D2lu8smPwicdh644/uZ7d3uaRy71psDztOra8jmdgyU+BJhERERERkQzZwZ4dKKYiaMDJwaINWsRjB7Z2e/7koJ5pc3sOhlMdzAfhoJd54H7srT8c0Afltyqy5ccyYb79U0UEmxhEIZYR64DlxmAEMUBhg4EW69D7TB+WeTYCBEybeWEZ2MCOnSzvfEXi8dh2yUAa2xNv5/KXRXmwLnkbGm9T4zyDL+n0QWL5cwpqK95b/Jh3vkONy2z9sW9ko70xfW7PMmId8hhYTlxuvycep3//XOZl160KFGgSERERERHJEAeFHHByoGsDQV4cPNoBvg0o+AfE3I4D12QDU+6Hg0lvYMJeEcEBPZVnMM8gCY+Fg1g+y4YD2ap0lUQyLBsbaKksTItlZNNl3bL8WC+sT3/52QATyzbeOpmwgQoGQ7zBCDsxHaZdGdhObTnYYBCDKRWBgVUeM8sw3XpnmXj7ZzI2oETss9lqbzwG9n+WGX96y8qeExLl0bYf//mHx3a8KNAkIiIiIiJSDvbqB17pYG9r4cTBv716hTgwZXCBA0o7qOTg0AYf/EEiLuf3HDByMMuJg1AObi3OczDK9bxXQmSCA1bmm7ci2beEMfjkH8Cmwu6L2yYaJGfKlgHLkeXCsiRefcL0WHZcZsuOx5KNgbe90ov7smn4gyg2L3YdL+ab39t6Yt7YTry8AQybf+J63jeiefGYWeY2MOHHPHJfLK+KZuvGtiPbljJJ2wZReHy2PDh5b2HjcpaJTTdVLCtOrFPun/vlPtmHbZ0wz/xM/J7rsX5svmx74zrMA9dhfpi/oHoKwkAT8862YuctpsNl3D/z4s2jbVs8Bm7DZUzbfu8vbx6n/211FUWBJhERERERkXLgQI9XbnAwz8GdDdBwnoNEexUEMdDEwakd9HEQzsEj1/EHibhffm+fDcP9c3s/puH9mQnmgZNNg/viIJcDV3urUDps0MsG2rI9uGX+OHFAzbJhPu1yBv4YKGD52rJjWfrLNxPcj90v0/DeEsa0WX5Mz9Ytl3kDB7ZceCsW98Gy8d8CRVyPAQy7DtlAhr8suR6DC0wrHpsPrlvRmEeWE8uG6dqyZ5v3B9WSsduzTL31bNsWy5HLWV62HtLBfsc0uA+WNeuMZck0yfYBpsM6ZV3wuGydclu2N5arv7156z0ZGwjkTz97RRjLj/vncXvzyLLgOtye+edENgBu2fZTGWqEHGZeREREREREsoADumSBDQ78uI5/PQ4iOZjk4JED2XjrWRxY8ruggEWqOFDmANn76nZi2hxA27yki9unM+BOlx04xyubbKXPAAmDWgwocn/J6iRZusm2t/ztKN5+U2lvlOp65cFgCIMc/vbCdsrADQM16YpXz6mWYyqS7SuVsktW7+WVLI/ZOIZUbd+xC7Vq1XSmWqhVsxZq1DTzzqQrmkRERERERLIslcEcB6TlXY9BKV5xEXQlRDrs/r1XvHDQyis4GBywV0+kqyIH3cR8JyrDiko/Wd0lSzfZ9pZ/nXj7TWVflOp65cE0GJizwSH+5NV9bE+ZBCuJ+wzKe6rlmIpk+0olnWT1Xl7J8piNY8gGXdEkIiIiIiJShXBAziuagq4K8eNVNgw2eW/PyxSDA5yYPnFQygCT91ahkxUDJSxrPiT9ZC+LZNgeWVb2NjdiO+KtbZkGmqTqSXRFkwJNIiIiIiIiEiPZLTgiqVA7OnEp0CQiIiIiIiIiIlmhZzSJiIiIiIiIiEiFU6BJRERERERERESyQoEmERERERERERHJCgWaREREREREREQkKxRoEhERERERERGRrFCgSUREREREREREskKBJhERERERERERyQoFmkREREREREREJCsUaBIRERERERERkaxQoElERERERERERLJCgSYREREREREREckKBZpERERERERERCQrFGgSEREREREREZGU1ajBqQb4jx9q1qzpTrVq1cL/B+cgnNS1QMj0AAAAAElFTkSuQmCC)"
      ]
    },
    {
      "cell_type": "markdown",
      "metadata": {
        "id": "b5fRDWMNWoni"
      },
      "source": [
        "![image.png](data:image/png;base64,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)![image.png](attachment:image.png)"
      ]
    },
    {
      "cell_type": "code",
      "source": [
        "#One sample t test\n",
        "\n",
        "# Null hypo - the mean of men will be 10000\n",
        "# Alt hypo - the mean will not be 10000\n",
        "\n",
        "#If p value is less than 0.05 , we need to reject null hypo otherwise accept it"
      ],
      "metadata": {
        "id": "i9eKjOoQOBwO"
      },
      "execution_count": null,
      "outputs": []
    },
    {
      "cell_type": "code",
      "source": [
        "new_data = data.loc[(data[\"Age\"] == 4) & data[\"Gender\"] == 1]"
      ],
      "metadata": {
        "id": "ughWCIf5MgT7"
      },
      "execution_count": null,
      "outputs": []
    },
    {
      "cell_type": "code",
      "source": [
        "new_data.head()"
      ],
      "metadata": {
        "colab": {
          "base_uri": "https://localhost:8080/",
          "height": 270
        },
        "id": "46EgidseNXCq",
        "outputId": "f297b682-4b77-45f4-9716-d6649b17ecb7"
      },
      "execution_count": null,
      "outputs": [
        {
          "output_type": "execute_result",
          "data": {
            "text/plain": [
              "     User_ID  Product_ID  Gender  Age  Occupation  City_Category  \\\n",
              "6          3         284       1    4         7.0              1   \n",
              "54        11         275       1    4         1.0              2   \n",
              "235       40         149       1    4        17.0              1   \n",
              "241       40         298       1    4        17.0              1   \n",
              "527       90         203       1    4         0.0              2   \n",
              "\n",
              "     Stay_In_Current_City_Years  Marital_Status  Product_Category_1  \\\n",
              "6                           2.0             1.0                 1.0   \n",
              "54                          3.0             1.0                 1.0   \n",
              "235                         3.0             1.0                 1.0   \n",
              "241                         3.0             1.0                 3.0   \n",
              "527                         4.0             1.0                 5.0   \n",
              "\n",
              "     Product_Category_2  Product_Category_3  Purchase  \n",
              "6                   8.0                17.0   19215.0  \n",
              "54                  5.0                 6.0   12107.0  \n",
              "235                 2.0                14.0   19072.0  \n",
              "241                 4.0                 5.0   13251.0  \n",
              "527                 8.0                14.0    3746.0  "
            ],
            "text/html": [
              "\n",
              "  <div id=\"df-bf5950f6-b1f1-44c2-931a-8ea30c4830d0\">\n",
              "    <div class=\"colab-df-container\">\n",
              "      <div>\n",
              "<style scoped>\n",
              "    .dataframe tbody tr th:only-of-type {\n",
              "        vertical-align: middle;\n",
              "    }\n",
              "\n",
              "    .dataframe tbody tr th {\n",
              "        vertical-align: top;\n",
              "    }\n",
              "\n",
              "    .dataframe thead th {\n",
              "        text-align: right;\n",
              "    }\n",
              "</style>\n",
              "<table border=\"1\" class=\"dataframe\">\n",
              "  <thead>\n",
              "    <tr style=\"text-align: right;\">\n",
              "      <th></th>\n",
              "      <th>User_ID</th>\n",
              "      <th>Product_ID</th>\n",
              "      <th>Gender</th>\n",
              "      <th>Age</th>\n",
              "      <th>Occupation</th>\n",
              "      <th>City_Category</th>\n",
              "      <th>Stay_In_Current_City_Years</th>\n",
              "      <th>Marital_Status</th>\n",
              "      <th>Product_Category_1</th>\n",
              "      <th>Product_Category_2</th>\n",
              "      <th>Product_Category_3</th>\n",
              "      <th>Purchase</th>\n",
              "    </tr>\n",
              "  </thead>\n",
              "  <tbody>\n",
              "    <tr>\n",
              "      <th>6</th>\n",
              "      <td>3</td>\n",
              "      <td>284</td>\n",
              "      <td>1</td>\n",
              "      <td>4</td>\n",
              "      <td>7.0</td>\n",
              "      <td>1</td>\n",
              "      <td>2.0</td>\n",
              "      <td>1.0</td>\n",
              "      <td>1.0</td>\n",
              "      <td>8.0</td>\n",
              "      <td>17.0</td>\n",
              "      <td>19215.0</td>\n",
              "    </tr>\n",
              "    <tr>\n",
              "      <th>54</th>\n",
              "      <td>11</td>\n",
              "      <td>275</td>\n",
              "      <td>1</td>\n",
              "      <td>4</td>\n",
              "      <td>1.0</td>\n",
              "      <td>2</td>\n",
              "      <td>3.0</td>\n",
              "      <td>1.0</td>\n",
              "      <td>1.0</td>\n",
              "      <td>5.0</td>\n",
              "      <td>6.0</td>\n",
              "      <td>12107.0</td>\n",
              "    </tr>\n",
              "    <tr>\n",
              "      <th>235</th>\n",
              "      <td>40</td>\n",
              "      <td>149</td>\n",
              "      <td>1</td>\n",
              "      <td>4</td>\n",
              "      <td>17.0</td>\n",
              "      <td>1</td>\n",
              "      <td>3.0</td>\n",
              "      <td>1.0</td>\n",
              "      <td>1.0</td>\n",
              "      <td>2.0</td>\n",
              "      <td>14.0</td>\n",
              "      <td>19072.0</td>\n",
              "    </tr>\n",
              "    <tr>\n",
              "      <th>241</th>\n",
              "      <td>40</td>\n",
              "      <td>298</td>\n",
              "      <td>1</td>\n",
              "      <td>4</td>\n",
              "      <td>17.0</td>\n",
              "      <td>1</td>\n",
              "      <td>3.0</td>\n",
              "      <td>1.0</td>\n",
              "      <td>3.0</td>\n",
              "      <td>4.0</td>\n",
              "      <td>5.0</td>\n",
              "      <td>13251.0</td>\n",
              "    </tr>\n",
              "    <tr>\n",
              "      <th>527</th>\n",
              "      <td>90</td>\n",
              "      <td>203</td>\n",
              "      <td>1</td>\n",
              "      <td>4</td>\n",
              "      <td>0.0</td>\n",
              "      <td>2</td>\n",
              "      <td>4.0</td>\n",
              "      <td>1.0</td>\n",
              "      <td>5.0</td>\n",
              "      <td>8.0</td>\n",
              "      <td>14.0</td>\n",
              "      <td>3746.0</td>\n",
              "    </tr>\n",
              "  </tbody>\n",
              "</table>\n",
              "</div>\n",
              "      <button class=\"colab-df-convert\" onclick=\"convertToInteractive('df-bf5950f6-b1f1-44c2-931a-8ea30c4830d0')\"\n",
              "              title=\"Convert this dataframe to an interactive table.\"\n",
              "              style=\"display:none;\">\n",
              "        \n",
              "  <svg xmlns=\"http://www.w3.org/2000/svg\" height=\"24px\"viewBox=\"0 0 24 24\"\n",
              "       width=\"24px\">\n",
              "    <path d=\"M0 0h24v24H0V0z\" fill=\"none\"/>\n",
              "    <path d=\"M18.56 5.44l.94 2.06.94-2.06 2.06-.94-2.06-.94-.94-2.06-.94 2.06-2.06.94zm-11 1L8.5 8.5l.94-2.06 2.06-.94-2.06-.94L8.5 2.5l-.94 2.06-2.06.94zm10 10l.94 2.06.94-2.06 2.06-.94-2.06-.94-.94-2.06-.94 2.06-2.06.94z\"/><path d=\"M17.41 7.96l-1.37-1.37c-.4-.4-.92-.59-1.43-.59-.52 0-1.04.2-1.43.59L10.3 9.45l-7.72 7.72c-.78.78-.78 2.05 0 2.83L4 21.41c.39.39.9.59 1.41.59.51 0 1.02-.2 1.41-.59l7.78-7.78 2.81-2.81c.8-.78.8-2.07 0-2.86zM5.41 20L4 18.59l7.72-7.72 1.47 1.35L5.41 20z\"/>\n",
              "  </svg>\n",
              "      </button>\n",
              "      \n",
              "  <style>\n",
              "    .colab-df-container {\n",
              "      display:flex;\n",
              "      flex-wrap:wrap;\n",
              "      gap: 12px;\n",
              "    }\n",
              "\n",
              "    .colab-df-convert {\n",
              "      background-color: #E8F0FE;\n",
              "      border: none;\n",
              "      border-radius: 50%;\n",
              "      cursor: pointer;\n",
              "      display: none;\n",
              "      fill: #1967D2;\n",
              "      height: 32px;\n",
              "      padding: 0 0 0 0;\n",
              "      width: 32px;\n",
              "    }\n",
              "\n",
              "    .colab-df-convert:hover {\n",
              "      background-color: #E2EBFA;\n",
              "      box-shadow: 0px 1px 2px rgba(60, 64, 67, 0.3), 0px 1px 3px 1px rgba(60, 64, 67, 0.15);\n",
              "      fill: #174EA6;\n",
              "    }\n",
              "\n",
              "    [theme=dark] .colab-df-convert {\n",
              "      background-color: #3B4455;\n",
              "      fill: #D2E3FC;\n",
              "    }\n",
              "\n",
              "    [theme=dark] .colab-df-convert:hover {\n",
              "      background-color: #434B5C;\n",
              "      box-shadow: 0px 1px 3px 1px rgba(0, 0, 0, 0.15);\n",
              "      filter: drop-shadow(0px 1px 2px rgba(0, 0, 0, 0.3));\n",
              "      fill: #FFFFFF;\n",
              "    }\n",
              "  </style>\n",
              "\n",
              "      <script>\n",
              "        const buttonEl =\n",
              "          document.querySelector('#df-bf5950f6-b1f1-44c2-931a-8ea30c4830d0 button.colab-df-convert');\n",
              "        buttonEl.style.display =\n",
              "          google.colab.kernel.accessAllowed ? 'block' : 'none';\n",
              "\n",
              "        async function convertToInteractive(key) {\n",
              "          const element = document.querySelector('#df-bf5950f6-b1f1-44c2-931a-8ea30c4830d0');\n",
              "          const dataTable =\n",
              "            await google.colab.kernel.invokeFunction('convertToInteractive',\n",
              "                                                     [key], {});\n",
              "          if (!dataTable) return;\n",
              "\n",
              "          const docLinkHtml = 'Like what you see? Visit the ' +\n",
              "            '<a target=\"_blank\" href=https://colab.research.google.com/notebooks/data_table.ipynb>data table notebook</a>'\n",
              "            + ' to learn more about interactive tables.';\n",
              "          element.innerHTML = '';\n",
              "          dataTable['output_type'] = 'display_data';\n",
              "          await google.colab.output.renderOutput(dataTable, element);\n",
              "          const docLink = document.createElement('div');\n",
              "          docLink.innerHTML = docLinkHtml;\n",
              "          element.appendChild(docLink);\n",
              "        }\n",
              "      </script>\n",
              "    </div>\n",
              "  </div>\n",
              "  "
            ]
          },
          "metadata": {},
          "execution_count": 88
        }
      ]
    },
    {
      "cell_type": "code",
      "source": [
        "sample_size = 25\n",
        "\n",
        "sample1 = new_data.sample(sample_size, random_state = 0)"
      ],
      "metadata": {
        "id": "Pfwi3GnCNXGR"
      },
      "execution_count": null,
      "outputs": []
    },
    {
      "cell_type": "code",
      "source": [
        "pos_mean = 10000"
      ],
      "metadata": {
        "id": "JVmXrxN0NXJ_"
      },
      "execution_count": null,
      "outputs": []
    },
    {
      "cell_type": "code",
      "source": [
        "from scipy.stats import ttest_1samp\n",
        "\n",
        "t_stat , p_value = ttest_1samp(sample1[\"Purchase\"], pos_mean)\n",
        "print(t_stat, p_value)"
      ],
      "metadata": {
        "colab": {
          "base_uri": "https://localhost:8080/"
        },
        "id": "kMuY9EQuNXN3",
        "outputId": "236c1e1c-4a97-4ea0-8b26-391c00b96809"
      },
      "execution_count": null,
      "outputs": [
        {
          "output_type": "stream",
          "name": "stdout",
          "text": [
            "1.1003586800081915 0.2820905682654722\n"
          ]
        }
      ]
    },
    {
      "cell_type": "code",
      "source": [
        "#P value is greater than 0.05, accept null hypo\n",
        "\n",
        "#Mean of male of age other than 18-25 is also 10000"
      ],
      "metadata": {
        "id": "63ug6gSzNXRM"
      },
      "execution_count": null,
      "outputs": []
    },
    {
      "cell_type": "markdown",
      "source": [
        "\n",
        "## Let's Suppose, It was observed that the percentage of women of the age that spend more than 10000 was 35%. Is it still the same?"
      ],
      "metadata": {
        "id": "4UMxgsWBSsMb"
      }
    },
    {
      "cell_type": "code",
      "source": [
        "#null hypo - proportion is 35%\n",
        "#alt hypo - propertion is not 35%\n",
        "\n",
        "data_new = data.loc[(data[\"Purchase\"] > 10000)]"
      ],
      "metadata": {
        "id": "Z-P4S7PFR_Zx"
      },
      "execution_count": null,
      "outputs": []
    },
    {
      "cell_type": "code",
      "source": [
        "data_new.shape"
      ],
      "metadata": {
        "colab": {
          "base_uri": "https://localhost:8080/"
        },
        "id": "3ZESQcWtTckQ",
        "outputId": "2032953e-2ee1-414f-f59d-291816129541"
      },
      "execution_count": null,
      "outputs": [
        {
          "output_type": "execute_result",
          "data": {
            "text/plain": [
              "(49390, 12)"
            ]
          },
          "metadata": {},
          "execution_count": 96
        }
      ]
    },
    {
      "cell_type": "code",
      "source": [
        "count1 = data_new[\"Gender\"].value_counts()[0]\n",
        "\n",
        "#number of observations\n",
        "nobs1 = len(data_new[\"Gender\"])\n",
        "\n",
        "#Hypothesised value\n",
        "\n",
        "p0 = 0.35"
      ],
      "metadata": {
        "id": "mGRXrOZeUpkr"
      },
      "execution_count": null,
      "outputs": []
    },
    {
      "cell_type": "code",
      "source": [],
      "metadata": {
        "id": "KJJmHsQ8U5lJ"
      },
      "execution_count": null,
      "outputs": []
    },
    {
      "cell_type": "code",
      "source": [
        "#One sample z test\n",
        "\n",
        "from statsmodels.stats.proportion import proportions_ztest\n",
        "\n",
        "z_stat , p_val = proportions_ztest(count = count1 , nobs = nobs1, value = p0, alternative = \"two-sided\")\n",
        "print(z_stat , p_val)"
      ],
      "metadata": {
        "colab": {
          "base_uri": "https://localhost:8080/"
        },
        "id": "3SAoDw5pTcoj",
        "outputId": "930ca376-6718-4845-bdc0-fe24cf346f66"
      },
      "execution_count": null,
      "outputs": [
        {
          "output_type": "stream",
          "name": "stdout",
          "text": [
            "-79.12020590883206 0.0\n"
          ]
        }
      ]
    },
    {
      "cell_type": "code",
      "source": [
        "#p value is less than 0.05 , reject null\n",
        "\n",
        "# proportion is not 35%"
      ],
      "metadata": {
        "id": "rRwF84XyTcrW"
      },
      "execution_count": null,
      "outputs": []
    },
    {
      "cell_type": "markdown",
      "source": [
        "## Are the variances of the purchase amounts significantly different between men and women in the age group 18-25?\""
      ],
      "metadata": {
        "id": "spv4G-l9WVul"
      }
    },
    {
      "cell_type": "code",
      "source": [
        "data_men = data.loc[(data['Gender'] == 1)& (data['Age'] == 4)]\n",
        "data_women = data.loc[(data['Gender'] == 0) & (data['Age'] == 4)]"
      ],
      "metadata": {
        "id": "LJiOq8FdTbel"
      },
      "execution_count": null,
      "outputs": []
    },
    {
      "cell_type": "code",
      "source": [
        "#creating samples\n",
        "data_men_sample = data_men.sample(500, random_state=0)\n",
        "data_women_sample = data_women.sample(500, random_state=0)"
      ],
      "metadata": {
        "id": "LxxRfNaYTbqW"
      },
      "execution_count": null,
      "outputs": []
    },
    {
      "cell_type": "code",
      "source": [
        "#computing f statistic\n",
        "from scipy.stats import f\n",
        "F = data_men_sample.Purchase.mean()/data_women_sample.Purchase.mean()\n",
        "print(F)"
      ],
      "metadata": {
        "colab": {
          "base_uri": "https://localhost:8080/"
        },
        "id": "3S_fkw_MTbzo",
        "outputId": "ec945d97-2536-46a0-a668-1b175c49233f"
      },
      "execution_count": null,
      "outputs": [
        {
          "output_type": "stream",
          "name": "stdout",
          "text": [
            "1.071824147188011\n"
          ]
        }
      ]
    },
    {
      "cell_type": "code",
      "source": [
        "#calculating the degrees of freedom \n",
        "df1 = len(data_men_sample) - 1\n",
        "df2 = len(data_women_sample) - 1\n",
        "\n",
        "print(df1, df2)\n",
        "\n",
        "# degrees of freedom in the F-test indicate the number of independent pieces of information available for estimating variances."
      ],
      "metadata": {
        "colab": {
          "base_uri": "https://localhost:8080/"
        },
        "id": "b_4f_GrzXd7T",
        "outputId": "1328a88c-e204-495c-88d7-42eaa7159353"
      },
      "execution_count": null,
      "outputs": [
        {
          "output_type": "stream",
          "name": "stdout",
          "text": [
            "499 499\n"
          ]
        }
      ]
    },
    {
      "cell_type": "code",
      "source": [
        "#p-value\n",
        "import scipy\n",
        "scipy.stats.f.cdf(F, df1, df2)"
      ],
      "metadata": {
        "colab": {
          "base_uri": "https://localhost:8080/"
        },
        "id": "X__8lsBkX0dH",
        "outputId": "723ac6c3-1aee-463e-83f2-d59f6b5ed449"
      },
      "execution_count": null,
      "outputs": [
        {
          "output_type": "execute_result",
          "data": {
            "text/plain": [
              "0.7806083254395487"
            ]
          },
          "metadata": {},
          "execution_count": 108
        }
      ]
    },
    {
      "cell_type": "code",
      "source": [
        "# p value is greater than 0.05 , so accept the null hypo\n",
        "\n",
        "# avg of variance of male and female is equal"
      ],
      "metadata": {
        "id": "wme1AOO2X3vp"
      },
      "execution_count": null,
      "outputs": []
    },
    {
      "cell_type": "code",
      "source": [],
      "metadata": {
        "id": "bF3B4NabYJN4"
      },
      "execution_count": null,
      "outputs": []
    }
  ]
}