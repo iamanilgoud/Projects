{
 "cells": [
  {
   "cell_type": "code",
   "execution_count": 2,
   "id": "bacdcbf6",
   "metadata": {},
   "outputs": [],
   "source": [
    "import pandas as pd\n",
    "import numpy as np\n",
    "import matplotlib.pyplot as plt"
   ]
  },
  {
   "cell_type": "markdown",
   "id": "d14bbdc4",
   "metadata": {},
   "source": [
    "## Problem Statement:\n",
    "Create a machine learning model to predict revenue of the restaurant based on the features\n",
    "present in the dataset.\n",
    "\n",
    "##Tasks to be done:\n",
    "\n",
    "In this project, you have to predict the restaurant revenue based on the independent features\n",
    "using a machine learning algorithm of your own choice"
   ]
  },
  {
   "cell_type": "code",
   "execution_count": 3,
   "id": "21c4b4be",
   "metadata": {},
   "outputs": [
    {
     "data": {
      "text/html": [
       "<div>\n",
       "<style scoped>\n",
       "    .dataframe tbody tr th:only-of-type {\n",
       "        vertical-align: middle;\n",
       "    }\n",
       "\n",
       "    .dataframe tbody tr th {\n",
       "        vertical-align: top;\n",
       "    }\n",
       "\n",
       "    .dataframe thead th {\n",
       "        text-align: right;\n",
       "    }\n",
       "</style>\n",
       "<table border=\"1\" class=\"dataframe\">\n",
       "  <thead>\n",
       "    <tr style=\"text-align: right;\">\n",
       "      <th></th>\n",
       "      <th>Id</th>\n",
       "      <th>Name</th>\n",
       "      <th>Franchise</th>\n",
       "      <th>Category</th>\n",
       "      <th>City</th>\n",
       "      <th>No_Of_Item</th>\n",
       "      <th>Order_Placed</th>\n",
       "      <th>Revenue</th>\n",
       "    </tr>\n",
       "  </thead>\n",
       "  <tbody>\n",
       "    <tr>\n",
       "      <th>0</th>\n",
       "      <td>101</td>\n",
       "      <td>HungryHowie'sPizza</td>\n",
       "      <td>Yes</td>\n",
       "      <td>Mexican</td>\n",
       "      <td>Bengaluru</td>\n",
       "      <td>55</td>\n",
       "      <td>5.5</td>\n",
       "      <td>5953753</td>\n",
       "    </tr>\n",
       "    <tr>\n",
       "      <th>1</th>\n",
       "      <td>102</td>\n",
       "      <td>CharleysPhillySteaks</td>\n",
       "      <td>No</td>\n",
       "      <td>Varied Menu</td>\n",
       "      <td>Gurugram</td>\n",
       "      <td>72</td>\n",
       "      <td>6.8</td>\n",
       "      <td>7223131</td>\n",
       "    </tr>\n",
       "    <tr>\n",
       "      <th>2</th>\n",
       "      <td>103</td>\n",
       "      <td>Chuy's</td>\n",
       "      <td>Yes</td>\n",
       "      <td>Chicken</td>\n",
       "      <td>Pune</td>\n",
       "      <td>25</td>\n",
       "      <td>1.9</td>\n",
       "      <td>2555379</td>\n",
       "    </tr>\n",
       "    <tr>\n",
       "      <th>3</th>\n",
       "      <td>104</td>\n",
       "      <td>O'Charley's</td>\n",
       "      <td>Yes</td>\n",
       "      <td>Italian/Pizza</td>\n",
       "      <td>Mumbai</td>\n",
       "      <td>18</td>\n",
       "      <td>2.5</td>\n",
       "      <td>2175511</td>\n",
       "    </tr>\n",
       "    <tr>\n",
       "      <th>4</th>\n",
       "      <td>105</td>\n",
       "      <td>PolloTropical</td>\n",
       "      <td>Yes</td>\n",
       "      <td>Pizza</td>\n",
       "      <td>Noida</td>\n",
       "      <td>48</td>\n",
       "      <td>4.2</td>\n",
       "      <td>4816715</td>\n",
       "    </tr>\n",
       "  </tbody>\n",
       "</table>\n",
       "</div>"
      ],
      "text/plain": [
       "    Id                  Name Franchise       Category       City  No_Of_Item  \\\n",
       "0  101    HungryHowie'sPizza       Yes        Mexican  Bengaluru          55   \n",
       "1  102  CharleysPhillySteaks        No    Varied Menu   Gurugram          72   \n",
       "2  103                Chuy's       Yes        Chicken       Pune          25   \n",
       "3  104           O'Charley's       Yes  Italian/Pizza     Mumbai          18   \n",
       "4  105         PolloTropical       Yes          Pizza      Noida          48   \n",
       "\n",
       "   Order_Placed  Revenue  \n",
       "0           5.5  5953753  \n",
       "1           6.8  7223131  \n",
       "2           1.9  2555379  \n",
       "3           2.5  2175511  \n",
       "4           4.2  4816715  "
      ]
     },
     "execution_count": 3,
     "metadata": {},
     "output_type": "execute_result"
    }
   ],
   "source": [
    "df=pd.read_csv(\"revenue_prediction.csv\")\n",
    "df.head()"
   ]
  },
  {
   "cell_type": "code",
   "execution_count": 5,
   "id": "9ae50eec",
   "metadata": {},
   "outputs": [
    {
     "data": {
      "text/plain": [
       "Bengaluru    43\n",
       "Mumbai       19\n",
       "Noida        18\n",
       "Pune         13\n",
       "Gurugram      7\n",
       "Name: City, dtype: int64"
      ]
     },
     "execution_count": 5,
     "metadata": {},
     "output_type": "execute_result"
    }
   ],
   "source": [
    "df.City.value_counts()"
   ]
  },
  {
   "cell_type": "code",
   "execution_count": 3,
   "id": "26b42e9e",
   "metadata": {},
   "outputs": [
    {
     "data": {
      "text/plain": [
       "(100, 8)"
      ]
     },
     "execution_count": 3,
     "metadata": {},
     "output_type": "execute_result"
    }
   ],
   "source": [
    "df.shape"
   ]
  },
  {
   "cell_type": "code",
   "execution_count": 4,
   "id": "683cbdf3",
   "metadata": {},
   "outputs": [
    {
     "data": {
      "text/plain": [
       "Id              0\n",
       "Name            0\n",
       "Franchise       0\n",
       "Category        0\n",
       "City            0\n",
       "No_Of_Item      0\n",
       "Order_Placed    0\n",
       "Revenue         0\n",
       "dtype: int64"
      ]
     },
     "execution_count": 4,
     "metadata": {},
     "output_type": "execute_result"
    }
   ],
   "source": [
    "df.isnull().sum()"
   ]
  },
  {
   "cell_type": "code",
   "execution_count": 5,
   "id": "f9702220",
   "metadata": {},
   "outputs": [
    {
     "data": {
      "text/html": [
       "<div>\n",
       "<style scoped>\n",
       "    .dataframe tbody tr th:only-of-type {\n",
       "        vertical-align: middle;\n",
       "    }\n",
       "\n",
       "    .dataframe tbody tr th {\n",
       "        vertical-align: top;\n",
       "    }\n",
       "\n",
       "    .dataframe thead th {\n",
       "        text-align: right;\n",
       "    }\n",
       "</style>\n",
       "<table border=\"1\" class=\"dataframe\">\n",
       "  <thead>\n",
       "    <tr style=\"text-align: right;\">\n",
       "      <th></th>\n",
       "      <th>Id</th>\n",
       "      <th>No_Of_Item</th>\n",
       "      <th>Order_Placed</th>\n",
       "      <th>Revenue</th>\n",
       "    </tr>\n",
       "  </thead>\n",
       "  <tbody>\n",
       "    <tr>\n",
       "      <th>count</th>\n",
       "      <td>100.000000</td>\n",
       "      <td>100.000000</td>\n",
       "      <td>100.000000</td>\n",
       "      <td>1.000000e+02</td>\n",
       "    </tr>\n",
       "    <tr>\n",
       "      <th>mean</th>\n",
       "      <td>150.500000</td>\n",
       "      <td>49.080000</td>\n",
       "      <td>4.086000</td>\n",
       "      <td>4.395161e+06</td>\n",
       "    </tr>\n",
       "    <tr>\n",
       "      <th>std</th>\n",
       "      <td>29.011492</td>\n",
       "      <td>22.370923</td>\n",
       "      <td>2.055101</td>\n",
       "      <td>2.659932e+06</td>\n",
       "    </tr>\n",
       "    <tr>\n",
       "      <th>min</th>\n",
       "      <td>101.000000</td>\n",
       "      <td>18.000000</td>\n",
       "      <td>1.000000</td>\n",
       "      <td>8.498700e+05</td>\n",
       "    </tr>\n",
       "    <tr>\n",
       "      <th>25%</th>\n",
       "      <td>125.750000</td>\n",
       "      <td>34.750000</td>\n",
       "      <td>2.750000</td>\n",
       "      <td>2.688328e+06</td>\n",
       "    </tr>\n",
       "    <tr>\n",
       "      <th>50%</th>\n",
       "      <td>150.500000</td>\n",
       "      <td>45.000000</td>\n",
       "      <td>3.650000</td>\n",
       "      <td>3.911401e+06</td>\n",
       "    </tr>\n",
       "    <tr>\n",
       "      <th>75%</th>\n",
       "      <td>175.250000</td>\n",
       "      <td>57.250000</td>\n",
       "      <td>5.100000</td>\n",
       "      <td>5.330084e+06</td>\n",
       "    </tr>\n",
       "    <tr>\n",
       "      <th>max</th>\n",
       "      <td>200.000000</td>\n",
       "      <td>126.000000</td>\n",
       "      <td>13.000000</td>\n",
       "      <td>1.969694e+07</td>\n",
       "    </tr>\n",
       "  </tbody>\n",
       "</table>\n",
       "</div>"
      ],
      "text/plain": [
       "               Id  No_Of_Item  Order_Placed       Revenue\n",
       "count  100.000000  100.000000    100.000000  1.000000e+02\n",
       "mean   150.500000   49.080000      4.086000  4.395161e+06\n",
       "std     29.011492   22.370923      2.055101  2.659932e+06\n",
       "min    101.000000   18.000000      1.000000  8.498700e+05\n",
       "25%    125.750000   34.750000      2.750000  2.688328e+06\n",
       "50%    150.500000   45.000000      3.650000  3.911401e+06\n",
       "75%    175.250000   57.250000      5.100000  5.330084e+06\n",
       "max    200.000000  126.000000     13.000000  1.969694e+07"
      ]
     },
     "execution_count": 5,
     "metadata": {},
     "output_type": "execute_result"
    }
   ],
   "source": [
    "df.describe()"
   ]
  },
  {
   "cell_type": "code",
   "execution_count": 6,
   "id": "3b85655b",
   "metadata": {},
   "outputs": [],
   "source": [
    "df=df.drop(columns=[\"Id\",\"Name\",\"Franchise\",\"Category\",\"City\",\"No_Of_Item\"])"
   ]
  },
  {
   "cell_type": "code",
   "execution_count": 8,
   "id": "f79fa0de",
   "metadata": {
    "scrolled": true
   },
   "outputs": [
    {
     "data": {
      "text/html": [
       "<div>\n",
       "<style scoped>\n",
       "    .dataframe tbody tr th:only-of-type {\n",
       "        vertical-align: middle;\n",
       "    }\n",
       "\n",
       "    .dataframe tbody tr th {\n",
       "        vertical-align: top;\n",
       "    }\n",
       "\n",
       "    .dataframe thead th {\n",
       "        text-align: right;\n",
       "    }\n",
       "</style>\n",
       "<table border=\"1\" class=\"dataframe\">\n",
       "  <thead>\n",
       "    <tr style=\"text-align: right;\">\n",
       "      <th></th>\n",
       "      <th>Order_Placed</th>\n",
       "      <th>Revenue</th>\n",
       "    </tr>\n",
       "  </thead>\n",
       "  <tbody>\n",
       "    <tr>\n",
       "      <th>0</th>\n",
       "      <td>5.5</td>\n",
       "      <td>5953753</td>\n",
       "    </tr>\n",
       "    <tr>\n",
       "      <th>1</th>\n",
       "      <td>6.8</td>\n",
       "      <td>7223131</td>\n",
       "    </tr>\n",
       "    <tr>\n",
       "      <th>2</th>\n",
       "      <td>1.9</td>\n",
       "      <td>2555379</td>\n",
       "    </tr>\n",
       "    <tr>\n",
       "      <th>3</th>\n",
       "      <td>2.5</td>\n",
       "      <td>2175511</td>\n",
       "    </tr>\n",
       "    <tr>\n",
       "      <th>4</th>\n",
       "      <td>4.2</td>\n",
       "      <td>4816715</td>\n",
       "    </tr>\n",
       "  </tbody>\n",
       "</table>\n",
       "</div>"
      ],
      "text/plain": [
       "   Order_Placed  Revenue\n",
       "0           5.5  5953753\n",
       "1           6.8  7223131\n",
       "2           1.9  2555379\n",
       "3           2.5  2175511\n",
       "4           4.2  4816715"
      ]
     },
     "execution_count": 8,
     "metadata": {},
     "output_type": "execute_result"
    }
   ],
   "source": [
    "df.head()"
   ]
  },
  {
   "cell_type": "code",
   "execution_count": 9,
   "id": "b359435b",
   "metadata": {},
   "outputs": [],
   "source": [
    "x=df.iloc[:,:-1].values\n",
    "y=df.iloc[:,-1].values "
   ]
  },
  {
   "cell_type": "code",
   "execution_count": 10,
   "id": "273bf828",
   "metadata": {},
   "outputs": [],
   "source": [
    "from sklearn.model_selection import train_test_split\n",
    "x_train,x_test,y_train,y_test=train_test_split(x,y,test_size=0.2,random_state=42)"
   ]
  },
  {
   "cell_type": "code",
   "execution_count": 11,
   "id": "c77458aa",
   "metadata": {},
   "outputs": [
    {
     "data": {
      "text/plain": [
       "array([[ 6.8],\n",
       "       [ 1.9],\n",
       "       [ 2.1],\n",
       "       [ 4.8],\n",
       "       [ 3.3],\n",
       "       [ 3.1],\n",
       "       [ 6.7],\n",
       "       [ 6.3],\n",
       "       [ 5.3],\n",
       "       [ 2.4],\n",
       "       [ 5. ],\n",
       "       [ 7.7],\n",
       "       [ 7.2],\n",
       "       [ 4.6],\n",
       "       [ 3.3],\n",
       "       [ 4.9],\n",
       "       [ 1.7],\n",
       "       [ 1.6],\n",
       "       [ 3.6],\n",
       "       [10.8],\n",
       "       [ 8.5],\n",
       "       [ 4. ],\n",
       "       [ 4.3],\n",
       "       [ 1.1],\n",
       "       [ 5.3],\n",
       "       [ 1.9],\n",
       "       [ 3.9],\n",
       "       [ 3.6],\n",
       "       [ 5.1],\n",
       "       [ 4.7],\n",
       "       [ 8.8],\n",
       "       [ 2.5],\n",
       "       [ 8.1],\n",
       "       [ 5.3],\n",
       "       [ 4.8],\n",
       "       [ 3.5],\n",
       "       [ 5. ],\n",
       "       [ 2.4],\n",
       "       [ 2.8],\n",
       "       [ 2.1],\n",
       "       [ 2.1],\n",
       "       [ 4.4],\n",
       "       [ 4.5],\n",
       "       [ 2.6],\n",
       "       [ 1.9],\n",
       "       [ 3.8],\n",
       "       [ 4.1],\n",
       "       [ 3.6],\n",
       "       [ 4.2],\n",
       "       [ 6.2],\n",
       "       [ 6.1],\n",
       "       [ 4.4],\n",
       "       [ 2.9],\n",
       "       [ 7.1],\n",
       "       [ 2.1],\n",
       "       [ 3.1],\n",
       "       [13. ],\n",
       "       [ 3.1],\n",
       "       [ 3.5],\n",
       "       [ 3.4],\n",
       "       [ 1.5],\n",
       "       [ 3.9],\n",
       "       [ 2.6],\n",
       "       [ 3.3],\n",
       "       [ 6.8],\n",
       "       [ 1.6],\n",
       "       [ 1. ],\n",
       "       [ 1.9],\n",
       "       [ 2.8],\n",
       "       [ 5.8],\n",
       "       [ 1.9],\n",
       "       [ 5.1],\n",
       "       [ 3.1],\n",
       "       [ 3.6],\n",
       "       [ 5.4],\n",
       "       [ 3. ],\n",
       "       [ 4. ],\n",
       "       [ 1.8],\n",
       "       [ 6.5],\n",
       "       [ 3.1]])"
      ]
     },
     "execution_count": 11,
     "metadata": {},
     "output_type": "execute_result"
    }
   ],
   "source": [
    "x_train"
   ]
  },
  {
   "cell_type": "code",
   "execution_count": 13,
   "id": "527e134b",
   "metadata": {},
   "outputs": [
    {
     "data": {
      "text/plain": [
       "array([[5.7],\n",
       "       [5.4],\n",
       "       [3.8],\n",
       "       [3.6],\n",
       "       [4. ],\n",
       "       [3.7],\n",
       "       [3.8],\n",
       "       [3.5],\n",
       "       [3.6],\n",
       "       [5.5],\n",
       "       [5.2],\n",
       "       [2.9],\n",
       "       [3.1],\n",
       "       [2.2],\n",
       "       [3.3],\n",
       "       [4.2],\n",
       "       [4.3],\n",
       "       [1.7],\n",
       "       [1.6],\n",
       "       [1.9]])"
      ]
     },
     "execution_count": 13,
     "metadata": {},
     "output_type": "execute_result"
    }
   ],
   "source": [
    "x_test"
   ]
  },
  {
   "cell_type": "code",
   "execution_count": 14,
   "id": "78481f3c",
   "metadata": {},
   "outputs": [
    {
     "data": {
      "text/plain": [
       "array([ 6941173,  2025297,  2967425,  4952255,  3452382,  3918918,\n",
       "        6836483,  6412623,  4544227,  2525375,  3861370,  7865428,\n",
       "        7495092,  7705945,  3410878,  4517319,  1882131,  1756069,\n",
       "        3903884, 19696939,  8630682,  4100886,  6491607,  1270499,\n",
       "        6135276,  1521934,  4066618,  2778621,  5286212,  5107746,\n",
       "        7904084,  2175511,  7513524,  5461700,  5152497,  3871344,\n",
       "        5966635,  2551252,  3028267,  2364478,  2390534,  4567678,\n",
       "        4651866,  2732645,  2156098,  4052733,  4250758,  3836721,\n",
       "        4350573,  6694797,  6313221,  4554237,  3004429,  7201784,\n",
       "        2344689,  3258837, 16549064,  3261924,  3753720,  3600467,\n",
       "        1619683,  4250553,  2740687,  2447890,  7223131,  1763231,\n",
       "         849870,  2555379,  1999068,  5906596,  2083447,  5500818,\n",
       "        3351383,  3807496,  5025735,  3164972,  4136425,  1099097,\n",
       "        6782425,  3273041], dtype=int64)"
      ]
     },
     "execution_count": 14,
     "metadata": {},
     "output_type": "execute_result"
    }
   ],
   "source": [
    "y_train"
   ]
  },
  {
   "cell_type": "code",
   "execution_count": 15,
   "id": "c284628f",
   "metadata": {},
   "outputs": [
    {
     "data": {
      "text/plain": [
       "array([5966193, 5595267, 3982767, 3752885, 4264176, 3818055, 4956086,\n",
       "       3727364, 3945135, 5953753, 4937526, 2408199, 3347767, 2371202,\n",
       "       3426169, 4816715, 4590423, 1904842, 2234634, 2358644], dtype=int64)"
      ]
     },
     "execution_count": 15,
     "metadata": {},
     "output_type": "execute_result"
    }
   ],
   "source": [
    "y_test"
   ]
  },
  {
   "cell_type": "code",
   "execution_count": 16,
   "id": "7fe2a55e",
   "metadata": {},
   "outputs": [
    {
     "data": {
      "text/plain": [
       "LinearRegression()"
      ]
     },
     "execution_count": 16,
     "metadata": {},
     "output_type": "execute_result"
    }
   ],
   "source": [
    "from sklearn.linear_model import LinearRegression\n",
    "regressor=LinearRegression()\n",
    "regressor.fit(x_train,y_train)"
   ]
  },
  {
   "cell_type": "code",
   "execution_count": 17,
   "id": "8b9024ea",
   "metadata": {},
   "outputs": [
    {
     "data": {
      "text/plain": [
       "array([6351103.23642516, 5984998.65773576, 4032440.90472562,\n",
       "       3788371.18559936, 4276510.62385189, 3910406.04516249,\n",
       "       4032440.90472562, 3666336.32603622, 3788371.18559936,\n",
       "       6107033.5172989 , 5740928.93860949, 2934127.16865742,\n",
       "       3178196.88778369, 2079883.15171548, 3422266.60690995,\n",
       "       4520580.34297816, 4642615.20254129, 1469708.85389981,\n",
       "       1347673.99433668, 1713778.57302608])"
      ]
     },
     "execution_count": 17,
     "metadata": {},
     "output_type": "execute_result"
    }
   ],
   "source": [
    "y_pred=regressor.predict(x_test)\n",
    "y_pred"
   ]
  },
  {
   "cell_type": "code",
   "execution_count": 20,
   "id": "8968395b",
   "metadata": {},
   "outputs": [
    {
     "data": {
      "text/plain": [
       "Text(0, 0.5, 'Revenue')"
      ]
     },
     "execution_count": 20,
     "metadata": {},
     "output_type": "execute_result"
    },
    {
     "data": {
      "image/png": "[encoded data removed]",
      "text/plain": [
       "<Figure size 640x480 with 1 Axes>"
      ]
     },
     "metadata": {},
     "output_type": "display_data"
    }
   ],
   "source": [
    "plt.scatter(x_train,y_train,color=\"blue\")\n",
    "plt.plot(x_train,regressor.predict(x_train),color=\"green\")\n",
    "plt.title(\"Revenue vs orders\")\n",
    "plt.xlabel(\"orders\")\n",
    "plt.ylabel(\"Revenue\")"
   ]
  },
  {
   "cell_type": "code",
   "execution_count": 21,
   "id": "3ad43c8b",
   "metadata": {},
   "outputs": [
    {
     "data": {
      "text/plain": [
       "Text(0, 0.5, 'Revenue')"
      ]
     },
     "execution_count": 21,
     "metadata": {},
     "output_type": "execute_result"
    },
    {
     "data": {
      "image/png": "[encoded data removed]",
      "text/plain": [
       "<Figure size 640x480 with 1 Axes>"
      ]
     },
     "metadata": {},
     "output_type": "display_data"
    }
   ],
   "source": [
    "plt.scatter(x_test,y_test,color=\"blue\")\n",
    "plt.plot(x_train,regressor.predict(x_train),color=\"green\")\n",
    "plt.title(\"Revenue vs orders\")\n",
    "plt.xlabel(\"orders\")\n",
    "plt.ylabel(\"Revenue\")"
   ]
  },
  {
   "cell_type": "code",
   "execution_count": 22,
   "id": "95f696ee",
   "metadata": {},
   "outputs": [],
   "source": [
    "from sklearn.metrics import r2_score"
   ]
  },
  {
   "cell_type": "code",
   "execution_count": 23,
   "id": "21388bb1",
   "metadata": {},
   "outputs": [
    {
     "data": {
      "text/plain": [
       "0.9109612329066814"
      ]
     },
     "execution_count": 23,
     "metadata": {},
     "output_type": "execute_result"
    }
   ],
   "source": [
    "score=r2_score(y_pred,y_test)\n",
    "score"
   ]
  }
 ],
 "metadata": {
  "kernelspec": {
   "display_name": "Python 3 (ipykernel)",
   "language": "python",
   "name": "python3"
  },
  "language_info": {
   "codemirror_mode": {
    "name": "ipython",
    "version": 3
   },
   "file_extension": ".py",
   "mimetype": "text/x-python",
   "name": "python",
   "nbconvert_exporter": "python",
   "pygments_lexer": "ipython3",
   "version": "3.9.13"
  }
 },
 "nbformat": 4,
 "nbformat_minor": 5
}
