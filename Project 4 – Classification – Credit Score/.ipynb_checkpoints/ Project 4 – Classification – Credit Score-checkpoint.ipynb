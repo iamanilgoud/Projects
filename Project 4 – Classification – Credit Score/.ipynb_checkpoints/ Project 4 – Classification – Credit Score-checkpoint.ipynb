{
 "cells": [
  {
   "cell_type": "markdown",
   "id": "ae9ad576",
   "metadata": {},
   "source": [
    "## Importing libarires"
   ]
  },
  {
   "cell_type": "code",
   "execution_count": 1,
   "id": "1811bebb",
   "metadata": {},
   "outputs": [],
   "source": [
    "import pandas as pd\n",
    "import numpy as np\n",
    "import matplotlib.pyplot as plt\n",
    "import seaborn as sns"
   ]
  },
  {
   "cell_type": "markdown",
   "id": "932e7664",
   "metadata": {},
   "source": [
    "# Loading data"
   ]
  },
  {
   "cell_type": "code",
   "execution_count": 2,
   "id": "5d445fe3",
   "metadata": {},
   "outputs": [
    {
     "name": "stderr",
     "output_type": "stream",
     "text": [
      "C:\\Users\\HP\\AppData\\Local\\Temp\\ipykernel_15012\\819379478.py:1: DtypeWarning: Columns (26) have mixed types. Specify dtype option on import or set low_memory=False.\n",
      "  df =pd.read_csv(\"credit_score.csv\")\n"
     ]
    }
   ],
   "source": [
    "df =pd.read_csv(\"credit_score.csv\")\n",
    "df =df.drop(columns=[\"ID\",\"Customer_ID\",\"Name\",\"SSN\",\"Type_of_Loan\",\"Credit_History_Age\"])"
   ]
  },
  {
   "cell_type": "code",
   "execution_count": 3,
   "id": "d8112990",
   "metadata": {},
   "outputs": [
    {
     "data": {
      "text/plain": [
       "(100000, 22)"
      ]
     },
     "execution_count": 3,
     "metadata": {},
     "output_type": "execute_result"
    }
   ],
   "source": [
    "df.shape"
   ]
  },
  {
   "cell_type": "code",
   "execution_count": 4,
   "id": "cd71742c",
   "metadata": {
    "scrolled": true
   },
   "outputs": [
    {
     "name": "stdout",
     "output_type": "stream",
     "text": [
      "<class 'pandas.core.frame.DataFrame'>\n",
      "RangeIndex: 100000 entries, 0 to 99999\n",
      "Data columns (total 22 columns):\n",
      " #   Column                    Non-Null Count   Dtype  \n",
      "---  ------                    --------------   -----  \n",
      " 0   Month                     100000 non-null  object \n",
      " 1   Age                       100000 non-null  object \n",
      " 2   Occupation                100000 non-null  object \n",
      " 3   Annual_Income             100000 non-null  object \n",
      " 4   Monthly_Inhand_Salary     84998 non-null   float64\n",
      " 5   Num_Bank_Accounts         100000 non-null  int64  \n",
      " 6   Num_Credit_Card           100000 non-null  int64  \n",
      " 7   Interest_Rate             100000 non-null  int64  \n",
      " 8   Num_of_Loan               100000 non-null  object \n",
      " 9   Delay_from_due_date       100000 non-null  int64  \n",
      " 10  Num_of_Delayed_Payment    92998 non-null   object \n",
      " 11  Changed_Credit_Limit      100000 non-null  object \n",
      " 12  Num_Credit_Inquiries      98035 non-null   float64\n",
      " 13  Credit_Mix                100000 non-null  object \n",
      " 14  Outstanding_Debt          100000 non-null  object \n",
      " 15  Credit_Utilization_Ratio  100000 non-null  float64\n",
      " 16  Payment_of_Min_Amount     100000 non-null  object \n",
      " 17  Total_EMI_per_month       100000 non-null  float64\n",
      " 18  Amount_invested_monthly   95521 non-null   object \n",
      " 19  Payment_Behaviour         100000 non-null  object \n",
      " 20  Monthly_Balance           98800 non-null   object \n",
      " 21  Credit_Score              100000 non-null  object \n",
      "dtypes: float64(4), int64(4), object(14)\n",
      "memory usage: 16.8+ MB\n"
     ]
    }
   ],
   "source": [
    "df.info()"
   ]
  },
  {
   "cell_type": "markdown",
   "id": "95442ce8",
   "metadata": {},
   "source": [
    "### Data cleaning by column wise"
   ]
  },
  {
   "cell_type": "code",
   "execution_count": 5,
   "id": "c5de7caf",
   "metadata": {},
   "outputs": [],
   "source": [
    "# Age removing special characters \n",
    "df[\"Age\"]=df[\"Age\"].str.replace(\"_\",\"\")\n",
    "df[\"Age\"]=df[\"Age\"].str.replace(\"-500\",\"0\")\n",
    "df[\"Age\"]=df[\"Age\"].astype(int)"
   ]
  },
  {
   "cell_type": "code",
   "execution_count": 6,
   "id": "2311a2d9",
   "metadata": {},
   "outputs": [
    {
     "data": {
      "text/plain": [
       "0     Scientist\n",
       "1     Scientist\n",
       "2     Scientist\n",
       "3     Scientist\n",
       "4     Scientist\n",
       "5     Scientist\n",
       "6     Scientist\n",
       "7     Scientist\n",
       "8       _______\n",
       "9       Teacher\n",
       "10      Teacher\n",
       "11      Teacher\n",
       "12      Teacher\n",
       "13      Teacher\n",
       "14      Teacher\n",
       "15      Teacher\n",
       "16      _______\n",
       "17     Engineer\n",
       "18      _______\n",
       "19     Engineer\n",
       "Name: Occupation, dtype: object"
      ]
     },
     "execution_count": 6,
     "metadata": {},
     "output_type": "execute_result"
    }
   ],
   "source": [
    "# Occupation column\n",
    "df.Occupation.head(20)"
   ]
  },
  {
   "cell_type": "code",
   "execution_count": 7,
   "id": "dfc4725b",
   "metadata": {},
   "outputs": [],
   "source": [
    "df[\"Occupaion\"]=df[\"Occupation\"].replace(\"_______\",np.nan)"
   ]
  },
  {
   "cell_type": "code",
   "execution_count": 8,
   "id": "fc64b09a",
   "metadata": {},
   "outputs": [
    {
     "data": {
      "text/plain": [
       "0     Scientist\n",
       "1     Scientist\n",
       "2     Scientist\n",
       "3     Scientist\n",
       "4     Scientist\n",
       "5     Scientist\n",
       "6     Scientist\n",
       "7     Scientist\n",
       "8       _______\n",
       "9       Teacher\n",
       "10      Teacher\n",
       "11      Teacher\n",
       "12      Teacher\n",
       "13      Teacher\n",
       "14      Teacher\n",
       "15      Teacher\n",
       "16      _______\n",
       "17     Engineer\n",
       "18      _______\n",
       "19     Engineer\n",
       "Name: Occupation, dtype: object"
      ]
     },
     "execution_count": 8,
     "metadata": {},
     "output_type": "execute_result"
    }
   ],
   "source": [
    "df.Occupation.head(20)"
   ]
  },
  {
   "cell_type": "code",
   "execution_count": 9,
   "id": "7b02c7f1",
   "metadata": {},
   "outputs": [],
   "source": [
    "# Annual income"
   ]
  },
  {
   "cell_type": "code",
   "execution_count": 10,
   "id": "d5bd1825",
   "metadata": {},
   "outputs": [
    {
     "data": {
      "text/plain": [
       "0      19114.12\n",
       "1      19114.12\n",
       "2      19114.12\n",
       "3      19114.12\n",
       "4      19114.12\n",
       "5      19114.12\n",
       "6      19114.12\n",
       "7      19114.12\n",
       "8      34847.84\n",
       "9      34847.84\n",
       "10    34847.84_\n",
       "11     34847.84\n",
       "12     34847.84\n",
       "13     34847.84\n",
       "14     34847.84\n",
       "15     34847.84\n",
       "16    143162.64\n",
       "17    143162.64\n",
       "18    143162.64\n",
       "19    143162.64\n",
       "Name: Annual_Income, dtype: object"
      ]
     },
     "execution_count": 10,
     "metadata": {},
     "output_type": "execute_result"
    }
   ],
   "source": [
    "df.Annual_Income.head(20)"
   ]
  },
  {
   "cell_type": "code",
   "execution_count": 11,
   "id": "93e6c623",
   "metadata": {},
   "outputs": [
    {
     "data": {
      "text/plain": [
       "0      19114.12\n",
       "1      19114.12\n",
       "2      19114.12\n",
       "3      19114.12\n",
       "4      19114.12\n",
       "5      19114.12\n",
       "6      19114.12\n",
       "7      19114.12\n",
       "8      34847.84\n",
       "9      34847.84\n",
       "10     34847.84\n",
       "11     34847.84\n",
       "12     34847.84\n",
       "13     34847.84\n",
       "14     34847.84\n",
       "15     34847.84\n",
       "16    143162.64\n",
       "17    143162.64\n",
       "18    143162.64\n",
       "19    143162.64\n",
       "Name: Annual_Income, dtype: float64"
      ]
     },
     "execution_count": 11,
     "metadata": {},
     "output_type": "execute_result"
    }
   ],
   "source": [
    "df.Annual_Income =df.Annual_Income.str.replace(\"_\",\"\")\n",
    "df.Annual_Income=df.Annual_Income.astype(float)\n",
    "df.Annual_Income.head(20)"
   ]
  },
  {
   "cell_type": "code",
   "execution_count": 12,
   "id": "03983c60",
   "metadata": {
    "scrolled": true
   },
   "outputs": [
    {
     "data": {
      "text/plain": [
       "0        4\n",
       "1        4\n",
       "2        4\n",
       "3        4\n",
       "4        4\n",
       "5        4\n",
       "6        4\n",
       "7        4\n",
       "8        1\n",
       "9        1\n",
       "10       1\n",
       "11       1\n",
       "12       1\n",
       "13       1\n",
       "14       1\n",
       "15       1\n",
       "16       3\n",
       "17       3\n",
       "18       3\n",
       "19       3\n",
       "20       3\n",
       "21     967\n",
       "22       3\n",
       "23       3\n",
       "24       1\n",
       "25       1\n",
       "26       1\n",
       "27       1\n",
       "28       1\n",
       "29       1\n",
       "30       1\n",
       "31    -100\n",
       "32       0\n",
       "33       0\n",
       "34    -100\n",
       "35       0\n",
       "36       0\n",
       "37      0_\n",
       "38       0\n",
       "39    -100\n",
       "40       0\n",
       "41       0\n",
       "42       0\n",
       "43       0\n",
       "44       0\n",
       "45       0\n",
       "46       0\n",
       "47       0\n",
       "48       2\n",
       "49       2\n",
       "Name: Num_of_Loan, dtype: object"
      ]
     },
     "execution_count": 12,
     "metadata": {},
     "output_type": "execute_result"
    }
   ],
   "source": [
    "df.Num_of_Loan.head(50)"
   ]
  },
  {
   "cell_type": "code",
   "execution_count": 13,
   "id": "6402b70a",
   "metadata": {
    "scrolled": true
   },
   "outputs": [
    {
     "data": {
      "text/plain": [
       "0       4\n",
       "1       4\n",
       "2       4\n",
       "3       4\n",
       "4       4\n",
       "5       4\n",
       "6       4\n",
       "7       4\n",
       "8       1\n",
       "9       1\n",
       "10      1\n",
       "11      1\n",
       "12      1\n",
       "13      1\n",
       "14      1\n",
       "15      1\n",
       "16      3\n",
       "17      3\n",
       "18      3\n",
       "19      3\n",
       "20      3\n",
       "21    967\n",
       "22      3\n",
       "23      3\n",
       "24      1\n",
       "25      1\n",
       "26      1\n",
       "27      1\n",
       "28      1\n",
       "29      1\n",
       "30      1\n",
       "31   -100\n",
       "32      0\n",
       "33      0\n",
       "34   -100\n",
       "35      0\n",
       "36      0\n",
       "37      0\n",
       "38      0\n",
       "39   -100\n",
       "40      0\n",
       "41      0\n",
       "42      0\n",
       "43      0\n",
       "44      0\n",
       "45      0\n",
       "46      0\n",
       "47      0\n",
       "48      2\n",
       "49      2\n",
       "Name: Num_of_Loan, dtype: int32"
      ]
     },
     "execution_count": 13,
     "metadata": {},
     "output_type": "execute_result"
    }
   ],
   "source": [
    "df.Num_of_Loan =df.Num_of_Loan.str.replace(\"_\",\"\")\n",
    "df.Num_of_Loan=df.Num_of_Loan.astype(int)\n",
    "df.Num_of_Loan.head(50)"
   ]
  },
  {
   "cell_type": "code",
   "execution_count": 14,
   "id": "936f4424",
   "metadata": {},
   "outputs": [
    {
     "data": {
      "text/plain": [
       "Standard    36479\n",
       "Good        24337\n",
       "_           20195\n",
       "Bad         18989\n",
       "Name: Credit_Mix, dtype: int64"
      ]
     },
     "execution_count": 14,
     "metadata": {},
     "output_type": "execute_result"
    }
   ],
   "source": [
    "# Credit_Mix\n",
    "df.Credit_Mix.value_counts()"
   ]
  },
  {
   "cell_type": "code",
   "execution_count": 15,
   "id": "6ad1af59",
   "metadata": {},
   "outputs": [
    {
     "data": {
      "text/plain": [
       "0    NaN\n",
       "1    1.0\n",
       "2    1.0\n",
       "3    1.0\n",
       "4    1.0\n",
       "5    1.0\n",
       "6    1.0\n",
       "7    1.0\n",
       "8    1.0\n",
       "9    1.0\n",
       "Name: Credit_Mix, dtype: float64"
      ]
     },
     "execution_count": 15,
     "metadata": {},
     "output_type": "execute_result"
    }
   ],
   "source": [
    "df.Credit_Mix =df.Credit_Mix.replace(\"_\",np.nan)\n",
    "df.Credit_Mix = df.Credit_Mix.replace([\"Bad\",\"Good\",\"Standard\"],[0,1,2])\n",
    "df.Credit_Mix.head(10)"
   ]
  },
  {
   "cell_type": "code",
   "execution_count": 16,
   "id": "a2f2f6aa",
   "metadata": {},
   "outputs": [
    {
     "data": {
      "text/plain": [
       "0     312.49408867943663\n",
       "1     284.62916249607184\n",
       "2      331.2098628537912\n",
       "3     223.45130972736786\n",
       "4     341.48923103222177\n",
       "5      340.4792117872438\n",
       "6      244.5653167062043\n",
       "7     358.12416760938714\n",
       "8     470.69062692529184\n",
       "9      484.5912142650067\n",
       "10    466.46647639764313\n",
       "11     465.6762241330048\n",
       "12     444.8670318506144\n",
       "13      481.505261949182\n",
       "14     464.8806778859809\n",
       "15    356.07810855965045\n",
       "16    1043.3159778669492\n",
       "17     998.8692967863226\n",
       "18      715.741367403555\n",
       "19     426.5134106068658\n",
       "20     810.7821526659284\n",
       "21     963.9215811205684\n",
       "22     968.5555173846187\n",
       "23      895.494583180492\n",
       "24     433.6047729627723\n",
       "25    409.95181177115995\n",
       "26    411.42712287098345\n",
       "27     262.4995942778403\n",
       "28    359.37491550776383\n",
       "29     419.8807835023488\n",
       "30     443.5499567906391\n",
       "31    379.21638114119577\n",
       "32    288.60552234930395\n",
       "33    460.88727561667037\n",
       "34     392.1922656650829\n",
       "35     438.5454315807922\n",
       "36     482.6076383223166\n",
       "37     497.6872787770267\n",
       "38    394.31893393507744\n",
       "39    364.00001570479753\n",
       "40     740.1960900583389\n",
       "41      705.931285531244\n",
       "42     698.8107657019921\n",
       "43    270.66810874941655\n",
       "44     690.9186643139128\n",
       "45     633.0801749681799\n",
       "46    510.36110048740534\n",
       "47     796.2349097481042\n",
       "48      858.462474411158\n",
       "49     547.7604572149734\n",
       "Name: Monthly_Balance, dtype: object"
      ]
     },
     "execution_count": 16,
     "metadata": {},
     "output_type": "execute_result"
    }
   ],
   "source": [
    "# Monthly_Balance\n",
    "df.Monthly_Balance.head(50)"
   ]
  },
  {
   "cell_type": "code",
   "execution_count": 17,
   "id": "de4661f0",
   "metadata": {},
   "outputs": [],
   "source": [
    "df.Monthly_Balance = df.Monthly_Balance.str.replace(\"_\",\"\")\n",
    "df.Monthly_Balance = df.Monthly_Balance.astype(float)"
   ]
  },
  {
   "cell_type": "code",
   "execution_count": 18,
   "id": "f83cd92f",
   "metadata": {},
   "outputs": [
    {
     "data": {
      "text/plain": [
       "0     High_spent_Small_value_payments\n",
       "1      Low_spent_Large_value_payments\n",
       "2     Low_spent_Medium_value_payments\n",
       "3      Low_spent_Small_value_payments\n",
       "4    High_spent_Medium_value_payments\n",
       "5                              !@9#%8\n",
       "6      Low_spent_Small_value_payments\n",
       "7    High_spent_Medium_value_payments\n",
       "8      Low_spent_Small_value_payments\n",
       "9     High_spent_Large_value_payments\n",
       "Name: Payment_Behaviour, dtype: object"
      ]
     },
     "execution_count": 18,
     "metadata": {},
     "output_type": "execute_result"
    }
   ],
   "source": [
    "# Payment_Behaviour\n",
    "df.Payment_Behaviour.head(10)"
   ]
  },
  {
   "cell_type": "code",
   "execution_count": 19,
   "id": "aeb1b934",
   "metadata": {
    "scrolled": true
   },
   "outputs": [
    {
     "data": {
      "text/plain": [
       "0     High_spent_Small_value_payments\n",
       "1      Low_spent_Large_value_payments\n",
       "2     Low_spent_Medium_value_payments\n",
       "3      Low_spent_Small_value_payments\n",
       "4    High_spent_Medium_value_payments\n",
       "5                                 NaN\n",
       "6      Low_spent_Small_value_payments\n",
       "7    High_spent_Medium_value_payments\n",
       "8      Low_spent_Small_value_payments\n",
       "9     High_spent_Large_value_payments\n",
       "Name: Payment_Behaviour, dtype: object"
      ]
     },
     "execution_count": 19,
     "metadata": {},
     "output_type": "execute_result"
    }
   ],
   "source": [
    "df.Payment_Behaviour = df.Payment_Behaviour.replace(\"!@9#%8\",np.nan)\n",
    "df.Payment_Behaviour.head(10)"
   ]
  },
  {
   "cell_type": "code",
   "execution_count": 20,
   "id": "4f79561e",
   "metadata": {},
   "outputs": [
    {
     "data": {
      "text/plain": [
       "0      80.41529543900253\n",
       "1     118.28022162236736\n",
       "2        81.699521264648\n",
       "3      199.4580743910713\n",
       "4     41.420153086217326\n",
       "5     62.430172331195294\n",
       "6      178.3440674122349\n",
       "7     24.785216509052056\n",
       "8       104.291825168246\n",
       "9      40.39123782853101\n",
       "10     58.51597569589465\n",
       "11     99.30622796053305\n",
       "12    130.11542024292334\n",
       "13    43.477190144355745\n",
       "14     70.10177420755677\n",
       "15    218.90434353388733\n",
       "16      168.413702679309\n",
       "17    232.86038375993544\n",
       "18             __10000__\n",
       "19     825.2162699393922\n",
       "Name: Amount_invested_monthly, dtype: object"
      ]
     },
     "execution_count": 20,
     "metadata": {},
     "output_type": "execute_result"
    }
   ],
   "source": [
    "# Amount_invested_monthly\n",
    "df.Amount_invested_monthly.head(20)"
   ]
  },
  {
   "cell_type": "code",
   "execution_count": 21,
   "id": "d28cc05f",
   "metadata": {},
   "outputs": [
    {
     "data": {
      "text/plain": [
       "0        80.415295\n",
       "1       118.280222\n",
       "2        81.699521\n",
       "3       199.458074\n",
       "4        41.420153\n",
       "5        62.430172\n",
       "6       178.344067\n",
       "7        24.785217\n",
       "8       104.291825\n",
       "9        40.391238\n",
       "10       58.515976\n",
       "11       99.306228\n",
       "12      130.115420\n",
       "13       43.477190\n",
       "14       70.101774\n",
       "15      218.904344\n",
       "16      168.413703\n",
       "17      232.860384\n",
       "18    10000.000000\n",
       "19      825.216270\n",
       "Name: Amount_invested_monthly, dtype: float64"
      ]
     },
     "execution_count": 21,
     "metadata": {},
     "output_type": "execute_result"
    }
   ],
   "source": [
    "df.Amount_invested_monthly =df.Amount_invested_monthly.str.replace(\"_\",\"\")\n",
    "df.Amount_invested_monthly =df.Amount_invested_monthly.astype(float)\n",
    "df.Amount_invested_monthly.head(20)"
   ]
  },
  {
   "cell_type": "code",
   "execution_count": 22,
   "id": "58f3d91b",
   "metadata": {},
   "outputs": [
    {
     "data": {
      "text/plain": [
       "Yes    52326\n",
       "No     35667\n",
       "NM     12007\n",
       "Name: Payment_of_Min_Amount, dtype: int64"
      ]
     },
     "execution_count": 22,
     "metadata": {},
     "output_type": "execute_result"
    }
   ],
   "source": [
    "# Payment_of_Min_Amount\n",
    "df.Payment_of_Min_Amount.value_counts()"
   ]
  },
  {
   "cell_type": "code",
   "execution_count": 23,
   "id": "6dce1ac0",
   "metadata": {},
   "outputs": [
    {
     "data": {
      "text/plain": [
       "0     0\n",
       "1     0\n",
       "2     0\n",
       "3     0\n",
       "4     0\n",
       "5     0\n",
       "6     0\n",
       "7     0\n",
       "8     0\n",
       "9     0\n",
       "10    0\n",
       "11    0\n",
       "12    0\n",
       "13    0\n",
       "14    0\n",
       "15    0\n",
       "16    0\n",
       "17    0\n",
       "18    0\n",
       "19    0\n",
       "Name: Payment_of_Min_Amount, dtype: int64"
      ]
     },
     "execution_count": 23,
     "metadata": {},
     "output_type": "execute_result"
    }
   ],
   "source": [
    "df.Payment_of_Min_Amount =df.Payment_of_Min_Amount.str.replace(\"NM\",\"No\")\n",
    "df.Payment_of_Min_Amount=df.Payment_of_Min_Amount.replace([\"Yes\",\"No\"],[1,0])\n",
    "df.Payment_of_Min_Amount.head(20)"
   ]
  },
  {
   "cell_type": "code",
   "execution_count": 24,
   "id": "1e738870",
   "metadata": {},
   "outputs": [
    {
     "data": {
      "text/plain": [
       "1360.45     24\n",
       "460.46      23\n",
       "1151.7      23\n",
       "1109.03     23\n",
       "467.7       16\n",
       "            ..\n",
       "245.46_      1\n",
       "645.77_      1\n",
       "174.79_      1\n",
       "1181.13_     1\n",
       "1013.53_     1\n",
       "Name: Outstanding_Debt, Length: 13178, dtype: int64"
      ]
     },
     "execution_count": 24,
     "metadata": {},
     "output_type": "execute_result"
    }
   ],
   "source": [
    "# Outstanding_Debt\n",
    "df.Outstanding_Debt.value_counts()"
   ]
  },
  {
   "cell_type": "code",
   "execution_count": 25,
   "id": "52142bd4",
   "metadata": {},
   "outputs": [],
   "source": [
    "df.Outstanding_Debt=df.Outstanding_Debt.str.replace(\"_\",\"\")\n",
    "df.Outstanding_Debt=df.Outstanding_Debt.astype(float)"
   ]
  },
  {
   "cell_type": "code",
   "execution_count": 26,
   "id": "669625de",
   "metadata": {},
   "outputs": [
    {
     "data": {
      "text/plain": [
       "0    809.98\n",
       "1    809.98\n",
       "2    809.98\n",
       "3    809.98\n",
       "4    809.98\n",
       "5    809.98\n",
       "6    809.98\n",
       "7    809.98\n",
       "8    605.03\n",
       "9    605.03\n",
       "Name: Outstanding_Debt, dtype: float64"
      ]
     },
     "execution_count": 26,
     "metadata": {},
     "output_type": "execute_result"
    }
   ],
   "source": [
    "df.Outstanding_Debt.head(10)"
   ]
  },
  {
   "cell_type": "code",
   "execution_count": 27,
   "id": "e1b62438",
   "metadata": {},
   "outputs": [
    {
     "data": {
      "text/plain": [
       "Standard    53174\n",
       "Poor        28998\n",
       "Good        17828\n",
       "Name: Credit_Score, dtype: int64"
      ]
     },
     "execution_count": 27,
     "metadata": {},
     "output_type": "execute_result"
    }
   ],
   "source": [
    "# Credit_Score\n",
    "df.Credit_Score.value_counts()"
   ]
  },
  {
   "cell_type": "code",
   "execution_count": 28,
   "id": "257ba7cf",
   "metadata": {},
   "outputs": [
    {
     "data": {
      "text/plain": [
       "0    1\n",
       "1    1\n",
       "2    1\n",
       "3    1\n",
       "4    1\n",
       "5    1\n",
       "6    1\n",
       "7    2\n",
       "8    2\n",
       "9    1\n",
       "Name: Credit_Score, dtype: int64"
      ]
     },
     "execution_count": 28,
     "metadata": {},
     "output_type": "execute_result"
    }
   ],
   "source": [
    "df.Credit_Score=df.Credit_Score.replace([\"Poor\",\"Good\",\"Standard\"],[0,1,2])\n",
    "df.Credit_Score.head(10)"
   ]
  },
  {
   "cell_type": "code",
   "execution_count": 29,
   "id": "ed20a466",
   "metadata": {
    "scrolled": true
   },
   "outputs": [
    {
     "data": {
      "text/plain": [
       "0     11.27\n",
       "1     11.27\n",
       "2         _\n",
       "3      6.27\n",
       "4     11.27\n",
       "5      9.27\n",
       "6     11.27\n",
       "7     11.27\n",
       "8      5.42\n",
       "9      7.42\n",
       "10     5.42\n",
       "11     5.42\n",
       "12     6.42\n",
       "13     5.42\n",
       "14     5.42\n",
       "15     5.42\n",
       "16      7.1\n",
       "17      7.1\n",
       "18     11.1\n",
       "19      9.1\n",
       "Name: Changed_Credit_Limit, dtype: object"
      ]
     },
     "execution_count": 29,
     "metadata": {},
     "output_type": "execute_result"
    }
   ],
   "source": [
    "# Changed_Credit_Limit\n",
    "df.Changed_Credit_Limit.head(20)"
   ]
  },
  {
   "cell_type": "code",
   "execution_count": 30,
   "id": "0e36ba92",
   "metadata": {},
   "outputs": [
    {
     "data": {
      "text/plain": [
       "0        11.27\n",
       "1        11.27\n",
       "2          NaN\n",
       "3         6.27\n",
       "4        11.27\n",
       "         ...  \n",
       "99995    11.50\n",
       "99996    11.50\n",
       "99997    11.50\n",
       "99998    11.50\n",
       "99999    11.50\n",
       "Name: Changed_Credit_Limit, Length: 100000, dtype: float64"
      ]
     },
     "execution_count": 30,
     "metadata": {},
     "output_type": "execute_result"
    }
   ],
   "source": [
    "df.Changed_Credit_Limit =df.Changed_Credit_Limit.replace(\"_\",np.nan)\n",
    "df.Changed_Credit_Limit =df.Changed_Credit_Limit.astype(float)\n",
    "df.Changed_Credit_Limit "
   ]
  },
  {
   "cell_type": "code",
   "execution_count": 31,
   "id": "224f9f32",
   "metadata": {},
   "outputs": [
    {
     "data": {
      "text/plain": [
       "0    7.0\n",
       "1    NaN\n",
       "2    7.0\n",
       "3    4.0\n",
       "4    NaN\n",
       "5    4.0\n",
       "6    8.0\n",
       "7    6.0\n",
       "8    4.0\n",
       "9    1.0\n",
       "Name: Num_of_Delayed_Payment, dtype: float64"
      ]
     },
     "execution_count": 31,
     "metadata": {},
     "output_type": "execute_result"
    }
   ],
   "source": [
    "# Num_of_Delayed_Payment\n",
    "df.Num_of_Delayed_Payment=df.Num_of_Delayed_Payment.str.replace(\"_\",\"\")\n",
    "df.Num_of_Delayed_Payment=df.Num_of_Delayed_Payment.astype(float)\n",
    "df.Num_of_Delayed_Payment.head(10)"
   ]
  },
  {
   "cell_type": "code",
   "execution_count": 32,
   "id": "7fdb51ce",
   "metadata": {},
   "outputs": [
    {
     "name": "stdout",
     "output_type": "stream",
     "text": [
      "<class 'pandas.core.frame.DataFrame'>\n",
      "RangeIndex: 100000 entries, 0 to 99999\n",
      "Data columns (total 23 columns):\n",
      " #   Column                    Non-Null Count   Dtype  \n",
      "---  ------                    --------------   -----  \n",
      " 0   Month                     100000 non-null  object \n",
      " 1   Age                       100000 non-null  int32  \n",
      " 2   Occupation                100000 non-null  object \n",
      " 3   Annual_Income             100000 non-null  float64\n",
      " 4   Monthly_Inhand_Salary     84998 non-null   float64\n",
      " 5   Num_Bank_Accounts         100000 non-null  int64  \n",
      " 6   Num_Credit_Card           100000 non-null  int64  \n",
      " 7   Interest_Rate             100000 non-null  int64  \n",
      " 8   Num_of_Loan               100000 non-null  int32  \n",
      " 9   Delay_from_due_date       100000 non-null  int64  \n",
      " 10  Num_of_Delayed_Payment    92998 non-null   float64\n",
      " 11  Changed_Credit_Limit      97909 non-null   float64\n",
      " 12  Num_Credit_Inquiries      98035 non-null   float64\n",
      " 13  Credit_Mix                79805 non-null   float64\n",
      " 14  Outstanding_Debt          100000 non-null  float64\n",
      " 15  Credit_Utilization_Ratio  100000 non-null  float64\n",
      " 16  Payment_of_Min_Amount     100000 non-null  int64  \n",
      " 17  Total_EMI_per_month       100000 non-null  float64\n",
      " 18  Amount_invested_monthly   95521 non-null   float64\n",
      " 19  Payment_Behaviour         92400 non-null   object \n",
      " 20  Monthly_Balance           97132 non-null   float64\n",
      " 21  Credit_Score              100000 non-null  int64  \n",
      " 22  Occupaion                 92938 non-null   object \n",
      "dtypes: float64(11), int32(2), int64(6), object(4)\n",
      "memory usage: 16.8+ MB\n"
     ]
    }
   ],
   "source": [
    "df.info()"
   ]
  },
  {
   "cell_type": "code",
   "execution_count": 33,
   "id": "1606acd0",
   "metadata": {},
   "outputs": [
    {
     "data": {
      "text/plain": [
       "Month                           0\n",
       "Age                             0\n",
       "Occupation                      0\n",
       "Annual_Income                   0\n",
       "Monthly_Inhand_Salary       15002\n",
       "Num_Bank_Accounts               0\n",
       "Num_Credit_Card                 0\n",
       "Interest_Rate                   0\n",
       "Num_of_Loan                     0\n",
       "Delay_from_due_date             0\n",
       "Num_of_Delayed_Payment       7002\n",
       "Changed_Credit_Limit         2091\n",
       "Num_Credit_Inquiries         1965\n",
       "Credit_Mix                  20195\n",
       "Outstanding_Debt                0\n",
       "Credit_Utilization_Ratio        0\n",
       "Payment_of_Min_Amount           0\n",
       "Total_EMI_per_month             0\n",
       "Amount_invested_monthly      4479\n",
       "Payment_Behaviour            7600\n",
       "Monthly_Balance              2868\n",
       "Credit_Score                    0\n",
       "Occupaion                    7062\n",
       "dtype: int64"
      ]
     },
     "execution_count": 33,
     "metadata": {},
     "output_type": "execute_result"
    }
   ],
   "source": [
    "df.isnull().sum()"
   ]
  },
  {
   "cell_type": "code",
   "execution_count": 34,
   "id": "5ffa9279",
   "metadata": {},
   "outputs": [
    {
     "data": {
      "text/plain": [
       "Month                       0\n",
       "Age                         0\n",
       "Occupation                  0\n",
       "Annual_Income               0\n",
       "Monthly_Inhand_Salary       0\n",
       "Num_Bank_Accounts           0\n",
       "Num_Credit_Card             0\n",
       "Interest_Rate               0\n",
       "Num_of_Loan                 0\n",
       "Delay_from_due_date         0\n",
       "Num_of_Delayed_Payment      0\n",
       "Changed_Credit_Limit        0\n",
       "Num_Credit_Inquiries        0\n",
       "Credit_Mix                  0\n",
       "Outstanding_Debt            0\n",
       "Credit_Utilization_Ratio    0\n",
       "Payment_of_Min_Amount       0\n",
       "Total_EMI_per_month         0\n",
       "Amount_invested_monthly     0\n",
       "Payment_Behaviour           0\n",
       "Monthly_Balance             0\n",
       "Credit_Score                0\n",
       "Occupaion                   0\n",
       "dtype: int64"
      ]
     },
     "execution_count": 34,
     "metadata": {},
     "output_type": "execute_result"
    }
   ],
   "source": [
    "# Replacing null with foward fill and backward fill menthod\n",
    "df =df.fillna(method=\"ffill\")\n",
    "df= df.fillna(method=\"bfill\")\n",
    "df.isnull().sum()"
   ]
  },
  {
   "cell_type": "code",
   "execution_count": 35,
   "id": "f6358510",
   "metadata": {},
   "outputs": [
    {
     "name": "stderr",
     "output_type": "stream",
     "text": [
      "C:\\Users\\HP\\anaconda3\\lib\\site-packages\\seaborn\\_decorators.py:36: FutureWarning: Pass the following variable as a keyword arg: x. From version 0.12, the only valid positional argument will be `data`, and passing other arguments without an explicit keyword will result in an error or misinterpretation.\n",
      "  warnings.warn(\n"
     ]
    },
    {
     "data": {
      "image/png": "[encoded data removed]",
      "text/plain": [
       "<Figure size 640x480 with 1 Axes>"
      ]
     },
     "metadata": {},
     "output_type": "display_data"
    }
   ],
   "source": [
    "## removing outliers from age since all other columns values are relevant\n",
    "sns.boxplot(df[\"Age\"])\n",
    "plt.xlabel(\"Age\")\n",
    "plt.ylabel(\"count\")\n",
    "plt.show()"
   ]
  },
  {
   "cell_type": "code",
   "execution_count": 36,
   "id": "f749535a",
   "metadata": {},
   "outputs": [
    {
     "name": "stderr",
     "output_type": "stream",
     "text": [
      "C:\\Users\\HP\\anaconda3\\lib\\site-packages\\seaborn\\_decorators.py:36: FutureWarning: Pass the following variable as a keyword arg: x. From version 0.12, the only valid positional argument will be `data`, and passing other arguments without an explicit keyword will result in an error or misinterpretation.\n",
      "  warnings.warn(\n"
     ]
    },
    {
     "data": {
      "image/png": "[encoded data removed]",
      "text/plain": [
       "<Figure size 640x480 with 1 Axes>"
      ]
     },
     "metadata": {},
     "output_type": "display_data"
    }
   ],
   "source": [
    "col_name = [\"Age\"]\n",
    "Q1 = df.Age.quantile(0.25)\n",
    "Q3 = df.Age.quantile(0.75)\n",
    "IQR = Q3 -Q1\n",
    "data =df[(df.Age >= Q1 -1.5*IQR)&(df.Age <= Q3 + 1.5*IQR)]\n",
    "sns.boxplot(data[\"Age\"])\n",
    "plt.xlabel(\"Age\")\n",
    "plt.ylabel(\"count\")\n",
    "plt.show()"
   ]
  },
  {
   "cell_type": "code",
   "execution_count": 37,
   "id": "1d70bd2d",
   "metadata": {},
   "outputs": [
    {
     "data": {
      "text/plain": [
       "Index(['Month', 'Age', 'Occupation', 'Annual_Income', 'Monthly_Inhand_Salary',\n",
       "       'Num_Bank_Accounts', 'Num_Credit_Card', 'Interest_Rate', 'Num_of_Loan',\n",
       "       'Delay_from_due_date', 'Num_of_Delayed_Payment', 'Changed_Credit_Limit',\n",
       "       'Num_Credit_Inquiries', 'Credit_Mix', 'Outstanding_Debt',\n",
       "       'Credit_Utilization_Ratio', 'Payment_of_Min_Amount',\n",
       "       'Total_EMI_per_month', 'Amount_invested_monthly', 'Payment_Behaviour',\n",
       "       'Monthly_Balance', 'Credit_Score', 'Occupaion'],\n",
       "      dtype='object')"
      ]
     },
     "execution_count": 37,
     "metadata": {},
     "output_type": "execute_result"
    }
   ],
   "source": [
    "df.columns"
   ]
  },
  {
   "cell_type": "code",
   "execution_count": 38,
   "id": "fa020358",
   "metadata": {},
   "outputs": [],
   "source": [
    "# Performing One Hot Encoding for categorical features of a dataframe\n",
    "\n",
    "from sklearn.preprocessing import LabelEncoder\n",
    "le= LabelEncoder()\n",
    "df.Month =le.fit_transform(df.Month)\n",
    "df.Occupation = le.fit_transform(df.Occupation)\n",
    "df.Payment_Behaviour = le.fit_transform(df.Payment_Behaviour)"
   ]
  },
  {
   "cell_type": "code",
   "execution_count": 39,
   "id": "e9367fc6",
   "metadata": {
    "scrolled": true
   },
   "outputs": [
    {
     "name": "stdout",
     "output_type": "stream",
     "text": [
      "                     feature       VIF\n",
      "0                      Month  0.300012\n",
      "1                        Age  0.972465\n",
      "2                 Occupation  0.275594\n",
      "3              Annual_Income  0.985001\n",
      "4      Monthly_Inhand_Salary  0.365970\n",
      "5          Num_Bank_Accounts  0.979247\n",
      "6            Num_Credit_Card  0.970567\n",
      "7              Interest_Rate  0.976430\n",
      "8                Num_of_Loan  0.997697\n",
      "9        Delay_from_due_date  0.332213\n",
      "10    Num_of_Delayed_Payment  0.981707\n",
      "11      Changed_Credit_Limit  0.299307\n",
      "12      Num_Credit_Inquiries  0.979793\n",
      "13                Credit_Mix  0.303402\n",
      "14          Outstanding_Debt  0.396141\n",
      "15  Credit_Utilization_Ratio  0.024506\n",
      "16     Payment_of_Min_Amount  0.476749\n",
      "17       Total_EMI_per_month  0.972258\n",
      "18   Amount_invested_monthly  0.911321\n",
      "19         Payment_Behaviour  0.310525\n",
      "20           Monthly_Balance  1.000218\n",
      "21              Credit_Score  0.331139\n"
     ]
    }
   ],
   "source": [
    "# Selecting the features using VIF. VIF should be less than 5. Here, all features have VIF value less than 5, So we will select all the features.\n",
    "from statsmodels.stats.outliers_influence import variance_inflation_factor \n",
    "col_list = []\n",
    "for col in df.columns:\n",
    "    if ((df[col].dtype != 'object') & (col != 'charges') ):\n",
    "        col_list.append(col)\n",
    "\n",
    "X = df[col_list]\n",
    "vif_data = pd.DataFrame() \n",
    "vif_data[\"feature\"] = X.columns \n",
    "vif_data[\"VIF\"] = [variance_inflation_factor(X.values, i) for i in range(len(X.columns))] \n",
    "print(vif_data)"
   ]
  },
  {
   "cell_type": "code",
   "execution_count": 40,
   "id": "bd21d888",
   "metadata": {},
   "outputs": [
    {
     "name": "stdout",
     "output_type": "stream",
     "text": [
      "<class 'pandas.core.frame.DataFrame'>\n",
      "RangeIndex: 100000 entries, 0 to 99999\n",
      "Data columns (total 23 columns):\n",
      " #   Column                    Non-Null Count   Dtype  \n",
      "---  ------                    --------------   -----  \n",
      " 0   Month                     100000 non-null  int32  \n",
      " 1   Age                       100000 non-null  int32  \n",
      " 2   Occupation                100000 non-null  int32  \n",
      " 3   Annual_Income             100000 non-null  float64\n",
      " 4   Monthly_Inhand_Salary     100000 non-null  float64\n",
      " 5   Num_Bank_Accounts         100000 non-null  int64  \n",
      " 6   Num_Credit_Card           100000 non-null  int64  \n",
      " 7   Interest_Rate             100000 non-null  int64  \n",
      " 8   Num_of_Loan               100000 non-null  int32  \n",
      " 9   Delay_from_due_date       100000 non-null  int64  \n",
      " 10  Num_of_Delayed_Payment    100000 non-null  float64\n",
      " 11  Changed_Credit_Limit      100000 non-null  float64\n",
      " 12  Num_Credit_Inquiries      100000 non-null  float64\n",
      " 13  Credit_Mix                100000 non-null  float64\n",
      " 14  Outstanding_Debt          100000 non-null  float64\n",
      " 15  Credit_Utilization_Ratio  100000 non-null  float64\n",
      " 16  Payment_of_Min_Amount     100000 non-null  int64  \n",
      " 17  Total_EMI_per_month       100000 non-null  float64\n",
      " 18  Amount_invested_monthly   100000 non-null  float64\n",
      " 19  Payment_Behaviour         100000 non-null  int32  \n",
      " 20  Monthly_Balance           100000 non-null  float64\n",
      " 21  Credit_Score              100000 non-null  int64  \n",
      " 22  Occupaion                 100000 non-null  object \n",
      "dtypes: float64(11), int32(5), int64(6), object(1)\n",
      "memory usage: 15.6+ MB\n"
     ]
    }
   ],
   "source": [
    "df.info()"
   ]
  },
  {
   "cell_type": "markdown",
   "id": "bbfd21f2",
   "metadata": {},
   "source": [
    "## Logistic Regression"
   ]
  },
  {
   "cell_type": "code",
   "execution_count": 41,
   "id": "fda401e9",
   "metadata": {
    "scrolled": true
   },
   "outputs": [
    {
     "data": {
      "text/plain": [
       "0.61295"
      ]
     },
     "execution_count": 41,
     "metadata": {},
     "output_type": "execute_result"
    }
   ],
   "source": [
    "# Logistic Regression\n",
    "x =df.drop(columns=[\"Credit_Score\",\"Occupaion\"])\n",
    "y=df.Credit_Score\n",
    "from sklearn.model_selection import train_test_split\n",
    "x_train,x_test,y_train,y_test =train_test_split(x,y,test_size = 0.2,random_state = 20)\n",
    "from sklearn.preprocessing import StandardScaler\n",
    "sc = StandardScaler()\n",
    "x_train = sc.fit_transform(x_train)\n",
    "x_test = sc.transform(x_test)\n",
    "from sklearn.linear_model import LogisticRegression\n",
    "LR = LogisticRegression()\n",
    "LR.fit(x_train,y_train)\n",
    "y_pred =LR.predict(x_test)\n",
    "from sklearn.metrics import accuracy_score\n",
    "accuracy_score(y_test,y_pred)"
   ]
  },
  {
   "cell_type": "code",
   "execution_count": 42,
   "id": "8d27a17c",
   "metadata": {},
   "outputs": [
    {
     "data": {
      "text/html": [
       "<div>\n",
       "<style scoped>\n",
       "    .dataframe tbody tr th:only-of-type {\n",
       "        vertical-align: middle;\n",
       "    }\n",
       "\n",
       "    .dataframe tbody tr th {\n",
       "        vertical-align: top;\n",
       "    }\n",
       "\n",
       "    .dataframe thead th {\n",
       "        text-align: right;\n",
       "    }\n",
       "</style>\n",
       "<table border=\"1\" class=\"dataframe\">\n",
       "  <thead>\n",
       "    <tr style=\"text-align: right;\">\n",
       "      <th></th>\n",
       "      <th>actual_value</th>\n",
       "      <th>Predicted_value</th>\n",
       "    </tr>\n",
       "  </thead>\n",
       "  <tbody>\n",
       "    <tr>\n",
       "      <th>45218</th>\n",
       "      <td>2</td>\n",
       "      <td>2</td>\n",
       "    </tr>\n",
       "    <tr>\n",
       "      <th>74763</th>\n",
       "      <td>2</td>\n",
       "      <td>2</td>\n",
       "    </tr>\n",
       "    <tr>\n",
       "      <th>43778</th>\n",
       "      <td>1</td>\n",
       "      <td>1</td>\n",
       "    </tr>\n",
       "    <tr>\n",
       "      <th>75551</th>\n",
       "      <td>1</td>\n",
       "      <td>2</td>\n",
       "    </tr>\n",
       "    <tr>\n",
       "      <th>10086</th>\n",
       "      <td>2</td>\n",
       "      <td>2</td>\n",
       "    </tr>\n",
       "    <tr>\n",
       "      <th>...</th>\n",
       "      <td>...</td>\n",
       "      <td>...</td>\n",
       "    </tr>\n",
       "    <tr>\n",
       "      <th>60734</th>\n",
       "      <td>0</td>\n",
       "      <td>2</td>\n",
       "    </tr>\n",
       "    <tr>\n",
       "      <th>86735</th>\n",
       "      <td>1</td>\n",
       "      <td>1</td>\n",
       "    </tr>\n",
       "    <tr>\n",
       "      <th>56498</th>\n",
       "      <td>2</td>\n",
       "      <td>2</td>\n",
       "    </tr>\n",
       "    <tr>\n",
       "      <th>786</th>\n",
       "      <td>2</td>\n",
       "      <td>2</td>\n",
       "    </tr>\n",
       "    <tr>\n",
       "      <th>26618</th>\n",
       "      <td>1</td>\n",
       "      <td>2</td>\n",
       "    </tr>\n",
       "  </tbody>\n",
       "</table>\n",
       "<p>20000 rows × 2 columns</p>\n",
       "</div>"
      ],
      "text/plain": [
       "       actual_value  Predicted_value\n",
       "45218             2                2\n",
       "74763             2                2\n",
       "43778             1                1\n",
       "75551             1                2\n",
       "10086             2                2\n",
       "...             ...              ...\n",
       "60734             0                2\n",
       "86735             1                1\n",
       "56498             2                2\n",
       "786               2                2\n",
       "26618             1                2\n",
       "\n",
       "[20000 rows x 2 columns]"
      ]
     },
     "execution_count": 42,
     "metadata": {},
     "output_type": "execute_result"
    }
   ],
   "source": [
    "pd.DataFrame({\"actual_value\":y_test,\"Predicted_value\":y_pred})"
   ]
  },
  {
   "cell_type": "markdown",
   "id": "35a07d23",
   "metadata": {},
   "source": [
    "## Decision Tree"
   ]
  },
  {
   "cell_type": "code",
   "execution_count": 43,
   "id": "d7464149",
   "metadata": {
    "scrolled": true
   },
   "outputs": [
    {
     "data": {
      "text/plain": [
       "0.6919"
      ]
     },
     "execution_count": 43,
     "metadata": {},
     "output_type": "execute_result"
    }
   ],
   "source": [
    "from sklearn.tree import DecisionTreeClassifier\n",
    "dt = DecisionTreeClassifier()\n",
    "dt.fit(x_train,y_train)\n",
    "pred =dt.predict(x_test)\n",
    "accuracy_score(y_test,pred)"
   ]
  },
  {
   "cell_type": "code",
   "execution_count": 45,
   "id": "1b09dd09",
   "metadata": {},
   "outputs": [
    {
     "data": {
      "text/html": [
       "<div>\n",
       "<style scoped>\n",
       "    .dataframe tbody tr th:only-of-type {\n",
       "        vertical-align: middle;\n",
       "    }\n",
       "\n",
       "    .dataframe tbody tr th {\n",
       "        vertical-align: top;\n",
       "    }\n",
       "\n",
       "    .dataframe thead th {\n",
       "        text-align: right;\n",
       "    }\n",
       "</style>\n",
       "<table border=\"1\" class=\"dataframe\">\n",
       "  <thead>\n",
       "    <tr style=\"text-align: right;\">\n",
       "      <th></th>\n",
       "      <th>actual_value</th>\n",
       "      <th>Predicted_value</th>\n",
       "    </tr>\n",
       "  </thead>\n",
       "  <tbody>\n",
       "    <tr>\n",
       "      <th>45218</th>\n",
       "      <td>2</td>\n",
       "      <td>1</td>\n",
       "    </tr>\n",
       "    <tr>\n",
       "      <th>74763</th>\n",
       "      <td>2</td>\n",
       "      <td>1</td>\n",
       "    </tr>\n",
       "    <tr>\n",
       "      <th>43778</th>\n",
       "      <td>1</td>\n",
       "      <td>1</td>\n",
       "    </tr>\n",
       "    <tr>\n",
       "      <th>75551</th>\n",
       "      <td>1</td>\n",
       "      <td>2</td>\n",
       "    </tr>\n",
       "    <tr>\n",
       "      <th>10086</th>\n",
       "      <td>2</td>\n",
       "      <td>2</td>\n",
       "    </tr>\n",
       "    <tr>\n",
       "      <th>...</th>\n",
       "      <td>...</td>\n",
       "      <td>...</td>\n",
       "    </tr>\n",
       "    <tr>\n",
       "      <th>60734</th>\n",
       "      <td>0</td>\n",
       "      <td>0</td>\n",
       "    </tr>\n",
       "    <tr>\n",
       "      <th>86735</th>\n",
       "      <td>1</td>\n",
       "      <td>1</td>\n",
       "    </tr>\n",
       "    <tr>\n",
       "      <th>56498</th>\n",
       "      <td>2</td>\n",
       "      <td>2</td>\n",
       "    </tr>\n",
       "    <tr>\n",
       "      <th>786</th>\n",
       "      <td>2</td>\n",
       "      <td>2</td>\n",
       "    </tr>\n",
       "    <tr>\n",
       "      <th>26618</th>\n",
       "      <td>1</td>\n",
       "      <td>2</td>\n",
       "    </tr>\n",
       "  </tbody>\n",
       "</table>\n",
       "<p>20000 rows × 2 columns</p>\n",
       "</div>"
      ],
      "text/plain": [
       "       actual_value  Predicted_value\n",
       "45218             2                1\n",
       "74763             2                1\n",
       "43778             1                1\n",
       "75551             1                2\n",
       "10086             2                2\n",
       "...             ...              ...\n",
       "60734             0                0\n",
       "86735             1                1\n",
       "56498             2                2\n",
       "786               2                2\n",
       "26618             1                2\n",
       "\n",
       "[20000 rows x 2 columns]"
      ]
     },
     "execution_count": 45,
     "metadata": {},
     "output_type": "execute_result"
    }
   ],
   "source": [
    "pd.DataFrame({\"actual_value\":y_test,\"Predicted_value\":pred})"
   ]
  },
  {
   "cell_type": "markdown",
   "id": "00cf0ebc",
   "metadata": {},
   "source": [
    "## Random Forest"
   ]
  },
  {
   "cell_type": "code",
   "execution_count": null,
   "id": "b405c2ad",
   "metadata": {},
   "outputs": [],
   "source": [
    "from sklearn.ensemble import RandomForestClassifier\n",
    "rf = RandomForestClassifier()\n",
    "rf.fit(x_train,y_train)\n",
    "pred1 =rf.predict(x_test)\n",
    "accuracy_score(y_test,pred1)"
   ]
  },
  {
   "cell_type": "code",
   "execution_count": null,
   "id": "1487f32a",
   "metadata": {},
   "outputs": [],
   "source": [
    "pd.DataFrame({\"actual_value\":y_test,\"Predicted_value\":pred})"
   ]
  },
  {
   "cell_type": "code",
   "execution_count": null,
   "id": "a106f74b",
   "metadata": {},
   "outputs": [],
   "source": []
  },
  {
   "cell_type": "code",
   "execution_count": null,
   "id": "584737c4",
   "metadata": {},
   "outputs": [],
   "source": []
  },
  {
   "cell_type": "code",
   "execution_count": null,
   "id": "0774ad00",
   "metadata": {},
   "outputs": [],
   "source": []
  },
  {
   "cell_type": "code",
   "execution_count": null,
   "id": "a87303bf",
   "metadata": {},
   "outputs": [],
   "source": []
  }
 ],
 "metadata": {
  "kernelspec": {
   "display_name": "Python 3 (ipykernel)",
   "language": "python",
   "name": "python3"
  },
  "language_info": {
   "codemirror_mode": {
    "name": "ipython",
    "version": 3
   },
   "file_extension": ".py",
   "mimetype": "text/x-python",
   "name": "python",
   "nbconvert_exporter": "python",
   "pygments_lexer": "ipython3",
   "version": "3.9.13"
  }
 },
 "nbformat": 4,
 "nbformat_minor": 5
}
