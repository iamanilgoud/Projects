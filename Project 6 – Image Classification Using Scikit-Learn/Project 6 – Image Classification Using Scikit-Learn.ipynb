{
 "cells": [
  {
   "cell_type": "code",
   "execution_count": 1,
   "id": "a39b7cea",
   "metadata": {},
   "outputs": [],
   "source": [
    "import numpy as np\n",
    "import pandas as pd\n",
    "from sklearn.model_selection import train_test_split\n",
    "import matplotlib.pyplot as plt\n",
    "import random\n",
    "import os"
   ]
  },
  {
   "cell_type": "markdown",
   "id": "48ff93fd",
   "metadata": {},
   "source": [
    "#### As a data-scientist you have to build an image classification model to classify 2 categories of images namely cat and dogs"
   ]
  },
  {
   "cell_type": "code",
   "execution_count": 2,
   "id": "f5fdfdc2",
   "metadata": {},
   "outputs": [],
   "source": [
    "df = r\"C:\\Users\\HP\\Desktop\\python\\Projects\\Project 6 – Image Classification Using Scikit-Learn\\cats_dogs\""
   ]
  },
  {
   "cell_type": "code",
   "execution_count": 3,
   "id": "7b6c9619",
   "metadata": {},
   "outputs": [
    {
     "data": {
      "text/plain": [
       "'C:\\\\Users\\\\HP\\\\Desktop\\\\python\\\\Projects\\\\Project 6 – Image Classification Using Scikit-Learn\\\\cats_dogs'"
      ]
     },
     "execution_count": 3,
     "metadata": {},
     "output_type": "execute_result"
    }
   ],
   "source": [
    "df"
   ]
  },
  {
   "cell_type": "code",
   "execution_count": 4,
   "id": "2df41aad",
   "metadata": {
    "scrolled": true
   },
   "outputs": [
    {
     "name": "stderr",
     "output_type": "stream",
     "text": [
      "IOPub data rate exceeded.\n",
      "The notebook server will temporarily stop sending output\n",
      "to the client in order to avoid crashing it.\n",
      "To change this limit, set the config variable\n",
      "`--NotebookApp.iopub_data_rate_limit`.\n",
      "\n",
      "Current values:\n",
      "NotebookApp.iopub_data_rate_limit=1000000.0 (bytes/sec)\n",
      "NotebookApp.rate_limit_window=3.0 (secs)\n",
      "\n"
     ]
    }
   ],
   "source": [
    "categories = [\"cat\",\"Dog\"]\n",
    "for category in categories:\n",
    "    for file in os.listdir(os.path.join(df,category)):\n",
    "        img_path=os.path.join(df,category,file)\n",
    "        print(img_path)"
   ]
  },
  {
   "cell_type": "code",
   "execution_count": 5,
   "id": "556b4312",
   "metadata": {},
   "outputs": [],
   "source": [
    "iopub_data_rate_limit=10000000"
   ]
  },
  {
   "cell_type": "code",
   "execution_count": 6,
   "id": "2d2225ae",
   "metadata": {
    "scrolled": true
   },
   "outputs": [
    {
     "name": "stdout",
     "output_type": "stream",
     "text": [
      "C:\\Users\\HP\\Desktop\\python\\Projects\\Project 6 – Image Classification Using Scikit-Learn\\cats_dogs\\Dog\\Thumbs.db\n"
     ]
    }
   ],
   "source": [
    "print(img_path)"
   ]
  },
  {
   "cell_type": "code",
   "execution_count": 7,
   "id": "ec5fc0a0",
   "metadata": {},
   "outputs": [],
   "source": [
    "from skimage.io import imread\n",
    "from skimage.transform import resize\n",
    "from PIL import Image "
   ]
  },
  {
   "cell_type": "code",
   "execution_count": 8,
   "id": "a90c9b48",
   "metadata": {},
   "outputs": [
    {
     "ename": "FileNotFoundError",
     "evalue": "[Errno 2] No such file or directory: 'C:\\\\Users\\\\HP\\\\Desktop\\\\python\\\\Projects\\\\Project 6 – Image Classification Using Scikit-Learn\\\\cats_dogs\\\\ca\\\\1.jgp'",
     "output_type": "error",
     "traceback": [
      "\u001b[1;31m---------------------------------------------------------------------------\u001b[0m",
      "\u001b[1;31mFileNotFoundError\u001b[0m                         Traceback (most recent call last)",
      "\u001b[1;32m~\\AppData\\Local\\Temp\\ipykernel_1300\\401408465.py\u001b[0m in \u001b[0;36m<module>\u001b[1;34m\u001b[0m\n\u001b[1;32m----> 1\u001b[1;33m \u001b[0mImage\u001b[0m\u001b[1;33m.\u001b[0m\u001b[0mopen\u001b[0m\u001b[1;33m(\u001b[0m\u001b[1;34mr\"C:\\Users\\HP\\Desktop\\python\\Projects\\Project 6 – Image Classification Using Scikit-Learn\\cats_dogs\\ca\\1.jgp\"\u001b[0m\u001b[1;33m)\u001b[0m\u001b[1;33m\u001b[0m\u001b[1;33m\u001b[0m\u001b[0m\n\u001b[0m",
      "\u001b[1;32m~\\anaconda3\\lib\\site-packages\\PIL\\Image.py\u001b[0m in \u001b[0;36mopen\u001b[1;34m(fp, mode, formats)\u001b[0m\n\u001b[0;32m   3090\u001b[0m \u001b[1;33m\u001b[0m\u001b[0m\n\u001b[0;32m   3091\u001b[0m     \u001b[1;32mif\u001b[0m \u001b[0mfilename\u001b[0m\u001b[1;33m:\u001b[0m\u001b[1;33m\u001b[0m\u001b[1;33m\u001b[0m\u001b[0m\n\u001b[1;32m-> 3092\u001b[1;33m         \u001b[0mfp\u001b[0m \u001b[1;33m=\u001b[0m \u001b[0mbuiltins\u001b[0m\u001b[1;33m.\u001b[0m\u001b[0mopen\u001b[0m\u001b[1;33m(\u001b[0m\u001b[0mfilename\u001b[0m\u001b[1;33m,\u001b[0m \u001b[1;34m\"rb\"\u001b[0m\u001b[1;33m)\u001b[0m\u001b[1;33m\u001b[0m\u001b[1;33m\u001b[0m\u001b[0m\n\u001b[0m\u001b[0;32m   3093\u001b[0m         \u001b[0mexclusive_fp\u001b[0m \u001b[1;33m=\u001b[0m \u001b[1;32mTrue\u001b[0m\u001b[1;33m\u001b[0m\u001b[1;33m\u001b[0m\u001b[0m\n\u001b[0;32m   3094\u001b[0m \u001b[1;33m\u001b[0m\u001b[0m\n",
      "\u001b[1;31mFileNotFoundError\u001b[0m: [Errno 2] No such file or directory: 'C:\\\\Users\\\\HP\\\\Desktop\\\\python\\\\Projects\\\\Project 6 – Image Classification Using Scikit-Learn\\\\cats_dogs\\\\ca\\\\1.jgp'"
     ]
    }
   ],
   "source": [
    "Image.open(r\"C:\\Users\\HP\\Desktop\\python\\Projects\\Project 6 – Image Classification Using Scikit-Learn\\cats_dogs\\ca\\1.jgp\")"
   ]
  }
 ],
 "metadata": {
  "kernelspec": {
   "display_name": "Python 3 (ipykernel)",
   "language": "python",
   "name": "python3"
  },
  "language_info": {
   "codemirror_mode": {
    "name": "ipython",
    "version": 3
   },
   "file_extension": ".py",
   "mimetype": "text/x-python",
   "name": "python",
   "nbconvert_exporter": "python",
   "pygments_lexer": "ipython3",
   "version": "3.9.13"
  }
 },
 "nbformat": 4,
 "nbformat_minor": 5
}
